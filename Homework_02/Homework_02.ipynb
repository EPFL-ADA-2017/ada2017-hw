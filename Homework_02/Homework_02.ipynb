{
 "cells": [
  {
   "cell_type": "markdown",
   "metadata": {},
   "source": [
    "# 02 - Data from the Web"
   ]
  },
  {
   "cell_type": "markdown",
   "metadata": {},
   "source": [
    "In this homework we will extract interesting information from www.topuniversities.com and www.timeshighereducation.com, two platforms that maintain a global ranking of worldwide universities. This ranking is not offered as a downloadable dataset, so you will have to find a way to scrape the information we need! You are not allowed to download manually the entire ranking -- rather you have to understand how the server loads it in your browser. For this task, Postman with the Interceptor extension can help you greatly. We recommend that you watch this brief tutorial to understand quickly how to use it."
   ]
  },
  {
   "cell_type": "markdown",
   "metadata": {},
   "source": [
    "# Imports"
   ]
  },
  {
   "cell_type": "code",
   "execution_count": 1,
   "metadata": {
    "scrolled": true
   },
   "outputs": [],
   "source": [
    "# Import libraries\n",
    "import string\n",
    "import re\n",
    "import pickle\n",
    "import requests\n",
    "from bs4 import BeautifulSoup\n",
    "import pandas as pd\n",
    "import seaborn as sns\n",
    "import matplotlib.pyplot as plt\n",
    "pd.options.mode.chained_assignment = None\n",
    "\n",
    "%matplotlib inline"
   ]
  },
  {
   "cell_type": "markdown",
   "metadata": {},
   "source": [
    "# Constans definition"
   ]
  },
  {
   "cell_type": "code",
   "execution_count": 2,
   "metadata": {
    "scrolled": true
   },
   "outputs": [],
   "source": [
    "QS_RANKING_URL = 'https://www.topuniversities.com/university-rankings/world-university-rankings/2018'\n",
    "QS_RANKING_JSON = 'https://www.topuniversities.com/sites/default/files/qs-rankings-data/357051.txt?_=1508104120137'\n",
    "\n",
    "TIMES_RANKING_URL = 'http://timeshighereducation.com/world-university-rankings/2018/world-ranking'\n",
    "TIMES_RANKING_JSON = 'https://www.timeshighereducation.com/sites/default/files/the_data_rankings/world_university_rankings_2018_limit0_369a9045a203e176392b9fb8f8c1cb2a.json'"
   ]
  },
  {
   "cell_type": "code",
   "execution_count": 3,
   "metadata": {},
   "outputs": [],
   "source": [
    "SEARCH_REFERENCE_API = 'https://en.wikipedia.org/w/api.php?action=query&titles={0}&prop=revisions&rvprop=content&format=json&indexpageids'"
   ]
  },
  {
   "cell_type": "code",
   "execution_count": 4,
   "metadata": {},
   "outputs": [],
   "source": [
    "try:\n",
    "    COUNTRY_REGION_METADATA = pd.read_pickle('serial/country_region_metadata.p')\n",
    "except (OSError, IOError) as e:\n",
    "    COUNTRY_REGION_METADATA = pd.DataFrame(columns=['Region'])\n",
    "    COUNTRY_REGION_METADATA.to_pickle('serial/country_region_metadata.p')"
   ]
  },
  {
   "cell_type": "code",
   "execution_count": 5,
   "metadata": {},
   "outputs": [
    {
     "data": {
      "text/html": [
       "<div>\n",
       "<style>\n",
       "    .dataframe thead tr:only-child th {\n",
       "        text-align: right;\n",
       "    }\n",
       "\n",
       "    .dataframe thead th {\n",
       "        text-align: left;\n",
       "    }\n",
       "\n",
       "    .dataframe tbody tr th {\n",
       "        vertical-align: top;\n",
       "    }\n",
       "</style>\n",
       "<table border=\"1\" class=\"dataframe\">\n",
       "  <thead>\n",
       "    <tr style=\"text-align: right;\">\n",
       "      <th></th>\n",
       "      <th>Region</th>\n",
       "    </tr>\n",
       "  </thead>\n",
       "  <tbody>\n",
       "    <tr>\n",
       "      <th>United States</th>\n",
       "      <td>North America</td>\n",
       "    </tr>\n",
       "    <tr>\n",
       "      <th>United Kingdom</th>\n",
       "      <td>Europe</td>\n",
       "    </tr>\n",
       "    <tr>\n",
       "      <th>Switzerland</th>\n",
       "      <td>Europe</td>\n",
       "    </tr>\n",
       "    <tr>\n",
       "      <th>Singapore</th>\n",
       "      <td>Asia</td>\n",
       "    </tr>\n",
       "    <tr>\n",
       "      <th>Australia</th>\n",
       "      <td>Oceania</td>\n",
       "    </tr>\n",
       "    <tr>\n",
       "      <th>China</th>\n",
       "      <td>Asia</td>\n",
       "    </tr>\n",
       "    <tr>\n",
       "      <th>Hong Kong</th>\n",
       "      <td>Asia</td>\n",
       "    </tr>\n",
       "    <tr>\n",
       "      <th>Japan</th>\n",
       "      <td>Asia</td>\n",
       "    </tr>\n",
       "    <tr>\n",
       "      <th>Canada</th>\n",
       "      <td>North America</td>\n",
       "    </tr>\n",
       "    <tr>\n",
       "      <th>South Korea</th>\n",
       "      <td>Asia</td>\n",
       "    </tr>\n",
       "    <tr>\n",
       "      <th>France</th>\n",
       "      <td>Europe</td>\n",
       "    </tr>\n",
       "    <tr>\n",
       "      <th>Netherlands</th>\n",
       "      <td>Europe</td>\n",
       "    </tr>\n",
       "    <tr>\n",
       "      <th>Germany</th>\n",
       "      <td>Europe</td>\n",
       "    </tr>\n",
       "    <tr>\n",
       "      <th>Belgium</th>\n",
       "      <td>Europe</td>\n",
       "    </tr>\n",
       "    <tr>\n",
       "      <th>Denmark</th>\n",
       "      <td>Europe</td>\n",
       "    </tr>\n",
       "    <tr>\n",
       "      <th>Argentina</th>\n",
       "      <td>Latin America</td>\n",
       "    </tr>\n",
       "    <tr>\n",
       "      <th>Taiwan</th>\n",
       "      <td>Asia</td>\n",
       "    </tr>\n",
       "    <tr>\n",
       "      <th>Sweden</th>\n",
       "      <td>Europe</td>\n",
       "    </tr>\n",
       "    <tr>\n",
       "      <th>New Zealand</th>\n",
       "      <td>Oceania</td>\n",
       "    </tr>\n",
       "    <tr>\n",
       "      <th>Ireland</th>\n",
       "      <td>Europe</td>\n",
       "    </tr>\n",
       "    <tr>\n",
       "      <th>Russia</th>\n",
       "      <td>Europe</td>\n",
       "    </tr>\n",
       "    <tr>\n",
       "      <th>Finland</th>\n",
       "      <td>Europe</td>\n",
       "    </tr>\n",
       "    <tr>\n",
       "      <th>Malaysia</th>\n",
       "      <td>Asia</td>\n",
       "    </tr>\n",
       "    <tr>\n",
       "      <th>Brazil</th>\n",
       "      <td>Latin America</td>\n",
       "    </tr>\n",
       "    <tr>\n",
       "      <th>Mexico</th>\n",
       "      <td>Latin America</td>\n",
       "    </tr>\n",
       "    <tr>\n",
       "      <th>Chile</th>\n",
       "      <td>Latin America</td>\n",
       "    </tr>\n",
       "    <tr>\n",
       "      <th>Norway</th>\n",
       "      <td>Europe</td>\n",
       "    </tr>\n",
       "    <tr>\n",
       "      <th>Israel</th>\n",
       "      <td>Asia</td>\n",
       "    </tr>\n",
       "    <tr>\n",
       "      <th>Austria</th>\n",
       "      <td>Europe</td>\n",
       "    </tr>\n",
       "    <tr>\n",
       "      <th>Spain</th>\n",
       "      <td>Europe</td>\n",
       "    </tr>\n",
       "    <tr>\n",
       "      <th>Italy</th>\n",
       "      <td>Europe</td>\n",
       "    </tr>\n",
       "    <tr>\n",
       "      <th>India</th>\n",
       "      <td>Asia</td>\n",
       "    </tr>\n",
       "    <tr>\n",
       "      <th>Saudi Arabia</th>\n",
       "      <td>Asia</td>\n",
       "    </tr>\n",
       "    <tr>\n",
       "      <th>South Africa</th>\n",
       "      <td>Africa</td>\n",
       "    </tr>\n",
       "    <tr>\n",
       "      <th>Luxembourg</th>\n",
       "      <td>Europe</td>\n",
       "    </tr>\n",
       "  </tbody>\n",
       "</table>\n",
       "</div>"
      ],
      "text/plain": [
       "                       Region\n",
       "United States   North America\n",
       "United Kingdom         Europe\n",
       "Switzerland            Europe\n",
       "Singapore                Asia\n",
       "Australia             Oceania\n",
       "China                    Asia\n",
       "Hong Kong                Asia\n",
       "Japan                    Asia\n",
       "Canada          North America\n",
       "South Korea              Asia\n",
       "France                 Europe\n",
       "Netherlands            Europe\n",
       "Germany                Europe\n",
       "Belgium                Europe\n",
       "Denmark                Europe\n",
       "Argentina       Latin America\n",
       "Taiwan                   Asia\n",
       "Sweden                 Europe\n",
       "New Zealand           Oceania\n",
       "Ireland                Europe\n",
       "Russia                 Europe\n",
       "Finland                Europe\n",
       "Malaysia                 Asia\n",
       "Brazil          Latin America\n",
       "Mexico          Latin America\n",
       "Chile           Latin America\n",
       "Norway                 Europe\n",
       "Israel                   Asia\n",
       "Austria                Europe\n",
       "Spain                  Europe\n",
       "Italy                  Europe\n",
       "India                    Asia\n",
       "Saudi Arabia             Asia\n",
       "South Africa           Africa\n",
       "Luxembourg             Europe"
      ]
     },
     "execution_count": 5,
     "metadata": {},
     "output_type": "execute_result"
    }
   ],
   "source": [
    "COUNTRY_REGION_METADATA"
   ]
  },
  {
   "cell_type": "markdown",
   "metadata": {},
   "source": [
    "# General use functions definition"
   ]
  },
  {
   "cell_type": "code",
   "execution_count": 6,
   "metadata": {
    "scrolled": true
   },
   "outputs": [],
   "source": [
    "def build_html_parser(url):\n",
    "    '''\n",
    "    Function to build a parser object of type BeautifulSoup\n",
    "    \n",
    "    url      the webpage url to which send a get request to\n",
    "    \n",
    "    return   a parser of the given webpage\n",
    "    '''\n",
    "    \n",
    "    r = requests.get(url)\n",
    "    page_body = r.text\n",
    "    \n",
    "    soup = BeautifulSoup(page_body, 'html.parser')\n",
    "    \n",
    "    return soup"
   ]
  },
  {
   "cell_type": "code",
   "execution_count": 7,
   "metadata": {},
   "outputs": [],
   "source": [
    "def clean_str_number(str_n):\n",
    "    \n",
    "    return str_n.strip('\\n').strip('%').replace(',', '')"
   ]
  },
  {
   "cell_type": "code",
   "execution_count": 8,
   "metadata": {},
   "outputs": [],
   "source": [
    "def search_standard_name(str_name):\n",
    "    \n",
    "    str_name = str_name.split(\"-\")[0] # Manage name with - (short)\n",
    "    str_name = str_name.split(\"–\")[0] # Manage name with – (long)\n",
    "    str_name = re.sub('\\(.*?\\)','', str_name) # no brackets\n",
    "    str_name = str_name.strip().replace('&', '%26')\n",
    "    \n",
    "    #r = requests.get(SEARCH_REFERENCE_API.format(str_name.strip().replace(' ', '%20')))\n",
    "    r = requests.get(SEARCH_REFERENCE_API.format(str_name.strip().replace(' ', '_')))\n",
    "    data = r.json()\n",
    "    \n",
    "    page_id = data['query']['pageids'][0]\n",
    "    \n",
    "    if (page_id == '-1'):\n",
    "        print('Not found :( -> {}'.format(str_name))\n",
    "        \n",
    "        # Manually set a standard name for the only unmatchable university. \n",
    "        # We have a total of 9 unknown sources during the WikiData requests, but only one university appears twice\n",
    "        # and it need to receive a standard name to be merged later on. The other onces could keep their name\n",
    "        if (str_name == \"Scuola Superiore Sant'Anna Pisa di Studi Universitari e di Perfezionamento\"):\n",
    "            found_name = \"Scuola Superiore Sant’Anna\"\n",
    "        else:\n",
    "            found_name = str_name\n",
    "    else:\n",
    "        found_name = data['query']['pages'][page_id]['title']\n",
    "        \n",
    "    return(found_name)"
   ]
  },
  {
   "cell_type": "code",
   "execution_count": 9,
   "metadata": {},
   "outputs": [],
   "source": [
    "def update_country_region_metadata(country, region):\n",
    "    \n",
    "    global COUNTRY_REGION_METADATA\n",
    "    \n",
    "    if (country in COUNTRY_REGION_METADATA.index):\n",
    "        return\n",
    "    \n",
    "    new_row = pd.Series(region, index=['Region'])\n",
    "    new_row.name = country\n",
    "    \n",
    "    COUNTRY_REGION_METADATA = COUNTRY_REGION_METADATA.append(new_row)"
   ]
  },
  {
   "cell_type": "markdown",
   "metadata": {},
   "source": [
    "### Task 1\n",
    "Obtain the 200 top-ranking universities in www.topuniversities.com (ranking 2018)"
   ]
  },
  {
   "cell_type": "code",
   "execution_count": 10,
   "metadata": {
    "scrolled": true
   },
   "outputs": [],
   "source": [
    "# TODO: Handled the returning value for data not found. \n",
    "# Atm I return a -1, but this fucks up the plotting and computation for the ratios\n",
    "\n",
    "def parse_detail_page(url_detail):\n",
    "    '''\n",
    "    Function that parses the missing informations from the detail page of the university from the QS website\n",
    "    \n",
    "    Return   a dictionary with all the data found as integers values\n",
    "    '''\n",
    "    \n",
    "    # Build a parser for the detail page\n",
    "    soup = build_html_parser(url_detail)\n",
    "    \n",
    "    # Obtain and clean up the total faculty member value\n",
    "    try:\n",
    "        faculty_member_total = soup.find('div', class_='total faculty').find('div', class_='number').text\n",
    "        faculty_member_total = clean_str_number(faculty_member_total)\n",
    "    except:\n",
    "        faculty_member_total = -1\n",
    "    \n",
    "    \n",
    "    # Obtain and clean up the international faculty member value\n",
    "    try:\n",
    "        faculty_member_inter = soup.find('div', class_='inter faculty').find('div', class_='number').text.strip('\\n')\n",
    "        faculty_member_inter = clean_str_number(faculty_member_inter)\n",
    "    except:\n",
    "        faculty_member_inter = -1\n",
    "    \n",
    "    # Obtain and clean up the total students value\n",
    "    try:\n",
    "        student_total = soup.find('div', class_='total student').find('div', class_='number').text.strip('\\n')\n",
    "        student_total = clean_str_number(student_total)\n",
    "    except:\n",
    "        student_total = -1\n",
    "    \n",
    "    # Obtain and clean up the international students value\n",
    "    try:\n",
    "        student_inter = soup.find('div', class_='total inter').find('div', class_='number').text.strip('\\n')\n",
    "        student_inter = clean_str_number(student_inter)\n",
    "    except:\n",
    "        student_inter = -1\n",
    "    \n",
    "    # Build a dictionary for the parsed informations\n",
    "    detail_info = {'Total faculty member' : int(faculty_member_total), \n",
    "                   'International faculty member' : int(faculty_member_inter), \n",
    "                   'Total student' : int(student_total), \n",
    "                   'International student' : int(student_inter)\n",
    "                  }\n",
    "    \n",
    "    return detail_info"
   ]
  },
  {
   "cell_type": "markdown",
   "metadata": {},
   "source": [
    "After some work on the Postman Inspector, we found out that the GET Request made to the QS website ended up with multiple attached files to go with the response. One of those files was a JSON with all the infos from the ranking."
   ]
  },
  {
   "cell_type": "code",
   "execution_count": 11,
   "metadata": {
    "scrolled": true
   },
   "outputs": [],
   "source": [
    "req = requests.get(QS_RANKING_JSON)\n",
    "data_from_url = req.json()"
   ]
  },
  {
   "cell_type": "markdown",
   "metadata": {},
   "source": [
    "Such data is stored as a list of dictionaries, as visible in the example below:"
   ]
  },
  {
   "cell_type": "code",
   "execution_count": 12,
   "metadata": {
    "scrolled": true
   },
   "outputs": [
    {
     "name": "stdout",
     "output_type": "stream",
     "text": [
      "First cell:\n",
      "{'nid': '294850', 'url': '/universities/massachusetts-institute-technology-mit', 'title': 'Massachusetts Institute of Technology (MIT)', 'logo': '<img src=\"https://www.topuniversities.com/sites/default/files/massachusetts-institute-of-technology-mit_410_small_0.jpg\" alt=\"Massachusetts Institute of Technology (MIT)  Logo\">', 'core_id': '410', 'score': '100', 'rank_display': '1', 'country': 'United States', 'cc': 'US', 'region': 'North America', 'stars': '6', 'guide': '<a href=\"/where-to-study/north-america/united-states/guide\" class=\"guide-link\" target=\"_blank\">United States</a>'}\n",
      "\n",
      "Second cell:\n",
      "{'nid': '297282', 'url': '/universities/stanford-university', 'title': 'Stanford University', 'logo': '<img src=\"https://www.topuniversities.com/sites/default/files/stanford-university_573_small_0.jpg\" alt=\"Stanford University Logo\">', 'core_id': '573', 'score': '98.7', 'rank_display': '2', 'country': 'United States', 'cc': 'US', 'region': 'North America', 'stars': '5', 'guide': '<a href=\"/where-to-study/north-america/united-states/guide\" class=\"guide-link\" target=\"_blank\">United States</a>'}\n",
      "\n",
      "...\n"
     ]
    }
   ],
   "source": [
    "print('First cell:')\n",
    "print(data_from_url['data'][0], end='\\n\\n')\n",
    "\n",
    "print('Second cell:')\n",
    "print(data_from_url['data'][1], end='\\n\\n')\n",
    "\n",
    "print('...')"
   ]
  },
  {
   "cell_type": "code",
   "execution_count": 13,
   "metadata": {},
   "outputs": [],
   "source": [
    "def scrape_qs_ranking():\n",
    "    '''\n",
    "    Obtain the ranking from QS in a dataframe\n",
    "    '''\n",
    "    \n",
    "    r = requests.get(QS_RANKING_JSON)\n",
    "    data = r.json()\n",
    "    \n",
    "    university_list = []\n",
    "\n",
    "    # Iterate throu the first 200 elments of the list\n",
    "    for d in data['data'][:200]:\n",
    "    \n",
    "        # Store the parsed information into a dictionary\n",
    "        info = {'Rank': d['rank_display'], \n",
    "                'University name': search_standard_name(d['title']), \n",
    "                'Country': d['country'],\n",
    "                'Region' : d['region']\n",
    "               }\n",
    "    \n",
    "        update_country_region_metadata(d['country'], d['region'])\n",
    "    \n",
    "        # Extend the dictionary with the informations in the detail page\n",
    "        url_detail = 'https://www.topuniversities.com' +  d['url']\n",
    "        info.update( parse_detail_page( url_detail))\n",
    "    \n",
    "        university_list.append(info)\n",
    "    \n",
    "    # After scraping data from QS ranking the metadata dataframe needs to be stored updated\n",
    "    COUNTRY_REGION_METADATA.to_pickle('serial/country_region_metadata.p')\n",
    "    \n",
    "    qs_ranking_df = pd.DataFrame.from_dict(university_list)\n",
    "    return qs_ranking_df"
   ]
  },
  {
   "cell_type": "code",
   "execution_count": 14,
   "metadata": {},
   "outputs": [
    {
     "data": {
      "text/html": [
       "<div>\n",
       "<style>\n",
       "    .dataframe thead tr:only-child th {\n",
       "        text-align: right;\n",
       "    }\n",
       "\n",
       "    .dataframe thead th {\n",
       "        text-align: left;\n",
       "    }\n",
       "\n",
       "    .dataframe tbody tr th {\n",
       "        vertical-align: top;\n",
       "    }\n",
       "</style>\n",
       "<table border=\"1\" class=\"dataframe\">\n",
       "  <thead>\n",
       "    <tr style=\"text-align: right;\">\n",
       "      <th></th>\n",
       "      <th>Country</th>\n",
       "      <th>International faculty member</th>\n",
       "      <th>International student</th>\n",
       "      <th>Rank</th>\n",
       "      <th>Region</th>\n",
       "      <th>Total faculty member</th>\n",
       "      <th>Total student</th>\n",
       "      <th>University name</th>\n",
       "    </tr>\n",
       "  </thead>\n",
       "  <tbody>\n",
       "    <tr>\n",
       "      <th>0</th>\n",
       "      <td>United States</td>\n",
       "      <td>1679</td>\n",
       "      <td>3717</td>\n",
       "      <td>1</td>\n",
       "      <td>North America</td>\n",
       "      <td>2982</td>\n",
       "      <td>11067</td>\n",
       "      <td>Massachusetts Institute of Technology</td>\n",
       "    </tr>\n",
       "    <tr>\n",
       "      <th>1</th>\n",
       "      <td>United States</td>\n",
       "      <td>2042</td>\n",
       "      <td>3611</td>\n",
       "      <td>2</td>\n",
       "      <td>North America</td>\n",
       "      <td>4285</td>\n",
       "      <td>15878</td>\n",
       "      <td>Stanford University</td>\n",
       "    </tr>\n",
       "    <tr>\n",
       "      <th>2</th>\n",
       "      <td>United States</td>\n",
       "      <td>1311</td>\n",
       "      <td>5266</td>\n",
       "      <td>3</td>\n",
       "      <td>North America</td>\n",
       "      <td>4350</td>\n",
       "      <td>22429</td>\n",
       "      <td>Harvard University</td>\n",
       "    </tr>\n",
       "    <tr>\n",
       "      <th>3</th>\n",
       "      <td>United States</td>\n",
       "      <td>350</td>\n",
       "      <td>647</td>\n",
       "      <td>4</td>\n",
       "      <td>North America</td>\n",
       "      <td>953</td>\n",
       "      <td>2255</td>\n",
       "      <td>California Institute of Technology</td>\n",
       "    </tr>\n",
       "    <tr>\n",
       "      <th>4</th>\n",
       "      <td>United Kingdom</td>\n",
       "      <td>2278</td>\n",
       "      <td>6699</td>\n",
       "      <td>5</td>\n",
       "      <td>Europe</td>\n",
       "      <td>5490</td>\n",
       "      <td>18770</td>\n",
       "      <td>University of Cambridge</td>\n",
       "    </tr>\n",
       "  </tbody>\n",
       "</table>\n",
       "</div>"
      ],
      "text/plain": [
       "          Country  International faculty member  International student Rank  \\\n",
       "0   United States                          1679                   3717    1   \n",
       "1   United States                          2042                   3611    2   \n",
       "2   United States                          1311                   5266    3   \n",
       "3   United States                           350                    647    4   \n",
       "4  United Kingdom                          2278                   6699    5   \n",
       "\n",
       "          Region  Total faculty member  Total student  \\\n",
       "0  North America                  2982          11067   \n",
       "1  North America                  4285          15878   \n",
       "2  North America                  4350          22429   \n",
       "3  North America                   953           2255   \n",
       "4         Europe                  5490          18770   \n",
       "\n",
       "                         University name  \n",
       "0  Massachusetts Institute of Technology  \n",
       "1                    Stanford University  \n",
       "2                     Harvard University  \n",
       "3     California Institute of Technology  \n",
       "4                University of Cambridge  "
      ]
     },
     "execution_count": 14,
     "metadata": {},
     "output_type": "execute_result"
    }
   ],
   "source": [
    "try:\n",
    "    qs_ranking_df = pd.read_pickle('serial/qs_save.p')\n",
    "except (OSError, IOError) as e:\n",
    "    qs_ranking_df = scrape_qs_ranking()\n",
    "    qs_ranking_df.to_pickle('serial/qs_save.p')\n",
    "    \n",
    "qs_ranking_df.head()"
   ]
  },
  {
   "cell_type": "code",
   "execution_count": 15,
   "metadata": {
    "scrolled": true
   },
   "outputs": [],
   "source": [
    "qs_ranking_df.set_index(['University name'], inplace=True)"
   ]
  },
  {
   "cell_type": "markdown",
   "metadata": {},
   "source": [
    "#### Which are the best universities in term of ratio between faculty members and students?"
   ]
  },
  {
   "cell_type": "code",
   "execution_count": 44,
   "metadata": {
    "scrolled": true
   },
   "outputs": [
    {
     "data": {
      "text/html": [
       "<div>\n",
       "<style>\n",
       "    .dataframe thead tr:only-child th {\n",
       "        text-align: right;\n",
       "    }\n",
       "\n",
       "    .dataframe thead th {\n",
       "        text-align: left;\n",
       "    }\n",
       "\n",
       "    .dataframe tbody tr th {\n",
       "        vertical-align: top;\n",
       "    }\n",
       "</style>\n",
       "<table border=\"1\" class=\"dataframe\">\n",
       "  <thead>\n",
       "    <tr style=\"text-align: right;\">\n",
       "      <th></th>\n",
       "      <th>Country</th>\n",
       "      <th>Region</th>\n",
       "      <th>Total faculty member</th>\n",
       "      <th>Total student</th>\n",
       "      <th>Faculty/students ratio</th>\n",
       "    </tr>\n",
       "    <tr>\n",
       "      <th>University name</th>\n",
       "      <th></th>\n",
       "      <th></th>\n",
       "      <th></th>\n",
       "      <th></th>\n",
       "      <th></th>\n",
       "    </tr>\n",
       "  </thead>\n",
       "  <tbody>\n",
       "    <tr>\n",
       "      <th>New York University</th>\n",
       "      <td>United States</td>\n",
       "      <td>North America</td>\n",
       "      <td>-1</td>\n",
       "      <td>-1</td>\n",
       "      <td>1.000000</td>\n",
       "    </tr>\n",
       "    <tr>\n",
       "      <th>California Institute of Technology</th>\n",
       "      <td>United States</td>\n",
       "      <td>North America</td>\n",
       "      <td>953</td>\n",
       "      <td>2255</td>\n",
       "      <td>0.422616</td>\n",
       "    </tr>\n",
       "    <tr>\n",
       "      <th>Yale University</th>\n",
       "      <td>United States</td>\n",
       "      <td>North America</td>\n",
       "      <td>4940</td>\n",
       "      <td>12402</td>\n",
       "      <td>0.398323</td>\n",
       "    </tr>\n",
       "    <tr>\n",
       "      <th>University of Oxford</th>\n",
       "      <td>United Kingdom</td>\n",
       "      <td>Europe</td>\n",
       "      <td>6750</td>\n",
       "      <td>19720</td>\n",
       "      <td>0.342292</td>\n",
       "    </tr>\n",
       "    <tr>\n",
       "      <th>University of Cambridge</th>\n",
       "      <td>United Kingdom</td>\n",
       "      <td>Europe</td>\n",
       "      <td>5490</td>\n",
       "      <td>18770</td>\n",
       "      <td>0.292488</td>\n",
       "    </tr>\n",
       "  </tbody>\n",
       "</table>\n",
       "</div>"
      ],
      "text/plain": [
       "                                           Country         Region  \\\n",
       "University name                                                     \n",
       "New York University                  United States  North America   \n",
       "California Institute of Technology   United States  North America   \n",
       "Yale University                      United States  North America   \n",
       "University of Oxford                United Kingdom         Europe   \n",
       "University of Cambridge             United Kingdom         Europe   \n",
       "\n",
       "                                    Total faculty member  Total student  \\\n",
       "University name                                                           \n",
       "New York University                                   -1             -1   \n",
       "California Institute of Technology                   953           2255   \n",
       "Yale University                                     4940          12402   \n",
       "University of Oxford                                6750          19720   \n",
       "University of Cambridge                             5490          18770   \n",
       "\n",
       "                                    Faculty/students ratio  \n",
       "University name                                             \n",
       "New York University                               1.000000  \n",
       "California Institute of Technology                0.422616  \n",
       "Yale University                                   0.398323  \n",
       "University of Oxford                              0.342292  \n",
       "University of Cambridge                           0.292488  "
      ]
     },
     "execution_count": 44,
     "metadata": {},
     "output_type": "execute_result"
    }
   ],
   "source": [
    "qs_ranking_df['Faculty/students ratio'] = qs_ranking_df['Total faculty member'] / qs_ranking_df['Total student']\n",
    "\n",
    "faculty_students_rank_df = qs_ranking_df[['Country', 'Region', 'Total faculty member', 'Total student', 'Faculty/students ratio']]\n",
    "faculty_students_rank_df = faculty_students_rank_df.sort_values('Faculty/students ratio', ascending=False)\n",
    "\n",
    "faculty_students_rank_df.head()"
   ]
  },
  {
   "cell_type": "code",
   "execution_count": null,
   "metadata": {},
   "outputs": [],
   "source": [
    "faculty_students_rank_df[:10]['Faculty/students ratio'].plot(kind='barh', figsize=(10,7))"
   ]
  },
  {
   "cell_type": "markdown",
   "metadata": {},
   "source": [
    "#### Which are the best universities in term of ratio of international students?"
   ]
  },
  {
   "cell_type": "code",
   "execution_count": 45,
   "metadata": {},
   "outputs": [
    {
     "data": {
      "text/html": [
       "<div>\n",
       "<style>\n",
       "    .dataframe thead tr:only-child th {\n",
       "        text-align: right;\n",
       "    }\n",
       "\n",
       "    .dataframe thead th {\n",
       "        text-align: left;\n",
       "    }\n",
       "\n",
       "    .dataframe tbody tr th {\n",
       "        vertical-align: top;\n",
       "    }\n",
       "</style>\n",
       "<table border=\"1\" class=\"dataframe\">\n",
       "  <thead>\n",
       "    <tr style=\"text-align: right;\">\n",
       "      <th></th>\n",
       "      <th>Country</th>\n",
       "      <th>Region</th>\n",
       "      <th>International student</th>\n",
       "      <th>Total student</th>\n",
       "      <th>Intern/student ratio</th>\n",
       "    </tr>\n",
       "    <tr>\n",
       "      <th>University name</th>\n",
       "      <th></th>\n",
       "      <th></th>\n",
       "      <th></th>\n",
       "      <th></th>\n",
       "      <th></th>\n",
       "    </tr>\n",
       "  </thead>\n",
       "  <tbody>\n",
       "    <tr>\n",
       "      <th>New York University</th>\n",
       "      <td>United States</td>\n",
       "      <td>North America</td>\n",
       "      <td>-1</td>\n",
       "      <td>-1</td>\n",
       "      <td>1.000000</td>\n",
       "    </tr>\n",
       "    <tr>\n",
       "      <th>London School of Economics and Political Science</th>\n",
       "      <td>United Kingdom</td>\n",
       "      <td>Europe</td>\n",
       "      <td>6748</td>\n",
       "      <td>9760</td>\n",
       "      <td>0.691393</td>\n",
       "    </tr>\n",
       "    <tr>\n",
       "      <th>Ecole Polytechnique Fédérale de Lausanne</th>\n",
       "      <td>Switzerland</td>\n",
       "      <td>Europe</td>\n",
       "      <td>5896</td>\n",
       "      <td>10343</td>\n",
       "      <td>0.570047</td>\n",
       "    </tr>\n",
       "    <tr>\n",
       "      <th>Imperial College London</th>\n",
       "      <td>United Kingdom</td>\n",
       "      <td>Europe</td>\n",
       "      <td>8746</td>\n",
       "      <td>16090</td>\n",
       "      <td>0.543567</td>\n",
       "    </tr>\n",
       "    <tr>\n",
       "      <th>Maastricht University</th>\n",
       "      <td>Netherlands</td>\n",
       "      <td>Europe</td>\n",
       "      <td>8234</td>\n",
       "      <td>16385</td>\n",
       "      <td>0.502533</td>\n",
       "    </tr>\n",
       "  </tbody>\n",
       "</table>\n",
       "</div>"
      ],
      "text/plain": [
       "                                                         Country  \\\n",
       "University name                                                    \n",
       "New York University                                United States   \n",
       "London School of Economics and Political Science  United Kingdom   \n",
       "Ecole Polytechnique Fédérale de Lausanne             Switzerland   \n",
       "Imperial College London                           United Kingdom   \n",
       "Maastricht University                                Netherlands   \n",
       "\n",
       "                                                         Region  \\\n",
       "University name                                                   \n",
       "New York University                               North America   \n",
       "London School of Economics and Political Science         Europe   \n",
       "Ecole Polytechnique Fédérale de Lausanne                 Europe   \n",
       "Imperial College London                                  Europe   \n",
       "Maastricht University                                    Europe   \n",
       "\n",
       "                                                  International student  \\\n",
       "University name                                                           \n",
       "New York University                                                  -1   \n",
       "London School of Economics and Political Science                   6748   \n",
       "Ecole Polytechnique Fédérale de Lausanne                           5896   \n",
       "Imperial College London                                            8746   \n",
       "Maastricht University                                              8234   \n",
       "\n",
       "                                                  Total student  \\\n",
       "University name                                                   \n",
       "New York University                                          -1   \n",
       "London School of Economics and Political Science           9760   \n",
       "Ecole Polytechnique Fédérale de Lausanne                  10343   \n",
       "Imperial College London                                   16090   \n",
       "Maastricht University                                     16385   \n",
       "\n",
       "                                                  Intern/student ratio  \n",
       "University name                                                         \n",
       "New York University                                           1.000000  \n",
       "London School of Economics and Political Science              0.691393  \n",
       "Ecole Polytechnique Fédérale de Lausanne                      0.570047  \n",
       "Imperial College London                                       0.543567  \n",
       "Maastricht University                                         0.502533  "
      ]
     },
     "execution_count": 45,
     "metadata": {},
     "output_type": "execute_result"
    }
   ],
   "source": [
    "qs_ranking_df['Intern/student ratio'] = qs_ranking_df['International student'] / qs_ranking_df['Total student']\n",
    "\n",
    "international_students_rank_df = qs_ranking_df[['Country', 'Region', 'International student', 'Total student', 'Intern/student ratio']]\n",
    "international_students_rank_df = international_students_rank_df.sort_values('Intern/student ratio', ascending=False)\n",
    "\n",
    "international_students_rank_df.head()"
   ]
  },
  {
   "cell_type": "code",
   "execution_count": null,
   "metadata": {},
   "outputs": [],
   "source": [
    "international_students_rank_df[:10]['Intern/student ratio'].plot(kind='barh', figsize=(10,7))"
   ]
  },
  {
   "cell_type": "markdown",
   "metadata": {},
   "source": [
    "Plot of the dataframe for the ratios computed"
   ]
  },
  {
   "cell_type": "code",
   "execution_count": null,
   "metadata": {
    "scrolled": false
   },
   "outputs": [],
   "source": [
    "qs_ranking_df[['Faculty/students ratio', 'Intern/student ratio']].plot(kind='barh', figsize=(10,100))"
   ]
  },
  {
   "cell_type": "markdown",
   "metadata": {},
   "source": [
    "Plot the results aggregating by region:"
   ]
  },
  {
   "cell_type": "code",
   "execution_count": null,
   "metadata": {
    "scrolled": false
   },
   "outputs": [],
   "source": [
    "for i, (title, group) in enumerate(qs_ranking_df.groupby('Region')):\n",
    "    ax = group[['Faculty/students ratio', 'Intern/student ratio']].plot.bar(figsize=(17, 7), \n",
    "                                                                            width= 0.5 if (len(group) > 2) else 0.1)\n",
    "    plt.title(title)\n",
    "    plt.xticks(rotation = 90 if (len(group) > 5) else 0)\n",
    "    plt.xlabel(\"\")\n",
    "    plt.show()"
   ]
  },
  {
   "cell_type": "markdown",
   "metadata": {},
   "source": [
    "Plot the results aggregating by country:"
   ]
  },
  {
   "cell_type": "code",
   "execution_count": null,
   "metadata": {},
   "outputs": [],
   "source": [
    "for i, (title, group) in enumerate(qs_ranking_df.groupby('Country')):\n",
    "    ax = group[['Faculty/students ratio', 'Intern/student ratio']].plot.bar(figsize=(17, 7), \n",
    "                                                                            width= 0.5 if (len(group) > 5) else 0.1)\n",
    "    plt.title(title)\n",
    "    plt.xticks(rotation = 90 if (len(group) > 5) else 0)\n",
    "    plt.xlabel(\"\")\n",
    "    plt.show()"
   ]
  },
  {
   "cell_type": "markdown",
   "metadata": {},
   "source": [
    "### Task 2 - Scrape the Times ranking\n",
    "Obtain the 200 top-ranking universities in www.timeshighereducation.com (ranking 2018). Repeat the analysis of the previous point and discuss briefly what you observed."
   ]
  },
  {
   "cell_type": "code",
   "execution_count": 17,
   "metadata": {},
   "outputs": [],
   "source": [
    "def compute_value_from_percentage(total, percentage):\n",
    "    \n",
    "    total = int( total )\n",
    "    percentage = float( percentage )\n",
    "    \n",
    "    return round( (total/100) * percentage )"
   ]
  },
  {
   "cell_type": "code",
   "execution_count": 18,
   "metadata": {},
   "outputs": [],
   "source": [
    "def compute_value_from_proportion(total, proportion):\n",
    "    \n",
    "    total = int( total )\n",
    "    proportion = float( proportion )\n",
    "    \n",
    "    return round( total / proportion )"
   ]
  },
  {
   "cell_type": "code",
   "execution_count": 19,
   "metadata": {
    "scrolled": false
   },
   "outputs": [],
   "source": [
    "def scrape_times_ranking():\n",
    "    '''\n",
    "    Obtain the ranking from Times in a dataframe\n",
    "    '''\n",
    "\n",
    "    r = requests.get(TIMES_RANKING_JSON)\n",
    "    data = r.json()\n",
    "\n",
    "    university_list = []\n",
    "\n",
    "    # Iterate throu the first 200 elments of the list\n",
    "    for d in data['data'][:200]:\n",
    "    \n",
    "        # Preliminary computations to extract data\n",
    "        intern_student = compute_value_from_percentage( clean_str_number( d['stats_number_students']), \n",
    "                                                       clean_str_number( d['stats_pc_intl_students'])\n",
    "                                                      )\n",
    "    \n",
    "        faculty_member_total = compute_value_from_proportion( clean_str_number( d['stats_number_students']), \n",
    "                                                             clean_str_number( d['stats_student_staff_ratio'])\n",
    "                                                            )\n",
    "        \n",
    "        # Determine region from the data of the QS ranking stored in the metadata\n",
    "        try:\n",
    "            region = COUNTRY_REGION_METADATA.get_value(d['location'], 'Region')\n",
    "        except:\n",
    "            region = 'NaN'\n",
    "    \n",
    "        # Store the parsed information into a dictionary\n",
    "        info = {'Rank': d['rank'], \n",
    "                'University name': search_standard_name(d['name']), \n",
    "                'Country': d['location'],\n",
    "                'Region' : region,\n",
    "                'Total student' : int(clean_str_number( d['stats_number_students'])),\n",
    "                'International student' : int(intern_student),\n",
    "                'Total faculty member' : int(faculty_member_total)\n",
    "               }\n",
    "    \n",
    "        university_list.append(info)\n",
    "   \n",
    "    times_ranking_df = pd.DataFrame.from_dict(university_list)\n",
    "    return times_ranking_df"
   ]
  },
  {
   "cell_type": "code",
   "execution_count": 20,
   "metadata": {},
   "outputs": [
    {
     "data": {
      "text/html": [
       "<div>\n",
       "<style>\n",
       "    .dataframe thead tr:only-child th {\n",
       "        text-align: right;\n",
       "    }\n",
       "\n",
       "    .dataframe thead th {\n",
       "        text-align: left;\n",
       "    }\n",
       "\n",
       "    .dataframe tbody tr th {\n",
       "        vertical-align: top;\n",
       "    }\n",
       "</style>\n",
       "<table border=\"1\" class=\"dataframe\">\n",
       "  <thead>\n",
       "    <tr style=\"text-align: right;\">\n",
       "      <th></th>\n",
       "      <th>Country</th>\n",
       "      <th>International student</th>\n",
       "      <th>Rank</th>\n",
       "      <th>Region</th>\n",
       "      <th>Total faculty member</th>\n",
       "      <th>Total student</th>\n",
       "      <th>University name</th>\n",
       "    </tr>\n",
       "  </thead>\n",
       "  <tbody>\n",
       "    <tr>\n",
       "      <th>0</th>\n",
       "      <td>United Kingdom</td>\n",
       "      <td>7755</td>\n",
       "      <td>1</td>\n",
       "      <td>Europe</td>\n",
       "      <td>1822</td>\n",
       "      <td>20409</td>\n",
       "      <td>University of Oxford</td>\n",
       "    </tr>\n",
       "    <tr>\n",
       "      <th>1</th>\n",
       "      <td>United Kingdom</td>\n",
       "      <td>6436</td>\n",
       "      <td>2</td>\n",
       "      <td>Europe</td>\n",
       "      <td>1687</td>\n",
       "      <td>18389</td>\n",
       "      <td>University of Cambridge</td>\n",
       "    </tr>\n",
       "    <tr>\n",
       "      <th>2</th>\n",
       "      <td>United States</td>\n",
       "      <td>596</td>\n",
       "      <td>=3</td>\n",
       "      <td>North America</td>\n",
       "      <td>340</td>\n",
       "      <td>2209</td>\n",
       "      <td>California Institute of Technology</td>\n",
       "    </tr>\n",
       "    <tr>\n",
       "      <th>3</th>\n",
       "      <td>United States</td>\n",
       "      <td>3486</td>\n",
       "      <td>=3</td>\n",
       "      <td>North America</td>\n",
       "      <td>2113</td>\n",
       "      <td>15845</td>\n",
       "      <td>Stanford University</td>\n",
       "    </tr>\n",
       "    <tr>\n",
       "      <th>4</th>\n",
       "      <td>United States</td>\n",
       "      <td>3800</td>\n",
       "      <td>5</td>\n",
       "      <td>North America</td>\n",
       "      <td>1285</td>\n",
       "      <td>11177</td>\n",
       "      <td>Massachusetts Institute of Technology</td>\n",
       "    </tr>\n",
       "  </tbody>\n",
       "</table>\n",
       "</div>"
      ],
      "text/plain": [
       "          Country  International student Rank         Region  \\\n",
       "0  United Kingdom                   7755    1         Europe   \n",
       "1  United Kingdom                   6436    2         Europe   \n",
       "2   United States                    596   =3  North America   \n",
       "3   United States                   3486   =3  North America   \n",
       "4   United States                   3800    5  North America   \n",
       "\n",
       "   Total faculty member  Total student                        University name  \n",
       "0                  1822          20409                   University of Oxford  \n",
       "1                  1687          18389                University of Cambridge  \n",
       "2                   340           2209     California Institute of Technology  \n",
       "3                  2113          15845                    Stanford University  \n",
       "4                  1285          11177  Massachusetts Institute of Technology  "
      ]
     },
     "execution_count": 20,
     "metadata": {},
     "output_type": "execute_result"
    }
   ],
   "source": [
    "try:\n",
    "    times_ranking_df = pd.read_pickle('serial/times_save.p')\n",
    "except (OSError, IOError) as e:\n",
    "    times_ranking_df = scrape_times_ranking()\n",
    "    times_ranking_df.to_pickle('serial/times_save.p')\n",
    "    \n",
    "times_ranking_df.head()"
   ]
  },
  {
   "cell_type": "markdown",
   "metadata": {},
   "source": [
    "Missig data:"
   ]
  },
  {
   "cell_type": "code",
   "execution_count": 21,
   "metadata": {},
   "outputs": [],
   "source": [
    "times_ranking_df.set_index(['University name'], inplace=True)"
   ]
  },
  {
   "cell_type": "markdown",
   "metadata": {},
   "source": [
    "#### Which are the best universities in term of ratio between faculty members and students?"
   ]
  },
  {
   "cell_type": "code",
   "execution_count": 49,
   "metadata": {},
   "outputs": [],
   "source": [
    "times_ranking_df['Faculty/students ratio'] = times_ranking_df['Total faculty member'] / times_ranking_df['Total student']"
   ]
  },
  {
   "cell_type": "markdown",
   "metadata": {},
   "source": [
    "#### Which are the best universities in term of ratio of international students?"
   ]
  },
  {
   "cell_type": "code",
   "execution_count": 50,
   "metadata": {},
   "outputs": [
    {
     "data": {
      "text/html": [
       "<div>\n",
       "<style>\n",
       "    .dataframe thead tr:only-child th {\n",
       "        text-align: right;\n",
       "    }\n",
       "\n",
       "    .dataframe thead th {\n",
       "        text-align: left;\n",
       "    }\n",
       "\n",
       "    .dataframe tbody tr th {\n",
       "        vertical-align: top;\n",
       "    }\n",
       "</style>\n",
       "<table border=\"1\" class=\"dataframe\">\n",
       "  <thead>\n",
       "    <tr style=\"text-align: right;\">\n",
       "      <th></th>\n",
       "      <th>Country</th>\n",
       "      <th>Region</th>\n",
       "      <th>International student</th>\n",
       "      <th>Total student</th>\n",
       "      <th>Intern/student ratio</th>\n",
       "    </tr>\n",
       "    <tr>\n",
       "      <th>University name</th>\n",
       "      <th></th>\n",
       "      <th></th>\n",
       "      <th></th>\n",
       "      <th></th>\n",
       "      <th></th>\n",
       "    </tr>\n",
       "  </thead>\n",
       "  <tbody>\n",
       "    <tr>\n",
       "      <th>London School of Economics and Political Science</th>\n",
       "      <td>United Kingdom</td>\n",
       "      <td>Europe</td>\n",
       "      <td>7146</td>\n",
       "      <td>10065</td>\n",
       "      <td>0.709985</td>\n",
       "    </tr>\n",
       "    <tr>\n",
       "      <th>University of Luxembourg</th>\n",
       "      <td>Luxembourg</td>\n",
       "      <td>Europe</td>\n",
       "      <td>2832</td>\n",
       "      <td>4969</td>\n",
       "      <td>0.569934</td>\n",
       "    </tr>\n",
       "    <tr>\n",
       "      <th>Imperial College London</th>\n",
       "      <td>United Kingdom</td>\n",
       "      <td>Europe</td>\n",
       "      <td>8721</td>\n",
       "      <td>15857</td>\n",
       "      <td>0.549978</td>\n",
       "    </tr>\n",
       "    <tr>\n",
       "      <th>École Polytechnique Fédérale de Lausanne</th>\n",
       "      <td>Switzerland</td>\n",
       "      <td>Europe</td>\n",
       "      <td>5460</td>\n",
       "      <td>9928</td>\n",
       "      <td>0.549960</td>\n",
       "    </tr>\n",
       "    <tr>\n",
       "      <th>Maastricht University</th>\n",
       "      <td>Netherlands</td>\n",
       "      <td>Europe</td>\n",
       "      <td>8364</td>\n",
       "      <td>16727</td>\n",
       "      <td>0.500030</td>\n",
       "    </tr>\n",
       "  </tbody>\n",
       "</table>\n",
       "</div>"
      ],
      "text/plain": [
       "                                                         Country  Region  \\\n",
       "University name                                                            \n",
       "London School of Economics and Political Science  United Kingdom  Europe   \n",
       "University of Luxembourg                              Luxembourg  Europe   \n",
       "Imperial College London                           United Kingdom  Europe   \n",
       "École Polytechnique Fédérale de Lausanne             Switzerland  Europe   \n",
       "Maastricht University                                Netherlands  Europe   \n",
       "\n",
       "                                                  International student  \\\n",
       "University name                                                           \n",
       "London School of Economics and Political Science                   7146   \n",
       "University of Luxembourg                                           2832   \n",
       "Imperial College London                                            8721   \n",
       "École Polytechnique Fédérale de Lausanne                           5460   \n",
       "Maastricht University                                              8364   \n",
       "\n",
       "                                                  Total student  \\\n",
       "University name                                                   \n",
       "London School of Economics and Political Science          10065   \n",
       "University of Luxembourg                                   4969   \n",
       "Imperial College London                                   15857   \n",
       "École Polytechnique Fédérale de Lausanne                   9928   \n",
       "Maastricht University                                     16727   \n",
       "\n",
       "                                                  Intern/student ratio  \n",
       "University name                                                         \n",
       "London School of Economics and Political Science              0.709985  \n",
       "University of Luxembourg                                      0.569934  \n",
       "Imperial College London                                       0.549978  \n",
       "École Polytechnique Fédérale de Lausanne                      0.549960  \n",
       "Maastricht University                                         0.500030  "
      ]
     },
     "execution_count": 50,
     "metadata": {},
     "output_type": "execute_result"
    }
   ],
   "source": [
    "times_ranking_df['Intern/student ratio'] = times_ranking_df['International student'] / times_ranking_df['Total student']\n",
    "\n",
    "international_students_rank_df = times_ranking_df[['Country', 'Region', 'International student', 'Total student', 'Intern/student ratio']]\n",
    "international_students_rank_df = international_students_rank_df.sort_values('Intern/student ratio', ascending=False)\n",
    "\n",
    "international_students_rank_df.head()"
   ]
  },
  {
   "cell_type": "code",
   "execution_count": null,
   "metadata": {},
   "outputs": [],
   "source": [
    "international_students_rank_df[:10]['Intern/student ratio'].plot(kind='barh', figsize=(10,7))"
   ]
  },
  {
   "cell_type": "markdown",
   "metadata": {},
   "source": [
    "Plot all the computed data: (?)"
   ]
  },
  {
   "cell_type": "code",
   "execution_count": null,
   "metadata": {
    "scrolled": false
   },
   "outputs": [],
   "source": [
    "times_ranking_df.sort_values('Intern/student ratio')[['Intern/student ratio']].plot( kind='barh', figsize=(10,100))"
   ]
  },
  {
   "cell_type": "markdown",
   "metadata": {},
   "source": [
    "Plot the results aggregating by region:"
   ]
  },
  {
   "cell_type": "code",
   "execution_count": null,
   "metadata": {
    "scrolled": false
   },
   "outputs": [],
   "source": [
    "for i, (title, group) in enumerate(times_ranking_df.groupby('Region')):\n",
    "    ax = group[['Intern/student ratio']].plot.bar(figsize=(17, 7), \n",
    "                                                  width= 0.5 if (len(group) > 2) else 0.1)\n",
    "    plt.title(title)\n",
    "    plt.xticks(rotation = 90 if (len(group) > 5) else 0)\n",
    "    plt.xlabel(\"\")\n",
    "    plt.show()"
   ]
  },
  {
   "cell_type": "markdown",
   "metadata": {},
   "source": [
    "Plot the results aggregating by country:"
   ]
  },
  {
   "cell_type": "code",
   "execution_count": null,
   "metadata": {
    "scrolled": false
   },
   "outputs": [],
   "source": [
    "for i, (title, group) in enumerate(times_ranking_df.groupby('Country')):\n",
    "    ax = group[['Intern/student ratio']].plot.bar(figsize=(17, 7), \n",
    "                                                                            width= 0.5 if (len(group) > 5) else 0.1)\n",
    "    plt.title(title)\n",
    "    plt.xticks(rotation = 90 if (len(group) > 5) else 0)\n",
    "    plt.xlabel(\"\")\n",
    "    plt.show()"
   ]
  },
  {
   "cell_type": "markdown",
   "metadata": {
    "collapsed": true,
    "scrolled": true
   },
   "source": [
    "### Task 3 - Merge the dataframes\n",
    "Merge the two DataFrames created in questions 1 and 2 using university names. Match universities' names as well as you can, and explain your strategy. Keep track of the original position in both rankings."
   ]
  },
  {
   "cell_type": "code",
   "execution_count": 92,
   "metadata": {},
   "outputs": [],
   "source": [
    "qs_ranking_df['University name'] = qs_ranking_df.index\n",
    "times_ranking_df['University name'] = times_ranking_df.index"
   ]
  },
  {
   "cell_type": "code",
   "execution_count": 93,
   "metadata": {},
   "outputs": [],
   "source": [
    "qs_ranking_df['University name'] = qs_ranking_df['University name'].str.strip()\n",
    "qs_ranking_df['Country'] = qs_ranking_df['Country'].str.strip()\n",
    "\n",
    "times_ranking_df['University name'] = times_ranking_df['University name'].str.strip()\n",
    "times_ranking_df['Country'] = times_ranking_df['Country'].str.strip()"
   ]
  },
  {
   "cell_type": "markdown",
   "metadata": {},
   "source": [
    "Merging the two dataframes into one:"
   ]
  },
  {
   "cell_type": "code",
   "execution_count": 94,
   "metadata": {
    "scrolled": false
   },
   "outputs": [],
   "source": [
    "merged_ranking_df = pd.merge(qs_ranking_df, times_ranking_df, \n",
    "                             on=['University name', 'Country', 'Region'], \n",
    "                             how='outer', \n",
    "                             suffixes=('_QS', '_TM')\n",
    "                            )\n",
    "\n",
    "merged_ranking_df.set_index(['University name'], inplace=True)"
   ]
  },
  {
   "cell_type": "markdown",
   "metadata": {},
   "source": [
    "## Task 4 - Exploratory analysis <a class=\"anchor\" id=\"task4\"></a>"
   ]
  },
  {
   "cell_type": "markdown",
   "metadata": {},
   "source": [
    "We can first classify the universities according to their size. We are considering that their size is determined by the number of students, with the same classification that was used for the QS ranking (Described [here](http://www.iu.qs.com/university-rankings/qs-classifications/)). We use the mean of the two number of students in the cases when both are available."
   ]
  },
  {
   "cell_type": "code",
   "execution_count": 95,
   "metadata": {},
   "outputs": [],
   "source": [
    "def university_sizes(x):\n",
    "    \"\"\"Returns a size label based on the number of students.\"\"\"\n",
    "    if not x:\n",
    "        return None\n",
    "    else:\n",
    "        return ('Small' if x < 5000 else 'Medium' if x < 12000\n",
    "                else 'Large' if x < 30000 else 'Extra Large')"
   ]
  },
  {
   "cell_type": "markdown",
   "metadata": {},
   "source": [
    "TODO: Decide on the following"
   ]
  },
  {
   "cell_type": "code",
   "execution_count": 97,
   "metadata": {},
   "outputs": [],
   "source": [
    "for x in ['Total student', 'International student', 'Total faculty member', 'Faculty/students ratio', 'Intern/student ratio']:\n",
    "    merged_ranking_df[x] = merged_ranking_df[['{0}_{1}'.format(x, 'QS'), '{0}_{1}'.format(x, 'TM')]].mean(axis=1)\n",
    "    # merged_ranking_df.drop(['{0}_{1}'.format(x, 'QS'), '{0}_{1}'.format(x, 'TM')], axis=1, inplace=True)"
   ]
  },
  {
   "cell_type": "code",
   "execution_count": 98,
   "metadata": {},
   "outputs": [],
   "source": [
    "merged_ranking_df['Size'] = merged_ranking_df['Total student'].apply(lambda x: university_sizes(x))"
   ]
  },
  {
   "cell_type": "markdown",
   "metadata": {},
   "source": [
    "We look at the values that we can find in each of the numerical variables."
   ]
  },
  {
   "cell_type": "code",
   "execution_count": 99,
   "metadata": {},
   "outputs": [
    {
     "data": {
      "text/html": [
       "<div>\n",
       "<style>\n",
       "    .dataframe thead tr:only-child th {\n",
       "        text-align: right;\n",
       "    }\n",
       "\n",
       "    .dataframe thead th {\n",
       "        text-align: left;\n",
       "    }\n",
       "\n",
       "    .dataframe tbody tr th {\n",
       "        vertical-align: top;\n",
       "    }\n",
       "</style>\n",
       "<table border=\"1\" class=\"dataframe\">\n",
       "  <thead>\n",
       "    <tr style=\"text-align: right;\">\n",
       "      <th></th>\n",
       "      <th>Country</th>\n",
       "      <th>International faculty member</th>\n",
       "      <th>International student_QS</th>\n",
       "      <th>Rank_QS</th>\n",
       "      <th>Region</th>\n",
       "      <th>Total faculty member_QS</th>\n",
       "      <th>Total student_QS</th>\n",
       "      <th>Faculty/students ratio_QS</th>\n",
       "      <th>Intern/student ratio_QS</th>\n",
       "      <th>International student_TM</th>\n",
       "      <th>...</th>\n",
       "      <th>Total faculty member_TM</th>\n",
       "      <th>Total student_TM</th>\n",
       "      <th>Intern/student ratio_TM</th>\n",
       "      <th>Faculty/students ratio_TM</th>\n",
       "      <th>Total student</th>\n",
       "      <th>International student</th>\n",
       "      <th>Total faculty member</th>\n",
       "      <th>Faculty/students ratio</th>\n",
       "      <th>Intern/student ratio</th>\n",
       "      <th>Size</th>\n",
       "    </tr>\n",
       "    <tr>\n",
       "      <th>University name</th>\n",
       "      <th></th>\n",
       "      <th></th>\n",
       "      <th></th>\n",
       "      <th></th>\n",
       "      <th></th>\n",
       "      <th></th>\n",
       "      <th></th>\n",
       "      <th></th>\n",
       "      <th></th>\n",
       "      <th></th>\n",
       "      <th></th>\n",
       "      <th></th>\n",
       "      <th></th>\n",
       "      <th></th>\n",
       "      <th></th>\n",
       "      <th></th>\n",
       "      <th></th>\n",
       "      <th></th>\n",
       "      <th></th>\n",
       "      <th></th>\n",
       "      <th></th>\n",
       "    </tr>\n",
       "  </thead>\n",
       "  <tbody>\n",
       "    <tr>\n",
       "      <th>Massachusetts Institute of Technology</th>\n",
       "      <td>United States</td>\n",
       "      <td>1679.0</td>\n",
       "      <td>3717.0</td>\n",
       "      <td>1</td>\n",
       "      <td>North America</td>\n",
       "      <td>2982.0</td>\n",
       "      <td>11067.0</td>\n",
       "      <td>0.269450</td>\n",
       "      <td>0.335863</td>\n",
       "      <td>3800.0</td>\n",
       "      <td>...</td>\n",
       "      <td>1285.0</td>\n",
       "      <td>11177.0</td>\n",
       "      <td>0.339984</td>\n",
       "      <td>0.114968</td>\n",
       "      <td>11122.0</td>\n",
       "      <td>3758.5</td>\n",
       "      <td>2133.5</td>\n",
       "      <td>0.192209</td>\n",
       "      <td>0.337924</td>\n",
       "      <td>Medium</td>\n",
       "    </tr>\n",
       "    <tr>\n",
       "      <th>Stanford University</th>\n",
       "      <td>United States</td>\n",
       "      <td>2042.0</td>\n",
       "      <td>3611.0</td>\n",
       "      <td>2</td>\n",
       "      <td>North America</td>\n",
       "      <td>4285.0</td>\n",
       "      <td>15878.0</td>\n",
       "      <td>0.269870</td>\n",
       "      <td>0.227422</td>\n",
       "      <td>3486.0</td>\n",
       "      <td>...</td>\n",
       "      <td>2113.0</td>\n",
       "      <td>15845.0</td>\n",
       "      <td>0.220006</td>\n",
       "      <td>0.133354</td>\n",
       "      <td>15861.5</td>\n",
       "      <td>3548.5</td>\n",
       "      <td>3199.0</td>\n",
       "      <td>0.201612</td>\n",
       "      <td>0.223714</td>\n",
       "      <td>Large</td>\n",
       "    </tr>\n",
       "    <tr>\n",
       "      <th>Harvard University</th>\n",
       "      <td>United States</td>\n",
       "      <td>1311.0</td>\n",
       "      <td>5266.0</td>\n",
       "      <td>3</td>\n",
       "      <td>North America</td>\n",
       "      <td>4350.0</td>\n",
       "      <td>22429.0</td>\n",
       "      <td>0.193945</td>\n",
       "      <td>0.234785</td>\n",
       "      <td>5285.0</td>\n",
       "      <td>...</td>\n",
       "      <td>2284.0</td>\n",
       "      <td>20326.0</td>\n",
       "      <td>0.260012</td>\n",
       "      <td>0.112368</td>\n",
       "      <td>21377.5</td>\n",
       "      <td>5275.5</td>\n",
       "      <td>3317.0</td>\n",
       "      <td>0.153157</td>\n",
       "      <td>0.247399</td>\n",
       "      <td>Large</td>\n",
       "    </tr>\n",
       "    <tr>\n",
       "      <th>California Institute of Technology</th>\n",
       "      <td>United States</td>\n",
       "      <td>350.0</td>\n",
       "      <td>647.0</td>\n",
       "      <td>4</td>\n",
       "      <td>North America</td>\n",
       "      <td>953.0</td>\n",
       "      <td>2255.0</td>\n",
       "      <td>0.422616</td>\n",
       "      <td>0.286918</td>\n",
       "      <td>596.0</td>\n",
       "      <td>...</td>\n",
       "      <td>340.0</td>\n",
       "      <td>2209.0</td>\n",
       "      <td>0.269805</td>\n",
       "      <td>0.153916</td>\n",
       "      <td>2232.0</td>\n",
       "      <td>621.5</td>\n",
       "      <td>646.5</td>\n",
       "      <td>0.288266</td>\n",
       "      <td>0.278362</td>\n",
       "      <td>Small</td>\n",
       "    </tr>\n",
       "    <tr>\n",
       "      <th>University of Cambridge</th>\n",
       "      <td>United Kingdom</td>\n",
       "      <td>2278.0</td>\n",
       "      <td>6699.0</td>\n",
       "      <td>5</td>\n",
       "      <td>Europe</td>\n",
       "      <td>5490.0</td>\n",
       "      <td>18770.0</td>\n",
       "      <td>0.292488</td>\n",
       "      <td>0.356899</td>\n",
       "      <td>6436.0</td>\n",
       "      <td>...</td>\n",
       "      <td>1687.0</td>\n",
       "      <td>18389.0</td>\n",
       "      <td>0.349992</td>\n",
       "      <td>0.091740</td>\n",
       "      <td>18579.5</td>\n",
       "      <td>6567.5</td>\n",
       "      <td>3588.5</td>\n",
       "      <td>0.192114</td>\n",
       "      <td>0.353446</td>\n",
       "      <td>Large</td>\n",
       "    </tr>\n",
       "  </tbody>\n",
       "</table>\n",
       "<p>5 rows × 21 columns</p>\n",
       "</div>"
      ],
      "text/plain": [
       "                                              Country  \\\n",
       "University name                                         \n",
       "Massachusetts Institute of Technology   United States   \n",
       "Stanford University                     United States   \n",
       "Harvard University                      United States   \n",
       "California Institute of Technology      United States   \n",
       "University of Cambridge                United Kingdom   \n",
       "\n",
       "                                       International faculty member  \\\n",
       "University name                                                       \n",
       "Massachusetts Institute of Technology                        1679.0   \n",
       "Stanford University                                          2042.0   \n",
       "Harvard University                                           1311.0   \n",
       "California Institute of Technology                            350.0   \n",
       "University of Cambridge                                      2278.0   \n",
       "\n",
       "                                       International student_QS Rank_QS  \\\n",
       "University name                                                           \n",
       "Massachusetts Institute of Technology                    3717.0       1   \n",
       "Stanford University                                      3611.0       2   \n",
       "Harvard University                                       5266.0       3   \n",
       "California Institute of Technology                        647.0       4   \n",
       "University of Cambridge                                  6699.0       5   \n",
       "\n",
       "                                              Region  Total faculty member_QS  \\\n",
       "University name                                                                 \n",
       "Massachusetts Institute of Technology  North America                   2982.0   \n",
       "Stanford University                    North America                   4285.0   \n",
       "Harvard University                     North America                   4350.0   \n",
       "California Institute of Technology     North America                    953.0   \n",
       "University of Cambridge                       Europe                   5490.0   \n",
       "\n",
       "                                       Total student_QS  \\\n",
       "University name                                           \n",
       "Massachusetts Institute of Technology           11067.0   \n",
       "Stanford University                             15878.0   \n",
       "Harvard University                              22429.0   \n",
       "California Institute of Technology               2255.0   \n",
       "University of Cambridge                         18770.0   \n",
       "\n",
       "                                       Faculty/students ratio_QS  \\\n",
       "University name                                                    \n",
       "Massachusetts Institute of Technology                   0.269450   \n",
       "Stanford University                                     0.269870   \n",
       "Harvard University                                      0.193945   \n",
       "California Institute of Technology                      0.422616   \n",
       "University of Cambridge                                 0.292488   \n",
       "\n",
       "                                       Intern/student ratio_QS  \\\n",
       "University name                                                  \n",
       "Massachusetts Institute of Technology                 0.335863   \n",
       "Stanford University                                   0.227422   \n",
       "Harvard University                                    0.234785   \n",
       "California Institute of Technology                    0.286918   \n",
       "University of Cambridge                               0.356899   \n",
       "\n",
       "                                       International student_TM   ...    \\\n",
       "University name                                                   ...     \n",
       "Massachusetts Institute of Technology                    3800.0   ...     \n",
       "Stanford University                                      3486.0   ...     \n",
       "Harvard University                                       5285.0   ...     \n",
       "California Institute of Technology                        596.0   ...     \n",
       "University of Cambridge                                  6436.0   ...     \n",
       "\n",
       "                                      Total faculty member_TM  \\\n",
       "University name                                                 \n",
       "Massachusetts Institute of Technology                  1285.0   \n",
       "Stanford University                                    2113.0   \n",
       "Harvard University                                     2284.0   \n",
       "California Institute of Technology                      340.0   \n",
       "University of Cambridge                                1687.0   \n",
       "\n",
       "                                       Total student_TM  \\\n",
       "University name                                           \n",
       "Massachusetts Institute of Technology           11177.0   \n",
       "Stanford University                             15845.0   \n",
       "Harvard University                              20326.0   \n",
       "California Institute of Technology               2209.0   \n",
       "University of Cambridge                         18389.0   \n",
       "\n",
       "                                       Intern/student ratio_TM  \\\n",
       "University name                                                  \n",
       "Massachusetts Institute of Technology                 0.339984   \n",
       "Stanford University                                   0.220006   \n",
       "Harvard University                                    0.260012   \n",
       "California Institute of Technology                    0.269805   \n",
       "University of Cambridge                               0.349992   \n",
       "\n",
       "                                       Faculty/students ratio_TM  \\\n",
       "University name                                                    \n",
       "Massachusetts Institute of Technology                   0.114968   \n",
       "Stanford University                                     0.133354   \n",
       "Harvard University                                      0.112368   \n",
       "California Institute of Technology                      0.153916   \n",
       "University of Cambridge                                 0.091740   \n",
       "\n",
       "                                       Total student  International student  \\\n",
       "University name                                                               \n",
       "Massachusetts Institute of Technology        11122.0                 3758.5   \n",
       "Stanford University                          15861.5                 3548.5   \n",
       "Harvard University                           21377.5                 5275.5   \n",
       "California Institute of Technology            2232.0                  621.5   \n",
       "University of Cambridge                      18579.5                 6567.5   \n",
       "\n",
       "                                       Total faculty member  \\\n",
       "University name                                               \n",
       "Massachusetts Institute of Technology                2133.5   \n",
       "Stanford University                                  3199.0   \n",
       "Harvard University                                   3317.0   \n",
       "California Institute of Technology                    646.5   \n",
       "University of Cambridge                              3588.5   \n",
       "\n",
       "                                       Faculty/students ratio  \\\n",
       "University name                                                 \n",
       "Massachusetts Institute of Technology                0.192209   \n",
       "Stanford University                                  0.201612   \n",
       "Harvard University                                   0.153157   \n",
       "California Institute of Technology                   0.288266   \n",
       "University of Cambridge                              0.192114   \n",
       "\n",
       "                                       Intern/student ratio    Size  \n",
       "University name                                                      \n",
       "Massachusetts Institute of Technology              0.337924  Medium  \n",
       "Stanford University                                0.223714   Large  \n",
       "Harvard University                                 0.247399   Large  \n",
       "California Institute of Technology                 0.278362   Small  \n",
       "University of Cambridge                            0.353446   Large  \n",
       "\n",
       "[5 rows x 21 columns]"
      ]
     },
     "execution_count": 99,
     "metadata": {},
     "output_type": "execute_result"
    }
   ],
   "source": [
    "merged_ranking_df.head()"
   ]
  },
  {
   "cell_type": "markdown",
   "metadata": {},
   "source": [
    "It is interesting to see how the top universities are distributed among the continents. Nearly half of these top universities are in Europe, and around one fourth of them are in North America."
   ]
  },
  {
   "cell_type": "code",
   "execution_count": 100,
   "metadata": {},
   "outputs": [
    {
     "data": {
      "image/png": "[encoded data removed]",
      "text/plain": [
       "<matplotlib.figure.Figure at 0x7f4d33866550>"
      ]
     },
     "metadata": {},
     "output_type": "display_data"
    }
   ],
   "source": [
    "merged_ranking_df['Region'].value_counts().plot(kind='pie', autopct='%1.1f%%')\n",
    "plt.axis('equal')\n",
    "plt.show()"
   ]
  },
  {
   "cell_type": "markdown",
   "metadata": {},
   "source": [
    "When we look at the proportions of top universities according to their size, it is interesting to see that over 80% of them have more than 30,000 students - and out of these, 30% are considered to be very large."
   ]
  },
  {
   "cell_type": "code",
   "execution_count": 101,
   "metadata": {},
   "outputs": [
    {
     "data": {
      "image/png": "[encoded data removed]",
      "text/plain": [
       "<matplotlib.figure.Figure at 0x7f4d29761390>"
      ]
     },
     "metadata": {},
     "output_type": "display_data"
    }
   ],
   "source": [
    "merged_ranking_df['Size'].value_counts().plot(kind='pie', autopct='%1.1f%%')\n",
    "plt.axis('equal')\n",
    "plt.show()"
   ]
  },
  {
   "cell_type": "markdown",
   "metadata": {},
   "source": [
    "With the following boxplots we want to identify outliers within each region, and see if there is a difference in the ratio depending on the region of the university. "
   ]
  },
  {
   "cell_type": "code",
   "execution_count": 102,
   "metadata": {},
   "outputs": [
    {
     "data": {
      "image/png": "[encoded data removed]",
      "text/plain": [
       "<matplotlib.figure.Figure at 0x7f4d29727390>"
      ]
     },
     "metadata": {},
     "output_type": "display_data"
    }
   ],
   "source": [
    "sns.boxplot(x='Region', y='Faculty/students ratio', data=merged_ranking_df);"
   ]
  },
  {
   "cell_type": "code",
   "execution_count": 103,
   "metadata": {},
   "outputs": [
    {
     "data": {
      "image/png": "[encoded data removed]",
      "text/plain": [
       "<matplotlib.figure.Figure at 0x7f4d29554160>"
      ]
     },
     "metadata": {},
     "output_type": "display_data"
    }
   ],
   "source": [
    "sns.boxplot(x='Region', y='Intern/student ratio_QS', data=merged_ranking_df);"
   ]
  },
  {
   "cell_type": "code",
   "execution_count": 104,
   "metadata": {},
   "outputs": [
    {
     "data": {
      "image/png": "[encoded data removed]",
      "text/plain": [
       "<matplotlib.figure.Figure at 0x7f4d296f90b8>"
      ]
     },
     "metadata": {},
     "output_type": "display_data"
    }
   ],
   "source": [
    "sns.boxplot(x='Size', y='Faculty/students ratio', data=merged_ranking_df);"
   ]
  },
  {
   "cell_type": "code",
   "execution_count": 105,
   "metadata": {},
   "outputs": [
    {
     "data": {
      "image/png": "[encoded data removed]",
      "text/plain": [
       "<matplotlib.figure.Figure at 0x7f4d293271d0>"
      ]
     },
     "metadata": {},
     "output_type": "display_data"
    }
   ],
   "source": [
    "sns.boxplot(x='Size', y='Intern/student ratio_QS', data=merged_ranking_df);"
   ]
  },
  {
   "cell_type": "markdown",
   "metadata": {},
   "source": [
    "Now, classify universities in [2,3,4] groups depending on their internationality ratio, and plot different numbers of students, number of staff, and faculty/student ratio to see if there's any correlation (?).\n",
    "\n",
    "TODO: The upcoming code is shitty, I just wanted to check the plots."
   ]
  },
  {
   "cell_type": "code",
   "execution_count": 162,
   "metadata": {},
   "outputs": [],
   "source": [
    "median_internationality = merged_ranking_df['Intern/student ratio_QS'].median()\n",
    "merged_ranking_df['Internationality2'] = merged_ranking_df['Intern/student ratio_QS'].apply(lambda x: 'International' if x>median_internationality else 'Not international')\n",
    "\n",
    "quantiles_int = merged_ranking_df['Intern/student ratio_QS'].quantile([.33, .66])\n",
    "merged_ranking_df['Internationality3'] = merged_ranking_df['Intern/student ratio_QS'].apply(lambda x: 'Not international' if x<quantiles_int[.33] else 'International' if x<quantiles_int[.66] else 'Very international')\n",
    "\n",
    "quantiles_int = merged_ranking_df['Intern/student ratio_QS'].quantile([.25, .5, .75])\n",
    "merged_ranking_df['Internationality4'] = merged_ranking_df['Intern/student ratio_QS'].apply(lambda x: 'Not' if x<quantiles_int[.25] else 'A bit' if x<quantiles_int[.5] else 'Quite' if x<quantiles_int[.75] else 'Very')"
   ]
  },
  {
   "cell_type": "code",
   "execution_count": 163,
   "metadata": {},
   "outputs": [
    {
     "data": {
      "image/png": "[encoded data removed]",
      "text/plain": [
       "<matplotlib.figure.Figure at 0x7f4d2214e9b0>"
      ]
     },
     "metadata": {},
     "output_type": "display_data"
    }
   ],
   "source": [
    "sns.boxplot(x='Total student', y='Internationality2', data=merged_ranking_df);"
   ]
  },
  {
   "cell_type": "code",
   "execution_count": 164,
   "metadata": {},
   "outputs": [
    {
     "data": {
      "image/png": "[encoded data removed]",
      "text/plain": [
       "<matplotlib.figure.Figure at 0x7f4d222fd7f0>"
      ]
     },
     "metadata": {},
     "output_type": "display_data"
    }
   ],
   "source": [
    "sns.boxplot(x='Total student', y='Internationality3', data=merged_ranking_df);"
   ]
  },
  {
   "cell_type": "code",
   "execution_count": 165,
   "metadata": {},
   "outputs": [
    {
     "data": {
      "image/png": "[encoded data removed]",
      "text/plain": [
       "<matplotlib.figure.Figure at 0x7f4d223adc18>"
      ]
     },
     "metadata": {},
     "output_type": "display_data"
    }
   ],
   "source": [
    "sns.boxplot(x='Total student', y='Internationality4', data=merged_ranking_df);"
   ]
  },
  {
   "cell_type": "code",
   "execution_count": 166,
   "metadata": {},
   "outputs": [
    {
     "data": {
      "image/png": "[encoded data removed]",
      "text/plain": [
       "<matplotlib.figure.Figure at 0x7f4d234ac400>"
      ]
     },
     "metadata": {},
     "output_type": "display_data"
    }
   ],
   "source": [
    "sns.boxplot(x='Total faculty member', y='Internationality2', data=merged_ranking_df);"
   ]
  },
  {
   "cell_type": "code",
   "execution_count": 167,
   "metadata": {},
   "outputs": [
    {
     "data": {
      "image/png": "[encoded data removed]",
      "text/plain": [
       "<matplotlib.figure.Figure at 0x7f4d22925a20>"
      ]
     },
     "metadata": {},
     "output_type": "display_data"
    }
   ],
   "source": [
    "sns.boxplot(x='Total faculty member', y='Internationality3', data=merged_ranking_df);"
   ]
  },
  {
   "cell_type": "code",
   "execution_count": 168,
   "metadata": {},
   "outputs": [
    {
     "data": {
      "image/png": "[encoded data removed]",
      "text/plain": [
       "<matplotlib.figure.Figure at 0x7f4d294b5cc0>"
      ]
     },
     "metadata": {},
     "output_type": "display_data"
    }
   ],
   "source": [
    "sns.boxplot(x='Total faculty member', y='Internationality4', data=merged_ranking_df);"
   ]
  },
  {
   "cell_type": "code",
   "execution_count": 169,
   "metadata": {},
   "outputs": [
    {
     "data": {
      "image/png": "[encoded data removed]",
      "text/plain": [
       "<matplotlib.figure.Figure at 0x7f4d222ad4e0>"
      ]
     },
     "metadata": {},
     "output_type": "display_data"
    }
   ],
   "source": [
    "sns.boxplot(x='Faculty/students ratio', y='Internationality2', data=merged_ranking_df);"
   ]
  },
  {
   "cell_type": "code",
   "execution_count": 170,
   "metadata": {},
   "outputs": [
    {
     "data": {
      "image/png": "[encoded data removed]",
      "text/plain": [
       "<matplotlib.figure.Figure at 0x7f4d22acd048>"
      ]
     },
     "metadata": {},
     "output_type": "display_data"
    }
   ],
   "source": [
    "sns.boxplot(x='Faculty/students ratio', y='Internationality3', data=merged_ranking_df);"
   ]
  },
  {
   "cell_type": "code",
   "execution_count": 171,
   "metadata": {},
   "outputs": [
    {
     "data": {
      "image/png": "[encoded data removed]",
      "text/plain": [
       "<matplotlib.figure.Figure at 0x7f4d22b97be0>"
      ]
     },
     "metadata": {},
     "output_type": "display_data"
    }
   ],
   "source": [
    "sns.boxplot(x='Faculty/students ratio', y='Internationality4', data=merged_ranking_df);"
   ]
  },
  {
   "cell_type": "code",
   "execution_count": 172,
   "metadata": {},
   "outputs": [
    {
     "data": {
      "text/html": [
       "<div>\n",
       "<style>\n",
       "    .dataframe thead tr:only-child th {\n",
       "        text-align: right;\n",
       "    }\n",
       "\n",
       "    .dataframe thead th {\n",
       "        text-align: left;\n",
       "    }\n",
       "\n",
       "    .dataframe tbody tr th {\n",
       "        vertical-align: top;\n",
       "    }\n",
       "</style>\n",
       "<table border=\"1\" class=\"dataframe\">\n",
       "  <thead>\n",
       "    <tr style=\"text-align: right;\">\n",
       "      <th></th>\n",
       "      <th>Total student</th>\n",
       "      <th>International student</th>\n",
       "      <th>Total faculty member</th>\n",
       "      <th>Faculty/students ratio</th>\n",
       "      <th>Intern/student ratio</th>\n",
       "    </tr>\n",
       "  </thead>\n",
       "  <tbody>\n",
       "    <tr>\n",
       "      <th>Total student</th>\n",
       "      <td>1.000000</td>\n",
       "      <td>0.556329</td>\n",
       "      <td>0.732683</td>\n",
       "      <td>-0.243089</td>\n",
       "      <td>-0.188662</td>\n",
       "    </tr>\n",
       "    <tr>\n",
       "      <th>International student</th>\n",
       "      <td>0.556329</td>\n",
       "      <td>1.000000</td>\n",
       "      <td>0.399878</td>\n",
       "      <td>-0.171513</td>\n",
       "      <td>0.530306</td>\n",
       "    </tr>\n",
       "    <tr>\n",
       "      <th>Total faculty member</th>\n",
       "      <td>0.732683</td>\n",
       "      <td>0.399878</td>\n",
       "      <td>1.000000</td>\n",
       "      <td>0.319262</td>\n",
       "      <td>-0.119657</td>\n",
       "    </tr>\n",
       "    <tr>\n",
       "      <th>Faculty/students ratio</th>\n",
       "      <td>-0.243089</td>\n",
       "      <td>-0.171513</td>\n",
       "      <td>0.319262</td>\n",
       "      <td>1.000000</td>\n",
       "      <td>0.122135</td>\n",
       "    </tr>\n",
       "    <tr>\n",
       "      <th>Intern/student ratio</th>\n",
       "      <td>-0.188662</td>\n",
       "      <td>0.530306</td>\n",
       "      <td>-0.119657</td>\n",
       "      <td>0.122135</td>\n",
       "      <td>1.000000</td>\n",
       "    </tr>\n",
       "  </tbody>\n",
       "</table>\n",
       "</div>"
      ],
      "text/plain": [
       "                        Total student  International student  \\\n",
       "Total student                1.000000               0.556329   \n",
       "International student        0.556329               1.000000   \n",
       "Total faculty member         0.732683               0.399878   \n",
       "Faculty/students ratio      -0.243089              -0.171513   \n",
       "Intern/student ratio        -0.188662               0.530306   \n",
       "\n",
       "                        Total faculty member  Faculty/students ratio  \\\n",
       "Total student                       0.732683               -0.243089   \n",
       "International student               0.399878               -0.171513   \n",
       "Total faculty member                1.000000                0.319262   \n",
       "Faculty/students ratio              0.319262                1.000000   \n",
       "Intern/student ratio               -0.119657                0.122135   \n",
       "\n",
       "                        Intern/student ratio  \n",
       "Total student                      -0.188662  \n",
       "International student               0.530306  \n",
       "Total faculty member               -0.119657  \n",
       "Faculty/students ratio              0.122135  \n",
       "Intern/student ratio                1.000000  "
      ]
     },
     "execution_count": 172,
     "metadata": {},
     "output_type": "execute_result"
    }
   ],
   "source": [
    "merged_ranking_df[['Rank_QS', 'Rank_TM', 'Region', 'Total student', 'International student', 'Total faculty member', 'Faculty/students ratio', 'Intern/student ratio']].corr()"
   ]
  },
  {
   "cell_type": "code",
   "execution_count": 173,
   "metadata": {},
   "outputs": [
    {
     "data": {
      "text/plain": [
       "<matplotlib.image.AxesImage at 0x7f4d21f9c0f0>"
      ]
     },
     "execution_count": 173,
     "metadata": {},
     "output_type": "execute_result"
    },
    {
     "data": {
      "image/png": "[encoded data removed]",
      "text/plain": [
       "<matplotlib.figure.Figure at 0x7f4d223c1a20>"
      ]
     },
     "metadata": {},
     "output_type": "display_data"
    }
   ],
   "source": [
    "#plt.matshow(merged_ranking_df[['International faculty member', 'Rank_QS', 'Region', 'Rank_TM', 'Total student', 'International student', 'Total faculty member', 'Faculty/students ratio', 'Intern/student ratio']].corr())\n",
    "plt.matshow(merged_ranking_df[['Rank_QS', 'Rank_TM', 'Region', 'Total student', 'International student', 'Total faculty member', 'Faculty/students ratio', 'Intern/student ratio']].corr())"
   ]
  },
  {
   "cell_type": "markdown",
   "metadata": {},
   "source": [
    "Summary of this last part and TODOs:\n",
    "* We might want to get a numeric ranking, so that we can check the correlation between the positions in the rankings and the other variables. This could be achieved by saving the order of the rows as the rank in the parsing.\n",
    "* I don't know what to do with the NaNs. Maybe the best thing is to ignore those with masks, or try to guess them from similar universities (would be more difficult though). As long as we're ignoring them, I think we should be able to plot everything else without them.\n",
    "* I couldn't conclude important things from the boxplots, at least nothing (IMO) that we can use for Task 5. Bear in mind that we had `-1` all over the place..."
   ]
  },
  {
   "cell_type": "code",
   "execution_count": null,
   "metadata": {},
   "outputs": [],
   "source": []
  }
 ],
 "metadata": {
  "kernelspec": {
   "display_name": "Python [default]",
   "language": "python",
   "name": "python3"
  },
  "language_info": {
   "codemirror_mode": {
    "name": "ipython",
    "version": 3
   },
   "file_extension": ".py",
   "mimetype": "text/x-python",
   "name": "python",
   "nbconvert_exporter": "python",
   "pygments_lexer": "ipython3",
   "version": "3.6.1"
  }
 },
 "nbformat": 4,
 "nbformat_minor": 2
}
