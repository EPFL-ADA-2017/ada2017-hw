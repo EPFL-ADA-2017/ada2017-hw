{
 "cells": [
  {
   "cell_type": "markdown",
   "metadata": {},
   "source": [
    "# 02 - Data from the Web"
   ]
  },
  {
   "cell_type": "markdown",
   "metadata": {},
   "source": [
    "In this homework we will extract interesting information from www.topuniversities.com and www.timeshighereducation.com, two platforms that maintain a global ranking of worldwide universities. This ranking is not offered as a downloadable dataset, so you will have to find a way to scrape the information we need! You are not allowed to download manually the entire ranking -- rather you have to understand how the server loads it in your browser. For this task, Postman with the Interceptor extension can help you greatly. We recommend that you watch this brief tutorial to understand quickly how to use it."
   ]
  },
  {
   "cell_type": "markdown",
   "metadata": {},
   "source": [
    "* [Task 1 - Scrape the QS ranking](#Task-1---Scrape-the-QS-ranking)\n",
    "    * [Best universities for ratio between faculty memebers and students](#Which-are-the-best-universities-in-term-of-ratio-between-faculty-members-and-students-according-to-QS?)\n",
    "    * [Best universities for the international students ratio](#Which-are-the-best-universities-in-term-of-ratio-of-international-students-according-to-QS?)\n",
    "    * [Results by region](#Plot-the-results-from-QS-ranking-aggregating-by-region)\n",
    "    * [Results by country](#Plot-the-results-from-QS-ranking-aggregating-by-country)\n",
    "\n",
    "\n",
    "* [Task 2 - Scrape the Times ranking](#Task-2---Scrape-the-Times-ranking)\n",
    "    * [Best universities for ratio between faculty memebers and students](#Which-are-the-best-universities-in-term-of-ratio-between-faculty-members-and-students-according-to-Times?)\n",
    "    * [Best universities for the international students ratio](#Which-are-the-best-universities-in-term-of-ratio-of-international-students-according-to-Times?)\n",
    "    * [Results by region](#Plot-the-results-from-Times-ranking-aggregating-by-region)\n",
    "    * [Results by country](#Plot-the-results-from-Times-ranking-aggregating-by-country)\n",
    "    \n",
    "    \n",
    "* [Task 3 - Merge the dataframes](#Task-3---Merge-the-dataframes)\n",
    "\n",
    "\n",
    "* [Task 4 - Exploratory analysis](#Task-4---Exploratory-analysis)\n",
    "\n",
    "\n",
    "* [Task 5 - Exploratory analysis](#Task-5--)"
   ]
  },
  {
   "cell_type": "markdown",
   "metadata": {},
   "source": [
    "# Imports"
   ]
  },
  {
   "cell_type": "code",
   "execution_count": null,
   "metadata": {
    "collapsed": true,
    "scrolled": true
   },
   "outputs": [],
   "source": [
    "# Import libraries\n",
    "import string\n",
    "import re\n",
    "import pickle\n",
    "import requests\n",
    "from bs4 import BeautifulSoup\n",
    "import pandas as pd\n",
    "import seaborn as sns\n",
    "import matplotlib.pyplot as plt\n",
    "pd.options.mode.chained_assignment = None\n",
    "\n",
    "%matplotlib inline"
   ]
  },
  {
   "cell_type": "markdown",
   "metadata": {},
   "source": [
    "# Constans definition"
   ]
  },
  {
   "cell_type": "code",
   "execution_count": null,
   "metadata": {
    "collapsed": true
   },
   "outputs": [],
   "source": [
    "COLUMN_RANK = 'Rank'\n",
    "COLUMN_UNIVERSITY_NAME = 'University Name'\n",
    "COLUMN_REGION = 'Region'\n",
    "COLUMN_COUNTRY = 'Country'\n",
    "COLUMN_TOTAL_STUDENTS = 'Total Students'\n",
    "COLUMN_INTERNATIONAL_STUDENTS = 'Total International Students'\n",
    "COLUMN_TOTAL_FACULTY = 'Total Faculty'\n",
    "COLUMN_INTERNATIONAL_FACULTY = 'Total International Faculty'\n",
    "COLUMN_INTERNATIONAL_RATIO = 'Total International Students / Total Students'\n",
    "COLUMN_FACULTY_RATIO = 'Total Faculty / Total Student'"
   ]
  },
  {
   "cell_type": "code",
   "execution_count": null,
   "metadata": {
    "collapsed": true,
    "scrolled": true
   },
   "outputs": [],
   "source": [
    "QS_RANKING_JSON = 'https://www.topuniversities.com/sites/default/files/qs-rankings-data/357051.txt?_=1508104120137'\n",
    "TIMES_RANKING_JSON = 'https://www.timeshighereducation.com/sites/default/files/the_data_rankings/world_university_rankings_2018_limit0_369a9045a203e176392b9fb8f8c1cb2a.json'"
   ]
  },
  {
   "cell_type": "code",
   "execution_count": null,
   "metadata": {
    "collapsed": true
   },
   "outputs": [],
   "source": [
    "SEARCH_REFERENCE_API = 'https://en.wikipedia.org/w/api.php?action=query&titles={0}&prop=revisions&rvprop=content&format=json&indexpageids'"
   ]
  },
  {
   "cell_type": "markdown",
   "metadata": {},
   "source": [
    "During the very first scraping, we build a table that links a country to a specific region. This information is available in the QS ranking and will be used to fill the Times dataframe.\n",
    "\n",
    "Once the first scraping is done, the table (along with the two rankings) are serialized in local for future runs"
   ]
  },
  {
   "cell_type": "code",
   "execution_count": null,
   "metadata": {
    "collapsed": true
   },
   "outputs": [],
   "source": [
    "try:\n",
    "    COUNTRY_REGION_METADATA = pd.read_pickle('serial/country_region_metadata.p')\n",
    "except (OSError, IOError) as e:\n",
    "    COUNTRY_REGION_METADATA = pd.DataFrame(columns=[COLUMN_REGION])\n",
    "    COUNTRY_REGION_METADATA.to_pickle('serial/country_region_metadata.p')"
   ]
  },
  {
   "cell_type": "code",
   "execution_count": null,
   "metadata": {},
   "outputs": [],
   "source": [
    "COUNTRY_REGION_METADATA"
   ]
  },
  {
   "cell_type": "markdown",
   "metadata": {},
   "source": [
    "# General use functions definition"
   ]
  },
  {
   "cell_type": "code",
   "execution_count": null,
   "metadata": {
    "collapsed": true,
    "scrolled": true
   },
   "outputs": [],
   "source": [
    "def build_html_parser(url):\n",
    "    '''\n",
    "    Function to build a parser object of type BeautifulSoup\n",
    "    \n",
    "    url -- the webpage url to which send a get request to\n",
    "    \n",
    "    return a parser of the given webpage\n",
    "    '''\n",
    "    \n",
    "    r = requests.get(url)\n",
    "    page_body = r.text\n",
    "    \n",
    "    soup = BeautifulSoup(page_body, 'html.parser')\n",
    "    \n",
    "    return soup"
   ]
  },
  {
   "cell_type": "code",
   "execution_count": null,
   "metadata": {
    "collapsed": true
   },
   "outputs": [],
   "source": [
    "def clean_str_number(str_n):\n",
    "    '''\n",
    "    Obtain a a string that only contains the numeric information, \n",
    "    dropping any formatting character\n",
    "    \n",
    "    str_n -- a string containg both numeric and formatting characters\n",
    "    \n",
    "    return a string only with numeric characters\n",
    "    '''\n",
    "    \n",
    "    return str_n.strip('\\n').strip('%').replace(',', '')"
   ]
  },
  {
   "cell_type": "code",
   "execution_count": null,
   "metadata": {
    "collapsed": true
   },
   "outputs": [],
   "source": [
    "def search_standard_name(str_name):\n",
    "    '''\n",
    "    Given a name, query the WikiData database to obtain the information formatted their way.\n",
    "    The function takes care of cleaning up the string in order to facilitate\n",
    "    the research process\n",
    "    \n",
    "    str_name -- the query to search in the WikiData\n",
    "    \n",
    "    return the WikiData formatted entry of the query value if found,\n",
    "    the cleaned up version of the passed value otherwise\n",
    "    '''\n",
    "    \n",
    "    str_name = str_name.split(\" - \")[0] # Manage name with - (short)\n",
    "    str_name = str_name.split(\" – \")[0] # Manage name with – (long)\n",
    "    str_name = re.sub('\\(.*?\\)','', str_name) # no brackets\n",
    "    str_name = str_name.strip().replace('&', '%26')\n",
    "    \n",
    "    #r = requests.get(SEARCH_REFERENCE_API.format(str_name.strip().replace(' ', '%20')))\n",
    "    r = requests.get(SEARCH_REFERENCE_API.format(str_name.strip().replace(' ', '_')))\n",
    "    data = r.json()\n",
    "    \n",
    "    page_id = data['query']['pageids'][0]\n",
    "    \n",
    "    if (page_id == '-1'):\n",
    "        print('Not found :( -> {}'.format(str_name))\n",
    "        \n",
    "        # Manually set a standard name for the only unmatchable university. \n",
    "        # We have a total of 9 unknown sources during the WikiData requests, but only one university appears twice\n",
    "        # and it need to receive a standard name to be merged later on. The other onces could keep their name\n",
    "        if (str_name == \"Scuola Superiore Sant'Anna Pisa di Studi Universitari e di Perfezionamento\"):\n",
    "            found_name = \"Scuola Superiore Sant’Anna\"\n",
    "        else:\n",
    "            found_name = str_name\n",
    "    else:\n",
    "        found_name = data['query']['pages'][page_id]['title']\n",
    "        \n",
    "    return(found_name)"
   ]
  },
  {
   "cell_type": "code",
   "execution_count": null,
   "metadata": {
    "collapsed": true
   },
   "outputs": [],
   "source": [
    "def update_country_region_metadata(country, region):\n",
    "    '''\n",
    "    Build a new entry for the global dataframe that correlates regions and countries.\n",
    "    \n",
    "    country -- the country to add\n",
    "    region -- the region to add\n",
    "    '''\n",
    "    \n",
    "    global COUNTRY_REGION_METADATA\n",
    "    \n",
    "    if (country in COUNTRY_REGION_METADATA.index):\n",
    "        return\n",
    "    \n",
    "    new_row = pd.Series(region, index=[COLUMN_REGION])\n",
    "    new_row.name = country\n",
    "    \n",
    "    COUNTRY_REGION_METADATA = COUNTRY_REGION_METADATA.append(new_row)"
   ]
  },
  {
   "cell_type": "markdown",
   "metadata": {},
   "source": [
    "## Task 1 - Scrape the QS ranking\n",
    "Obtain the 200 top-ranking universities in www.topuniversities.com (ranking 2018)"
   ]
  },
  {
   "cell_type": "code",
   "execution_count": null,
   "metadata": {
    "collapsed": true,
    "scrolled": true
   },
   "outputs": [],
   "source": [
    "# TODO: Handled the returning value for data not found. \n",
    "# Atm I return a -1, but this fucks up the plotting and computation for the ratios\n",
    "\n",
    "def parse_detail_page(url_detail):\n",
    "    '''\n",
    "    Function that parses the missing informations from the detail page of the university from the QS website\n",
    "    \n",
    "    url_detail -- the url of the detail page to scrape\n",
    "    \n",
    "    Return a dictionary with all the data found as integers values\n",
    "    '''\n",
    "    \n",
    "    # Build a parser for the detail page\n",
    "    soup = build_html_parser(url_detail)\n",
    "    \n",
    "    # Obtain and clean up the total faculty member value\n",
    "    try:\n",
    "        faculty_member_total = soup.find('div', class_='total faculty').find('div', class_='number').text\n",
    "        faculty_member_total = clean_str_number(faculty_member_total)\n",
    "    except:\n",
    "        faculty_member_total = -1\n",
    "    \n",
    "    \n",
    "    # Obtain and clean up the international faculty member value\n",
    "    try:\n",
    "        faculty_member_inter = soup.find('div', class_='inter faculty').find('div', class_='number').text.strip('\\n')\n",
    "        faculty_member_inter = clean_str_number(faculty_member_inter)\n",
    "    except:\n",
    "        faculty_member_inter = -1\n",
    "    \n",
    "    # Obtain and clean up the total students value\n",
    "    try:\n",
    "        student_total = soup.find('div', class_='total student').find('div', class_='number').text.strip('\\n')\n",
    "        student_total = clean_str_number(student_total)\n",
    "    except:\n",
    "        student_total = -1\n",
    "    \n",
    "    # Obtain and clean up the international students value\n",
    "    try:\n",
    "        student_inter = soup.find('div', class_='total inter').find('div', class_='number').text.strip('\\n')\n",
    "        student_inter = clean_str_number(student_inter)\n",
    "    except:\n",
    "        student_inter = -1\n",
    "    \n",
    "    # Build a dictionary for the parsed informations\n",
    "    detail_info = {COLUMN_TOTAL_FACULTY : int(faculty_member_total), \n",
    "                   COLUMN_INTERNATIONAL_FACULTY : int(faculty_member_inter), \n",
    "                   COLUMN_TOTAL_STUDENTS : int(student_total), \n",
    "                   COLUMN_INTERNATIONAL_STUDENTS : int(student_inter)\n",
    "                  }\n",
    "    \n",
    "    return detail_info"
   ]
  },
  {
   "cell_type": "markdown",
   "metadata": {},
   "source": [
    "After some work on the Postman Inspector, we found out that the GET Request made to the QS website ended up with multiple attached files to go with the response. One of those files was a JSON with all the infos from the ranking."
   ]
  },
  {
   "cell_type": "code",
   "execution_count": null,
   "metadata": {
    "collapsed": true,
    "scrolled": true
   },
   "outputs": [],
   "source": [
    "req = requests.get(QS_RANKING_JSON)\n",
    "data_from_url = req.json()"
   ]
  },
  {
   "cell_type": "markdown",
   "metadata": {},
   "source": [
    "Such data is stored as a list of dictionaries, as visible in the example below:"
   ]
  },
  {
   "cell_type": "code",
   "execution_count": null,
   "metadata": {
    "scrolled": true
   },
   "outputs": [],
   "source": [
    "print('First cell:')\n",
    "print(data_from_url['data'][0], end='\\n\\n')\n",
    "\n",
    "print('Second cell:')\n",
    "print(data_from_url['data'][1], end='\\n\\n')\n",
    "\n",
    "print('...')"
   ]
  },
  {
   "cell_type": "code",
   "execution_count": null,
   "metadata": {
    "collapsed": true
   },
   "outputs": [],
   "source": [
    "def scrape_qs_ranking():\n",
    "    '''\n",
    "    Obtain the ranking from the top 200 of QS in a dataframe\n",
    "    \n",
    "    return the dataframe containing all the informations (main and detail page) of QS ranking\n",
    "    '''\n",
    "    \n",
    "    r = requests.get(QS_RANKING_JSON)\n",
    "    data = r.json()\n",
    "    \n",
    "    university_list = []\n",
    "\n",
    "    # Iterate throu the first 200 elments of the list\n",
    "    for i, d in enumerate(data['data'][:200]):\n",
    "    \n",
    "        # Store the parsed information into a dictionary ---- d['rank_display']\n",
    "        info = {COLUMN_RANK: (i+1), \n",
    "                COLUMN_UNIVERSITY_NAME: search_standard_name(d['title']), \n",
    "                COLUMN_COUNTRY: d['country'],\n",
    "                COLUMN_REGION : d['region']\n",
    "               }\n",
    "    \n",
    "        update_country_region_metadata(d['country'], d['region'])\n",
    "    \n",
    "        # Extend the dictionary with the informations in the detail page\n",
    "        url_detail = 'https://www.topuniversities.com' +  d['url']\n",
    "        info.update( parse_detail_page( url_detail))\n",
    "    \n",
    "        university_list.append(info)\n",
    "    \n",
    "    # After scraping data from QS ranking the metadata dataframe needs to be stored updated\n",
    "    COUNTRY_REGION_METADATA.to_pickle('serial/country_region_metadata.p')\n",
    "    \n",
    "    qs_ranking_df = pd.DataFrame.from_dict(university_list)\n",
    "    return qs_ranking_df"
   ]
  },
  {
   "cell_type": "code",
   "execution_count": null,
   "metadata": {
    "scrolled": false
   },
   "outputs": [],
   "source": [
    "try:\n",
    "    qs_ranking_df = pd.read_pickle('serial/qs_save.p')\n",
    "except (OSError, IOError) as e:\n",
    "    qs_ranking_df = scrape_qs_ranking()\n",
    "    qs_ranking_df.to_pickle('serial/qs_save.p')\n",
    "    \n",
    "qs_ranking_df.head()"
   ]
  },
  {
   "cell_type": "code",
   "execution_count": null,
   "metadata": {
    "collapsed": true,
    "scrolled": true
   },
   "outputs": [],
   "source": [
    "qs_ranking_df.set_index(COLUMN_UNIVERSITY_NAME, inplace=True)"
   ]
  },
  {
   "cell_type": "markdown",
   "metadata": {},
   "source": [
    "### Which are the best universities in term of ratio between faculty members and students according to QS?"
   ]
  },
  {
   "cell_type": "code",
   "execution_count": null,
   "metadata": {
    "scrolled": true
   },
   "outputs": [],
   "source": [
    "# Compute the ratio between faculty member and students\n",
    "qs_ranking_df[COLUMN_FACULTY_RATIO] = qs_ranking_df[COLUMN_TOTAL_FACULTY] / qs_ranking_df[COLUMN_TOTAL_STUDENTS]\n",
    "\n",
    "# Clean up the computation taking care of unknown values (previously set at -1)\n",
    "qs_fsratio_defined = (qs_ranking_df[COLUMN_TOTAL_FACULTY] != -1) | (qs_ranking_df[COLUMN_TOTAL_STUDENTS] != -1)\n",
    "qs_ranking_df.loc[~qs_fsratio_defined, COLUMN_FACULTY_RATIO] = -1\n",
    "\n",
    "# Define a dataset for the result computation\n",
    "qs_faculty_students_rank_df = qs_ranking_df[[COLUMN_COUNTRY, COLUMN_REGION, COLUMN_TOTAL_FACULTY, COLUMN_TOTAL_STUDENTS, COLUMN_FACULTY_RATIO]]\n",
    "qs_faculty_students_rank_df = qs_faculty_students_rank_df.sort_values(COLUMN_FACULTY_RATIO, ascending=False)\n",
    "\n",
    "qs_faculty_students_rank_df.head()"
   ]
  },
  {
   "cell_type": "code",
   "execution_count": null,
   "metadata": {},
   "outputs": [],
   "source": [
    "qs_faculty_students_rank_df[:10][COLUMN_FACULTY_RATIO].plot(kind='barh', figsize=(10,7), color='green')\n",
    "\n",
    "plt.title('Top 10 Universities according to ratio between faculty members and students')\n",
    "plt.ylabel(\"\")\n",
    "plt.xlabel('Faculty members - Total students ratio')\n",
    "plt.show()"
   ]
  },
  {
   "cell_type": "markdown",
   "metadata": {},
   "source": [
    "### Which are the best universities in term of ratio of international students according to QS?"
   ]
  },
  {
   "cell_type": "code",
   "execution_count": null,
   "metadata": {},
   "outputs": [],
   "source": [
    "# Compute the ratio of international students\n",
    "qs_ranking_df[COLUMN_INTERNATIONAL_RATIO] = qs_ranking_df[COLUMN_INTERNATIONAL_STUDENTS] / qs_ranking_df[COLUMN_TOTAL_STUDENTS]\n",
    "\n",
    "# Clean up the computation taking care of unknown values (previously set at -1)\n",
    "qs_isratio_defined = (qs_ranking_df[COLUMN_INTERNATIONAL_STUDENTS] != -1) | (qs_ranking_df[COLUMN_TOTAL_STUDENTS] != -1)\n",
    "qs_ranking_df.loc[~qs_isratio_defined, COLUMN_INTERNATIONAL_RATIO] = -1\n",
    "\n",
    "# Define a dataset for the result computation\n",
    "qs_international_students_rank_df = qs_ranking_df[[COLUMN_COUNTRY, COLUMN_REGION, COLUMN_INTERNATIONAL_STUDENTS, COLUMN_TOTAL_STUDENTS, COLUMN_INTERNATIONAL_RATIO]]\n",
    "qs_international_students_rank_df = qs_international_students_rank_df.sort_values(COLUMN_INTERNATIONAL_RATIO, ascending=False)\n",
    "\n",
    "qs_international_students_rank_df.head()"
   ]
  },
  {
   "cell_type": "code",
   "execution_count": null,
   "metadata": {},
   "outputs": [],
   "source": [
    "qs_international_students_rank_df[:10][COLUMN_INTERNATIONAL_RATIO].plot(kind='barh', figsize=(10,7))\n",
    "\n",
    "plt.title('Top 10 Universities according to the ratio of international students')\n",
    "plt.ylabel(\"\")\n",
    "plt.xlabel('International students ratio')\n",
    "plt.show()"
   ]
  },
  {
   "cell_type": "markdown",
   "metadata": {},
   "source": [
    "### Plot the results from QS ranking aggregating by region"
   ]
  },
  {
   "cell_type": "markdown",
   "metadata": {},
   "source": [
    "For the faculty to student ratio:"
   ]
  },
  {
   "cell_type": "code",
   "execution_count": null,
   "metadata": {},
   "outputs": [],
   "source": [
    "qs_facutly_student_ratio_by_region_df = qs_faculty_students_rank_df.groupby(COLUMN_REGION).head(1)\n",
    "qs_facutly_student_ratio_by_region_df[COLUMN_FACULTY_RATIO].plot(kind='barh',figsize=(10,7),  color='green')\n",
    "\n",
    "plt.title('Top University per region according to ratio between faculty members and students')\n",
    "plt.ylabel(\"\")\n",
    "plt.xlabel('Faculty members - Total students ratio')\n",
    "plt.show()"
   ]
  },
  {
   "cell_type": "markdown",
   "metadata": {},
   "source": [
    "For the international to total student ratio:"
   ]
  },
  {
   "cell_type": "code",
   "execution_count": null,
   "metadata": {},
   "outputs": [],
   "source": [
    "qs_international_students_ratio_by_region_df = qs_international_students_rank_df.groupby(COLUMN_REGION).head(1)\n",
    "qs_international_students_ratio_by_region_df[COLUMN_INTERNATIONAL_RATIO].plot(kind='barh', figsize=(10,7))\n",
    "\n",
    "plt.title('Top University per region according to ratio between faculty members and students')\n",
    "plt.ylabel(\"\")\n",
    "plt.xlabel('Faculty members - Total students ratio')\n",
    "plt.show()"
   ]
  },
  {
   "cell_type": "markdown",
   "metadata": {},
   "source": [
    "### Plot the results from QS ranking aggregating by country"
   ]
  },
  {
   "cell_type": "markdown",
   "metadata": {},
   "source": [
    "For the faculty to student ratio:"
   ]
  },
  {
   "cell_type": "code",
   "execution_count": null,
   "metadata": {},
   "outputs": [],
   "source": [
    "qs_facutly_student_ratio_by_country_df = qs_faculty_students_rank_df.groupby(COLUMN_COUNTRY).head(1)\n",
    "qs_facutly_student_ratio_by_country_df[COLUMN_FACULTY_RATIO].plot(kind='barh', figsize=(10,10), color='green')\n",
    "\n",
    "plt.title('Top University per country according to ratio between faculty members and students')\n",
    "plt.ylabel(\"\")\n",
    "plt.xlabel('Faculty members - Total students ratio')\n",
    "plt.show()"
   ]
  },
  {
   "cell_type": "markdown",
   "metadata": {},
   "source": [
    "For the international to total student ratio:"
   ]
  },
  {
   "cell_type": "code",
   "execution_count": null,
   "metadata": {},
   "outputs": [],
   "source": [
    "qs_international_students_ratio_by_country_df = qs_international_students_rank_df.groupby(COLUMN_COUNTRY).head(1)\n",
    "qs_international_students_ratio_by_country_df[COLUMN_INTERNATIONAL_RATIO].plot(kind='barh', figsize=(10, 10))\n",
    "\n",
    "plt.title('Top University per country according to the ratio of international students')\n",
    "plt.ylabel(\"\")\n",
    "plt.xlabel('International students ratio')\n",
    "plt.show()"
   ]
  },
  {
   "cell_type": "markdown",
   "metadata": {},
   "source": [
    "## Task 2 - Scrape the Times ranking\n",
    "Obtain the 200 top-ranking universities in www.timeshighereducation.com (ranking 2018). Repeat the analysis of the previous point and discuss briefly what you observed."
   ]
  },
  {
   "cell_type": "code",
   "execution_count": null,
   "metadata": {
    "collapsed": true
   },
   "outputs": [],
   "source": [
    "def compute_value_from_percentage(total, percentage):\n",
    "    '''\n",
    "    Function to compute the percentage of a given total\n",
    "    \n",
    "    total -- the value on which to calculate the percentage\n",
    "    percentage -- the percentage value\n",
    "    \n",
    "    return the calculated value\n",
    "    '''\n",
    "    \n",
    "    total = int( total )\n",
    "    percentage = float( percentage )\n",
    "    \n",
    "    return round( (total/100) * percentage )"
   ]
  },
  {
   "cell_type": "code",
   "execution_count": null,
   "metadata": {
    "collapsed": true
   },
   "outputs": [],
   "source": [
    "def compute_value_from_proportion(total, proportion):\n",
    "    '''\n",
    "    Function to compute the proportion of a given total\n",
    "    \n",
    "    total -- the value on which to calculate the percentage\n",
    "    proportion -- the proportion value\n",
    "    \n",
    "    return the calculated value\n",
    "    '''\n",
    "    \n",
    "    total = int( total )\n",
    "    proportion = float( proportion )\n",
    "    \n",
    "    return round( total / proportion )"
   ]
  },
  {
   "cell_type": "code",
   "execution_count": null,
   "metadata": {
    "collapsed": true,
    "scrolled": false
   },
   "outputs": [],
   "source": [
    "def scrape_times_ranking():\n",
    "    '''\n",
    "    Obtain the ranking from the top 200 of Times in a dataframe\n",
    "    \n",
    "    return the dataframe containing all the informations of Times ranking\n",
    "    '''\n",
    "\n",
    "    r = requests.get(TIMES_RANKING_JSON)\n",
    "    data = r.json()\n",
    "\n",
    "    university_list = []\n",
    "\n",
    "    # Iterate throu the first 200 elments of the list\n",
    "    for i, d in enumerate(data['data'][:200]):\n",
    "    \n",
    "        # Preliminary computations to extract data\n",
    "        intern_student = compute_value_from_percentage( clean_str_number( d['stats_number_students']), \n",
    "                                                       clean_str_number( d['stats_pc_intl_students'])\n",
    "                                                      )\n",
    "    \n",
    "        faculty_member_total = compute_value_from_proportion( clean_str_number( d['stats_number_students']), \n",
    "                                                             clean_str_number( d['stats_student_staff_ratio'])\n",
    "                                                            )\n",
    "        \n",
    "        # Determine region from the data of the QS ranking stored in the metadata\n",
    "        try:\n",
    "            region = COUNTRY_REGION_METADATA.get_value(d['location'], 'Region')\n",
    "        except:\n",
    "            region = 'NaN'\n",
    "    \n",
    "        # Store the parsed information into a dictionary\n",
    "        info = {COLUMN_RANK: (i+1), \n",
    "                COLUMN_UNIVERSITY_NAME: search_standard_name(d['name']), \n",
    "                COLUMN_COUNTRY: d['location'],\n",
    "                COLUMN_REGION : region,\n",
    "                COLUMN_TOTAL_STUDENTS : int(clean_str_number( d['stats_number_students'])),\n",
    "                COLUMN_INTERNATIONAL_STUDENTS : int(intern_student),\n",
    "                COLUMN_TOTAL_FACULTY : int(faculty_member_total)\n",
    "               }\n",
    "    \n",
    "        university_list.append(info)\n",
    "   \n",
    "    times_ranking_df = pd.DataFrame.from_dict(university_list)\n",
    "    return times_ranking_df"
   ]
  },
  {
   "cell_type": "code",
   "execution_count": null,
   "metadata": {},
   "outputs": [],
   "source": [
    "try:\n",
    "    times_ranking_df = pd.read_pickle('serial/times_save.p')\n",
    "except (OSError, IOError) as e:\n",
    "    times_ranking_df = scrape_times_ranking()\n",
    "    times_ranking_df.to_pickle('serial/times_save.p')\n",
    "    \n",
    "times_ranking_df.head()"
   ]
  },
  {
   "cell_type": "code",
   "execution_count": null,
   "metadata": {
    "collapsed": true
   },
   "outputs": [],
   "source": [
    "times_ranking_df.set_index(COLUMN_UNIVERSITY_NAME, inplace=True)"
   ]
  },
  {
   "cell_type": "markdown",
   "metadata": {},
   "source": [
    "Even after extrapolating the region information from the first dataset, we might have some missing data. Those will be manually handled to fix the table"
   ]
  },
  {
   "cell_type": "code",
   "execution_count": null,
   "metadata": {},
   "outputs": [],
   "source": [
    "times_ranking_df[times_ranking_df[COLUMN_REGION] == 'NaN']"
   ]
  },
  {
   "cell_type": "code",
   "execution_count": null,
   "metadata": {},
   "outputs": [],
   "source": [
    "# Manually fix the missing data\n",
    "times_ranking_df.set_value('University of Luxembourg', COLUMN_REGION, 'Europe')\n",
    "times_ranking_df.set_value('Lomonosov Moscow State University', COLUMN_REGION, 'Europe')\n",
    "\n",
    "# Check the new state\n",
    "times_ranking_df[times_ranking_df[COLUMN_COUNTRY] == 'Luxembourg']"
   ]
  },
  {
   "cell_type": "markdown",
   "metadata": {},
   "source": [
    "### Which are the best universities in term of ratio between faculty members and students according to Times?"
   ]
  },
  {
   "cell_type": "code",
   "execution_count": null,
   "metadata": {},
   "outputs": [],
   "source": [
    "# Compute the ratio between faculty member and students\n",
    "times_ranking_df[COLUMN_FACULTY_RATIO] = times_ranking_df[COLUMN_TOTAL_FACULTY] / times_ranking_df[COLUMN_TOTAL_STUDENTS]\n",
    "\n",
    "# Clean up the computation taking care of unknown values (previously set at -1)\n",
    "times_isratio_defined = (times_ranking_df[COLUMN_TOTAL_FACULTY] != -1) | (times_ranking_df[COLUMN_TOTAL_STUDENTS] != -1)\n",
    "times_ranking_df.loc[~times_isratio_defined, COLUMN_FACULTY_RATIO] = -1\n",
    "\n",
    "# Define a dataset for the result computation\n",
    "times_faculty_students_rank_df = times_ranking_df[[COLUMN_COUNTRY, COLUMN_REGION, COLUMN_TOTAL_FACULTY, COLUMN_TOTAL_STUDENTS, COLUMN_FACULTY_RATIO]]\n",
    "times_faculty_students_rank_df = times_faculty_students_rank_df.sort_values(COLUMN_FACULTY_RATIO, ascending=False)\n",
    "\n",
    "times_faculty_students_rank_df.head()"
   ]
  },
  {
   "cell_type": "code",
   "execution_count": null,
   "metadata": {},
   "outputs": [],
   "source": [
    "times_faculty_students_rank_df[:10][COLUMN_FACULTY_RATIO].plot(kind='barh', figsize=(10,7), color='green')\n",
    "\n",
    "plt.title('Top 10 Universities according to ratio between faculty members and students')\n",
    "plt.ylabel(\"\")\n",
    "plt.xlabel('Faculty members - Total students ratio')\n",
    "plt.show()"
   ]
  },
  {
   "cell_type": "markdown",
   "metadata": {},
   "source": [
    "### Which are the best universities in term of ratio of international students according to Times?"
   ]
  },
  {
   "cell_type": "code",
   "execution_count": null,
   "metadata": {},
   "outputs": [],
   "source": [
    "# Compute the ratio of international students\n",
    "times_ranking_df[COLUMN_INTERNATIONAL_RATIO] = times_ranking_df[COLUMN_INTERNATIONAL_STUDENTS] / times_ranking_df[COLUMN_TOTAL_STUDENTS]\n",
    "\n",
    "# Clean up the computation taking care of unknown values (previously set at -1)\n",
    "times_isratio_defined = (times_ranking_df[COLUMN_INTERNATIONAL_STUDENTS] != -1) | (times_ranking_df[COLUMN_TOTAL_STUDENTS] != -1)\n",
    "times_ranking_df.loc[~times_isratio_defined, COLUMN_INTERNATIONAL_RATIO] = -1\n",
    "\n",
    "# Define a dataset for the result computation\n",
    "times_international_students_rank_df = times_ranking_df[[COLUMN_COUNTRY, COLUMN_REGION, COLUMN_INTERNATIONAL_STUDENTS, COLUMN_TOTAL_STUDENTS, COLUMN_INTERNATIONAL_RATIO]]\n",
    "times_international_students_rank_df = times_international_students_rank_df.sort_values(COLUMN_INTERNATIONAL_RATIO, ascending=False)\n",
    "\n",
    "times_international_students_rank_df.head()"
   ]
  },
  {
   "cell_type": "code",
   "execution_count": null,
   "metadata": {},
   "outputs": [],
   "source": [
    "times_international_students_rank_df[:10][COLUMN_INTERNATIONAL_RATIO].plot(kind='barh', figsize=(10,7))\n",
    "\n",
    "plt.title('Top 10 Universities according to the ratio of international students')\n",
    "plt.ylabel(\"\")\n",
    "plt.xlabel('International students ratio')\n",
    "plt.show()"
   ]
  },
  {
   "cell_type": "markdown",
   "metadata": {},
   "source": [
    "### Plot the results from Times ranking aggregating by region"
   ]
  },
  {
   "cell_type": "markdown",
   "metadata": {},
   "source": [
    "For the faculty to student ratio:"
   ]
  },
  {
   "cell_type": "code",
   "execution_count": null,
   "metadata": {},
   "outputs": [],
   "source": [
    "times_facutly_student_ratio_by_region_df = times_faculty_students_rank_df.groupby(COLUMN_REGION).head(1)\n",
    "times_facutly_student_ratio_by_region_df[COLUMN_FACULTY_RATIO].plot(kind='barh',figsize=(10,7),  color='green')\n",
    "\n",
    "plt.title('Top University per region according to ratio between faculty members and students')\n",
    "plt.ylabel(\"\")\n",
    "plt.xlabel('Faculty members - Total students ratio')\n",
    "plt.show()"
   ]
  },
  {
   "cell_type": "markdown",
   "metadata": {},
   "source": [
    "For the international to total student ratio:"
   ]
  },
  {
   "cell_type": "code",
   "execution_count": null,
   "metadata": {},
   "outputs": [],
   "source": [
    "times_international_students_ratio_by_region_df = times_international_students_rank_df.groupby(COLUMN_REGION).head(1)\n",
    "times_international_students_ratio_by_region_df[COLUMN_INTERNATIONAL_RATIO].plot(kind='barh', figsize=(10, 10))\n",
    "\n",
    "plt.title('Top University per region according to the ratio of international students')\n",
    "plt.ylabel(\"\")\n",
    "plt.xlabel('International students ratio')\n",
    "plt.show()"
   ]
  },
  {
   "cell_type": "markdown",
   "metadata": {},
   "source": [
    "### Plot the results from Times ranking aggregating by country"
   ]
  },
  {
   "cell_type": "code",
   "execution_count": null,
   "metadata": {},
   "outputs": [],
   "source": [
    "times_facutly_student_ratio_by_country_df = times_faculty_students_rank_df.groupby(COLUMN_COUNTRY).head(1)\n",
    "times_facutly_student_ratio_by_country_df[COLUMN_FACULTY_RATIO].plot(kind='barh', figsize=(10,10), color='green')\n",
    "\n",
    "plt.title('Top University per country according to ratio between faculty members and students')\n",
    "plt.ylabel(\"\")\n",
    "plt.xlabel('Faculty members - Total students ratio')\n",
    "plt.show()"
   ]
  },
  {
   "cell_type": "code",
   "execution_count": null,
   "metadata": {},
   "outputs": [],
   "source": [
    "times_international_students_ratio_by_country_df = times_international_students_rank_df.groupby(COLUMN_COUNTRY).head(1)\n",
    "times_international_students_ratio_by_country_df[COLUMN_INTERNATIONAL_RATIO].plot(kind='barh', figsize=(10, 10))\n",
    "\n",
    "plt.title('Top University per country according to the ratio of international students')\n",
    "plt.ylabel(\"\")\n",
    "plt.xlabel('International students ratio')\n",
    "plt.show()"
   ]
  },
  {
   "cell_type": "markdown",
   "metadata": {
    "collapsed": true,
    "scrolled": true
   },
   "source": [
    "## Task 3 - Merge the dataframes\n",
    "Merge the two DataFrames created in questions 1 and 2 using university names. Match universities' names as well as you can, and explain your strategy. Keep track of the original position in both rankings."
   ]
  },
  {
   "cell_type": "markdown",
   "metadata": {},
   "source": [
    "Merging is trivial because we have already handled the standardization of University Names during the scapring task. Since both rankings have names from the WikiData database, merging gives a perfect result. We first do some riorganization of the two dataframes as follows"
   ]
  },
  {
   "cell_type": "code",
   "execution_count": null,
   "metadata": {
    "collapsed": true
   },
   "outputs": [],
   "source": [
    "# Obtain a column for the university name on which do the merging\n",
    "qs_ranking_df[COLUMN_UNIVERSITY_NAME] = qs_ranking_df.index\n",
    "times_ranking_df[COLUMN_UNIVERSITY_NAME] = times_ranking_df.index"
   ]
  },
  {
   "cell_type": "code",
   "execution_count": null,
   "metadata": {
    "collapsed": true
   },
   "outputs": [],
   "source": [
    "# Clean up the values in QS ranking for perfect merge\n",
    "qs_ranking_df[COLUMN_UNIVERSITY_NAME] = qs_ranking_df[COLUMN_UNIVERSITY_NAME].str.strip()\n",
    "qs_ranking_df[COLUMN_COUNTRY] = qs_ranking_df[COLUMN_COUNTRY].str.strip()\n",
    "\n",
    "# Clean up the values in Times ranking for perfect merge\n",
    "times_ranking_df[COLUMN_UNIVERSITY_NAME] = times_ranking_df[COLUMN_UNIVERSITY_NAME].str.strip()\n",
    "times_ranking_df[COLUMN_COUNTRY] = times_ranking_df[COLUMN_COUNTRY].str.strip()"
   ]
  },
  {
   "cell_type": "markdown",
   "metadata": {},
   "source": [
    "Then merging the two dataframes into one"
   ]
  },
  {
   "cell_type": "code",
   "execution_count": null,
   "metadata": {
    "scrolled": false
   },
   "outputs": [],
   "source": [
    "# Merge the dataframes via an outer join on the cols name, country and region\n",
    "merged_ranking_df = pd.merge(qs_ranking_df, times_ranking_df, \n",
    "                             on=[COLUMN_UNIVERSITY_NAME, COLUMN_REGION, COLUMN_COUNTRY], \n",
    "                             how='outer', \n",
    "                             suffixes=('_QS', '_TM')\n",
    "                            )\n",
    "\n",
    "# Use the University Name as an index for the merged dataframe too\n",
    "merged_ranking_df.set_index(COLUMN_UNIVERSITY_NAME, inplace=True)\n",
    "\n",
    "merged_ranking_df.head()"
   ]
  },
  {
   "cell_type": "markdown",
   "metadata": {},
   "source": [
    "Optimize the data"
   ]
  },
  {
   "cell_type": "code",
   "execution_count": null,
   "metadata": {
    "collapsed": true
   },
   "outputs": [],
   "source": [
    "cols = [COLUMN_TOTAL_STUDENTS, COLUMN_INTERNATIONAL_STUDENTS, COLUMN_TOTAL_FACULTY, \n",
    "        COLUMN_FACULTY_RATIO, COLUMN_INTERNATIONAL_RATIO]\n",
    "\n",
    "for x in cols:\n",
    "    merged_ranking_df[x] = merged_ranking_df[['{0}_{1}'.format(x, 'QS'), '{0}_{1}'.format(x, 'TM')]].mean(axis=1)\n",
    "    merged_ranking_df.drop(['{0}_{1}'.format(x, 'QS'), '{0}_{1}'.format(x, 'TM')], axis=1, inplace=True)"
   ]
  },
  {
   "cell_type": "markdown",
   "metadata": {},
   "source": [
    "Sample of the final result:"
   ]
  },
  {
   "cell_type": "code",
   "execution_count": null,
   "metadata": {
    "scrolled": false
   },
   "outputs": [],
   "source": [
    "merged_ranking_df.head()"
   ]
  },
  {
   "cell_type": "markdown",
   "metadata": {},
   "source": [
    "## Task 4 - Exploratory analysis"
   ]
  },
  {
   "cell_type": "markdown",
   "metadata": {},
   "source": [
    "It is interesting to see how the top universities are distributed among the continents. Nearly half of these top universities are in Europe, and around one fourth of them are in North America."
   ]
  },
  {
   "cell_type": "code",
   "execution_count": null,
   "metadata": {
    "scrolled": false
   },
   "outputs": [],
   "source": [
    "explode = (0, 0, 0, 0.1, 0.2, 0.3)\n",
    "merged_ranking_df[COLUMN_REGION].value_counts().plot(kind='pie', autopct='%1.1f%%', figsize=(12,12),fontsize=17, explode = explode)\n",
    "\n",
    "plt.ylabel(\"\")\n",
    "plt.axis('equal')\n",
    "plt.show()"
   ]
  },
  {
   "cell_type": "markdown",
   "metadata": {},
   "source": [
    "We can then classify the universities according to their size. We are considering that their size is determined by the number of students, with the same classification that was used for the QS ranking (Described [here](http://www.iu.qs.com/university-rankings/qs-classifications/))."
   ]
  },
  {
   "cell_type": "code",
   "execution_count": null,
   "metadata": {
    "collapsed": true
   },
   "outputs": [],
   "source": [
    "def university_sizes(x):\n",
    "    \"\"\"Returns a size label based on the number of students.\"\"\"\n",
    "    if not x:\n",
    "        return None\n",
    "    else:\n",
    "        return ('Small' if x < 5000 else 'Medium' if x < 12000\n",
    "                else 'Large' if x < 30000 else 'Extra Large')"
   ]
  },
  {
   "cell_type": "code",
   "execution_count": null,
   "metadata": {
    "scrolled": false
   },
   "outputs": [],
   "source": [
    "merged_ranking_df['Size'] = merged_ranking_df[COLUMN_TOTAL_STUDENTS].apply(lambda x: university_sizes(x))\n",
    "merged_ranking_df.head()"
   ]
  },
  {
   "cell_type": "markdown",
   "metadata": {},
   "source": [
    "When we look at the proportions of top universities according to their size, it is interesting to see that over 80% of them have more than 30,000 students - and out of these, 30% are considered to be extra large."
   ]
  },
  {
   "cell_type": "code",
   "execution_count": null,
   "metadata": {},
   "outputs": [],
   "source": [
    "explode = (0, 0, 0.1, 0.2)\n",
    "merged_ranking_df['Size'].value_counts().plot(kind='pie', autopct='%1.1f%%', figsize=(12,12), fontsize=17, explode = explode)\n",
    "\n",
    "plt.ylabel(\"\")\n",
    "plt.axis('equal')\n",
    "plt.show()"
   ]
  },
  {
   "cell_type": "markdown",
   "metadata": {},
   "source": [
    "With the following boxplots we want to identify outliers within each region, and see if there is a difference in the ratio depending on the region of the university. "
   ]
  },
  {
   "cell_type": "code",
   "execution_count": null,
   "metadata": {},
   "outputs": [],
   "source": [
    "sns.boxplot(x=COLUMN_REGION, y=COLUMN_FACULTY_RATIO, data=merged_ranking_df)"
   ]
  },
  {
   "cell_type": "code",
   "execution_count": null,
   "metadata": {},
   "outputs": [],
   "source": [
    "sns.boxplot(x=COLUMN_REGION, y=COLUMN_INTERNATIONAL_RATIO, data=merged_ranking_df);"
   ]
  },
  {
   "cell_type": "code",
   "execution_count": null,
   "metadata": {},
   "outputs": [],
   "source": [
    "sns.boxplot(x='Size', y=COLUMN_FACULTY_RATIO, data=merged_ranking_df);"
   ]
  },
  {
   "cell_type": "code",
   "execution_count": null,
   "metadata": {},
   "outputs": [],
   "source": [
    "sns.boxplot(x='Size', y=COLUMN_INTERNATIONAL_RATIO, data=merged_ranking_df);"
   ]
  },
  {
   "cell_type": "markdown",
   "metadata": {},
   "source": [
    "Now, classify universities in [2,3,4] groups depending on their internationality ratio, and plot different numbers of students, number of staff, and faculty/student ratio to see if there's any correlation (?).\n",
    "\n",
    "TODO: The upcoming code is shitty, I just wanted to check the plots."
   ]
  },
  {
   "cell_type": "code",
   "execution_count": null,
   "metadata": {},
   "outputs": [],
   "source": [
    "median_internationality = merged_ranking_df[COLUMN_INTERNATIONAL_RATIO].median()\n",
    "merged_ranking_df['Internationality2'] = merged_ranking_df[COLUMN_INTERNATIONAL_RATIO].apply(lambda x: 'International' if x>median_internationality else 'Not international')\n",
    "\n",
    "quantiles_int = merged_ranking_df[COLUMN_INTERNATIONAL_RATIO].quantile([.33, .66])\n",
    "merged_ranking_df['Internationality3'] = merged_ranking_df[COLUMN_INTERNATIONAL_RATIO].apply(lambda x: 'Not international' if x<quantiles_int[.33] else 'International' if x<quantiles_int[.66] else 'Very international')\n",
    "\n",
    "quantiles_int = merged_ranking_df[COLUMN_INTERNATIONAL_RATIO].quantile([.25, .5, .75])\n",
    "merged_ranking_df['Internationality4'] = merged_ranking_df[COLUMN_INTERNATIONAL_RATIO].apply(lambda x: 'Not' if x<quantiles_int[.25] else 'A bit' if x<quantiles_int[.5] else 'Quite' if x<quantiles_int[.75] else 'Very')"
   ]
  },
  {
   "cell_type": "code",
   "execution_count": null,
   "metadata": {},
   "outputs": [],
   "source": [
    "sns.boxplot(x=COLUMN_TOTAL_STUDENTS, y='Internationality2', data=merged_ranking_df);"
   ]
  },
  {
   "cell_type": "code",
   "execution_count": null,
   "metadata": {},
   "outputs": [],
   "source": [
    "sns.boxplot(x=COLUMN_TOTAL_STUDENTS, y='Internationality3', data=merged_ranking_df);"
   ]
  },
  {
   "cell_type": "code",
   "execution_count": null,
   "metadata": {},
   "outputs": [],
   "source": [
    "sns.boxplot(x=COLUMN_TOTAL_STUDENTS, y='Internationality4', data=merged_ranking_df);"
   ]
  },
  {
   "cell_type": "code",
   "execution_count": null,
   "metadata": {},
   "outputs": [],
   "source": [
    "sns.boxplot(x=COLUMN_TOTAL_FACULTY, y='Internationality2', data=merged_ranking_df);"
   ]
  },
  {
   "cell_type": "code",
   "execution_count": null,
   "metadata": {},
   "outputs": [],
   "source": [
    "sns.boxplot(x=COLUMN_TOTAL_FACULTY, y='Internationality3', data=merged_ranking_df);"
   ]
  },
  {
   "cell_type": "code",
   "execution_count": null,
   "metadata": {},
   "outputs": [],
   "source": [
    "sns.boxplot(x=COLUMN_TOTAL_FACULTY, y='Internationality4', data=merged_ranking_df);"
   ]
  },
  {
   "cell_type": "code",
   "execution_count": null,
   "metadata": {},
   "outputs": [],
   "source": [
    "sns.boxplot(x=COLUMN_FACULTY_RATIO, y='Internationality2', data=merged_ranking_df);"
   ]
  },
  {
   "cell_type": "code",
   "execution_count": null,
   "metadata": {},
   "outputs": [],
   "source": [
    "sns.boxplot(x=COLUMN_FACULTY_RATIO, y='Internationality3', data=merged_ranking_df);"
   ]
  },
  {
   "cell_type": "code",
   "execution_count": null,
   "metadata": {},
   "outputs": [],
   "source": [
    "sns.boxplot(x=COLUMN_FACULTY_RATIO, y='Internationality4', data=merged_ranking_df);"
   ]
  },
  {
   "cell_type": "code",
   "execution_count": null,
   "metadata": {},
   "outputs": [],
   "source": [
    "cols = ['{0}_QS'.format(COLUMN_RANK), '{0}_TM'.format(COLUMN_RANK), COLUMN_REGION, COLUMN_TOTAL_STUDENTS, COLUMN_INTERNATIONAL_STUDENTS, \n",
    "        COLUMN_TOTAL_FACULTY, COLUMN_FACULTY_RATIO, COLUMN_INTERNATIONAL_RATIO]\n",
    "\n",
    "merged_ranking_df[cols].corr()"
   ]
  },
  {
   "cell_type": "code",
   "execution_count": null,
   "metadata": {},
   "outputs": [],
   "source": [
    "#plt.matshow(merged_ranking_df[['International faculty member', 'Rank_QS', 'Region', 'Rank_TM', 'Total student', 'International student', 'Total faculty member', 'Faculty/students ratio', 'Intern/student ratio']].corr())\n",
    "\n",
    "plt.matshow(merged_ranking_df[cols].corr())"
   ]
  },
  {
   "cell_type": "markdown",
   "metadata": {},
   "source": [
    "Summary of this last part and TODOs:\n",
    "* We might want to get a numeric ranking, so that we can check the correlation between the positions in the rankings and the other variables. This could be achieved by saving the order of the rows as the rank in the parsing.\n",
    "* I don't know what to do with the NaNs. Maybe the best thing is to ignore those with masks, or try to guess them from similar universities (would be more difficult though). As long as we're ignoring them, I think we should be able to plot everything else without them.\n",
    "* I couldn't conclude important things from the boxplots, at least nothing (IMO) that we can use for Task 5. Bear in mind that we had `-1` all over the place..."
   ]
  },
  {
   "cell_type": "markdown",
   "metadata": {},
   "source": [
    "## Task 5 - "
   ]
  },
  {
   "cell_type": "code",
   "execution_count": null,
   "metadata": {
    "collapsed": true
   },
   "outputs": [],
   "source": []
  }
 ],
 "metadata": {
  "kernelspec": {
   "display_name": "Python 3",
   "language": "python",
   "name": "python3"
  },
  "language_info": {
   "codemirror_mode": {
    "name": "ipython",
    "version": 3
   },
   "file_extension": ".py",
   "mimetype": "text/x-python",
   "name": "python",
   "nbconvert_exporter": "python",
   "pygments_lexer": "ipython3",
   "version": "3.6.1"
  }
 },
 "nbformat": 4,
 "nbformat_minor": 2
}
