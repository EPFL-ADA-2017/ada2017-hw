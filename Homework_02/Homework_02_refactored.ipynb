{
 "cells": [
  {
   "cell_type": "markdown",
   "metadata": {},
   "source": [
    "# 02 - Data from the Web"
   ]
  },
  {
   "cell_type": "markdown",
   "metadata": {},
   "source": [
    "In this homework we will extract interesting information from [www.topuniversities.com](http://www.topuniversities.com) and [www.timeshighereducation.com](http://www.timeshighereducation.com), two platforms that maintain a global ranking of worldwide universities. This ranking is not offered as a downloadable dataset, so you will have to find a way to scrape the information we need! You are not allowed to download manually the entire ranking -- rather you have to understand how the server loads it in your browser. For this task, Postman with the Interceptor extension can help you greatly."
   ]
  },
  {
   "cell_type": "markdown",
   "metadata": {},
   "source": [
    "## Imports"
   ]
  },
  {
   "cell_type": "code",
   "execution_count": 1,
   "metadata": {},
   "outputs": [],
   "source": [
    "import requests\n",
    "from bs4 import BeautifulSoup\n",
    "import pickle\n",
    "import pandas as pd\n",
    "import re\n",
    "\n",
    "#Still not using the following:\n",
    "#import string\n",
    "#import seaborn\n",
    "#import matplotlib.pyplot as plt\n",
    "#pd.options.mode.chained_assignment = None\n",
    "\n",
    "%matplotlib inline"
   ]
  },
  {
   "cell_type": "markdown",
   "metadata": {},
   "source": [
    "## Constants"
   ]
  },
  {
   "cell_type": "code",
   "execution_count": 2,
   "metadata": {},
   "outputs": [],
   "source": [
    "QS_URL = 'https://www.topuniversities.com/university-rankings/world-university-rankings/2018'\n",
    "QS_JSON = 'https://www.topuniversities.com/sites/default/files/qs-rankings-data/357051.txt'\n",
    "\n",
    "TIMES_URL = 'http://timeshighereducation.com/world-university-rankings/2018/world-ranking'\n",
    "TIMES_JSON = 'https://www.timeshighereducation.com/sites/default/files/the_data_rankings/world_university_rankings_2018_limit0_369a9045a203e176392b9fb8f8c1cb2a.json'"
   ]
  },
  {
   "cell_type": "markdown",
   "metadata": {},
   "source": [
    "## Task 1 "
   ]
  },
  {
   "cell_type": "markdown",
   "metadata": {},
   "source": [
    "Obtain the 200 top-ranking universities in www.topuniversities.com ([ranking 2018](https://www.topuniversities.com/university-rankings/world-university-rankings/2018)). In particular, extract the following fields for each university: name, rank, country and region, number of faculty members (international and total) and number of students (international and total). Some information is not available in the main list and you have to find them in the details page. Store the resulting dataset in a pandas DataFrame."
   ]
  },
  {
   "cell_type": "markdown",
   "metadata": {},
   "source": [
    "#### 0.1 Web scraping"
   ]
  },
  {
   "cell_type": "code",
   "execution_count": 3,
   "metadata": {},
   "outputs": [],
   "source": [
    "qs_json_data = requests.get(QS_JSON).json()\n",
    "qs_fields = ['title', 'rank_display', 'country', 'region', 'url']\n",
    "qs_json_df = pd.DataFrame(qs_json_data['data']).head(2)[qs_fields]"
   ]
  },
  {
   "cell_type": "code",
   "execution_count": 4,
   "metadata": {},
   "outputs": [
    {
     "data": {
      "text/html": [
       "<div>\n",
       "<style>\n",
       "    .dataframe thead tr:only-child th {\n",
       "        text-align: right;\n",
       "    }\n",
       "\n",
       "    .dataframe thead th {\n",
       "        text-align: left;\n",
       "    }\n",
       "\n",
       "    .dataframe tbody tr th {\n",
       "        vertical-align: top;\n",
       "    }\n",
       "</style>\n",
       "<table border=\"1\" class=\"dataframe\">\n",
       "  <thead>\n",
       "    <tr style=\"text-align: right;\">\n",
       "      <th></th>\n",
       "      <th>title</th>\n",
       "      <th>rank_display</th>\n",
       "      <th>country</th>\n",
       "      <th>region</th>\n",
       "      <th>url</th>\n",
       "    </tr>\n",
       "  </thead>\n",
       "  <tbody>\n",
       "    <tr>\n",
       "      <th>0</th>\n",
       "      <td>Massachusetts Institute of Technology (MIT)</td>\n",
       "      <td>1</td>\n",
       "      <td>United States</td>\n",
       "      <td>North America</td>\n",
       "      <td>/universities/massachusetts-institute-technolo...</td>\n",
       "    </tr>\n",
       "    <tr>\n",
       "      <th>1</th>\n",
       "      <td>Stanford University</td>\n",
       "      <td>2</td>\n",
       "      <td>United States</td>\n",
       "      <td>North America</td>\n",
       "      <td>/universities/stanford-university</td>\n",
       "    </tr>\n",
       "  </tbody>\n",
       "</table>\n",
       "</div>"
      ],
      "text/plain": [
       "                                         title rank_display        country  \\\n",
       "0  Massachusetts Institute of Technology (MIT)            1  United States   \n",
       "1                          Stanford University            2  United States   \n",
       "\n",
       "          region                                                url  \n",
       "0  North America  /universities/massachusetts-institute-technolo...  \n",
       "1  North America                  /universities/stanford-university  "
      ]
     },
     "execution_count": 4,
     "metadata": {},
     "output_type": "execute_result"
    }
   ],
   "source": [
    "qs_json_df"
   ]
  },
  {
   "cell_type": "code",
   "execution_count": 7,
   "metadata": {},
   "outputs": [],
   "source": [
    "qs_detail_fields = ['total faculty', 'inter faculty', 'total student', 'total inter']"
   ]
  },
  {
   "cell_type": "code",
   "execution_count": 8,
   "metadata": {},
   "outputs": [],
   "source": [
    "def get_details_qs(x):\n",
    "    url = str.format('https://www.topuniversities.com{}', x)\n",
    "    soup = BeautifulSoup(requests.get(url).text, 'html.parser')\n",
    "    \n",
    "    details = {}\n",
    "    \n",
    "    for field in qs_detail_fields:\n",
    "        value = -1\n",
    "        try:\n",
    "            value = soup.find('div', class_=field).find('div', class_='number').text\n",
    "            value = int(re.sub('[^0-9]', '', value))\n",
    "        except:\n",
    "            pass\n",
    "        details[field] = value\n",
    "    return pd.Series(details)"
   ]
  },
  {
   "cell_type": "code",
   "execution_count": 9,
   "metadata": {
    "scrolled": true
   },
   "outputs": [],
   "source": [
    "qs_json_df[qs_detail_fields] = qs_json_df['url'].apply(lambda x: get_details_qs(x))"
   ]
  },
  {
   "cell_type": "code",
   "execution_count": 4,
   "metadata": {},
   "outputs": [
    {
     "data": {
      "text/html": [
       "<div>\n",
       "<style>\n",
       "    .dataframe thead tr:only-child th {\n",
       "        text-align: right;\n",
       "    }\n",
       "\n",
       "    .dataframe thead th {\n",
       "        text-align: left;\n",
       "    }\n",
       "\n",
       "    .dataframe tbody tr th {\n",
       "        vertical-align: top;\n",
       "    }\n",
       "</style>\n",
       "<table border=\"1\" class=\"dataframe\">\n",
       "  <thead>\n",
       "    <tr style=\"text-align: right;\">\n",
       "      <th></th>\n",
       "      <th>title</th>\n",
       "      <th>rank_display</th>\n",
       "      <th>country</th>\n",
       "      <th>region</th>\n",
       "      <th>url</th>\n",
       "      <th>total faculty</th>\n",
       "      <th>inter faculty</th>\n",
       "      <th>total student</th>\n",
       "      <th>total inter</th>\n",
       "    </tr>\n",
       "  </thead>\n",
       "  <tbody>\n",
       "    <tr>\n",
       "      <th>0</th>\n",
       "      <td>Massachusetts Institute of Technology (MIT)</td>\n",
       "      <td>1</td>\n",
       "      <td>United States</td>\n",
       "      <td>North America</td>\n",
       "      <td>/universities/massachusetts-institute-technolo...</td>\n",
       "      <td>1679</td>\n",
       "      <td>2982</td>\n",
       "      <td>3717</td>\n",
       "      <td>11067</td>\n",
       "    </tr>\n",
       "    <tr>\n",
       "      <th>1</th>\n",
       "      <td>Stanford University</td>\n",
       "      <td>2</td>\n",
       "      <td>United States</td>\n",
       "      <td>North America</td>\n",
       "      <td>/universities/stanford-university</td>\n",
       "      <td>2042</td>\n",
       "      <td>4285</td>\n",
       "      <td>3611</td>\n",
       "      <td>15878</td>\n",
       "    </tr>\n",
       "  </tbody>\n",
       "</table>\n",
       "</div>"
      ],
      "text/plain": [
       "                                         title rank_display        country  \\\n",
       "0  Massachusetts Institute of Technology (MIT)            1  United States   \n",
       "1                          Stanford University            2  United States   \n",
       "\n",
       "          region                                                url  \\\n",
       "0  North America  /universities/massachusetts-institute-technolo...   \n",
       "1  North America                  /universities/stanford-university   \n",
       "\n",
       "   total faculty  inter faculty  total student  total inter  \n",
       "0           1679           2982           3717        11067  \n",
       "1           2042           4285           3611        15878  "
      ]
     },
     "execution_count": 4,
     "metadata": {},
     "output_type": "execute_result"
    }
   ],
   "source": [
    "qs_json_df"
   ]
  },
  {
   "cell_type": "markdown",
   "metadata": {},
   "source": [
    "Serializing:"
   ]
  },
  {
   "cell_type": "code",
   "execution_count": 10,
   "metadata": {},
   "outputs": [],
   "source": [
    "pickle.dump(qs_json_df, open('qs_json_df.p', 'wb'))"
   ]
  },
  {
   "cell_type": "markdown",
   "metadata": {},
   "source": [
    "#### 0.2 De-serializing"
   ]
  },
  {
   "cell_type": "code",
   "execution_count": 3,
   "metadata": {},
   "outputs": [],
   "source": [
    "qs_json_df = pickle.load(open('qs_json_df.p', 'rb'))"
   ]
  },
  {
   "cell_type": "markdown",
   "metadata": {},
   "source": [
    "Verify this:"
   ]
  },
  {
   "cell_type": "code",
   "execution_count": 6,
   "metadata": {},
   "outputs": [
    {
     "data": {
      "text/html": [
       "<div>\n",
       "<style>\n",
       "    .dataframe thead tr:only-child th {\n",
       "        text-align: right;\n",
       "    }\n",
       "\n",
       "    .dataframe thead th {\n",
       "        text-align: left;\n",
       "    }\n",
       "\n",
       "    .dataframe tbody tr th {\n",
       "        vertical-align: top;\n",
       "    }\n",
       "</style>\n",
       "<table border=\"1\" class=\"dataframe\">\n",
       "  <thead>\n",
       "    <tr style=\"text-align: right;\">\n",
       "      <th></th>\n",
       "      <th>title</th>\n",
       "      <th>rank_display</th>\n",
       "      <th>country</th>\n",
       "      <th>region</th>\n",
       "      <th>url</th>\n",
       "      <th>total faculty</th>\n",
       "      <th>inter faculty</th>\n",
       "      <th>total student</th>\n",
       "      <th>total inter</th>\n",
       "    </tr>\n",
       "  </thead>\n",
       "  <tbody>\n",
       "  </tbody>\n",
       "</table>\n",
       "</div>"
      ],
      "text/plain": [
       "Empty DataFrame\n",
       "Columns: [title, rank_display, country, region, url, total faculty, inter faculty, total student, total inter]\n",
       "Index: []"
      ]
     },
     "execution_count": 6,
     "metadata": {},
     "output_type": "execute_result"
    }
   ],
   "source": [
    "qs_json_df[qs_json_df['title'] == 'NaN']"
   ]
  },
  {
   "cell_type": "markdown",
   "metadata": {},
   "source": [
    "#### 1 Which are the best universities in terms of ratio between faculty members and students?"
   ]
  },
  {
   "cell_type": "code",
   "execution_count": 8,
   "metadata": {},
   "outputs": [
    {
     "data": {
      "text/html": [
       "<div>\n",
       "<style>\n",
       "    .dataframe thead tr:only-child th {\n",
       "        text-align: right;\n",
       "    }\n",
       "\n",
       "    .dataframe thead th {\n",
       "        text-align: left;\n",
       "    }\n",
       "\n",
       "    .dataframe tbody tr th {\n",
       "        vertical-align: top;\n",
       "    }\n",
       "</style>\n",
       "<table border=\"1\" class=\"dataframe\">\n",
       "  <thead>\n",
       "    <tr style=\"text-align: right;\">\n",
       "      <th></th>\n",
       "      <th>title</th>\n",
       "      <th>rank_display</th>\n",
       "      <th>country</th>\n",
       "      <th>region</th>\n",
       "      <th>url</th>\n",
       "      <th>total faculty</th>\n",
       "      <th>inter faculty</th>\n",
       "      <th>total student</th>\n",
       "      <th>total inter</th>\n",
       "      <th>Faculty-students ratio</th>\n",
       "    </tr>\n",
       "  </thead>\n",
       "  <tbody>\n",
       "    <tr>\n",
       "      <th>1</th>\n",
       "      <td>Stanford University</td>\n",
       "      <td>2</td>\n",
       "      <td>United States</td>\n",
       "      <td>North America</td>\n",
       "      <td>/universities/stanford-university</td>\n",
       "      <td>2042</td>\n",
       "      <td>4285</td>\n",
       "      <td>3611</td>\n",
       "      <td>15878</td>\n",
       "      <td>0.565494</td>\n",
       "    </tr>\n",
       "    <tr>\n",
       "      <th>0</th>\n",
       "      <td>Massachusetts Institute of Technology (MIT)</td>\n",
       "      <td>1</td>\n",
       "      <td>United States</td>\n",
       "      <td>North America</td>\n",
       "      <td>/universities/massachusetts-institute-technolo...</td>\n",
       "      <td>1679</td>\n",
       "      <td>2982</td>\n",
       "      <td>3717</td>\n",
       "      <td>11067</td>\n",
       "      <td>0.451708</td>\n",
       "    </tr>\n",
       "  </tbody>\n",
       "</table>\n",
       "</div>"
      ],
      "text/plain": [
       "                                         title rank_display        country  \\\n",
       "1                          Stanford University            2  United States   \n",
       "0  Massachusetts Institute of Technology (MIT)            1  United States   \n",
       "\n",
       "          region                                                url  \\\n",
       "1  North America                  /universities/stanford-university   \n",
       "0  North America  /universities/massachusetts-institute-technolo...   \n",
       "\n",
       "   total faculty  inter faculty  total student  total inter  \\\n",
       "1           2042           4285           3611        15878   \n",
       "0           1679           2982           3717        11067   \n",
       "\n",
       "   Faculty-students ratio  \n",
       "1                0.565494  \n",
       "0                0.451708  "
      ]
     },
     "execution_count": 8,
     "metadata": {},
     "output_type": "execute_result"
    }
   ],
   "source": [
    "qs_json_df['Faculty-students ratio'] = qs_json_df['total faculty'] / qs_json_df['total student']\n",
    "faculty_students_rank_df = qs_json_df.sort_values('Faculty-students ratio', ascending=False)\n",
    "faculty_students_rank_df.head(20)"
   ]
  },
  {
   "cell_type": "markdown",
   "metadata": {},
   "source": [
    "Which are the best universities in terms of ratio of international students?"
   ]
  },
  {
   "cell_type": "code",
   "execution_count": 9,
   "metadata": {},
   "outputs": [
    {
     "data": {
      "text/html": [
       "<div>\n",
       "<style>\n",
       "    .dataframe thead tr:only-child th {\n",
       "        text-align: right;\n",
       "    }\n",
       "\n",
       "    .dataframe thead th {\n",
       "        text-align: left;\n",
       "    }\n",
       "\n",
       "    .dataframe tbody tr th {\n",
       "        vertical-align: top;\n",
       "    }\n",
       "</style>\n",
       "<table border=\"1\" class=\"dataframe\">\n",
       "  <thead>\n",
       "    <tr style=\"text-align: right;\">\n",
       "      <th></th>\n",
       "      <th>title</th>\n",
       "      <th>rank_display</th>\n",
       "      <th>country</th>\n",
       "      <th>region</th>\n",
       "      <th>url</th>\n",
       "      <th>total faculty</th>\n",
       "      <th>inter faculty</th>\n",
       "      <th>total student</th>\n",
       "      <th>total inter</th>\n",
       "      <th>Faculty-students ratio</th>\n",
       "      <th>International-students ratio</th>\n",
       "    </tr>\n",
       "  </thead>\n",
       "  <tbody>\n",
       "    <tr>\n",
       "      <th>1</th>\n",
       "      <td>Stanford University</td>\n",
       "      <td>2</td>\n",
       "      <td>United States</td>\n",
       "      <td>North America</td>\n",
       "      <td>/universities/stanford-university</td>\n",
       "      <td>2042</td>\n",
       "      <td>4285</td>\n",
       "      <td>3611</td>\n",
       "      <td>15878</td>\n",
       "      <td>0.565494</td>\n",
       "      <td>4.397120</td>\n",
       "    </tr>\n",
       "    <tr>\n",
       "      <th>0</th>\n",
       "      <td>Massachusetts Institute of Technology (MIT)</td>\n",
       "      <td>1</td>\n",
       "      <td>United States</td>\n",
       "      <td>North America</td>\n",
       "      <td>/universities/massachusetts-institute-technolo...</td>\n",
       "      <td>1679</td>\n",
       "      <td>2982</td>\n",
       "      <td>3717</td>\n",
       "      <td>11067</td>\n",
       "      <td>0.451708</td>\n",
       "      <td>2.977401</td>\n",
       "    </tr>\n",
       "  </tbody>\n",
       "</table>\n",
       "</div>"
      ],
      "text/plain": [
       "                                         title rank_display        country  \\\n",
       "1                          Stanford University            2  United States   \n",
       "0  Massachusetts Institute of Technology (MIT)            1  United States   \n",
       "\n",
       "          region                                                url  \\\n",
       "1  North America                  /universities/stanford-university   \n",
       "0  North America  /universities/massachusetts-institute-technolo...   \n",
       "\n",
       "   total faculty  inter faculty  total student  total inter  \\\n",
       "1           2042           4285           3611        15878   \n",
       "0           1679           2982           3717        11067   \n",
       "\n",
       "   Faculty-students ratio  International-students ratio  \n",
       "1                0.565494                      4.397120  \n",
       "0                0.451708                      2.977401  "
      ]
     },
     "execution_count": 9,
     "metadata": {},
     "output_type": "execute_result"
    }
   ],
   "source": [
    "qs_json_df['International-students ratio'] = qs_json_df['total inter'] / qs_json_df['total student']\n",
    "international_students_rank_df = qs_json_df.sort_values('International-students ratio', ascending=False)\n",
    "international_students_rank_df.head(20)"
   ]
  },
  {
   "cell_type": "code",
   "execution_count": null,
   "metadata": {},
   "outputs": [],
   "source": []
  }
 ],
 "metadata": {
  "kernelspec": {
   "display_name": "Python [conda root]",
   "language": "python",
   "name": "conda-root-py"
  },
  "language_info": {
   "codemirror_mode": {
    "name": "ipython",
    "version": 3
   },
   "file_extension": ".py",
   "mimetype": "text/x-python",
   "name": "python",
   "nbconvert_exporter": "python",
   "pygments_lexer": "ipython3",
   "version": "3.6.1"
  }
 },
 "nbformat": 4,
 "nbformat_minor": 2
}
