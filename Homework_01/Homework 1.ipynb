{
 "cells": [
  {
   "cell_type": "markdown",
   "metadata": {},
   "source": [
    "# Imports"
   ]
  },
  {
   "cell_type": "code",
   "execution_count": 1,
   "metadata": {},
   "outputs": [],
   "source": [
    "import math\n",
    "import pandas as pd\n",
    "import numpy as np\n",
    "import glob\n",
    "import datetime\n",
    "from calendar import monthrange\n",
    "pd.options.mode.chained_assignment = None\n",
    "\n",
    "%matplotlib inline"
   ]
  },
  {
   "cell_type": "markdown",
   "metadata": {},
   "source": [
    "# Table of Contents\n",
    " <p><div class=\"lev1\"><a href=\"#Task-1.-Compiling-Ebola-Data\"><span class=\"toc-item-num\">Task 1.&nbsp;&nbsp;</span>Compiling Ebola Data</a></div>\n",
    " <div class=\"lev1\"><a href=\"#Task-2.-RNA-Sequences\"><span class=\"toc-item-num\">Task 2.&nbsp;&nbsp;</span>RNA Sequences</a></div>\n",
    " <div class=\"lev1\"><a href=\"#Task-3.-Class-War-in-Titanic\"><span class=\"toc-item-num\">Task 3.&nbsp;&nbsp;</span>Class War in Titanic</a></div></p>"
   ]
  },
  {
   "cell_type": "code",
   "execution_count": 2,
   "metadata": {},
   "outputs": [],
   "source": [
    "DATA_FOLDER = 'Data' # Use the data folder provided in Tutorial 02 - Intro to Pandas."
   ]
  },
  {
   "cell_type": "markdown",
   "metadata": {},
   "source": [
    "## Task 1. Compiling Ebola Data\n",
    "\n",
    "The `DATA_FOLDER/ebola` folder contains summarized reports of Ebola cases from three countries (Guinea, Liberia and Sierra Leone) during the recent outbreak of the disease in West Africa. For each country, there are daily reports that contain various information about the outbreak in several cities in each country.\n",
    "\n",
    "Use pandas to import these data files into a single `Dataframe`.\n",
    "Using this `DataFrame`, calculate for *each country*, the *daily average per month* of *new cases* and *deaths*.\n",
    "Make sure you handle all the different expressions for *new cases* and *deaths* that are used in the reports."
   ]
  },
  {
   "cell_type": "markdown",
   "metadata": {},
   "source": [
    "### 1.1 Constants"
   ]
  },
  {
   "cell_type": "code",
   "execution_count": 3,
   "metadata": {},
   "outputs": [],
   "source": [
    "DEFAULT_NAME_COLUMN_DATE = 'Date'\n",
    "DEFAULT_NAME_COLUMN_DESCRIPTION = 'Description'\n",
    "DEFAULT_NAME_COLUMN_TOTAL = 'Totals'\n",
    "DEFAULT_NAME_COLUMN_COUNTRY = 'Country'\n",
    "\n",
    "DEFAULT_NAME_ROW_DESCRIPTION_NEW_CASES = 'New cases'\n",
    "DEFAULT_NAME_ROW_DESCRIPTION_NEW_DEATHS = 'New deaths'\n",
    "\n",
    "DEFAULT_DATA_FORMAT = '%Y-%m-%d'"
   ]
  },
  {
   "cell_type": "markdown",
   "metadata": {},
   "source": [
    "The definitions of the basic schema and formats for the given dataset are stored in the following dictionaries"
   ]
  },
  {
   "cell_type": "code",
   "execution_count": 4,
   "metadata": {},
   "outputs": [],
   "source": [
    "country_keys = ['guinea', 'liberia', 'sl']\n",
    "paths = {x: DATA_FOLDER + '/ebola/'+ x + '_data' for x in country_keys}\n",
    "countries = {'guinea': 'Guinea', 'liberia': 'Liberia', 'sl': 'Sierra Leone'}\n",
    "\n",
    "wanted_columns = {'guinea': ['Date', 'Description', 'Totals'],\n",
    "                      'liberia': ['Date', 'Variable', 'National'],\n",
    "                      'sl': ['date', 'variable', 'National']}\n",
    "\n",
    "date_original_formats = {'guinea': ['%Y-%m-%d', '%y-%m-%d'],\n",
    "                         'liberia': ['%m/%d/%Y', '%m/%d/%y'],\n",
    "                         'sl': ['%Y-%m-%d', '%y-%m-%d']}"
   ]
  },
  {
   "cell_type": "markdown",
   "metadata": {},
   "source": [
    "### 1.2 Auxiliary functions"
   ]
  },
  {
   "cell_type": "code",
   "execution_count": 5,
   "metadata": {},
   "outputs": [],
   "source": [
    "def sanitize_date(date, original_formats):\n",
    "    '''\n",
    "    Transform a date specified in a string with a certain original\n",
    "    format into a string with the date in the default format.\n",
    "    '''\n",
    "    date_rep = None\n",
    "    try:\n",
    "        date_rep = datetime.datetime.strptime(date, original_formats[0])\n",
    "    except ValueError:\n",
    "        date_rep = datetime.datetime.strptime(date, original_formats[1])\n",
    "    return date_rep.strftime(DEFAULT_DATA_FORMAT)"
   ]
  },
  {
   "cell_type": "code",
   "execution_count": 6,
   "metadata": {},
   "outputs": [],
   "source": [
    "def estimate_daily_from_cum(np_list):\n",
    "    '''\n",
    "    Given a list of accumulated data, calculate the data for each day.\n",
    "    It assumes ordered data.\n",
    "    '''\n",
    "    last_known_n = -1\n",
    "    final_list = list()\n",
    "    for i, elem in np_list.iteritems():\n",
    "        #elem = float(elem)\n",
    "        if (math.isnan(elem)):\n",
    "            final_list.append(0)\n",
    "        else:\n",
    "            if (last_known_n == -1):\n",
    "                final_list.append(0)\n",
    "            else:\n",
    "                final_list.append(elem - last_known_n)\n",
    "            last_known_n = elem\n",
    "    return np.array(final_list)"
   ]
  },
  {
   "cell_type": "markdown",
   "metadata": {},
   "source": [
    "### 1.3 Read files"
   ]
  },
  {
   "cell_type": "markdown",
   "metadata": {},
   "source": [
    "We create a dictionary `dataframe_list` that contains, for each country, the corresponding dataframe.\n",
    "\n",
    "After reading each data frame we apply the function `sanitize_date` to the `Date` column to make sure that the format used for the date is consistent, and we then sort the rows in each dataframe according to the `Date`."
   ]
  },
  {
   "cell_type": "code",
   "execution_count": 7,
   "metadata": {},
   "outputs": [],
   "source": [
    "dataframe_list = {}\n",
    "\n",
    "for i in country_keys:\n",
    "    temp_list = []\n",
    "    all_files = glob.glob(paths[i] + '/*.csv')\n",
    "    for file in all_files:\n",
    "        temp_df = pd.read_csv(file)\n",
    "        temp_list.append(temp_df)\n",
    "    dataframe_list[i] = pd.concat(temp_list)\n",
    "    \n",
    "    # Format dates and order dataframes by date\n",
    "    dataframe_list[i][wanted_columns[i][0]] = np.array([sanitize_date(x, date_original_formats[i])\n",
    "                                                        for x in dataframe_list[i][wanted_columns[i][0]]])\n",
    "    \n",
    "    dataframe_list[i][wanted_columns[i][0]] = pd.to_datetime(dataframe_list[i][wanted_columns[i][0]])\n",
    "    dataframe_list[i].sort_values(by=wanted_columns[i][0])"
   ]
  },
  {
   "cell_type": "markdown",
   "metadata": {},
   "source": [
    "### 1.4 Parsing data for each country"
   ]
  },
  {
   "cell_type": "markdown",
   "metadata": {},
   "source": [
    "The goal of the parsing processes is to obtain a *standard* datataset for each country. We want to extract the useful data for our task while reorganizing the schema and data format to develop a general coherence.\n",
    "\n",
    "In particular, we want to obtain the daily number of deaths and new cases registered for each country.\n",
    "\n",
    "***N.B.*** The resulting dataframes do not have the indexing reformatted. Since those are temporary results that will later be concatenated in a single dataframe, we decided to handle the indexing after this operation.\n",
    "\n",
    "--"
   ]
  },
  {
   "cell_type": "markdown",
   "metadata": {},
   "source": [
    "#### 1.4.1 Guinea"
   ]
  },
  {
   "cell_type": "markdown",
   "metadata": {},
   "source": [
    "In order to parse the Guinea dataset we considered the variables ```New deaths registered``` (or ```New deaths registered today``` when it was used instead of the previous one) and ```Total new cases registered so far```. These variables represent the daily number of deaths and cases respectively."
   ]
  },
  {
   "cell_type": "code",
   "execution_count": 8,
   "metadata": {},
   "outputs": [],
   "source": [
    "# Select certain column from the CSV formatted files\n",
    "parsed_guinea_df = dataframe_list['guinea'][wanted_columns['guinea']]\n",
    "guinea_wanted_row_list = ['Total new cases registered so far',\n",
    "                          'New deaths registered',\n",
    "                          'New deaths registered today']\n",
    "\n",
    "# Select all the rows that match desired names for 'Description' column\n",
    "parsed_guinea_df = parsed_guinea_df[parsed_guinea_df['Description'].isin(guinea_wanted_row_list)]\n",
    "\n",
    "# Rename every row value for 'Description' column \n",
    "parsed_guinea_df.loc[parsed_guinea_df['Description'] ==\n",
    "                     guinea_wanted_row_list[0], 'Description'] = DEFAULT_NAME_ROW_DESCRIPTION_NEW_CASES\n",
    "\n",
    "parsed_guinea_df.loc[parsed_guinea_df['Description'] ==\n",
    "                     guinea_wanted_row_list[1], 'Description'] = DEFAULT_NAME_ROW_DESCRIPTION_NEW_DEATHS\n",
    "\n",
    "parsed_guinea_df.loc[parsed_guinea_df['Description'] ==\n",
    "                     guinea_wanted_row_list[2], 'Description'] = DEFAULT_NAME_ROW_DESCRIPTION_NEW_DEATHS\n",
    "\n",
    "# Add 'Country' column to dataframe\n",
    "parsed_guinea_df[DEFAULT_NAME_COLUMN_COUNTRY] = countries['guinea']"
   ]
  },
  {
   "cell_type": "markdown",
   "metadata": {},
   "source": [
    "Sample:"
   ]
  },
  {
   "cell_type": "code",
   "execution_count": 9,
   "metadata": {},
   "outputs": [
    {
     "data": {
      "text/html": [
       "<div>\n",
       "<style>\n",
       "    .dataframe thead tr:only-child th {\n",
       "        text-align: right;\n",
       "    }\n",
       "\n",
       "    .dataframe thead th {\n",
       "        text-align: left;\n",
       "    }\n",
       "\n",
       "    .dataframe tbody tr th {\n",
       "        vertical-align: top;\n",
       "    }\n",
       "</style>\n",
       "<table border=\"1\" class=\"dataframe\">\n",
       "  <thead>\n",
       "    <tr style=\"text-align: right;\">\n",
       "      <th></th>\n",
       "      <th>Date</th>\n",
       "      <th>Description</th>\n",
       "      <th>Totals</th>\n",
       "      <th>Country</th>\n",
       "    </tr>\n",
       "  </thead>\n",
       "  <tbody>\n",
       "    <tr>\n",
       "      <th>3</th>\n",
       "      <td>2014-08-26</td>\n",
       "      <td>New cases</td>\n",
       "      <td>28</td>\n",
       "      <td>Guinea</td>\n",
       "    </tr>\n",
       "    <tr>\n",
       "      <th>9</th>\n",
       "      <td>2014-08-26</td>\n",
       "      <td>New deaths</td>\n",
       "      <td>5</td>\n",
       "      <td>Guinea</td>\n",
       "    </tr>\n",
       "    <tr>\n",
       "      <th>3</th>\n",
       "      <td>2014-09-23</td>\n",
       "      <td>New cases</td>\n",
       "      <td>29</td>\n",
       "      <td>Guinea</td>\n",
       "    </tr>\n",
       "    <tr>\n",
       "      <th>9</th>\n",
       "      <td>2014-09-23</td>\n",
       "      <td>New deaths</td>\n",
       "      <td>3</td>\n",
       "      <td>Guinea</td>\n",
       "    </tr>\n",
       "    <tr>\n",
       "      <th>3</th>\n",
       "      <td>2014-09-04</td>\n",
       "      <td>New cases</td>\n",
       "      <td>30</td>\n",
       "      <td>Guinea</td>\n",
       "    </tr>\n",
       "  </tbody>\n",
       "</table>\n",
       "</div>"
      ],
      "text/plain": [
       "        Date Description Totals Country\n",
       "3 2014-08-26   New cases     28  Guinea\n",
       "9 2014-08-26  New deaths      5  Guinea\n",
       "3 2014-09-23   New cases     29  Guinea\n",
       "9 2014-09-23  New deaths      3  Guinea\n",
       "3 2014-09-04   New cases     30  Guinea"
      ]
     },
     "execution_count": 9,
     "metadata": {},
     "output_type": "execute_result"
    }
   ],
   "source": [
    "parsed_guinea_df.head()"
   ]
  },
  {
   "cell_type": "markdown",
   "metadata": {},
   "source": [
    "#### 1.4.2 Liberia"
   ]
  },
  {
   "cell_type": "markdown",
   "metadata": {},
   "source": [
    "In order to parse the Liberia dataset we considered the ```Newly reported deaths``` variable, which represents the daily number of deaths. To handle the new cases data we, on the other hand, had to do some manipulations. \n",
    "\n",
    "The number of new (daily) cases comes in three different variables (```New Case/s (Suspected)```, ```New Case/s (Probable)``` and ```New Case/s (confirmed)```) that have to be summed up to obtain the total value of new cases."
   ]
  },
  {
   "cell_type": "code",
   "execution_count": 10,
   "metadata": {},
   "outputs": [],
   "source": [
    "# Select certain columns from the CSV formatted files\n",
    "liberia_df = dataframe_list['liberia'][wanted_columns['liberia']]\n",
    "\n",
    "liberia_wanted_row_list = ['New Case/s (Suspected)',\n",
    "                   'New Case/s (Probable)',\n",
    "                   'New case/s (confirmed)',\n",
    "                   'Newly reported deaths',\n",
    "                   'Total suspected cases',\n",
    "                   'Total probable cases',\n",
    "                   'Total confirmed cases']"
   ]
  },
  {
   "cell_type": "markdown",
   "metadata": {},
   "source": [
    "However, the data comes with strangely big new cases values for the last days of the report:"
   ]
  },
  {
   "cell_type": "code",
   "execution_count": 11,
   "metadata": {},
   "outputs": [
    {
     "data": {
      "text/html": [
       "<div>\n",
       "<style>\n",
       "    .dataframe thead tr:only-child th {\n",
       "        text-align: right;\n",
       "    }\n",
       "\n",
       "    .dataframe thead th {\n",
       "        text-align: left;\n",
       "    }\n",
       "\n",
       "    .dataframe tbody tr th {\n",
       "        vertical-align: top;\n",
       "    }\n",
       "</style>\n",
       "<table border=\"1\" class=\"dataframe\">\n",
       "  <thead>\n",
       "    <tr style=\"text-align: right;\">\n",
       "      <th></th>\n",
       "      <th>Date</th>\n",
       "      <th>Variable</th>\n",
       "      <th>National</th>\n",
       "    </tr>\n",
       "  </thead>\n",
       "  <tbody>\n",
       "    <tr>\n",
       "      <th>25</th>\n",
       "      <td>2014-12-01</td>\n",
       "      <td>New case/s (confirmed)</td>\n",
       "      <td>1.0</td>\n",
       "    </tr>\n",
       "    <tr>\n",
       "      <th>25</th>\n",
       "      <td>2014-12-02</td>\n",
       "      <td>New case/s (confirmed)</td>\n",
       "      <td>9.0</td>\n",
       "    </tr>\n",
       "    <tr>\n",
       "      <th>25</th>\n",
       "      <td>2014-12-03</td>\n",
       "      <td>New case/s (confirmed)</td>\n",
       "      <td>NaN</td>\n",
       "    </tr>\n",
       "    <tr>\n",
       "      <th>25</th>\n",
       "      <td>2014-12-04</td>\n",
       "      <td>New case/s (confirmed)</td>\n",
       "      <td>2867.0</td>\n",
       "    </tr>\n",
       "    <tr>\n",
       "      <th>25</th>\n",
       "      <td>2014-12-05</td>\n",
       "      <td>New case/s (confirmed)</td>\n",
       "      <td>2867.0</td>\n",
       "    </tr>\n",
       "    <tr>\n",
       "      <th>25</th>\n",
       "      <td>2014-12-06</td>\n",
       "      <td>New case/s (confirmed)</td>\n",
       "      <td>2869.0</td>\n",
       "    </tr>\n",
       "    <tr>\n",
       "      <th>25</th>\n",
       "      <td>2014-12-07</td>\n",
       "      <td>New case/s (confirmed)</td>\n",
       "      <td>2869.0</td>\n",
       "    </tr>\n",
       "    <tr>\n",
       "      <th>25</th>\n",
       "      <td>2014-12-08</td>\n",
       "      <td>New case/s (confirmed)</td>\n",
       "      <td>2927.0</td>\n",
       "    </tr>\n",
       "    <tr>\n",
       "      <th>25</th>\n",
       "      <td>2014-12-09</td>\n",
       "      <td>New case/s (confirmed)</td>\n",
       "      <td>2946.0</td>\n",
       "    </tr>\n",
       "  </tbody>\n",
       "</table>\n",
       "</div>"
      ],
      "text/plain": [
       "         Date                Variable  National\n",
       "25 2014-12-01  New case/s (confirmed)       1.0\n",
       "25 2014-12-02  New case/s (confirmed)       9.0\n",
       "25 2014-12-03  New case/s (confirmed)       NaN\n",
       "25 2014-12-04  New case/s (confirmed)    2867.0\n",
       "25 2014-12-05  New case/s (confirmed)    2867.0\n",
       "25 2014-12-06  New case/s (confirmed)    2869.0\n",
       "25 2014-12-07  New case/s (confirmed)    2869.0\n",
       "25 2014-12-08  New case/s (confirmed)    2927.0\n",
       "25 2014-12-09  New case/s (confirmed)    2946.0"
      ]
     },
     "execution_count": 11,
     "metadata": {},
     "output_type": "execute_result"
    }
   ],
   "source": [
    "liberia_df[(liberia_df['Variable'] == 'New case/s (confirmed)') &\n",
    "           (liberia_df['Date'].apply(lambda x: x.month) == 12)].sort_values(by=['Date'])"
   ]
  },
  {
   "cell_type": "markdown",
   "metadata": {},
   "source": [
    "We concluded that those numbers couldn't be correct. As we found a correlation between those values and the total new cases accumulator for the past days, we assumed the data as been inputted on the wrong part of the table.\n",
    "\n",
    "The new cases data for the last month of the report were therefore calculated from the daily difference of the cases accumulators, while we took the daily values for the rest of the months."
   ]
  },
  {
   "cell_type": "code",
   "execution_count": 12,
   "metadata": {},
   "outputs": [],
   "source": [
    "# Create temporary dataframes for new case entries\n",
    "# Take accumulated cases for the last month of the report\n",
    "liberia_df_cum_cases_1 = liberia_df[liberia_df['Variable'].isin(liberia_wanted_row_list[4:7])]\n",
    "liberia_df_cum_cases_1 = liberia_df_cum_cases_1[liberia_df_cum_cases_1['Date'].map(\n",
    "    lambda x: x.month == 12 and x.day <= 3)]\n",
    "liberia_df_cum_cases_1 = liberia_df_cum_cases_1.groupby('Date').sum()\n",
    "\n",
    "liberia_df_cum_cases_2 = liberia_df[liberia_df['Variable'].isin(liberia_wanted_row_list[0:3])]\n",
    "liberia_df_cum_cases_2 = liberia_df_cum_cases_2[liberia_df_cum_cases_2['Date'].map(\n",
    "    lambda x: x.month == 12 and x.day > 3)]\n",
    "liberia_df_cum_cases_2 = liberia_df_cum_cases_2.groupby('Date').sum()\n",
    "\n",
    "liberia_df_cum_cases = pd.concat([liberia_df_cum_cases_1, liberia_df_cum_cases_2])\n",
    "liberia_df_cum_cases['National'] = estimate_daily_from_cum(liberia_df_cum_cases['National'])\n",
    "\n",
    "# Take daily cases for the other months\n",
    "liberia_df_new_cases = liberia_df[liberia_df['Variable'].isin(liberia_wanted_row_list[0:3])]\n",
    "liberia_df_new_cases = liberia_df_new_cases[liberia_df_new_cases['Date'].map(\n",
    "    lambda x: x.month != 12)]\n",
    "\n",
    "# Get dataframe with new cases for all months\n",
    "liberia_df_new_cases = pd.concat([liberia_df_new_cases, liberia_df_cum_cases])\n",
    "\n",
    "# Sum all of the values for 'Probable', 'Variable' and 'Confirmed' new cases\n",
    "liberia_df_new_cases = liberia_df_new_cases.groupby('Date').sum()\n",
    "\n",
    "liberia_df_new_cases['Date'] = liberia_df_new_cases.index\n",
    "liberia_df_new_cases['Variable'] = DEFAULT_NAME_ROW_DESCRIPTION_NEW_CASES"
   ]
  },
  {
   "cell_type": "code",
   "execution_count": 13,
   "metadata": {},
   "outputs": [],
   "source": [
    "# Create temporary dataframe for new deaths entries\n",
    "liberia_df_new_deaths = liberia_df[liberia_df['Variable'] == liberia_wanted_row_list[3]]\n",
    "liberia_df_new_deaths['Variable'] = DEFAULT_NAME_ROW_DESCRIPTION_NEW_DEATHS"
   ]
  },
  {
   "cell_type": "code",
   "execution_count": 14,
   "metadata": {},
   "outputs": [],
   "source": [
    "# Create dataframe with new deaths and cases (concatenating the two temporary)\n",
    "parsed_liberia_df = pd.concat([liberia_df_new_cases, liberia_df_new_deaths])\n",
    "\n",
    "parsed_liberia_df.rename(columns={'Date': DEFAULT_NAME_COLUMN_DATE,\n",
    "                                  'Variable': DEFAULT_NAME_COLUMN_DESCRIPTION,\n",
    "                                  'National': DEFAULT_NAME_COLUMN_TOTAL}, inplace=True)\n",
    "\n",
    "# Add 'Country' column to dataframe\n",
    "parsed_liberia_df[DEFAULT_NAME_COLUMN_COUNTRY] = countries['liberia']"
   ]
  },
  {
   "cell_type": "markdown",
   "metadata": {},
   "source": [
    "Sample:"
   ]
  },
  {
   "cell_type": "code",
   "execution_count": 15,
   "metadata": {},
   "outputs": [
    {
     "data": {
      "text/html": [
       "<div>\n",
       "<style>\n",
       "    .dataframe thead tr:only-child th {\n",
       "        text-align: right;\n",
       "    }\n",
       "\n",
       "    .dataframe thead th {\n",
       "        text-align: left;\n",
       "    }\n",
       "\n",
       "    .dataframe tbody tr th {\n",
       "        vertical-align: top;\n",
       "    }\n",
       "</style>\n",
       "<table border=\"1\" class=\"dataframe\">\n",
       "  <thead>\n",
       "    <tr style=\"text-align: right;\">\n",
       "      <th></th>\n",
       "      <th>Date</th>\n",
       "      <th>Totals</th>\n",
       "      <th>Description</th>\n",
       "      <th>Country</th>\n",
       "    </tr>\n",
       "  </thead>\n",
       "  <tbody>\n",
       "    <tr>\n",
       "      <th>2014-06-16 00:00:00</th>\n",
       "      <td>2014-06-16</td>\n",
       "      <td>4.0</td>\n",
       "      <td>New cases</td>\n",
       "      <td>Liberia</td>\n",
       "    </tr>\n",
       "    <tr>\n",
       "      <th>2014-06-17 00:00:00</th>\n",
       "      <td>2014-06-17</td>\n",
       "      <td>2.0</td>\n",
       "      <td>New cases</td>\n",
       "      <td>Liberia</td>\n",
       "    </tr>\n",
       "    <tr>\n",
       "      <th>2014-06-22 00:00:00</th>\n",
       "      <td>2014-06-22</td>\n",
       "      <td>10.0</td>\n",
       "      <td>New cases</td>\n",
       "      <td>Liberia</td>\n",
       "    </tr>\n",
       "    <tr>\n",
       "      <th>2014-06-24 00:00:00</th>\n",
       "      <td>2014-06-24</td>\n",
       "      <td>6.0</td>\n",
       "      <td>New cases</td>\n",
       "      <td>Liberia</td>\n",
       "    </tr>\n",
       "    <tr>\n",
       "      <th>2014-06-25 00:00:00</th>\n",
       "      <td>2014-06-25</td>\n",
       "      <td>7.0</td>\n",
       "      <td>New cases</td>\n",
       "      <td>Liberia</td>\n",
       "    </tr>\n",
       "  </tbody>\n",
       "</table>\n",
       "</div>"
      ],
      "text/plain": [
       "                          Date  Totals Description  Country\n",
       "2014-06-16 00:00:00 2014-06-16     4.0   New cases  Liberia\n",
       "2014-06-17 00:00:00 2014-06-17     2.0   New cases  Liberia\n",
       "2014-06-22 00:00:00 2014-06-22    10.0   New cases  Liberia\n",
       "2014-06-24 00:00:00 2014-06-24     6.0   New cases  Liberia\n",
       "2014-06-25 00:00:00 2014-06-25     7.0   New cases  Liberia"
      ]
     },
     "execution_count": 15,
     "metadata": {},
     "output_type": "execute_result"
    }
   ],
   "source": [
    "parsed_liberia_df.head()"
   ]
  },
  {
   "cell_type": "markdown",
   "metadata": {},
   "source": [
    "#### 1.4.3 Sierra Leone"
   ]
  },
  {
   "cell_type": "markdown",
   "metadata": {},
   "source": [
    "In order to parse the Sierra Leone dataset we followed similar steps as for Liberia. The new cases value has been computed as the sum of the corresponding variables of the table (```new_noncase```, ```new_suspected```, ```new_probable``` and ```new_confirmed```). \n",
    "\n",
    "Since the dataset only had total accumulators for the number of deaths, the new death variable was calculated as the difference between days, as previously done with Liberia. The possible missing data for this operation has been handled by setting them to zero, while keeping the the same delta for known points."
   ]
  },
  {
   "cell_type": "code",
   "execution_count": 16,
   "metadata": {},
   "outputs": [],
   "source": [
    "# Select certain columns from the CSV formatted files\n",
    "parsed_sierra_df = dataframe_list['sl'][wanted_columns['sl']]\n",
    "\n",
    "sierra_wanted_row_list = ['new_noncase', 'new_suspected', 'new_probable', 'new_confirmed',\n",
    "                   'death_confirmed', 'death_probable', 'death_suspected']"
   ]
  },
  {
   "cell_type": "code",
   "execution_count": 17,
   "metadata": {},
   "outputs": [],
   "source": [
    "# Create temporary dataframe for new case entries\n",
    "# (with every row that matches the desired 'variables' column value)\n",
    "sierra_df_new_cases = parsed_sierra_df[parsed_sierra_df['variable'].isin(\n",
    "    sierra_wanted_row_list[0:4])]\n",
    "\n",
    "# Sum all of the values for 'Probable', 'Variable', 'Confirmed' and 'Noncase' new cases\n",
    "sierra_df_new_cases = sierra_df_new_cases.groupby('date')['National'].apply(\n",
    "    lambda x: np.array([float(y) for y in x]).sum()).to_frame()\n",
    "\n",
    "sierra_df_new_cases['date'] = sierra_df_new_cases.index\n",
    "sierra_df_new_cases['variable'] = DEFAULT_NAME_ROW_DESCRIPTION_NEW_CASES"
   ]
  },
  {
   "cell_type": "code",
   "execution_count": 18,
   "metadata": {},
   "outputs": [],
   "source": [
    "# Create temporary dataframe for new deaths' accumulator entries\n",
    "sierra_df_new_deaths_cum = parsed_sierra_df[parsed_sierra_df['variable'].isin(\n",
    "    sierra_wanted_row_list[4:7])]\n",
    "\n",
    "# Sum all of the values for 'Probable', 'Suspected' and 'Confirmed' new death accumulators\n",
    "sierra_df_new_deaths_cum = sierra_df_new_deaths_cum.groupby('date')['National'].apply(\n",
    "    lambda x: np.array([float(y) for y in x]).sum()).to_frame()\n",
    "\n",
    "sierra_df_new_deaths_cum['date'] = sierra_df_new_deaths_cum.index\n",
    "sierra_df_new_deaths_cum['variable'] = 'New deaths accumulator'\n",
    "\n",
    "# \n",
    "sierra_df_new_deaths_cum['National'] = estimate_daily_from_cum(sierra_df_new_deaths_cum['National'])\n",
    "sierra_df_new_deaths_cum['variable'] = DEFAULT_NAME_ROW_DESCRIPTION_NEW_DEATHS"
   ]
  },
  {
   "cell_type": "code",
   "execution_count": 19,
   "metadata": {},
   "outputs": [],
   "source": [
    "parsed_sierra_df = pd.concat([sierra_df_new_cases, sierra_df_new_deaths_cum])\n",
    "\n",
    "parsed_sierra_df.rename(columns={'date': DEFAULT_NAME_COLUMN_DATE,\n",
    "                                 'variable': DEFAULT_NAME_COLUMN_DESCRIPTION,\n",
    "                                 'National': DEFAULT_NAME_COLUMN_TOTAL}, inplace=True)\n",
    "\n",
    "# Add 'Country' column to dataframe\n",
    "parsed_sierra_df[DEFAULT_NAME_COLUMN_COUNTRY] = countries['sl']"
   ]
  },
  {
   "cell_type": "markdown",
   "metadata": {},
   "source": [
    "Sample:"
   ]
  },
  {
   "cell_type": "code",
   "execution_count": 20,
   "metadata": {},
   "outputs": [
    {
     "data": {
      "text/html": [
       "<div>\n",
       "<style>\n",
       "    .dataframe thead tr:only-child th {\n",
       "        text-align: right;\n",
       "    }\n",
       "\n",
       "    .dataframe thead th {\n",
       "        text-align: left;\n",
       "    }\n",
       "\n",
       "    .dataframe tbody tr th {\n",
       "        vertical-align: top;\n",
       "    }\n",
       "</style>\n",
       "<table border=\"1\" class=\"dataframe\">\n",
       "  <thead>\n",
       "    <tr style=\"text-align: right;\">\n",
       "      <th></th>\n",
       "      <th>Totals</th>\n",
       "      <th>Date</th>\n",
       "      <th>Description</th>\n",
       "      <th>Country</th>\n",
       "    </tr>\n",
       "    <tr>\n",
       "      <th>date</th>\n",
       "      <th></th>\n",
       "      <th></th>\n",
       "      <th></th>\n",
       "      <th></th>\n",
       "    </tr>\n",
       "  </thead>\n",
       "  <tbody>\n",
       "    <tr>\n",
       "      <th>2014-08-12</th>\n",
       "      <td>26.0</td>\n",
       "      <td>2014-08-12</td>\n",
       "      <td>New cases</td>\n",
       "      <td>Sierra Leone</td>\n",
       "    </tr>\n",
       "    <tr>\n",
       "      <th>2014-08-13</th>\n",
       "      <td>32.0</td>\n",
       "      <td>2014-08-13</td>\n",
       "      <td>New cases</td>\n",
       "      <td>Sierra Leone</td>\n",
       "    </tr>\n",
       "    <tr>\n",
       "      <th>2014-08-14</th>\n",
       "      <td>41.0</td>\n",
       "      <td>2014-08-14</td>\n",
       "      <td>New cases</td>\n",
       "      <td>Sierra Leone</td>\n",
       "    </tr>\n",
       "    <tr>\n",
       "      <th>2014-08-15</th>\n",
       "      <td>32.0</td>\n",
       "      <td>2014-08-15</td>\n",
       "      <td>New cases</td>\n",
       "      <td>Sierra Leone</td>\n",
       "    </tr>\n",
       "    <tr>\n",
       "      <th>2014-08-16</th>\n",
       "      <td>30.0</td>\n",
       "      <td>2014-08-16</td>\n",
       "      <td>New cases</td>\n",
       "      <td>Sierra Leone</td>\n",
       "    </tr>\n",
       "  </tbody>\n",
       "</table>\n",
       "</div>"
      ],
      "text/plain": [
       "            Totals       Date Description       Country\n",
       "date                                                   \n",
       "2014-08-12    26.0 2014-08-12   New cases  Sierra Leone\n",
       "2014-08-13    32.0 2014-08-13   New cases  Sierra Leone\n",
       "2014-08-14    41.0 2014-08-14   New cases  Sierra Leone\n",
       "2014-08-15    32.0 2014-08-15   New cases  Sierra Leone\n",
       "2014-08-16    30.0 2014-08-16   New cases  Sierra Leone"
      ]
     },
     "execution_count": 20,
     "metadata": {},
     "output_type": "execute_result"
    }
   ],
   "source": [
    "parsed_sierra_df.head()"
   ]
  },
  {
   "cell_type": "markdown",
   "metadata": {},
   "source": [
    "### 1.5 Joining the parsed country datatset into a single one"
   ]
  },
  {
   "cell_type": "code",
   "execution_count": 21,
   "metadata": {},
   "outputs": [],
   "source": [
    "complete_df = pd.concat([parsed_guinea_df, parsed_liberia_df, parsed_sierra_df])\n",
    "complete_df.reset_index(inplace=True, drop=True)"
   ]
  },
  {
   "cell_type": "markdown",
   "metadata": {},
   "source": [
    "Samples:"
   ]
  },
  {
   "cell_type": "code",
   "execution_count": 22,
   "metadata": {},
   "outputs": [
    {
     "data": {
      "text/html": [
       "<div>\n",
       "<style>\n",
       "    .dataframe thead tr:only-child th {\n",
       "        text-align: right;\n",
       "    }\n",
       "\n",
       "    .dataframe thead th {\n",
       "        text-align: left;\n",
       "    }\n",
       "\n",
       "    .dataframe tbody tr th {\n",
       "        vertical-align: top;\n",
       "    }\n",
       "</style>\n",
       "<table border=\"1\" class=\"dataframe\">\n",
       "  <thead>\n",
       "    <tr style=\"text-align: right;\">\n",
       "      <th></th>\n",
       "      <th>Country</th>\n",
       "      <th>Date</th>\n",
       "      <th>Description</th>\n",
       "      <th>Totals</th>\n",
       "    </tr>\n",
       "  </thead>\n",
       "  <tbody>\n",
       "    <tr>\n",
       "      <th>42</th>\n",
       "      <td>Guinea</td>\n",
       "      <td>2014-09-14</td>\n",
       "      <td>New cases</td>\n",
       "      <td>25</td>\n",
       "    </tr>\n",
       "    <tr>\n",
       "      <th>43</th>\n",
       "      <td>Guinea</td>\n",
       "      <td>2014-09-14</td>\n",
       "      <td>New deaths</td>\n",
       "      <td>1</td>\n",
       "    </tr>\n",
       "    <tr>\n",
       "      <th>44</th>\n",
       "      <td>Liberia</td>\n",
       "      <td>2014-06-16</td>\n",
       "      <td>New cases</td>\n",
       "      <td>4</td>\n",
       "    </tr>\n",
       "    <tr>\n",
       "      <th>45</th>\n",
       "      <td>Liberia</td>\n",
       "      <td>2014-06-17</td>\n",
       "      <td>New cases</td>\n",
       "      <td>2</td>\n",
       "    </tr>\n",
       "    <tr>\n",
       "      <th>46</th>\n",
       "      <td>Liberia</td>\n",
       "      <td>2014-06-22</td>\n",
       "      <td>New cases</td>\n",
       "      <td>10</td>\n",
       "    </tr>\n",
       "  </tbody>\n",
       "</table>\n",
       "</div>"
      ],
      "text/plain": [
       "    Country       Date Description Totals\n",
       "42   Guinea 2014-09-14   New cases     25\n",
       "43   Guinea 2014-09-14  New deaths      1\n",
       "44  Liberia 2014-06-16   New cases      4\n",
       "45  Liberia 2014-06-17   New cases      2\n",
       "46  Liberia 2014-06-22   New cases     10"
      ]
     },
     "execution_count": 22,
     "metadata": {},
     "output_type": "execute_result"
    }
   ],
   "source": [
    "complete_df[42:47]"
   ]
  },
  {
   "cell_type": "markdown",
   "metadata": {},
   "source": [
    "Even after handling the NaN troubles during the parsing for some aspects, we still have some to manage"
   ]
  },
  {
   "cell_type": "code",
   "execution_count": 23,
   "metadata": {},
   "outputs": [
    {
     "data": {
      "text/html": [
       "<div>\n",
       "<style>\n",
       "    .dataframe thead tr:only-child th {\n",
       "        text-align: right;\n",
       "    }\n",
       "\n",
       "    .dataframe thead th {\n",
       "        text-align: left;\n",
       "    }\n",
       "\n",
       "    .dataframe tbody tr th {\n",
       "        vertical-align: top;\n",
       "    }\n",
       "</style>\n",
       "<table border=\"1\" class=\"dataframe\">\n",
       "  <thead>\n",
       "    <tr style=\"text-align: right;\">\n",
       "      <th></th>\n",
       "      <th>Country</th>\n",
       "      <th>Date</th>\n",
       "      <th>Description</th>\n",
       "      <th>Totals</th>\n",
       "    </tr>\n",
       "  </thead>\n",
       "  <tbody>\n",
       "    <tr>\n",
       "      <th>137</th>\n",
       "      <td>Liberia</td>\n",
       "      <td>2014-12-07</td>\n",
       "      <td>New deaths</td>\n",
       "      <td>NaN</td>\n",
       "    </tr>\n",
       "    <tr>\n",
       "      <th>145</th>\n",
       "      <td>Liberia</td>\n",
       "      <td>2014-12-03</td>\n",
       "      <td>New deaths</td>\n",
       "      <td>NaN</td>\n",
       "    </tr>\n",
       "    <tr>\n",
       "      <th>155</th>\n",
       "      <td>Liberia</td>\n",
       "      <td>2014-09-20</td>\n",
       "      <td>New deaths</td>\n",
       "      <td>NaN</td>\n",
       "    </tr>\n",
       "    <tr>\n",
       "      <th>162</th>\n",
       "      <td>Liberia</td>\n",
       "      <td>2014-12-05</td>\n",
       "      <td>New deaths</td>\n",
       "      <td>NaN</td>\n",
       "    </tr>\n",
       "    <tr>\n",
       "      <th>164</th>\n",
       "      <td>Liberia</td>\n",
       "      <td>2014-12-02</td>\n",
       "      <td>New deaths</td>\n",
       "      <td>NaN</td>\n",
       "    </tr>\n",
       "  </tbody>\n",
       "</table>\n",
       "</div>"
      ],
      "text/plain": [
       "     Country       Date Description Totals\n",
       "137  Liberia 2014-12-07  New deaths    NaN\n",
       "145  Liberia 2014-12-03  New deaths    NaN\n",
       "155  Liberia 2014-09-20  New deaths    NaN\n",
       "162  Liberia 2014-12-05  New deaths    NaN\n",
       "164  Liberia 2014-12-02  New deaths    NaN"
      ]
     },
     "execution_count": 23,
     "metadata": {},
     "output_type": "execute_result"
    }
   ],
   "source": [
    "complete_df[complete_df[DEFAULT_NAME_COLUMN_TOTAL].isnull()].head()"
   ]
  },
  {
   "cell_type": "markdown",
   "metadata": {},
   "source": [
    "As for now, we assume that the missing values equal 0"
   ]
  },
  {
   "cell_type": "code",
   "execution_count": 24,
   "metadata": {},
   "outputs": [],
   "source": [
    "# Assume NaN values are 0\n",
    "complete_df = complete_df.fillna(0)"
   ]
  },
  {
   "cell_type": "markdown",
   "metadata": {},
   "source": [
    "We have seen that the difference in the number of deaths for some rows is negative. It is not a reasonable value and is probably due to an error when keeping track of the accumulated number of deaths, especially during the change of month. We therefore decided to consider 0 instead."
   ]
  },
  {
   "cell_type": "code",
   "execution_count": 25,
   "metadata": {},
   "outputs": [
    {
     "data": {
      "text/html": [
       "<div>\n",
       "<style>\n",
       "    .dataframe thead tr:only-child th {\n",
       "        text-align: right;\n",
       "    }\n",
       "\n",
       "    .dataframe thead th {\n",
       "        text-align: left;\n",
       "    }\n",
       "\n",
       "    .dataframe tbody tr th {\n",
       "        vertical-align: top;\n",
       "    }\n",
       "</style>\n",
       "<table border=\"1\" class=\"dataframe\">\n",
       "  <thead>\n",
       "    <tr style=\"text-align: right;\">\n",
       "      <th></th>\n",
       "      <th>Country</th>\n",
       "      <th>Date</th>\n",
       "      <th>Description</th>\n",
       "      <th>Totals</th>\n",
       "    </tr>\n",
       "  </thead>\n",
       "  <tbody>\n",
       "    <tr>\n",
       "      <th>387</th>\n",
       "      <td>Sierra Leone</td>\n",
       "      <td>2014-10-01</td>\n",
       "      <td>New deaths</td>\n",
       "      <td>-18</td>\n",
       "    </tr>\n",
       "  </tbody>\n",
       "</table>\n",
       "</div>"
      ],
      "text/plain": [
       "          Country       Date Description Totals\n",
       "387  Sierra Leone 2014-10-01  New deaths    -18"
      ]
     },
     "execution_count": 25,
     "metadata": {},
     "output_type": "execute_result"
    }
   ],
   "source": [
    "complete_df[complete_df['Totals'].apply(lambda x: int(x)) < 0]"
   ]
  },
  {
   "cell_type": "code",
   "execution_count": 26,
   "metadata": {},
   "outputs": [],
   "source": [
    "complete_df.loc[complete_df['Totals'].apply(lambda x: int(x)) < 0, 'Totals'] = 0"
   ]
  },
  {
   "cell_type": "markdown",
   "metadata": {},
   "source": [
    "### 1.6 Calculate for each country, the daily average per month of new cases and deaths"
   ]
  },
  {
   "cell_type": "markdown",
   "metadata": {},
   "source": [
    "We start grouping by ```Country```, ```Description``` and month, and then calculate the average over the total number of days in the month."
   ]
  },
  {
   "cell_type": "code",
   "execution_count": 27,
   "metadata": {},
   "outputs": [],
   "source": [
    "grouped = complete_df.groupby(by=[complete_df.Country, complete_df.Description,\n",
    "                                  [x.month for x in complete_df.Date]])"
   ]
  },
  {
   "cell_type": "code",
   "execution_count": 28,
   "metadata": {},
   "outputs": [],
   "source": [
    "calculated_average_df = pd.DataFrame()\n",
    "\n",
    "for ((country, description, month), values) in grouped:\n",
    "    days_in_month = monthrange(2014, month)[1]\n",
    "    entry = {DEFAULT_NAME_COLUMN_COUNTRY: country, \n",
    "             'Description': description, \n",
    "             'Month': month, \n",
    "             'Average': values[DEFAULT_NAME_COLUMN_TOTAL].apply(lambda x: float(x) / days_in_month).sum()}\n",
    "    calculated_average_df = calculated_average_df.append([entry])"
   ]
  },
  {
   "cell_type": "code",
   "execution_count": 29,
   "metadata": {},
   "outputs": [],
   "source": [
    "death_average_df = calculated_average_df[calculated_average_df[DEFAULT_NAME_COLUMN_DESCRIPTION] ==\n",
    "                                         DEFAULT_NAME_ROW_DESCRIPTION_NEW_DEATHS]\n",
    "cases_average_df = calculated_average_df[calculated_average_df[DEFAULT_NAME_COLUMN_DESCRIPTION] ==\n",
    "                                         DEFAULT_NAME_ROW_DESCRIPTION_NEW_CASES]\n",
    "\n",
    "calculated_average_df = pd.merge(death_average_df, cases_average_df, on=[DEFAULT_NAME_COLUMN_COUNTRY, 'Month'])\n",
    "calculated_average_df.drop([DEFAULT_NAME_COLUMN_DESCRIPTION+'_x',\n",
    "                            DEFAULT_NAME_COLUMN_DESCRIPTION+'_y'], axis=1, inplace=True)\n",
    "\n",
    "calculated_average_df = calculated_average_df.rename(columns={'Average_x': 'Death monthly average',\n",
    "                                                              'Average_y': 'Case monthly average'})"
   ]
  },
  {
   "cell_type": "markdown",
   "metadata": {},
   "source": [
    "After reordering the columns, the final result is shown in the following table. For each country we calculated the average for the new deaths entries as well as the new cases entries"
   ]
  },
  {
   "cell_type": "code",
   "execution_count": 30,
   "metadata": {},
   "outputs": [
    {
     "data": {
      "text/html": [
       "<div>\n",
       "<style>\n",
       "    .dataframe thead tr:only-child th {\n",
       "        text-align: right;\n",
       "    }\n",
       "\n",
       "    .dataframe thead th {\n",
       "        text-align: left;\n",
       "    }\n",
       "\n",
       "    .dataframe tbody tr th {\n",
       "        vertical-align: top;\n",
       "    }\n",
       "</style>\n",
       "<table border=\"1\" class=\"dataframe\">\n",
       "  <thead>\n",
       "    <tr style=\"text-align: right;\">\n",
       "      <th></th>\n",
       "      <th>Country</th>\n",
       "      <th>Month</th>\n",
       "      <th>Death monthly average</th>\n",
       "      <th>Case monthly average</th>\n",
       "    </tr>\n",
       "  </thead>\n",
       "  <tbody>\n",
       "    <tr>\n",
       "      <th>0</th>\n",
       "      <td>Guinea</td>\n",
       "      <td>8</td>\n",
       "      <td>0.548387</td>\n",
       "      <td>4.161290</td>\n",
       "    </tr>\n",
       "    <tr>\n",
       "      <th>1</th>\n",
       "      <td>Guinea</td>\n",
       "      <td>9</td>\n",
       "      <td>1.900000</td>\n",
       "      <td>10.466667</td>\n",
       "    </tr>\n",
       "    <tr>\n",
       "      <th>2</th>\n",
       "      <td>Guinea</td>\n",
       "      <td>10</td>\n",
       "      <td>0.483871</td>\n",
       "      <td>1.096774</td>\n",
       "    </tr>\n",
       "    <tr>\n",
       "      <th>3</th>\n",
       "      <td>Liberia</td>\n",
       "      <td>6</td>\n",
       "      <td>0.466667</td>\n",
       "      <td>1.333333</td>\n",
       "    </tr>\n",
       "    <tr>\n",
       "      <th>4</th>\n",
       "      <td>Liberia</td>\n",
       "      <td>7</td>\n",
       "      <td>1.516129</td>\n",
       "      <td>3.032258</td>\n",
       "    </tr>\n",
       "    <tr>\n",
       "      <th>5</th>\n",
       "      <td>Liberia</td>\n",
       "      <td>8</td>\n",
       "      <td>6.741935</td>\n",
       "      <td>10.806452</td>\n",
       "    </tr>\n",
       "    <tr>\n",
       "      <th>6</th>\n",
       "      <td>Liberia</td>\n",
       "      <td>9</td>\n",
       "      <td>28.833333</td>\n",
       "      <td>51.066667</td>\n",
       "    </tr>\n",
       "    <tr>\n",
       "      <th>7</th>\n",
       "      <td>Liberia</td>\n",
       "      <td>10</td>\n",
       "      <td>22.612903</td>\n",
       "      <td>36.741935</td>\n",
       "    </tr>\n",
       "    <tr>\n",
       "      <th>8</th>\n",
       "      <td>Liberia</td>\n",
       "      <td>11</td>\n",
       "      <td>6.733333</td>\n",
       "      <td>13.233333</td>\n",
       "    </tr>\n",
       "    <tr>\n",
       "      <th>9</th>\n",
       "      <td>Sierra Leone</td>\n",
       "      <td>8</td>\n",
       "      <td>4.258065</td>\n",
       "      <td>22.483871</td>\n",
       "    </tr>\n",
       "    <tr>\n",
       "      <th>10</th>\n",
       "      <td>Sierra Leone</td>\n",
       "      <td>9</td>\n",
       "      <td>5.433333</td>\n",
       "      <td>64.866667</td>\n",
       "    </tr>\n",
       "    <tr>\n",
       "      <th>11</th>\n",
       "      <td>Sierra Leone</td>\n",
       "      <td>10</td>\n",
       "      <td>27.580645</td>\n",
       "      <td>110.903226</td>\n",
       "    </tr>\n",
       "    <tr>\n",
       "      <th>12</th>\n",
       "      <td>Sierra Leone</td>\n",
       "      <td>11</td>\n",
       "      <td>14.233333</td>\n",
       "      <td>98.533333</td>\n",
       "    </tr>\n",
       "    <tr>\n",
       "      <th>13</th>\n",
       "      <td>Sierra Leone</td>\n",
       "      <td>12</td>\n",
       "      <td>6.838710</td>\n",
       "      <td>21.903226</td>\n",
       "    </tr>\n",
       "  </tbody>\n",
       "</table>\n",
       "</div>"
      ],
      "text/plain": [
       "         Country  Month  Death monthly average  Case monthly average\n",
       "0         Guinea      8               0.548387              4.161290\n",
       "1         Guinea      9               1.900000             10.466667\n",
       "2         Guinea     10               0.483871              1.096774\n",
       "3        Liberia      6               0.466667              1.333333\n",
       "4        Liberia      7               1.516129              3.032258\n",
       "5        Liberia      8               6.741935             10.806452\n",
       "6        Liberia      9              28.833333             51.066667\n",
       "7        Liberia     10              22.612903             36.741935\n",
       "8        Liberia     11               6.733333             13.233333\n",
       "9   Sierra Leone      8               4.258065             22.483871\n",
       "10  Sierra Leone      9               5.433333             64.866667\n",
       "11  Sierra Leone     10              27.580645            110.903226\n",
       "12  Sierra Leone     11              14.233333             98.533333\n",
       "13  Sierra Leone     12               6.838710             21.903226"
      ]
     },
     "execution_count": 30,
     "metadata": {},
     "output_type": "execute_result"
    }
   ],
   "source": [
    "calculated_average_df = calculated_average_df[['Country', 'Month',\n",
    "                                               'Death monthly average', 'Case monthly average']]\n",
    "calculated_average_df"
   ]
  },
  {
   "cell_type": "markdown",
   "metadata": {},
   "source": [
    "### 1.7 Plots"
   ]
  },
  {
   "cell_type": "markdown",
   "metadata": {},
   "source": [
    "We plotted the results for a final visualisation of the obtained data. First by country alone in the following bar charts"
   ]
  },
  {
   "cell_type": "code",
   "execution_count": 31,
   "metadata": {},
   "outputs": [
    {
     "data": {
      "image/png": "[encoded data removed]",
      "text/plain": [
       "<matplotlib.figure.Figure at 0x7f0dae2f2e48>"
      ]
     },
     "metadata": {},
     "output_type": "display_data"
    },
    {
     "data": {
      "image/png": "[encoded data removed]",
      "text/plain": [
       "<matplotlib.figure.Figure at 0x7f0dae2f2550>"
      ]
     },
     "metadata": {},
     "output_type": "display_data"
    },
    {
     "data": {
      "image/png": "[encoded data removed]",
      "text/plain": [
       "<matplotlib.figure.Figure at 0x7f0dabbd9d68>"
      ]
     },
     "metadata": {},
     "output_type": "display_data"
    }
   ],
   "source": [
    "for title, group in calculated_average_df.groupby(DEFAULT_NAME_COLUMN_COUNTRY):\n",
    "    group.plot(x='Month', title=title, kind=\"bar\", figsize=(15,5))"
   ]
  },
  {
   "cell_type": "markdown",
   "metadata": {},
   "source": [
    "And lastly as an unique bar chart for all the results in one plot"
   ]
  },
  {
   "cell_type": "code",
   "execution_count": 32,
   "metadata": {},
   "outputs": [
    {
     "data": {
      "text/plain": [
       "<matplotlib.axes._subplots.AxesSubplot at 0x7f0dabbf1da0>"
      ]
     },
     "execution_count": 32,
     "metadata": {},
     "output_type": "execute_result"
    },
    {
     "data": {
      "image/png": "[encoded data removed]",
      "text/plain": [
       "<matplotlib.figure.Figure at 0x7f0dabaf9fd0>"
      ]
     },
     "metadata": {},
     "output_type": "display_data"
    }
   ],
   "source": [
    "calculated_average_df.plot.bar(x=['Month',DEFAULT_NAME_COLUMN_COUNTRY], figsize=(15,5))"
   ]
  },
  {
   "cell_type": "markdown",
   "metadata": {},
   "source": [
    "# Task 2. RNA Sequences\n",
    "\n",
    "In the `DATA_FOLDER/microbiome` subdirectory, there are 9 spreadsheets of microbiome data that was acquired from high-throughput RNA sequencing procedures, along with a 10<sup>th</sup> file that describes the content of each. \n",
    "\n",
    "Use pandas to import the first 9 spreadsheets into a single `DataFrame`.\n",
    "Then, add the metadata information from the 10<sup>th</sup> spreadsheet as columns in the combined `DataFrame`.\n",
    "Make sure that the final `DataFrame` has a unique index and all the `NaN` values have been replaced by the tag `unknown`."
   ]
  },
  {
   "cell_type": "markdown",
   "metadata": {},
   "source": [
    "### 2.1 Read files"
   ]
  },
  {
   "cell_type": "markdown",
   "metadata": {},
   "source": [
    "We started by importing the nine tables in one single big dataframe"
   ]
  },
  {
   "cell_type": "code",
   "execution_count": 33,
   "metadata": {},
   "outputs": [
    {
     "data": {
      "text/html": [
       "<div>\n",
       "<style>\n",
       "    .dataframe thead tr:only-child th {\n",
       "        text-align: right;\n",
       "    }\n",
       "\n",
       "    .dataframe thead th {\n",
       "        text-align: left;\n",
       "    }\n",
       "\n",
       "    .dataframe tbody tr th {\n",
       "        vertical-align: top;\n",
       "    }\n",
       "</style>\n",
       "<table border=\"1\" class=\"dataframe\">\n",
       "  <thead>\n",
       "    <tr style=\"text-align: right;\">\n",
       "      <th></th>\n",
       "      <th>0</th>\n",
       "      <th>1</th>\n",
       "      <th>BARCODE</th>\n",
       "    </tr>\n",
       "  </thead>\n",
       "  <tbody>\n",
       "    <tr>\n",
       "      <th>0</th>\n",
       "      <td>Archaea \"Crenarchaeota\" Thermoprotei Desulfuro...</td>\n",
       "      <td>2</td>\n",
       "      <td>MID4</td>\n",
       "    </tr>\n",
       "    <tr>\n",
       "      <th>1</th>\n",
       "      <td>Archaea \"Crenarchaeota\" Thermoprotei Sulfoloba...</td>\n",
       "      <td>1</td>\n",
       "      <td>MID4</td>\n",
       "    </tr>\n",
       "    <tr>\n",
       "      <th>2</th>\n",
       "      <td>Archaea \"Euryarchaeota\" \"Methanomicrobia\" Meth...</td>\n",
       "      <td>1</td>\n",
       "      <td>MID4</td>\n",
       "    </tr>\n",
       "    <tr>\n",
       "      <th>3</th>\n",
       "      <td>Archaea \"Euryarchaeota\" Archaeoglobi Archaeogl...</td>\n",
       "      <td>1</td>\n",
       "      <td>MID4</td>\n",
       "    </tr>\n",
       "    <tr>\n",
       "      <th>4</th>\n",
       "      <td>Archaea \"Euryarchaeota\" Methanopyri Methanopyr...</td>\n",
       "      <td>10</td>\n",
       "      <td>MID4</td>\n",
       "    </tr>\n",
       "  </tbody>\n",
       "</table>\n",
       "</div>"
      ],
      "text/plain": [
       "                                                   0   1 BARCODE\n",
       "0  Archaea \"Crenarchaeota\" Thermoprotei Desulfuro...   2    MID4\n",
       "1  Archaea \"Crenarchaeota\" Thermoprotei Sulfoloba...   1    MID4\n",
       "2  Archaea \"Euryarchaeota\" \"Methanomicrobia\" Meth...   1    MID4\n",
       "3  Archaea \"Euryarchaeota\" Archaeoglobi Archaeogl...   1    MID4\n",
       "4  Archaea \"Euryarchaeota\" Methanopyri Methanopyr...  10    MID4"
      ]
     },
     "execution_count": 33,
     "metadata": {},
     "output_type": "execute_result"
    }
   ],
   "source": [
    "all_files = glob.glob(DATA_FOLDER + '/microbiome' + '/MID*.xls')\n",
    "raw_df = pd.DataFrame()\n",
    "\n",
    "for file in all_files:\n",
    "    file_name = file[file.rfind('/')+1:file.rfind('.')]\n",
    "    temp_df = pd.read_excel(file, header=None)\n",
    "    temp_df['BARCODE'] = file_name\n",
    "    raw_df = raw_df.append(temp_df)\n",
    "\n",
    "raw_df.head()"
   ]
  },
  {
   "cell_type": "markdown",
   "metadata": {},
   "source": [
    "We the imported the metadata table in another dataframe"
   ]
  },
  {
   "cell_type": "code",
   "execution_count": 34,
   "metadata": {},
   "outputs": [
    {
     "data": {
      "text/html": [
       "<div>\n",
       "<style>\n",
       "    .dataframe thead tr:only-child th {\n",
       "        text-align: right;\n",
       "    }\n",
       "\n",
       "    .dataframe thead th {\n",
       "        text-align: left;\n",
       "    }\n",
       "\n",
       "    .dataframe tbody tr th {\n",
       "        vertical-align: top;\n",
       "    }\n",
       "</style>\n",
       "<table border=\"1\" class=\"dataframe\">\n",
       "  <thead>\n",
       "    <tr style=\"text-align: right;\">\n",
       "      <th></th>\n",
       "      <th>BARCODE</th>\n",
       "      <th>GROUP</th>\n",
       "      <th>SAMPLE</th>\n",
       "    </tr>\n",
       "  </thead>\n",
       "  <tbody>\n",
       "    <tr>\n",
       "      <th>0</th>\n",
       "      <td>MID1</td>\n",
       "      <td>EXTRACTION CONTROL</td>\n",
       "      <td>NaN</td>\n",
       "    </tr>\n",
       "    <tr>\n",
       "      <th>1</th>\n",
       "      <td>MID2</td>\n",
       "      <td>NEC 1</td>\n",
       "      <td>tissue</td>\n",
       "    </tr>\n",
       "    <tr>\n",
       "      <th>2</th>\n",
       "      <td>MID3</td>\n",
       "      <td>Control 1</td>\n",
       "      <td>tissue</td>\n",
       "    </tr>\n",
       "    <tr>\n",
       "      <th>3</th>\n",
       "      <td>MID4</td>\n",
       "      <td>NEC 2</td>\n",
       "      <td>tissue</td>\n",
       "    </tr>\n",
       "    <tr>\n",
       "      <th>4</th>\n",
       "      <td>MID5</td>\n",
       "      <td>Control 2</td>\n",
       "      <td>tissue</td>\n",
       "    </tr>\n",
       "    <tr>\n",
       "      <th>5</th>\n",
       "      <td>MID6</td>\n",
       "      <td>NEC 1</td>\n",
       "      <td>stool</td>\n",
       "    </tr>\n",
       "    <tr>\n",
       "      <th>6</th>\n",
       "      <td>MID7</td>\n",
       "      <td>Control 1</td>\n",
       "      <td>stool</td>\n",
       "    </tr>\n",
       "    <tr>\n",
       "      <th>7</th>\n",
       "      <td>MID8</td>\n",
       "      <td>NEC 2</td>\n",
       "      <td>stool</td>\n",
       "    </tr>\n",
       "    <tr>\n",
       "      <th>8</th>\n",
       "      <td>MID9</td>\n",
       "      <td>Control 2</td>\n",
       "      <td>stool</td>\n",
       "    </tr>\n",
       "  </tbody>\n",
       "</table>\n",
       "</div>"
      ],
      "text/plain": [
       "  BARCODE               GROUP  SAMPLE\n",
       "0    MID1  EXTRACTION CONTROL     NaN\n",
       "1    MID2               NEC 1  tissue\n",
       "2    MID3           Control 1  tissue\n",
       "3    MID4               NEC 2  tissue\n",
       "4    MID5           Control 2  tissue\n",
       "5    MID6               NEC 1   stool\n",
       "6    MID7           Control 1   stool\n",
       "7    MID8               NEC 2   stool\n",
       "8    MID9           Control 2   stool"
      ]
     },
     "execution_count": 34,
     "metadata": {},
     "output_type": "execute_result"
    }
   ],
   "source": [
    "metadata_df = pd.read_excel(DATA_FOLDER+'/microbiome'+'/metadata.xls')\n",
    "metadata_df"
   ]
  },
  {
   "cell_type": "markdown",
   "metadata": {},
   "source": [
    "### 2.2 Merging the dataframes"
   ]
  },
  {
   "cell_type": "markdown",
   "metadata": {},
   "source": [
    "The final goal is to obtain a single dataframe for the given data. We will need to obtain a table of the following format:\n",
    "\n",
    "| Description | Group | Tissue | Stool | Other |\n",
    "|-------------|-------|--------|-------|-------|\n",
    "|             |       |        |       |       |\n",
    "|             |       |        |       |       |\n",
    "|             |       |        |       |       |\n",
    "\n",
    "\n",
    "We will fill-in the last three collumns with the sample date we have in the given datatframes. The column will be chosen according to what the metadata provides. The same idea will be followed to fill-in the Group collumn with the correct information"
   ]
  },
  {
   "cell_type": "markdown",
   "metadata": {},
   "source": [
    "We create three dataframe containing the metadata informations for a single Sample type"
   ]
  },
  {
   "cell_type": "code",
   "execution_count": 35,
   "metadata": {},
   "outputs": [],
   "source": [
    "stool_metadata_df = metadata_df[metadata_df['SAMPLE'] == 'stool']\n",
    "tissue_metadata_df = metadata_df[metadata_df['SAMPLE'] == 'tissue']\n",
    "na_metadata_df = metadata_df[metadata_df['SAMPLE'].isnull()]"
   ]
  },
  {
   "cell_type": "markdown",
   "metadata": {},
   "source": [
    "Sample:"
   ]
  },
  {
   "cell_type": "code",
   "execution_count": 36,
   "metadata": {},
   "outputs": [
    {
     "data": {
      "text/html": [
       "<div>\n",
       "<style>\n",
       "    .dataframe thead tr:only-child th {\n",
       "        text-align: right;\n",
       "    }\n",
       "\n",
       "    .dataframe thead th {\n",
       "        text-align: left;\n",
       "    }\n",
       "\n",
       "    .dataframe tbody tr th {\n",
       "        vertical-align: top;\n",
       "    }\n",
       "</style>\n",
       "<table border=\"1\" class=\"dataframe\">\n",
       "  <thead>\n",
       "    <tr style=\"text-align: right;\">\n",
       "      <th></th>\n",
       "      <th>BARCODE</th>\n",
       "      <th>GROUP</th>\n",
       "      <th>SAMPLE</th>\n",
       "    </tr>\n",
       "  </thead>\n",
       "  <tbody>\n",
       "    <tr>\n",
       "      <th>1</th>\n",
       "      <td>MID2</td>\n",
       "      <td>NEC 1</td>\n",
       "      <td>tissue</td>\n",
       "    </tr>\n",
       "    <tr>\n",
       "      <th>2</th>\n",
       "      <td>MID3</td>\n",
       "      <td>Control 1</td>\n",
       "      <td>tissue</td>\n",
       "    </tr>\n",
       "    <tr>\n",
       "      <th>3</th>\n",
       "      <td>MID4</td>\n",
       "      <td>NEC 2</td>\n",
       "      <td>tissue</td>\n",
       "    </tr>\n",
       "    <tr>\n",
       "      <th>4</th>\n",
       "      <td>MID5</td>\n",
       "      <td>Control 2</td>\n",
       "      <td>tissue</td>\n",
       "    </tr>\n",
       "  </tbody>\n",
       "</table>\n",
       "</div>"
      ],
      "text/plain": [
       "  BARCODE      GROUP  SAMPLE\n",
       "1    MID2      NEC 1  tissue\n",
       "2    MID3  Control 1  tissue\n",
       "3    MID4      NEC 2  tissue\n",
       "4    MID5  Control 2  tissue"
      ]
     },
     "execution_count": 36,
     "metadata": {},
     "output_type": "execute_result"
    }
   ],
   "source": [
    "tissue_metadata_df"
   ]
  },
  {
   "cell_type": "markdown",
   "metadata": {},
   "source": [
    "We create three dataframes for the different samples according to what we have in the metatada dataframes obtained before"
   ]
  },
  {
   "cell_type": "code",
   "execution_count": 37,
   "metadata": {},
   "outputs": [],
   "source": [
    "raw_df = pd.merge(raw_df, metadata_df[['BARCODE', 'GROUP']], on=['BARCODE'])\n",
    "raw_df.rename(columns={0: 'Description', 1: 'Sample'}, inplace=True)\n",
    "\n",
    "stool_df = raw_df[raw_df['BARCODE'].isin(list(stool_metadata_df['BARCODE']))].drop('BARCODE', axis=1)\n",
    "stool_df.rename(columns={'Sample': 'Stool'}, inplace=True)\n",
    "              \n",
    "tissue_df = raw_df[raw_df['BARCODE'].isin(list(tissue_metadata_df['BARCODE']))].drop('BARCODE', axis=1)\n",
    "tissue_df.rename(columns={'Sample': 'Tissue'}, inplace=True)\n",
    "              \n",
    "na_df = raw_df[raw_df['BARCODE'].isin(list(na_metadata_df['BARCODE']))].drop('BARCODE', axis=1)\n",
    "na_df.rename(columns={'Sample': 'Other'}, inplace=True)"
   ]
  },
  {
   "cell_type": "markdown",
   "metadata": {},
   "source": [
    "Sample:"
   ]
  },
  {
   "cell_type": "code",
   "execution_count": 38,
   "metadata": {},
   "outputs": [
    {
     "data": {
      "text/html": [
       "<div>\n",
       "<style>\n",
       "    .dataframe thead tr:only-child th {\n",
       "        text-align: right;\n",
       "    }\n",
       "\n",
       "    .dataframe thead th {\n",
       "        text-align: left;\n",
       "    }\n",
       "\n",
       "    .dataframe tbody tr th {\n",
       "        vertical-align: top;\n",
       "    }\n",
       "</style>\n",
       "<table border=\"1\" class=\"dataframe\">\n",
       "  <thead>\n",
       "    <tr style=\"text-align: right;\">\n",
       "      <th></th>\n",
       "      <th>Description</th>\n",
       "      <th>Stool</th>\n",
       "      <th>GROUP</th>\n",
       "    </tr>\n",
       "  </thead>\n",
       "  <tbody>\n",
       "    <tr>\n",
       "      <th>134</th>\n",
       "      <td>Archaea \"Crenarchaeota\" Thermoprotei Desulfuro...</td>\n",
       "      <td>7</td>\n",
       "      <td>NEC 1</td>\n",
       "    </tr>\n",
       "    <tr>\n",
       "      <th>135</th>\n",
       "      <td>Archaea \"Crenarchaeota\" Thermoprotei Desulfuro...</td>\n",
       "      <td>1</td>\n",
       "      <td>NEC 1</td>\n",
       "    </tr>\n",
       "    <tr>\n",
       "      <th>136</th>\n",
       "      <td>Archaea \"Crenarchaeota\" Thermoprotei Desulfuro...</td>\n",
       "      <td>1</td>\n",
       "      <td>NEC 1</td>\n",
       "    </tr>\n",
       "    <tr>\n",
       "      <th>137</th>\n",
       "      <td>Archaea \"Crenarchaeota\" Thermoprotei Desulfuro...</td>\n",
       "      <td>2</td>\n",
       "      <td>NEC 1</td>\n",
       "    </tr>\n",
       "    <tr>\n",
       "      <th>138</th>\n",
       "      <td>Archaea \"Crenarchaeota\" Thermoprotei Sulfoloba...</td>\n",
       "      <td>5</td>\n",
       "      <td>NEC 1</td>\n",
       "    </tr>\n",
       "  </tbody>\n",
       "</table>\n",
       "</div>"
      ],
      "text/plain": [
       "                                           Description  Stool  GROUP\n",
       "134  Archaea \"Crenarchaeota\" Thermoprotei Desulfuro...      7  NEC 1\n",
       "135  Archaea \"Crenarchaeota\" Thermoprotei Desulfuro...      1  NEC 1\n",
       "136  Archaea \"Crenarchaeota\" Thermoprotei Desulfuro...      1  NEC 1\n",
       "137  Archaea \"Crenarchaeota\" Thermoprotei Desulfuro...      2  NEC 1\n",
       "138  Archaea \"Crenarchaeota\" Thermoprotei Sulfoloba...      5  NEC 1"
      ]
     },
     "execution_count": 38,
     "metadata": {},
     "output_type": "execute_result"
    }
   ],
   "source": [
    "stool_df.head()"
   ]
  },
  {
   "cell_type": "markdown",
   "metadata": {},
   "source": [
    "We merge those three temporary dataframes into a single one"
   ]
  },
  {
   "cell_type": "code",
   "execution_count": 39,
   "metadata": {},
   "outputs": [
    {
     "data": {
      "text/html": [
       "<div>\n",
       "<style>\n",
       "    .dataframe thead tr:only-child th {\n",
       "        text-align: right;\n",
       "    }\n",
       "\n",
       "    .dataframe thead th {\n",
       "        text-align: left;\n",
       "    }\n",
       "\n",
       "    .dataframe tbody tr th {\n",
       "        vertical-align: top;\n",
       "    }\n",
       "</style>\n",
       "<table border=\"1\" class=\"dataframe\">\n",
       "  <thead>\n",
       "    <tr style=\"text-align: right;\">\n",
       "      <th></th>\n",
       "      <th>Description</th>\n",
       "      <th>Stool</th>\n",
       "      <th>GROUP</th>\n",
       "      <th>Tissue</th>\n",
       "      <th>Other</th>\n",
       "    </tr>\n",
       "  </thead>\n",
       "  <tbody>\n",
       "    <tr>\n",
       "      <th>0</th>\n",
       "      <td>Archaea \"Crenarchaeota\" Thermoprotei Desulfuro...</td>\n",
       "      <td>7.0</td>\n",
       "      <td>NEC 1</td>\n",
       "      <td>23.0</td>\n",
       "      <td>NaN</td>\n",
       "    </tr>\n",
       "    <tr>\n",
       "      <th>1</th>\n",
       "      <td>Archaea \"Crenarchaeota\" Thermoprotei Desulfuro...</td>\n",
       "      <td>1.0</td>\n",
       "      <td>NEC 1</td>\n",
       "      <td>1.0</td>\n",
       "      <td>NaN</td>\n",
       "    </tr>\n",
       "    <tr>\n",
       "      <th>2</th>\n",
       "      <td>Archaea \"Crenarchaeota\" Thermoprotei Desulfuro...</td>\n",
       "      <td>1.0</td>\n",
       "      <td>NEC 1</td>\n",
       "      <td>NaN</td>\n",
       "      <td>NaN</td>\n",
       "    </tr>\n",
       "    <tr>\n",
       "      <th>3</th>\n",
       "      <td>Archaea \"Crenarchaeota\" Thermoprotei Desulfuro...</td>\n",
       "      <td>2.0</td>\n",
       "      <td>NEC 1</td>\n",
       "      <td>2.0</td>\n",
       "      <td>NaN</td>\n",
       "    </tr>\n",
       "    <tr>\n",
       "      <th>4</th>\n",
       "      <td>Archaea \"Crenarchaeota\" Thermoprotei Sulfoloba...</td>\n",
       "      <td>5.0</td>\n",
       "      <td>NEC 1</td>\n",
       "      <td>10.0</td>\n",
       "      <td>NaN</td>\n",
       "    </tr>\n",
       "  </tbody>\n",
       "</table>\n",
       "</div>"
      ],
      "text/plain": [
       "                                         Description  Stool  GROUP  Tissue  \\\n",
       "0  Archaea \"Crenarchaeota\" Thermoprotei Desulfuro...    7.0  NEC 1    23.0   \n",
       "1  Archaea \"Crenarchaeota\" Thermoprotei Desulfuro...    1.0  NEC 1     1.0   \n",
       "2  Archaea \"Crenarchaeota\" Thermoprotei Desulfuro...    1.0  NEC 1     NaN   \n",
       "3  Archaea \"Crenarchaeota\" Thermoprotei Desulfuro...    2.0  NEC 1     2.0   \n",
       "4  Archaea \"Crenarchaeota\" Thermoprotei Sulfoloba...    5.0  NEC 1    10.0   \n",
       "\n",
       "   Other  \n",
       "0    NaN  \n",
       "1    NaN  \n",
       "2    NaN  \n",
       "3    NaN  \n",
       "4    NaN  "
      ]
     },
     "execution_count": 39,
     "metadata": {},
     "output_type": "execute_result"
    }
   ],
   "source": [
    "merged_df = pd.merge(stool_df, tissue_df, how='outer', on=['Description', 'GROUP'])\n",
    "merged_df = pd.merge(merged_df, na_df, how='outer', on=['Description', 'GROUP'])\n",
    "merged_df.head()"
   ]
  },
  {
   "cell_type": "markdown",
   "metadata": {},
   "source": [
    "To complete the task, we fill the NaN values of the dataset with the 'unknown' value and we clear the general format of the table"
   ]
  },
  {
   "cell_type": "code",
   "execution_count": 40,
   "metadata": {},
   "outputs": [
    {
     "data": {
      "text/html": [
       "<div>\n",
       "<style>\n",
       "    .dataframe thead tr:only-child th {\n",
       "        text-align: right;\n",
       "    }\n",
       "\n",
       "    .dataframe thead th {\n",
       "        text-align: left;\n",
       "    }\n",
       "\n",
       "    .dataframe tbody tr th {\n",
       "        vertical-align: top;\n",
       "    }\n",
       "</style>\n",
       "<table border=\"1\" class=\"dataframe\">\n",
       "  <thead>\n",
       "    <tr style=\"text-align: right;\">\n",
       "      <th></th>\n",
       "      <th>Description</th>\n",
       "      <th>Stool</th>\n",
       "      <th>Group</th>\n",
       "      <th>Tissue</th>\n",
       "      <th>Other</th>\n",
       "    </tr>\n",
       "  </thead>\n",
       "  <tbody>\n",
       "    <tr>\n",
       "      <th>0</th>\n",
       "      <td>Archaea \"Crenarchaeota\" Thermoprotei Desulfuro...</td>\n",
       "      <td>7</td>\n",
       "      <td>NEC 1</td>\n",
       "      <td>23</td>\n",
       "      <td>unknown</td>\n",
       "    </tr>\n",
       "    <tr>\n",
       "      <th>1</th>\n",
       "      <td>Archaea \"Crenarchaeota\" Thermoprotei Desulfuro...</td>\n",
       "      <td>1</td>\n",
       "      <td>NEC 1</td>\n",
       "      <td>1</td>\n",
       "      <td>unknown</td>\n",
       "    </tr>\n",
       "    <tr>\n",
       "      <th>2</th>\n",
       "      <td>Archaea \"Crenarchaeota\" Thermoprotei Desulfuro...</td>\n",
       "      <td>1</td>\n",
       "      <td>NEC 1</td>\n",
       "      <td>unknown</td>\n",
       "      <td>unknown</td>\n",
       "    </tr>\n",
       "    <tr>\n",
       "      <th>3</th>\n",
       "      <td>Archaea \"Crenarchaeota\" Thermoprotei Desulfuro...</td>\n",
       "      <td>2</td>\n",
       "      <td>NEC 1</td>\n",
       "      <td>2</td>\n",
       "      <td>unknown</td>\n",
       "    </tr>\n",
       "    <tr>\n",
       "      <th>4</th>\n",
       "      <td>Archaea \"Crenarchaeota\" Thermoprotei Sulfoloba...</td>\n",
       "      <td>5</td>\n",
       "      <td>NEC 1</td>\n",
       "      <td>10</td>\n",
       "      <td>unknown</td>\n",
       "    </tr>\n",
       "  </tbody>\n",
       "</table>\n",
       "</div>"
      ],
      "text/plain": [
       "                                         Description Stool  Group   Tissue  \\\n",
       "0  Archaea \"Crenarchaeota\" Thermoprotei Desulfuro...     7  NEC 1       23   \n",
       "1  Archaea \"Crenarchaeota\" Thermoprotei Desulfuro...     1  NEC 1        1   \n",
       "2  Archaea \"Crenarchaeota\" Thermoprotei Desulfuro...     1  NEC 1  unknown   \n",
       "3  Archaea \"Crenarchaeota\" Thermoprotei Desulfuro...     2  NEC 1        2   \n",
       "4  Archaea \"Crenarchaeota\" Thermoprotei Sulfoloba...     5  NEC 1       10   \n",
       "\n",
       "     Other  \n",
       "0  unknown  \n",
       "1  unknown  \n",
       "2  unknown  \n",
       "3  unknown  \n",
       "4  unknown  "
      ]
     },
     "execution_count": 40,
     "metadata": {},
     "output_type": "execute_result"
    }
   ],
   "source": [
    "# Fill of the 'unknown' value for NaNs\n",
    "merged_df.fillna('unknown', inplace=True)\n",
    "\n",
    "# Final cleaning up of the table schema\n",
    "merged_df.rename(columns={'GROUP':'Group'}, inplace=True)\n",
    "\n",
    "merged_df.head()"
   ]
  },
  {
   "cell_type": "code",
   "execution_count": null,
   "metadata": {},
   "outputs": [],
   "source": [
    "## OTHER POSSIBILITY FOR THIS TASK\n",
    "\n",
    "def return_from_barcode(barcode, dictionary):\n",
    "    for x in dictionary:\n",
    "        if barcode in dictionary[x]:\n",
    "            return x\n",
    "    return None\n",
    "\n",
    "parsed_df = raw_df.copy()\n",
    "\n",
    "groups_dictionary = {}\n",
    "for group in metadata_df['GROUP'].unique():\n",
    "    groups_dictionary[group] = metadata_df[metadata_df['GROUP'] == group]['BARCODE'].values\n",
    "\n",
    "parsed_df['GROUP'] = parsed_df['BARCODE'].map(lambda x: return_from_barcode(x, groups_dictionary))\n",
    "parsed_df.rename(columns={1: 'VALUE', 0: 'GENUS'}, inplace=True)\n",
    "parsed_df.reset_index(inplace=True, drop=True)\n",
    "\n",
    "samples_dictionary = {'Nan': ['MID1']}\n",
    "for sample in metadata_df['SAMPLE'].unique():\n",
    "    samples_dictionary[sample] = metadata_df[metadata_df['SAMPLE'] == sample]['BARCODE'].values\n",
    "\n",
    "parsed_df['SAMPLE'] = parsed_df['BARCODE'].map(lambda x: sample_from_barcode(x, samples_dictionary))\n",
    "\n",
    "parsed_df"
   ]
  },
  {
   "cell_type": "markdown",
   "metadata": {},
   "source": [
    "## Task 3. Class War in Titanic\n",
    "\n",
    "Use pandas to import the data file `Data/titanic.xls`. It contains data on all the passengers that travelled on the Titanic."
   ]
  },
  {
   "cell_type": "code",
   "execution_count": null,
   "metadata": {},
   "outputs": [],
   "source": [
    "from IPython.core.display import HTML\n",
    "HTML(filename=DATA_FOLDER+'/titanic.html')"
   ]
  },
  {
   "cell_type": "markdown",
   "metadata": {},
   "source": [
    "For each of the following questions state clearly your assumptions and discuss your findings:\n",
    "1. Describe the *type* and the *value range* of each attribute. Indicate and transform the attributes that can be `Categorical`. \n",
    "2. Plot histograms for the *travel class*, *embarkation port*, *sex* and *age* attributes. For the latter one, use *discrete decade intervals*. \n",
    "3. Calculate the proportion of passengers by *cabin floor*. Present your results in a *pie chart*.\n",
    "4. For each *travel class*, calculate the proportion of the passengers that survived. Present your results in *pie charts*.\n",
    "5. Calculate the proportion of the passengers that survived by *travel class* and *sex*. Present your results in *a single histogram*.\n",
    "6. Create 2 equally populated *age categories* and calculate survival proportions by *age category*, *travel class* and *sex*. Present your results in a `DataFrame` with unique index."
   ]
  },
  {
   "cell_type": "code",
   "execution_count": null,
   "metadata": {},
   "outputs": [],
   "source": [
    "# Write your answer here"
   ]
  }
 ],
 "metadata": {
  "kernelspec": {
   "display_name": "Python [default]",
   "language": "python",
   "name": "python3"
  },
  "language_info": {
   "codemirror_mode": {
    "name": "ipython",
    "version": 3
   },
   "file_extension": ".py",
   "mimetype": "text/x-python",
   "name": "python",
   "nbconvert_exporter": "python",
   "pygments_lexer": "ipython3",
   "version": "3.6.1"
  }
 },
 "nbformat": 4,
 "nbformat_minor": 2
}
