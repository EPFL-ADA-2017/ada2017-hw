{
 "cells": [
  {
   "cell_type": "markdown",
   "metadata": {},
   "source": [
    "# Imports"
   ]
  },
  {
   "cell_type": "code",
   "execution_count": 1,
   "metadata": {
    "collapsed": true
   },
   "outputs": [],
   "source": [
    "import math\n",
    "import pandas as pd\n",
    "import numpy as np\n",
    "import glob\n",
    "import datetime\n",
    "import seaborn as sns\n",
    "import matplotlib.pyplot as plt\n",
    "from calendar import monthrange\n",
    "pd.options.mode.chained_assignment = None\n",
    "\n",
    "%matplotlib inline"
   ]
  },
  {
   "cell_type": "markdown",
   "metadata": {},
   "source": [
    "# Table of Contents\n",
    " <p><div class=\"lev1\"><a href=\"#Task-1.-Compiling-Ebola-Data\"><span class=\"toc-item-num\">Task 1.&nbsp;&nbsp;</span>Compiling Ebola Data</a></div>\n",
    " <div class=\"lev1\"><a href=\"#Task-2.-RNA-Sequences\"><span class=\"toc-item-num\">Task 2.&nbsp;&nbsp;</span>RNA Sequences</a></div>\n",
    " <div class=\"lev1\"><a href=\"#Task-3.-Class-War-in-Titanic\"><span class=\"toc-item-num\">Task 3.&nbsp;&nbsp;</span>Class War in Titanic</a></div></p>"
   ]
  },
  {
   "cell_type": "code",
   "execution_count": 2,
   "metadata": {
    "collapsed": true
   },
   "outputs": [],
   "source": [
    "DATA_FOLDER = 'Data' # Use the data folder provided in Tutorial 02 - Intro to Pandas."
   ]
  },
  {
   "cell_type": "markdown",
   "metadata": {},
   "source": [
    "## Task 1. Compiling Ebola Data\n",
    "\n",
    "The `DATA_FOLDER/ebola` folder contains summarized reports of Ebola cases from three countries (Guinea, Liberia and Sierra Leone) during the recent outbreak of the disease in West Africa. For each country, there are daily reports that contain various information about the outbreak in several cities in each country.\n",
    "\n",
    "Use pandas to import these data files into a single `Dataframe`.\n",
    "Using this `DataFrame`, calculate for *each country*, the *daily average per month* of *new cases* and *deaths*.\n",
    "Make sure you handle all the different expressions for *new cases* and *deaths* that are used in the reports."
   ]
  },
  {
   "cell_type": "markdown",
   "metadata": {},
   "source": [
    "### 1.1 Constants"
   ]
  },
  {
   "cell_type": "code",
   "execution_count": 3,
   "metadata": {
    "collapsed": true
   },
   "outputs": [],
   "source": [
    "DEFAULT_NAME_COLUMN_DATE = 'Date'\n",
    "DEFAULT_NAME_COLUMN_DESCRIPTION = 'Description'\n",
    "DEFAULT_NAME_COLUMN_TOTAL = 'Totals'\n",
    "DEFAULT_NAME_COLUMN_COUNTRY = 'Country'\n",
    "\n",
    "DEFAULT_NAME_ROW_DESCRIPTION_NEW_CASES = 'New cases'\n",
    "DEFAULT_NAME_ROW_DESCRIPTION_NEW_DEATHS = 'New deaths'\n",
    "\n",
    "DEFAULT_DATA_FORMAT = '%Y-%m-%d'"
   ]
  },
  {
   "cell_type": "markdown",
   "metadata": {},
   "source": [
    "The definitions of the basic schema and formats for the given dataset are stored in the following dictionaries:"
   ]
  },
  {
   "cell_type": "code",
   "execution_count": 4,
   "metadata": {
    "collapsed": true
   },
   "outputs": [],
   "source": [
    "country_keys = ['guinea', 'liberia', 'sl']\n",
    "paths = {x: DATA_FOLDER + '/ebola/'+ x + '_data' for x in country_keys}\n",
    "countries = {'guinea': 'Guinea', 'liberia': 'Liberia', 'sl': 'Sierra Leone'}\n",
    "\n",
    "wanted_columns = {'guinea': ['Date', 'Description', 'Totals'],\n",
    "                      'liberia': ['Date', 'Variable', 'National'],\n",
    "                      'sl': ['date', 'variable', 'National']}\n",
    "\n",
    "date_original_formats = {'guinea': ['%Y-%m-%d', '%y-%m-%d'],\n",
    "                         'liberia': ['%m/%d/%Y', '%m/%d/%y'],\n",
    "                         'sl': ['%Y-%m-%d', '%y-%m-%d']}"
   ]
  },
  {
   "cell_type": "markdown",
   "metadata": {},
   "source": [
    "### 1.2 Auxiliary functions"
   ]
  },
  {
   "cell_type": "code",
   "execution_count": 5,
   "metadata": {
    "collapsed": true
   },
   "outputs": [],
   "source": [
    "def sanitize_date(date, original_formats):\n",
    "    '''\n",
    "    Transform a string-type date - with a certain original\n",
    "    format - into a string with the date in the default format.\n",
    "    '''\n",
    "    date_rep = None\n",
    "    try:\n",
    "        date_rep = datetime.datetime.strptime(date, original_formats[0])\n",
    "    except ValueError:\n",
    "        date_rep = datetime.datetime.strptime(date, original_formats[1])\n",
    "    return date_rep.strftime(DEFAULT_DATA_FORMAT)"
   ]
  },
  {
   "cell_type": "code",
   "execution_count": 6,
   "metadata": {
    "collapsed": true
   },
   "outputs": [],
   "source": [
    "def estimate_daily_from_cum(np_list):\n",
    "    '''\n",
    "    Given a list of accumulated data, calculate the daily \n",
    "    'new' values, for deaths and cases.\n",
    "    It assumes date-ordered data.\n",
    "    '''\n",
    "    last_known_n = -1\n",
    "    final_list = list()\n",
    "    for i, elem in np_list.iteritems():\n",
    "        if (math.isnan(elem)):\n",
    "            final_list.append(0)\n",
    "        else:\n",
    "            if (last_known_n == -1):\n",
    "                final_list.append(0)\n",
    "            else:\n",
    "                final_list.append(elem - last_known_n)\n",
    "            last_known_n = elem\n",
    "    return np.array(final_list)"
   ]
  },
  {
   "cell_type": "markdown",
   "metadata": {},
   "source": [
    "### 1.3 Read files"
   ]
  },
  {
   "cell_type": "markdown",
   "metadata": {},
   "source": [
    "We create a dictionary `dataframe_dict` that contains, for each country, the corresponding dataframe.\n",
    "\n",
    "After reading each dataframe we apply the function `sanitize_date` to the `Date` column - to make sure that the format used for the date is consistent - and we then sort the rows in each dataframe according to it."
   ]
  },
  {
   "cell_type": "code",
   "execution_count": 7,
   "metadata": {
    "collapsed": true
   },
   "outputs": [],
   "source": [
    "dataframe_dict = {}\n",
    "\n",
    "for i in country_keys:\n",
    "    temp_list = []\n",
    "    all_files = glob.glob(paths[i] + '/*.csv')\n",
    "    for file in all_files:\n",
    "        temp_df = pd.read_csv(file)\n",
    "        temp_list.append(temp_df)\n",
    "    dataframe_dict[i] = pd.concat(temp_list)\n",
    "    \n",
    "    # Format dates and order dataframes by date\n",
    "    dataframe_dict[i][wanted_columns[i][0]] = np.array([sanitize_date(x, date_original_formats[i])\n",
    "                                                        for x in dataframe_dict[i][wanted_columns[i][0]]])\n",
    "    \n",
    "    dataframe_dict[i][wanted_columns[i][0]] = pd.to_datetime(dataframe_dict[i][wanted_columns[i][0]])\n",
    "    dataframe_dict[i].sort_values(by=wanted_columns[i][0])"
   ]
  },
  {
   "cell_type": "markdown",
   "metadata": {},
   "source": [
    "### 1.4 Parsing data for each country"
   ]
  },
  {
   "cell_type": "markdown",
   "metadata": {},
   "source": [
    "The goal of the parsing auxiliary functions is to obtain a *standard* datataset for each country. We want to extract the useful data for our task while reorganizing the schema and data format to develop a general coherence.\n",
    "\n",
    "In particular, we want to obtain the daily number of `new deaths` and `new cases` registered for each country.\n",
    "\n",
    "***N.B.*** The resulting dataframes do not have the indexing reformatted. Since they will later be concatenated in a single dataframe and reset all-together, we decided that this intermediate indexing would be unnecessary."
   ]
  },
  {
   "cell_type": "markdown",
   "metadata": {},
   "source": [
    "#### 1.4.1 Guinea"
   ]
  },
  {
   "cell_type": "markdown",
   "metadata": {},
   "source": [
    "In order to parse the Guinea dataset we considered the variables ```New deaths registered``` (or ```New deaths registered today``` when it was used instead of the previous one) and ```Total new cases registered so far```. These variables represent the daily number of deaths and cases respectively."
   ]
  },
  {
   "cell_type": "code",
   "execution_count": 8,
   "metadata": {
    "collapsed": true
   },
   "outputs": [],
   "source": [
    "# Select certain column from the CSV formatted files\n",
    "parsed_guinea_df = dataframe_dict['guinea'][wanted_columns['guinea']]\n",
    "guinea_wanted_row_list = ['Total new cases registered so far',\n",
    "                          'New deaths registered',\n",
    "                          'New deaths registered today']\n",
    "\n",
    "# Select all the rows that match desired names for 'Description' column\n",
    "parsed_guinea_df = parsed_guinea_df[parsed_guinea_df['Description'].isin(guinea_wanted_row_list)]\n",
    "\n",
    "# Rename every row value for 'Description' column \n",
    "parsed_guinea_df.loc[parsed_guinea_df['Description'] ==\n",
    "                     guinea_wanted_row_list[0], 'Description'] = DEFAULT_NAME_ROW_DESCRIPTION_NEW_CASES\n",
    "\n",
    "parsed_guinea_df.loc[parsed_guinea_df['Description'] ==\n",
    "                     guinea_wanted_row_list[1], 'Description'] = DEFAULT_NAME_ROW_DESCRIPTION_NEW_DEATHS\n",
    "\n",
    "parsed_guinea_df.loc[parsed_guinea_df['Description'] ==\n",
    "                     guinea_wanted_row_list[2], 'Description'] = DEFAULT_NAME_ROW_DESCRIPTION_NEW_DEATHS\n",
    "\n",
    "# Add 'Country' column to dataframe\n",
    "parsed_guinea_df[DEFAULT_NAME_COLUMN_COUNTRY] = countries['guinea']"
   ]
  },
  {
   "cell_type": "markdown",
   "metadata": {},
   "source": [
    "Sample:"
   ]
  },
  {
   "cell_type": "code",
   "execution_count": 9,
   "metadata": {},
   "outputs": [
    {
     "data": {
      "text/html": [
       "<div>\n",
       "<style>\n",
       "    .dataframe thead tr:only-child th {\n",
       "        text-align: right;\n",
       "    }\n",
       "\n",
       "    .dataframe thead th {\n",
       "        text-align: left;\n",
       "    }\n",
       "\n",
       "    .dataframe tbody tr th {\n",
       "        vertical-align: top;\n",
       "    }\n",
       "</style>\n",
       "<table border=\"1\" class=\"dataframe\">\n",
       "  <thead>\n",
       "    <tr style=\"text-align: right;\">\n",
       "      <th></th>\n",
       "      <th>Date</th>\n",
       "      <th>Description</th>\n",
       "      <th>Totals</th>\n",
       "      <th>Country</th>\n",
       "    </tr>\n",
       "  </thead>\n",
       "  <tbody>\n",
       "    <tr>\n",
       "      <th>3</th>\n",
       "      <td>2014-08-04</td>\n",
       "      <td>New cases</td>\n",
       "      <td>9</td>\n",
       "      <td>Guinea</td>\n",
       "    </tr>\n",
       "    <tr>\n",
       "      <th>8</th>\n",
       "      <td>2014-08-04</td>\n",
       "      <td>New deaths</td>\n",
       "      <td>2</td>\n",
       "      <td>Guinea</td>\n",
       "    </tr>\n",
       "    <tr>\n",
       "      <th>3</th>\n",
       "      <td>2014-08-26</td>\n",
       "      <td>New cases</td>\n",
       "      <td>28</td>\n",
       "      <td>Guinea</td>\n",
       "    </tr>\n",
       "    <tr>\n",
       "      <th>9</th>\n",
       "      <td>2014-08-26</td>\n",
       "      <td>New deaths</td>\n",
       "      <td>5</td>\n",
       "      <td>Guinea</td>\n",
       "    </tr>\n",
       "    <tr>\n",
       "      <th>3</th>\n",
       "      <td>2014-08-27</td>\n",
       "      <td>New cases</td>\n",
       "      <td>22</td>\n",
       "      <td>Guinea</td>\n",
       "    </tr>\n",
       "  </tbody>\n",
       "</table>\n",
       "</div>"
      ],
      "text/plain": [
       "        Date Description Totals Country\n",
       "3 2014-08-04   New cases      9  Guinea\n",
       "8 2014-08-04  New deaths      2  Guinea\n",
       "3 2014-08-26   New cases     28  Guinea\n",
       "9 2014-08-26  New deaths      5  Guinea\n",
       "3 2014-08-27   New cases     22  Guinea"
      ]
     },
     "execution_count": 9,
     "metadata": {},
     "output_type": "execute_result"
    }
   ],
   "source": [
    "parsed_guinea_df.head()"
   ]
  },
  {
   "cell_type": "markdown",
   "metadata": {},
   "source": [
    "#### 1.4.2 Liberia"
   ]
  },
  {
   "cell_type": "markdown",
   "metadata": {},
   "source": [
    "In order to parse the Liberia dataset we considered the `Newly reported deaths` variable, which represents the daily number of deaths. On the other hand, to handle the new cases data we had to do some manipulations. \n",
    "\n",
    "The number of new (daily) cases comes in three different variables:\n",
    "* `New Case/s (Suspected)`\n",
    "* `New Case/s (Probable)`\n",
    "* `New Case/s (confirmed)` \n",
    "\n",
    "These have to be summed up to obtain the total value of new cases."
   ]
  },
  {
   "cell_type": "code",
   "execution_count": 10,
   "metadata": {
    "collapsed": true
   },
   "outputs": [],
   "source": [
    "# Select certain columns from the CSV formatted files\n",
    "liberia_df = dataframe_dict['liberia'][wanted_columns['liberia']]\n",
    "\n",
    "liberia_wanted_row_list = ['New Case/s (Suspected)',\n",
    "                   'New Case/s (Probable)',\n",
    "                   'New case/s (confirmed)',\n",
    "                   'Newly reported deaths',\n",
    "                   'Total suspected cases',\n",
    "                   'Total probable cases',\n",
    "                   'Total confirmed cases']"
   ]
  },
  {
   "cell_type": "markdown",
   "metadata": {},
   "source": [
    "However, the data comes with strangely big new cases values for the last days of the report:"
   ]
  },
  {
   "cell_type": "code",
   "execution_count": 11,
   "metadata": {},
   "outputs": [
    {
     "data": {
      "text/html": [
       "<div>\n",
       "<style>\n",
       "    .dataframe thead tr:only-child th {\n",
       "        text-align: right;\n",
       "    }\n",
       "\n",
       "    .dataframe thead th {\n",
       "        text-align: left;\n",
       "    }\n",
       "\n",
       "    .dataframe tbody tr th {\n",
       "        vertical-align: top;\n",
       "    }\n",
       "</style>\n",
       "<table border=\"1\" class=\"dataframe\">\n",
       "  <thead>\n",
       "    <tr style=\"text-align: right;\">\n",
       "      <th></th>\n",
       "      <th>Date</th>\n",
       "      <th>Variable</th>\n",
       "      <th>National</th>\n",
       "    </tr>\n",
       "  </thead>\n",
       "  <tbody>\n",
       "    <tr>\n",
       "      <th>25</th>\n",
       "      <td>2014-12-01</td>\n",
       "      <td>New case/s (confirmed)</td>\n",
       "      <td>1.0</td>\n",
       "    </tr>\n",
       "    <tr>\n",
       "      <th>25</th>\n",
       "      <td>2014-12-02</td>\n",
       "      <td>New case/s (confirmed)</td>\n",
       "      <td>9.0</td>\n",
       "    </tr>\n",
       "    <tr>\n",
       "      <th>25</th>\n",
       "      <td>2014-12-03</td>\n",
       "      <td>New case/s (confirmed)</td>\n",
       "      <td>NaN</td>\n",
       "    </tr>\n",
       "    <tr>\n",
       "      <th>25</th>\n",
       "      <td>2014-12-04</td>\n",
       "      <td>New case/s (confirmed)</td>\n",
       "      <td>2867.0</td>\n",
       "    </tr>\n",
       "    <tr>\n",
       "      <th>25</th>\n",
       "      <td>2014-12-05</td>\n",
       "      <td>New case/s (confirmed)</td>\n",
       "      <td>2867.0</td>\n",
       "    </tr>\n",
       "    <tr>\n",
       "      <th>25</th>\n",
       "      <td>2014-12-06</td>\n",
       "      <td>New case/s (confirmed)</td>\n",
       "      <td>2869.0</td>\n",
       "    </tr>\n",
       "    <tr>\n",
       "      <th>25</th>\n",
       "      <td>2014-12-07</td>\n",
       "      <td>New case/s (confirmed)</td>\n",
       "      <td>2869.0</td>\n",
       "    </tr>\n",
       "    <tr>\n",
       "      <th>25</th>\n",
       "      <td>2014-12-08</td>\n",
       "      <td>New case/s (confirmed)</td>\n",
       "      <td>2927.0</td>\n",
       "    </tr>\n",
       "    <tr>\n",
       "      <th>25</th>\n",
       "      <td>2014-12-09</td>\n",
       "      <td>New case/s (confirmed)</td>\n",
       "      <td>2946.0</td>\n",
       "    </tr>\n",
       "  </tbody>\n",
       "</table>\n",
       "</div>"
      ],
      "text/plain": [
       "         Date                Variable  National\n",
       "25 2014-12-01  New case/s (confirmed)       1.0\n",
       "25 2014-12-02  New case/s (confirmed)       9.0\n",
       "25 2014-12-03  New case/s (confirmed)       NaN\n",
       "25 2014-12-04  New case/s (confirmed)    2867.0\n",
       "25 2014-12-05  New case/s (confirmed)    2867.0\n",
       "25 2014-12-06  New case/s (confirmed)    2869.0\n",
       "25 2014-12-07  New case/s (confirmed)    2869.0\n",
       "25 2014-12-08  New case/s (confirmed)    2927.0\n",
       "25 2014-12-09  New case/s (confirmed)    2946.0"
      ]
     },
     "execution_count": 11,
     "metadata": {},
     "output_type": "execute_result"
    }
   ],
   "source": [
    "liberia_df[(liberia_df['Variable'] == 'New case/s (confirmed)') &\n",
    "           (liberia_df['Date'].apply(lambda x: x.month) == 12)].sort_values(by=['Date'])"
   ]
  },
  {
   "cell_type": "markdown",
   "metadata": {},
   "source": [
    "We concluded that those numbers couldn't be correct. As we found a correlation between those values and the total new cases accumulator for the past days, we assumed the data as been inputted on the wrong part of the table.\n",
    "\n",
    "The new cases data for the last month of the report were therefore calculated from the daily difference of the cases accumulators, while we took the daily values for the rest of the months."
   ]
  },
  {
   "cell_type": "code",
   "execution_count": 12,
   "metadata": {
    "collapsed": true
   },
   "outputs": [],
   "source": [
    "# Create temporary dataframes for new case entries\n",
    "# Take accumulated cases for the last month of the report (before the 4th, exclusively)\n",
    "liberia_df_cum_cases_1 = liberia_df[liberia_df['Variable'].isin(liberia_wanted_row_list[4:7])]\n",
    "liberia_df_cum_cases_1 = liberia_df_cum_cases_1[liberia_df_cum_cases_1['Date'].map(\n",
    "    lambda x: x.month == 12 and x.day <= 3)]\n",
    "liberia_df_cum_cases_1 = liberia_df_cum_cases_1.groupby('Date').sum()\n",
    "\n",
    "# Take accumulated cases for the last month of the report (after the 4th, inclusively)\n",
    "liberia_df_cum_cases_2 = liberia_df[liberia_df['Variable'].isin(liberia_wanted_row_list[0:3])]\n",
    "liberia_df_cum_cases_2 = liberia_df_cum_cases_2[liberia_df_cum_cases_2['Date'].map(\n",
    "    lambda x: x.month == 12 and x.day > 3)]\n",
    "liberia_df_cum_cases_2 = liberia_df_cum_cases_2.groupby('Date').sum()\n",
    "\n",
    "liberia_df_cum_cases = pd.concat([liberia_df_cum_cases_1, liberia_df_cum_cases_2])\n",
    "liberia_df_cum_cases['National'] = estimate_daily_from_cum(liberia_df_cum_cases['National'])\n",
    "\n",
    "# Take daily cases for the other months\n",
    "liberia_df_new_cases = liberia_df[liberia_df['Variable'].isin(liberia_wanted_row_list[0:3])]\n",
    "liberia_df_new_cases = liberia_df_new_cases[liberia_df_new_cases['Date'].map(\n",
    "    lambda x: x.month != 12)]\n",
    "\n",
    "# Get dataframe with new cases for all months\n",
    "liberia_df_new_cases = pd.concat([liberia_df_new_cases, liberia_df_cum_cases])\n",
    "\n",
    "# Sum all of the values for 'Probable', 'Variable' and 'Confirmed' new cases\n",
    "liberia_df_new_cases = liberia_df_new_cases.groupby('Date').sum()\n",
    "\n",
    "liberia_df_new_cases['Date'] = liberia_df_new_cases.index\n",
    "liberia_df_new_cases['Variable'] = DEFAULT_NAME_ROW_DESCRIPTION_NEW_CASES"
   ]
  },
  {
   "cell_type": "code",
   "execution_count": 13,
   "metadata": {
    "collapsed": true
   },
   "outputs": [],
   "source": [
    "# Create temporary dataframe for new deaths entries\n",
    "liberia_df_new_deaths = liberia_df[liberia_df['Variable'] == liberia_wanted_row_list[3]]\n",
    "liberia_df_new_deaths['Variable'] = DEFAULT_NAME_ROW_DESCRIPTION_NEW_DEATHS"
   ]
  },
  {
   "cell_type": "code",
   "execution_count": 14,
   "metadata": {
    "collapsed": true
   },
   "outputs": [],
   "source": [
    "# Create dataframe with new deaths and cases (concatenating the two temporary)\n",
    "parsed_liberia_df = pd.concat([liberia_df_new_cases, liberia_df_new_deaths])\n",
    "\n",
    "parsed_liberia_df.rename(columns={'Date': DEFAULT_NAME_COLUMN_DATE,\n",
    "                                  'Variable': DEFAULT_NAME_COLUMN_DESCRIPTION,\n",
    "                                  'National': DEFAULT_NAME_COLUMN_TOTAL}, inplace=True)\n",
    "\n",
    "# Add 'Country' column to dataframe\n",
    "parsed_liberia_df[DEFAULT_NAME_COLUMN_COUNTRY] = countries['liberia']"
   ]
  },
  {
   "cell_type": "markdown",
   "metadata": {},
   "source": [
    "Sample:"
   ]
  },
  {
   "cell_type": "code",
   "execution_count": 15,
   "metadata": {},
   "outputs": [
    {
     "data": {
      "text/html": [
       "<div>\n",
       "<style>\n",
       "    .dataframe thead tr:only-child th {\n",
       "        text-align: right;\n",
       "    }\n",
       "\n",
       "    .dataframe thead th {\n",
       "        text-align: left;\n",
       "    }\n",
       "\n",
       "    .dataframe tbody tr th {\n",
       "        vertical-align: top;\n",
       "    }\n",
       "</style>\n",
       "<table border=\"1\" class=\"dataframe\">\n",
       "  <thead>\n",
       "    <tr style=\"text-align: right;\">\n",
       "      <th></th>\n",
       "      <th>Date</th>\n",
       "      <th>Totals</th>\n",
       "      <th>Description</th>\n",
       "      <th>Country</th>\n",
       "    </tr>\n",
       "  </thead>\n",
       "  <tbody>\n",
       "    <tr>\n",
       "      <th>2014-06-16 00:00:00</th>\n",
       "      <td>2014-06-16</td>\n",
       "      <td>4.0</td>\n",
       "      <td>New cases</td>\n",
       "      <td>Liberia</td>\n",
       "    </tr>\n",
       "    <tr>\n",
       "      <th>2014-06-17 00:00:00</th>\n",
       "      <td>2014-06-17</td>\n",
       "      <td>2.0</td>\n",
       "      <td>New cases</td>\n",
       "      <td>Liberia</td>\n",
       "    </tr>\n",
       "    <tr>\n",
       "      <th>2014-06-22 00:00:00</th>\n",
       "      <td>2014-06-22</td>\n",
       "      <td>10.0</td>\n",
       "      <td>New cases</td>\n",
       "      <td>Liberia</td>\n",
       "    </tr>\n",
       "    <tr>\n",
       "      <th>2014-06-24 00:00:00</th>\n",
       "      <td>2014-06-24</td>\n",
       "      <td>6.0</td>\n",
       "      <td>New cases</td>\n",
       "      <td>Liberia</td>\n",
       "    </tr>\n",
       "    <tr>\n",
       "      <th>2014-06-25 00:00:00</th>\n",
       "      <td>2014-06-25</td>\n",
       "      <td>7.0</td>\n",
       "      <td>New cases</td>\n",
       "      <td>Liberia</td>\n",
       "    </tr>\n",
       "  </tbody>\n",
       "</table>\n",
       "</div>"
      ],
      "text/plain": [
       "                          Date  Totals Description  Country\n",
       "2014-06-16 00:00:00 2014-06-16     4.0   New cases  Liberia\n",
       "2014-06-17 00:00:00 2014-06-17     2.0   New cases  Liberia\n",
       "2014-06-22 00:00:00 2014-06-22    10.0   New cases  Liberia\n",
       "2014-06-24 00:00:00 2014-06-24     6.0   New cases  Liberia\n",
       "2014-06-25 00:00:00 2014-06-25     7.0   New cases  Liberia"
      ]
     },
     "execution_count": 15,
     "metadata": {},
     "output_type": "execute_result"
    }
   ],
   "source": [
    "parsed_liberia_df.head()"
   ]
  },
  {
   "cell_type": "markdown",
   "metadata": {},
   "source": [
    "#### 1.4.3 Sierra Leone"
   ]
  },
  {
   "cell_type": "markdown",
   "metadata": {},
   "source": [
    "In order to parse the Sierra Leone dataset we followed similar steps as for Liberia. The new cases value has been computed as the sum of the corresponding variables of the table:\n",
    "* `new_noncase`\n",
    "* `new_suspected`\n",
    "* `new_probable`\n",
    "* `new_confirmed` \n",
    "\n",
    "Since the dataset only had total accumulators for the number of deaths, the new death variable was calculated as the difference between days, as previously done with Liberia. The possible missing data for this operation has been handled by setting them to zero, while keeping the the same delta for known points. An alternative to this would be to do a linear interpolation between the two accumulator values we knew (to fill in the missing data), but it wouldn't make a difference for the final daily-average result."
   ]
  },
  {
   "cell_type": "code",
   "execution_count": 16,
   "metadata": {
    "collapsed": true
   },
   "outputs": [],
   "source": [
    "# Select certain columns from the CSV formatted files\n",
    "parsed_sierra_df = dataframe_dict['sl'][wanted_columns['sl']]\n",
    "\n",
    "sierra_wanted_row_list = ['new_noncase', 'new_suspected', 'new_probable', 'new_confirmed',\n",
    "                   'death_confirmed', 'death_probable', 'death_suspected']"
   ]
  },
  {
   "cell_type": "code",
   "execution_count": 17,
   "metadata": {
    "collapsed": true
   },
   "outputs": [],
   "source": [
    "# Create temporary dataframe for new case entries\n",
    "# (with every row that matches the desired 'variables' column value)\n",
    "sierra_df_new_cases = parsed_sierra_df[parsed_sierra_df['variable'].isin(\n",
    "    sierra_wanted_row_list[0:4])]\n",
    "\n",
    "# Sum all of the values for 'Probable', 'Suspected', 'Confirmed' and 'Noncase' new cases\n",
    "sierra_df_new_cases = sierra_df_new_cases.groupby('date')['National'].apply(\n",
    "    lambda x: np.array([float(y) for y in x]).sum()).to_frame()\n",
    "\n",
    "sierra_df_new_cases['date'] = sierra_df_new_cases.index\n",
    "sierra_df_new_cases['variable'] = DEFAULT_NAME_ROW_DESCRIPTION_NEW_CASES"
   ]
  },
  {
   "cell_type": "code",
   "execution_count": 18,
   "metadata": {
    "collapsed": true
   },
   "outputs": [],
   "source": [
    "# Create temporary dataframe for new deaths' accumulator entries\n",
    "sierra_df_new_deaths_cum = parsed_sierra_df[parsed_sierra_df['variable'].isin(\n",
    "    sierra_wanted_row_list[4:7])]\n",
    "\n",
    "# Sum all of the values for 'Probable', 'Suspected' and 'Confirmed' new death accumulators\n",
    "sierra_df_new_deaths_cum = sierra_df_new_deaths_cum.groupby('date')['National'].apply(\n",
    "    lambda x: np.array([float(y) for y in x]).sum()).to_frame()\n",
    "\n",
    "sierra_df_new_deaths_cum['date'] = sierra_df_new_deaths_cum.index\n",
    "sierra_df_new_deaths_cum['variable'] = 'New deaths accumulator'\n",
    "\n",
    "# Compute daily values\n",
    "sierra_df_new_deaths_cum['National'] = estimate_daily_from_cum(sierra_df_new_deaths_cum['National'])\n",
    "sierra_df_new_deaths_cum['variable'] = DEFAULT_NAME_ROW_DESCRIPTION_NEW_DEATHS"
   ]
  },
  {
   "cell_type": "code",
   "execution_count": 19,
   "metadata": {
    "collapsed": true
   },
   "outputs": [],
   "source": [
    "# Concatenate both 'new cases' and 'new deaths' temporary dataframes\n",
    "parsed_sierra_df = pd.concat([sierra_df_new_cases, sierra_df_new_deaths_cum])\n",
    "\n",
    "parsed_sierra_df.rename(columns={'date': DEFAULT_NAME_COLUMN_DATE,\n",
    "                                 'variable': DEFAULT_NAME_COLUMN_DESCRIPTION,\n",
    "                                 'National': DEFAULT_NAME_COLUMN_TOTAL}, inplace=True)\n",
    "\n",
    "# Add 'Country' column to dataframe\n",
    "parsed_sierra_df[DEFAULT_NAME_COLUMN_COUNTRY] = countries['sl']"
   ]
  },
  {
   "cell_type": "markdown",
   "metadata": {},
   "source": [
    "Sample:"
   ]
  },
  {
   "cell_type": "code",
   "execution_count": 20,
   "metadata": {},
   "outputs": [
    {
     "data": {
      "text/html": [
       "<div>\n",
       "<style>\n",
       "    .dataframe thead tr:only-child th {\n",
       "        text-align: right;\n",
       "    }\n",
       "\n",
       "    .dataframe thead th {\n",
       "        text-align: left;\n",
       "    }\n",
       "\n",
       "    .dataframe tbody tr th {\n",
       "        vertical-align: top;\n",
       "    }\n",
       "</style>\n",
       "<table border=\"1\" class=\"dataframe\">\n",
       "  <thead>\n",
       "    <tr style=\"text-align: right;\">\n",
       "      <th></th>\n",
       "      <th>Totals</th>\n",
       "      <th>Date</th>\n",
       "      <th>Description</th>\n",
       "      <th>Country</th>\n",
       "    </tr>\n",
       "    <tr>\n",
       "      <th>date</th>\n",
       "      <th></th>\n",
       "      <th></th>\n",
       "      <th></th>\n",
       "      <th></th>\n",
       "    </tr>\n",
       "  </thead>\n",
       "  <tbody>\n",
       "    <tr>\n",
       "      <th>2014-08-12</th>\n",
       "      <td>26.0</td>\n",
       "      <td>2014-08-12</td>\n",
       "      <td>New cases</td>\n",
       "      <td>Sierra Leone</td>\n",
       "    </tr>\n",
       "    <tr>\n",
       "      <th>2014-08-13</th>\n",
       "      <td>32.0</td>\n",
       "      <td>2014-08-13</td>\n",
       "      <td>New cases</td>\n",
       "      <td>Sierra Leone</td>\n",
       "    </tr>\n",
       "    <tr>\n",
       "      <th>2014-08-14</th>\n",
       "      <td>41.0</td>\n",
       "      <td>2014-08-14</td>\n",
       "      <td>New cases</td>\n",
       "      <td>Sierra Leone</td>\n",
       "    </tr>\n",
       "    <tr>\n",
       "      <th>2014-08-15</th>\n",
       "      <td>32.0</td>\n",
       "      <td>2014-08-15</td>\n",
       "      <td>New cases</td>\n",
       "      <td>Sierra Leone</td>\n",
       "    </tr>\n",
       "    <tr>\n",
       "      <th>2014-08-16</th>\n",
       "      <td>30.0</td>\n",
       "      <td>2014-08-16</td>\n",
       "      <td>New cases</td>\n",
       "      <td>Sierra Leone</td>\n",
       "    </tr>\n",
       "  </tbody>\n",
       "</table>\n",
       "</div>"
      ],
      "text/plain": [
       "            Totals       Date Description       Country\n",
       "date                                                   \n",
       "2014-08-12    26.0 2014-08-12   New cases  Sierra Leone\n",
       "2014-08-13    32.0 2014-08-13   New cases  Sierra Leone\n",
       "2014-08-14    41.0 2014-08-14   New cases  Sierra Leone\n",
       "2014-08-15    32.0 2014-08-15   New cases  Sierra Leone\n",
       "2014-08-16    30.0 2014-08-16   New cases  Sierra Leone"
      ]
     },
     "execution_count": 20,
     "metadata": {},
     "output_type": "execute_result"
    }
   ],
   "source": [
    "parsed_sierra_df.head()"
   ]
  },
  {
   "cell_type": "markdown",
   "metadata": {},
   "source": [
    "### 1.5 Joining the parsed country datatset into a single one"
   ]
  },
  {
   "cell_type": "code",
   "execution_count": 21,
   "metadata": {
    "collapsed": true
   },
   "outputs": [],
   "source": [
    "complete_df = pd.concat([parsed_guinea_df, parsed_liberia_df, parsed_sierra_df])\n",
    "complete_df.reset_index(inplace=True, drop=True)"
   ]
  },
  {
   "cell_type": "markdown",
   "metadata": {},
   "source": [
    "Samples:"
   ]
  },
  {
   "cell_type": "code",
   "execution_count": 22,
   "metadata": {},
   "outputs": [
    {
     "data": {
      "text/html": [
       "<div>\n",
       "<style>\n",
       "    .dataframe thead tr:only-child th {\n",
       "        text-align: right;\n",
       "    }\n",
       "\n",
       "    .dataframe thead th {\n",
       "        text-align: left;\n",
       "    }\n",
       "\n",
       "    .dataframe tbody tr th {\n",
       "        vertical-align: top;\n",
       "    }\n",
       "</style>\n",
       "<table border=\"1\" class=\"dataframe\">\n",
       "  <thead>\n",
       "    <tr style=\"text-align: right;\">\n",
       "      <th></th>\n",
       "      <th>Country</th>\n",
       "      <th>Date</th>\n",
       "      <th>Description</th>\n",
       "      <th>Totals</th>\n",
       "    </tr>\n",
       "  </thead>\n",
       "  <tbody>\n",
       "    <tr>\n",
       "      <th>42</th>\n",
       "      <td>Guinea</td>\n",
       "      <td>2014-10-01</td>\n",
       "      <td>New cases</td>\n",
       "      <td>34</td>\n",
       "    </tr>\n",
       "    <tr>\n",
       "      <th>43</th>\n",
       "      <td>Guinea</td>\n",
       "      <td>2014-10-01</td>\n",
       "      <td>New deaths</td>\n",
       "      <td>15</td>\n",
       "    </tr>\n",
       "    <tr>\n",
       "      <th>44</th>\n",
       "      <td>Liberia</td>\n",
       "      <td>2014-06-16</td>\n",
       "      <td>New cases</td>\n",
       "      <td>4</td>\n",
       "    </tr>\n",
       "    <tr>\n",
       "      <th>45</th>\n",
       "      <td>Liberia</td>\n",
       "      <td>2014-06-17</td>\n",
       "      <td>New cases</td>\n",
       "      <td>2</td>\n",
       "    </tr>\n",
       "    <tr>\n",
       "      <th>46</th>\n",
       "      <td>Liberia</td>\n",
       "      <td>2014-06-22</td>\n",
       "      <td>New cases</td>\n",
       "      <td>10</td>\n",
       "    </tr>\n",
       "  </tbody>\n",
       "</table>\n",
       "</div>"
      ],
      "text/plain": [
       "    Country       Date Description Totals\n",
       "42   Guinea 2014-10-01   New cases     34\n",
       "43   Guinea 2014-10-01  New deaths     15\n",
       "44  Liberia 2014-06-16   New cases      4\n",
       "45  Liberia 2014-06-17   New cases      2\n",
       "46  Liberia 2014-06-22   New cases     10"
      ]
     },
     "execution_count": 22,
     "metadata": {},
     "output_type": "execute_result"
    }
   ],
   "source": [
    "complete_df[42:47]"
   ]
  },
  {
   "cell_type": "markdown",
   "metadata": {},
   "source": [
    "Even after handling the NaN troubles during the parsing for some aspects, we still have some to manage"
   ]
  },
  {
   "cell_type": "code",
   "execution_count": 23,
   "metadata": {},
   "outputs": [
    {
     "data": {
      "text/html": [
       "<div>\n",
       "<style>\n",
       "    .dataframe thead tr:only-child th {\n",
       "        text-align: right;\n",
       "    }\n",
       "\n",
       "    .dataframe thead th {\n",
       "        text-align: left;\n",
       "    }\n",
       "\n",
       "    .dataframe tbody tr th {\n",
       "        vertical-align: top;\n",
       "    }\n",
       "</style>\n",
       "<table border=\"1\" class=\"dataframe\">\n",
       "  <thead>\n",
       "    <tr style=\"text-align: right;\">\n",
       "      <th></th>\n",
       "      <th>Country</th>\n",
       "      <th>Date</th>\n",
       "      <th>Description</th>\n",
       "      <th>Totals</th>\n",
       "    </tr>\n",
       "  </thead>\n",
       "  <tbody>\n",
       "    <tr>\n",
       "      <th>178</th>\n",
       "      <td>Liberia</td>\n",
       "      <td>2014-09-20</td>\n",
       "      <td>New deaths</td>\n",
       "      <td>NaN</td>\n",
       "    </tr>\n",
       "    <tr>\n",
       "      <th>223</th>\n",
       "      <td>Liberia</td>\n",
       "      <td>2014-11-28</td>\n",
       "      <td>New deaths</td>\n",
       "      <td>NaN</td>\n",
       "    </tr>\n",
       "    <tr>\n",
       "      <th>225</th>\n",
       "      <td>Liberia</td>\n",
       "      <td>2014-11-30</td>\n",
       "      <td>New deaths</td>\n",
       "      <td>NaN</td>\n",
       "    </tr>\n",
       "    <tr>\n",
       "      <th>226</th>\n",
       "      <td>Liberia</td>\n",
       "      <td>2014-12-01</td>\n",
       "      <td>New deaths</td>\n",
       "      <td>NaN</td>\n",
       "    </tr>\n",
       "    <tr>\n",
       "      <th>227</th>\n",
       "      <td>Liberia</td>\n",
       "      <td>2014-12-02</td>\n",
       "      <td>New deaths</td>\n",
       "      <td>NaN</td>\n",
       "    </tr>\n",
       "  </tbody>\n",
       "</table>\n",
       "</div>"
      ],
      "text/plain": [
       "     Country       Date Description Totals\n",
       "178  Liberia 2014-09-20  New deaths    NaN\n",
       "223  Liberia 2014-11-28  New deaths    NaN\n",
       "225  Liberia 2014-11-30  New deaths    NaN\n",
       "226  Liberia 2014-12-01  New deaths    NaN\n",
       "227  Liberia 2014-12-02  New deaths    NaN"
      ]
     },
     "execution_count": 23,
     "metadata": {},
     "output_type": "execute_result"
    }
   ],
   "source": [
    "complete_df[complete_df[DEFAULT_NAME_COLUMN_TOTAL].isnull()].head()"
   ]
  },
  {
   "cell_type": "markdown",
   "metadata": {},
   "source": [
    "Since this is missing information, from now on we assume that the missing values are 0"
   ]
  },
  {
   "cell_type": "code",
   "execution_count": 24,
   "metadata": {
    "collapsed": true
   },
   "outputs": [],
   "source": [
    "complete_df = complete_df.fillna(0)"
   ]
  },
  {
   "cell_type": "markdown",
   "metadata": {},
   "source": [
    "At this point, we noticed that there were negative values for the daily estimated measurements. This was probably due to an error when keeping track of the accumulated number of deaths/cases, which became apparent on the months transition. Even though we might be neglecting some measurements, we decided that normalizing these values to 0 (on the first day of the following month) would prevent error-propagation to our averages calculation.\n",
    "\n",
    "Below is an example of such case:"
   ]
  },
  {
   "cell_type": "code",
   "execution_count": 25,
   "metadata": {},
   "outputs": [
    {
     "data": {
      "text/html": [
       "<div>\n",
       "<style>\n",
       "    .dataframe thead tr:only-child th {\n",
       "        text-align: right;\n",
       "    }\n",
       "\n",
       "    .dataframe thead th {\n",
       "        text-align: left;\n",
       "    }\n",
       "\n",
       "    .dataframe tbody tr th {\n",
       "        vertical-align: top;\n",
       "    }\n",
       "</style>\n",
       "<table border=\"1\" class=\"dataframe\">\n",
       "  <thead>\n",
       "    <tr style=\"text-align: right;\">\n",
       "      <th></th>\n",
       "      <th>Country</th>\n",
       "      <th>Date</th>\n",
       "      <th>Description</th>\n",
       "      <th>Totals</th>\n",
       "    </tr>\n",
       "  </thead>\n",
       "  <tbody>\n",
       "    <tr>\n",
       "      <th>387</th>\n",
       "      <td>Sierra Leone</td>\n",
       "      <td>2014-10-01</td>\n",
       "      <td>New deaths</td>\n",
       "      <td>-18</td>\n",
       "    </tr>\n",
       "  </tbody>\n",
       "</table>\n",
       "</div>"
      ],
      "text/plain": [
       "          Country       Date Description Totals\n",
       "387  Sierra Leone 2014-10-01  New deaths    -18"
      ]
     },
     "execution_count": 25,
     "metadata": {},
     "output_type": "execute_result"
    }
   ],
   "source": [
    "complete_df[complete_df['Totals'].apply(lambda x: int(x)) < 0]"
   ]
  },
  {
   "cell_type": "code",
   "execution_count": 26,
   "metadata": {
    "collapsed": true
   },
   "outputs": [],
   "source": [
    "complete_df.loc[complete_df['Totals'].apply(lambda x: int(x)) < 0, 'Totals'] = 0"
   ]
  },
  {
   "cell_type": "markdown",
   "metadata": {},
   "source": [
    "### 1.6 Calculate, for each country, the daily average per month of new cases and deaths"
   ]
  },
  {
   "cell_type": "markdown",
   "metadata": {},
   "source": [
    "We start grouping by ```Country```, ```Description``` and month, and then calculate the average over the total number of days in the month."
   ]
  },
  {
   "cell_type": "code",
   "execution_count": 27,
   "metadata": {
    "collapsed": true
   },
   "outputs": [],
   "source": [
    "grouped = complete_df.groupby(by=[complete_df.Country, complete_df.Description,\n",
    "                                  [x.month for x in complete_df.Date]])"
   ]
  },
  {
   "cell_type": "markdown",
   "metadata": {},
   "source": [
    "We create a dataframe with the averaged new deaths/cases, from the aggregated `grouped` elements. To note that this average is calculated over the days in a specific month (not as an averaged 30-day period nor by the number of samples)."
   ]
  },
  {
   "cell_type": "code",
   "execution_count": 28,
   "metadata": {
    "collapsed": true
   },
   "outputs": [],
   "source": [
    "calculated_average_df = pd.DataFrame()\n",
    "\n",
    "for ((country, description, month), values) in grouped:\n",
    "    days_in_month = monthrange(2014, month)[1]\n",
    "    entry = {DEFAULT_NAME_COLUMN_COUNTRY: country, \n",
    "             'Description': description, \n",
    "             'Month': month, \n",
    "             'Average': values[DEFAULT_NAME_COLUMN_TOTAL].apply(lambda x: float(x) / days_in_month).sum()}\n",
    "    calculated_average_df = calculated_average_df.append([entry])"
   ]
  },
  {
   "cell_type": "markdown",
   "metadata": {},
   "source": [
    "Sample:"
   ]
  },
  {
   "cell_type": "code",
   "execution_count": 29,
   "metadata": {},
   "outputs": [
    {
     "data": {
      "text/html": [
       "<div>\n",
       "<style>\n",
       "    .dataframe thead tr:only-child th {\n",
       "        text-align: right;\n",
       "    }\n",
       "\n",
       "    .dataframe thead th {\n",
       "        text-align: left;\n",
       "    }\n",
       "\n",
       "    .dataframe tbody tr th {\n",
       "        vertical-align: top;\n",
       "    }\n",
       "</style>\n",
       "<table border=\"1\" class=\"dataframe\">\n",
       "  <thead>\n",
       "    <tr style=\"text-align: right;\">\n",
       "      <th></th>\n",
       "      <th>Average</th>\n",
       "      <th>Country</th>\n",
       "      <th>Description</th>\n",
       "      <th>Month</th>\n",
       "    </tr>\n",
       "  </thead>\n",
       "  <tbody>\n",
       "    <tr>\n",
       "      <th>0</th>\n",
       "      <td>4.161290</td>\n",
       "      <td>Guinea</td>\n",
       "      <td>New cases</td>\n",
       "      <td>8</td>\n",
       "    </tr>\n",
       "    <tr>\n",
       "      <th>0</th>\n",
       "      <td>10.466667</td>\n",
       "      <td>Guinea</td>\n",
       "      <td>New cases</td>\n",
       "      <td>9</td>\n",
       "    </tr>\n",
       "    <tr>\n",
       "      <th>0</th>\n",
       "      <td>1.096774</td>\n",
       "      <td>Guinea</td>\n",
       "      <td>New cases</td>\n",
       "      <td>10</td>\n",
       "    </tr>\n",
       "    <tr>\n",
       "      <th>0</th>\n",
       "      <td>0.548387</td>\n",
       "      <td>Guinea</td>\n",
       "      <td>New deaths</td>\n",
       "      <td>8</td>\n",
       "    </tr>\n",
       "    <tr>\n",
       "      <th>0</th>\n",
       "      <td>1.900000</td>\n",
       "      <td>Guinea</td>\n",
       "      <td>New deaths</td>\n",
       "      <td>9</td>\n",
       "    </tr>\n",
       "  </tbody>\n",
       "</table>\n",
       "</div>"
      ],
      "text/plain": [
       "     Average Country Description  Month\n",
       "0   4.161290  Guinea   New cases      8\n",
       "0  10.466667  Guinea   New cases      9\n",
       "0   1.096774  Guinea   New cases     10\n",
       "0   0.548387  Guinea  New deaths      8\n",
       "0   1.900000  Guinea  New deaths      9"
      ]
     },
     "execution_count": 29,
     "metadata": {},
     "output_type": "execute_result"
    }
   ],
   "source": [
    "calculated_average_df.head()"
   ]
  },
  {
   "cell_type": "markdown",
   "metadata": {},
   "source": [
    "For the following step we created a transformed dataframe with a more practical schema. Instead of having a `Description` column - with `New cases` and `New deaths` - we would like have one column for each of its values."
   ]
  },
  {
   "cell_type": "code",
   "execution_count": 30,
   "metadata": {
    "collapsed": true
   },
   "outputs": [],
   "source": [
    "death_average_df = calculated_average_df[calculated_average_df[DEFAULT_NAME_COLUMN_DESCRIPTION] ==\n",
    "                                         DEFAULT_NAME_ROW_DESCRIPTION_NEW_DEATHS]\n",
    "cases_average_df = calculated_average_df[calculated_average_df[DEFAULT_NAME_COLUMN_DESCRIPTION] ==\n",
    "                                         DEFAULT_NAME_ROW_DESCRIPTION_NEW_CASES]\n",
    "\n",
    "calculated_average_df = pd.merge(death_average_df, cases_average_df, on=[DEFAULT_NAME_COLUMN_COUNTRY, 'Month'])\n",
    "calculated_average_df.drop([DEFAULT_NAME_COLUMN_DESCRIPTION+'_x',\n",
    "                            DEFAULT_NAME_COLUMN_DESCRIPTION+'_y'], axis=1, inplace=True)\n",
    "\n",
    "calculated_average_df = calculated_average_df.rename(columns={'Average_x': 'Death monthly average',\n",
    "                                                              'Average_y': 'Case monthly average'})"
   ]
  },
  {
   "cell_type": "markdown",
   "metadata": {},
   "source": [
    "Sample:"
   ]
  },
  {
   "cell_type": "code",
   "execution_count": 31,
   "metadata": {},
   "outputs": [
    {
     "data": {
      "text/html": [
       "<div>\n",
       "<style>\n",
       "    .dataframe thead tr:only-child th {\n",
       "        text-align: right;\n",
       "    }\n",
       "\n",
       "    .dataframe thead th {\n",
       "        text-align: left;\n",
       "    }\n",
       "\n",
       "    .dataframe tbody tr th {\n",
       "        vertical-align: top;\n",
       "    }\n",
       "</style>\n",
       "<table border=\"1\" class=\"dataframe\">\n",
       "  <thead>\n",
       "    <tr style=\"text-align: right;\">\n",
       "      <th></th>\n",
       "      <th>Death monthly average</th>\n",
       "      <th>Country</th>\n",
       "      <th>Month</th>\n",
       "      <th>Case monthly average</th>\n",
       "    </tr>\n",
       "  </thead>\n",
       "  <tbody>\n",
       "    <tr>\n",
       "      <th>0</th>\n",
       "      <td>0.548387</td>\n",
       "      <td>Guinea</td>\n",
       "      <td>8</td>\n",
       "      <td>4.161290</td>\n",
       "    </tr>\n",
       "    <tr>\n",
       "      <th>1</th>\n",
       "      <td>1.900000</td>\n",
       "      <td>Guinea</td>\n",
       "      <td>9</td>\n",
       "      <td>10.466667</td>\n",
       "    </tr>\n",
       "    <tr>\n",
       "      <th>2</th>\n",
       "      <td>0.483871</td>\n",
       "      <td>Guinea</td>\n",
       "      <td>10</td>\n",
       "      <td>1.096774</td>\n",
       "    </tr>\n",
       "    <tr>\n",
       "      <th>3</th>\n",
       "      <td>0.466667</td>\n",
       "      <td>Liberia</td>\n",
       "      <td>6</td>\n",
       "      <td>1.333333</td>\n",
       "    </tr>\n",
       "    <tr>\n",
       "      <th>4</th>\n",
       "      <td>1.516129</td>\n",
       "      <td>Liberia</td>\n",
       "      <td>7</td>\n",
       "      <td>3.032258</td>\n",
       "    </tr>\n",
       "  </tbody>\n",
       "</table>\n",
       "</div>"
      ],
      "text/plain": [
       "   Death monthly average  Country  Month  Case monthly average\n",
       "0               0.548387   Guinea      8              4.161290\n",
       "1               1.900000   Guinea      9             10.466667\n",
       "2               0.483871   Guinea     10              1.096774\n",
       "3               0.466667  Liberia      6              1.333333\n",
       "4               1.516129  Liberia      7              3.032258"
      ]
     },
     "execution_count": 31,
     "metadata": {},
     "output_type": "execute_result"
    }
   ],
   "source": [
    "calculated_average_df.head()"
   ]
  },
  {
   "cell_type": "markdown",
   "metadata": {},
   "source": [
    "After reordering the columns, the final result is shown in the following table:"
   ]
  },
  {
   "cell_type": "code",
   "execution_count": 32,
   "metadata": {},
   "outputs": [
    {
     "data": {
      "text/html": [
       "<div>\n",
       "<style>\n",
       "    .dataframe thead tr:only-child th {\n",
       "        text-align: right;\n",
       "    }\n",
       "\n",
       "    .dataframe thead th {\n",
       "        text-align: left;\n",
       "    }\n",
       "\n",
       "    .dataframe tbody tr th {\n",
       "        vertical-align: top;\n",
       "    }\n",
       "</style>\n",
       "<table border=\"1\" class=\"dataframe\">\n",
       "  <thead>\n",
       "    <tr style=\"text-align: right;\">\n",
       "      <th></th>\n",
       "      <th>Country</th>\n",
       "      <th>Month</th>\n",
       "      <th>Death monthly average</th>\n",
       "      <th>Case monthly average</th>\n",
       "    </tr>\n",
       "  </thead>\n",
       "  <tbody>\n",
       "    <tr>\n",
       "      <th>0</th>\n",
       "      <td>Guinea</td>\n",
       "      <td>8</td>\n",
       "      <td>0.548387</td>\n",
       "      <td>4.161290</td>\n",
       "    </tr>\n",
       "    <tr>\n",
       "      <th>1</th>\n",
       "      <td>Guinea</td>\n",
       "      <td>9</td>\n",
       "      <td>1.900000</td>\n",
       "      <td>10.466667</td>\n",
       "    </tr>\n",
       "    <tr>\n",
       "      <th>2</th>\n",
       "      <td>Guinea</td>\n",
       "      <td>10</td>\n",
       "      <td>0.483871</td>\n",
       "      <td>1.096774</td>\n",
       "    </tr>\n",
       "    <tr>\n",
       "      <th>3</th>\n",
       "      <td>Liberia</td>\n",
       "      <td>6</td>\n",
       "      <td>0.466667</td>\n",
       "      <td>1.333333</td>\n",
       "    </tr>\n",
       "    <tr>\n",
       "      <th>4</th>\n",
       "      <td>Liberia</td>\n",
       "      <td>7</td>\n",
       "      <td>1.516129</td>\n",
       "      <td>3.032258</td>\n",
       "    </tr>\n",
       "  </tbody>\n",
       "</table>\n",
       "</div>"
      ],
      "text/plain": [
       "   Country  Month  Death monthly average  Case monthly average\n",
       "0   Guinea      8               0.548387              4.161290\n",
       "1   Guinea      9               1.900000             10.466667\n",
       "2   Guinea     10               0.483871              1.096774\n",
       "3  Liberia      6               0.466667              1.333333\n",
       "4  Liberia      7               1.516129              3.032258"
      ]
     },
     "execution_count": 32,
     "metadata": {},
     "output_type": "execute_result"
    }
   ],
   "source": [
    "calculated_average_df = calculated_average_df[['Country', 'Month',\n",
    "                                               'Death monthly average', 'Case monthly average']]\n",
    "calculated_average_df.head()"
   ]
  },
  {
   "cell_type": "markdown",
   "metadata": {},
   "source": [
    "### 1.7 Plots"
   ]
  },
  {
   "cell_type": "markdown",
   "metadata": {},
   "source": [
    "We plotted the results for a final visualisation of the obtained data. First by `Country` alone in the following bar charts:"
   ]
  },
  {
   "cell_type": "code",
   "execution_count": 33,
   "metadata": {},
   "outputs": [
    {
     "data": {
      "image/png": "[encoded data removed]",
      "text/plain": [
       "<matplotlib.figure.Figure at 0x21dd1da99b0>"
      ]
     },
     "metadata": {},
     "output_type": "display_data"
    }
   ],
   "source": [
    "fig, axes = plt.subplots(nrows=1, ncols=3, figsize=(20, 7))\n",
    "\n",
    "for i, (title, group) in enumerate(calculated_average_df.groupby(DEFAULT_NAME_COLUMN_COUNTRY)):\n",
    "    group.plot.bar(x='Month', title=title, ax=axes.flat[i])"
   ]
  },
  {
   "cell_type": "markdown",
   "metadata": {},
   "source": [
    "And lastly as an unique bar chart for all the results in one plot"
   ]
  },
  {
   "cell_type": "code",
   "execution_count": 34,
   "metadata": {},
   "outputs": [
    {
     "data": {
      "text/plain": [
       "<matplotlib.axes._subplots.AxesSubplot at 0x21dd1da9a58>"
      ]
     },
     "execution_count": 34,
     "metadata": {},
     "output_type": "execute_result"
    },
    {
     "data": {
      "image/png": "[encoded data removed]",
      "text/plain": [
       "<matplotlib.figure.Figure at 0x21dd22b7f28>"
      ]
     },
     "metadata": {},
     "output_type": "display_data"
    }
   ],
   "source": [
    "calculated_average_df.plot.bar(x=['Month',DEFAULT_NAME_COLUMN_COUNTRY], figsize=(20,7))"
   ]
  },
  {
   "cell_type": "markdown",
   "metadata": {},
   "source": [
    "# Task 2. RNA Sequences\n",
    "\n",
    "In the `DATA_FOLDER/microbiome` subdirectory, there are 9 spreadsheets of microbiome data that was acquired from high-throughput RNA sequencing procedures, along with a 10<sup>th</sup> file that describes the content of each. \n",
    "\n",
    "Use pandas to import the first 9 spreadsheets into a single `DataFrame`.\n",
    "Then, add the metadata information from the 10<sup>th</sup> spreadsheet as columns in the combined `DataFrame`.\n",
    "Make sure that the final `DataFrame` has a unique index and all the `NaN` values have been replaced by the tag `unknown`."
   ]
  },
  {
   "cell_type": "markdown",
   "metadata": {},
   "source": [
    "### 2.1 Read files"
   ]
  },
  {
   "cell_type": "markdown",
   "metadata": {},
   "source": [
    "We started by importing the nine tables in one single big dataframe"
   ]
  },
  {
   "cell_type": "code",
   "execution_count": 35,
   "metadata": {},
   "outputs": [],
   "source": [
    "all_files = glob.glob(DATA_FOLDER + '/microbiome' + '/MID*.xls')\n",
    "raw_df = pd.DataFrame()\n",
    "\n",
    "for file in all_files:\n",
    "    file_name = file[file.rfind('MID'):file.rfind('.')]\n",
    "    temp_df = pd.read_excel(file, header=None)\n",
    "    temp_df['BARCODE'] = file_name\n",
    "    raw_df = raw_df.append(temp_df)"
   ]
  },
  {
   "cell_type": "markdown",
   "metadata": {},
   "source": [
    "Sample:"
   ]
  },
  {
   "cell_type": "code",
   "execution_count": 36,
   "metadata": {},
   "outputs": [
    {
     "data": {
      "text/html": [
       "<div>\n",
       "<style>\n",
       "    .dataframe thead tr:only-child th {\n",
       "        text-align: right;\n",
       "    }\n",
       "\n",
       "    .dataframe thead th {\n",
       "        text-align: left;\n",
       "    }\n",
       "\n",
       "    .dataframe tbody tr th {\n",
       "        vertical-align: top;\n",
       "    }\n",
       "</style>\n",
       "<table border=\"1\" class=\"dataframe\">\n",
       "  <thead>\n",
       "    <tr style=\"text-align: right;\">\n",
       "      <th></th>\n",
       "      <th>0</th>\n",
       "      <th>1</th>\n",
       "      <th>BARCODE</th>\n",
       "    </tr>\n",
       "  </thead>\n",
       "  <tbody>\n",
       "    <tr>\n",
       "      <th>0</th>\n",
       "      <td>Archaea \"Crenarchaeota\" Thermoprotei Desulfuro...</td>\n",
       "      <td>7</td>\n",
       "      <td>MID1</td>\n",
       "    </tr>\n",
       "    <tr>\n",
       "      <th>1</th>\n",
       "      <td>Archaea \"Crenarchaeota\" Thermoprotei Desulfuro...</td>\n",
       "      <td>2</td>\n",
       "      <td>MID1</td>\n",
       "    </tr>\n",
       "    <tr>\n",
       "      <th>2</th>\n",
       "      <td>Archaea \"Crenarchaeota\" Thermoprotei Sulfoloba...</td>\n",
       "      <td>3</td>\n",
       "      <td>MID1</td>\n",
       "    </tr>\n",
       "    <tr>\n",
       "      <th>3</th>\n",
       "      <td>Archaea \"Crenarchaeota\" Thermoprotei Thermopro...</td>\n",
       "      <td>3</td>\n",
       "      <td>MID1</td>\n",
       "    </tr>\n",
       "    <tr>\n",
       "      <th>4</th>\n",
       "      <td>Archaea \"Euryarchaeota\" \"Methanomicrobia\" Meth...</td>\n",
       "      <td>7</td>\n",
       "      <td>MID1</td>\n",
       "    </tr>\n",
       "  </tbody>\n",
       "</table>\n",
       "</div>"
      ],
      "text/plain": [
       "                                                   0  1 BARCODE\n",
       "0  Archaea \"Crenarchaeota\" Thermoprotei Desulfuro...  7    MID1\n",
       "1  Archaea \"Crenarchaeota\" Thermoprotei Desulfuro...  2    MID1\n",
       "2  Archaea \"Crenarchaeota\" Thermoprotei Sulfoloba...  3    MID1\n",
       "3  Archaea \"Crenarchaeota\" Thermoprotei Thermopro...  3    MID1\n",
       "4  Archaea \"Euryarchaeota\" \"Methanomicrobia\" Meth...  7    MID1"
      ]
     },
     "execution_count": 36,
     "metadata": {},
     "output_type": "execute_result"
    }
   ],
   "source": [
    "raw_df.head()"
   ]
  },
  {
   "cell_type": "markdown",
   "metadata": {},
   "source": [
    "We then imported the metadata table in another dataframe:"
   ]
  },
  {
   "cell_type": "code",
   "execution_count": 37,
   "metadata": {},
   "outputs": [
    {
     "data": {
      "text/html": [
       "<div>\n",
       "<style>\n",
       "    .dataframe thead tr:only-child th {\n",
       "        text-align: right;\n",
       "    }\n",
       "\n",
       "    .dataframe thead th {\n",
       "        text-align: left;\n",
       "    }\n",
       "\n",
       "    .dataframe tbody tr th {\n",
       "        vertical-align: top;\n",
       "    }\n",
       "</style>\n",
       "<table border=\"1\" class=\"dataframe\">\n",
       "  <thead>\n",
       "    <tr style=\"text-align: right;\">\n",
       "      <th></th>\n",
       "      <th>BARCODE</th>\n",
       "      <th>GROUP</th>\n",
       "      <th>SAMPLE</th>\n",
       "    </tr>\n",
       "  </thead>\n",
       "  <tbody>\n",
       "    <tr>\n",
       "      <th>0</th>\n",
       "      <td>MID1</td>\n",
       "      <td>EXTRACTION CONTROL</td>\n",
       "      <td>NaN</td>\n",
       "    </tr>\n",
       "    <tr>\n",
       "      <th>1</th>\n",
       "      <td>MID2</td>\n",
       "      <td>NEC 1</td>\n",
       "      <td>tissue</td>\n",
       "    </tr>\n",
       "    <tr>\n",
       "      <th>2</th>\n",
       "      <td>MID3</td>\n",
       "      <td>Control 1</td>\n",
       "      <td>tissue</td>\n",
       "    </tr>\n",
       "    <tr>\n",
       "      <th>3</th>\n",
       "      <td>MID4</td>\n",
       "      <td>NEC 2</td>\n",
       "      <td>tissue</td>\n",
       "    </tr>\n",
       "    <tr>\n",
       "      <th>4</th>\n",
       "      <td>MID5</td>\n",
       "      <td>Control 2</td>\n",
       "      <td>tissue</td>\n",
       "    </tr>\n",
       "    <tr>\n",
       "      <th>5</th>\n",
       "      <td>MID6</td>\n",
       "      <td>NEC 1</td>\n",
       "      <td>stool</td>\n",
       "    </tr>\n",
       "    <tr>\n",
       "      <th>6</th>\n",
       "      <td>MID7</td>\n",
       "      <td>Control 1</td>\n",
       "      <td>stool</td>\n",
       "    </tr>\n",
       "    <tr>\n",
       "      <th>7</th>\n",
       "      <td>MID8</td>\n",
       "      <td>NEC 2</td>\n",
       "      <td>stool</td>\n",
       "    </tr>\n",
       "    <tr>\n",
       "      <th>8</th>\n",
       "      <td>MID9</td>\n",
       "      <td>Control 2</td>\n",
       "      <td>stool</td>\n",
       "    </tr>\n",
       "  </tbody>\n",
       "</table>\n",
       "</div>"
      ],
      "text/plain": [
       "  BARCODE               GROUP  SAMPLE\n",
       "0    MID1  EXTRACTION CONTROL     NaN\n",
       "1    MID2               NEC 1  tissue\n",
       "2    MID3           Control 1  tissue\n",
       "3    MID4               NEC 2  tissue\n",
       "4    MID5           Control 2  tissue\n",
       "5    MID6               NEC 1   stool\n",
       "6    MID7           Control 1   stool\n",
       "7    MID8               NEC 2   stool\n",
       "8    MID9           Control 2   stool"
      ]
     },
     "execution_count": 37,
     "metadata": {},
     "output_type": "execute_result"
    }
   ],
   "source": [
    "metadata_df = pd.read_excel(DATA_FOLDER+'/microbiome'+'/metadata.xls')\n",
    "metadata_df"
   ]
  },
  {
   "cell_type": "markdown",
   "metadata": {},
   "source": [
    "### 2.2 Merging the dataframes"
   ]
  },
  {
   "cell_type": "markdown",
   "metadata": {},
   "source": [
    "The final goal is to obtain a single dataframe for the given data. We will need to obtain a table with the following schema:\n",
    "\n",
    "| Description | Group | Tissue | Stool | Other |\n",
    "|-------------|-------|--------|-------|-------|\n",
    "|             |       |        |       |       |\n",
    "|             |       |        |       |       |\n",
    "|             |       |        |       |       |\n",
    "\n",
    "\n",
    "We will fill-in the last three columns with the sample data we have in the initial dataframe. The column will be chosen according to what the metadata provides. The same idea will be followed to fill-in the Group column with the correct information"
   ]
  },
  {
   "cell_type": "markdown",
   "metadata": {},
   "source": [
    "We create three dataframes containing the metadata information, one for a each `Sample` type"
   ]
  },
  {
   "cell_type": "code",
   "execution_count": 38,
   "metadata": {
    "collapsed": true
   },
   "outputs": [],
   "source": [
    "stool_metadata_df = metadata_df[metadata_df['SAMPLE'] == 'stool']\n",
    "tissue_metadata_df = metadata_df[metadata_df['SAMPLE'] == 'tissue']\n",
    "na_metadata_df = metadata_df[metadata_df['SAMPLE'].isnull()]"
   ]
  },
  {
   "cell_type": "markdown",
   "metadata": {},
   "source": [
    "Sample:"
   ]
  },
  {
   "cell_type": "code",
   "execution_count": 39,
   "metadata": {},
   "outputs": [
    {
     "data": {
      "text/html": [
       "<div>\n",
       "<style>\n",
       "    .dataframe thead tr:only-child th {\n",
       "        text-align: right;\n",
       "    }\n",
       "\n",
       "    .dataframe thead th {\n",
       "        text-align: left;\n",
       "    }\n",
       "\n",
       "    .dataframe tbody tr th {\n",
       "        vertical-align: top;\n",
       "    }\n",
       "</style>\n",
       "<table border=\"1\" class=\"dataframe\">\n",
       "  <thead>\n",
       "    <tr style=\"text-align: right;\">\n",
       "      <th></th>\n",
       "      <th>BARCODE</th>\n",
       "      <th>GROUP</th>\n",
       "      <th>SAMPLE</th>\n",
       "    </tr>\n",
       "  </thead>\n",
       "  <tbody>\n",
       "    <tr>\n",
       "      <th>1</th>\n",
       "      <td>MID2</td>\n",
       "      <td>NEC 1</td>\n",
       "      <td>tissue</td>\n",
       "    </tr>\n",
       "    <tr>\n",
       "      <th>2</th>\n",
       "      <td>MID3</td>\n",
       "      <td>Control 1</td>\n",
       "      <td>tissue</td>\n",
       "    </tr>\n",
       "    <tr>\n",
       "      <th>3</th>\n",
       "      <td>MID4</td>\n",
       "      <td>NEC 2</td>\n",
       "      <td>tissue</td>\n",
       "    </tr>\n",
       "    <tr>\n",
       "      <th>4</th>\n",
       "      <td>MID5</td>\n",
       "      <td>Control 2</td>\n",
       "      <td>tissue</td>\n",
       "    </tr>\n",
       "  </tbody>\n",
       "</table>\n",
       "</div>"
      ],
      "text/plain": [
       "  BARCODE      GROUP  SAMPLE\n",
       "1    MID2      NEC 1  tissue\n",
       "2    MID3  Control 1  tissue\n",
       "3    MID4      NEC 2  tissue\n",
       "4    MID5  Control 2  tissue"
      ]
     },
     "execution_count": 39,
     "metadata": {},
     "output_type": "execute_result"
    }
   ],
   "source": [
    "tissue_metadata_df"
   ]
  },
  {
   "cell_type": "markdown",
   "metadata": {},
   "source": [
    "We create three dataframes for the different samples according to what we have in the metatada dataframes obtained before"
   ]
  },
  {
   "cell_type": "code",
   "execution_count": 40,
   "metadata": {
    "collapsed": true
   },
   "outputs": [],
   "source": [
    "raw_df = pd.merge(raw_df, metadata_df[['BARCODE', 'GROUP']], on=['BARCODE'])\n",
    "raw_df.rename(columns={0: 'Description', 1: 'Sample'}, inplace=True)\n",
    "\n",
    "stool_df = raw_df[raw_df['BARCODE'].isin(list(stool_metadata_df['BARCODE']))].drop('BARCODE', axis=1)\n",
    "stool_df.rename(columns={'Sample': 'Stool'}, inplace=True)\n",
    "              \n",
    "tissue_df = raw_df[raw_df['BARCODE'].isin(list(tissue_metadata_df['BARCODE']))].drop('BARCODE', axis=1)\n",
    "tissue_df.rename(columns={'Sample': 'Tissue'}, inplace=True)\n",
    "              \n",
    "na_df = raw_df[raw_df['BARCODE'].isin(list(na_metadata_df['BARCODE']))].drop('BARCODE', axis=1)\n",
    "na_df.rename(columns={'Sample': 'Other'}, inplace=True)"
   ]
  },
  {
   "cell_type": "markdown",
   "metadata": {},
   "source": [
    "Sample:"
   ]
  },
  {
   "cell_type": "code",
   "execution_count": 41,
   "metadata": {},
   "outputs": [
    {
     "data": {
      "text/html": [
       "<div>\n",
       "<style>\n",
       "    .dataframe thead tr:only-child th {\n",
       "        text-align: right;\n",
       "    }\n",
       "\n",
       "    .dataframe thead th {\n",
       "        text-align: left;\n",
       "    }\n",
       "\n",
       "    .dataframe tbody tr th {\n",
       "        vertical-align: top;\n",
       "    }\n",
       "</style>\n",
       "<table border=\"1\" class=\"dataframe\">\n",
       "  <thead>\n",
       "    <tr style=\"text-align: right;\">\n",
       "      <th></th>\n",
       "      <th>Description</th>\n",
       "      <th>Stool</th>\n",
       "      <th>GROUP</th>\n",
       "    </tr>\n",
       "  </thead>\n",
       "  <tbody>\n",
       "    <tr>\n",
       "      <th>1440</th>\n",
       "      <td>Archaea \"Crenarchaeota\" Thermoprotei Desulfuro...</td>\n",
       "      <td>7</td>\n",
       "      <td>NEC 1</td>\n",
       "    </tr>\n",
       "    <tr>\n",
       "      <th>1441</th>\n",
       "      <td>Archaea \"Crenarchaeota\" Thermoprotei Desulfuro...</td>\n",
       "      <td>1</td>\n",
       "      <td>NEC 1</td>\n",
       "    </tr>\n",
       "    <tr>\n",
       "      <th>1442</th>\n",
       "      <td>Archaea \"Crenarchaeota\" Thermoprotei Desulfuro...</td>\n",
       "      <td>1</td>\n",
       "      <td>NEC 1</td>\n",
       "    </tr>\n",
       "    <tr>\n",
       "      <th>1443</th>\n",
       "      <td>Archaea \"Crenarchaeota\" Thermoprotei Desulfuro...</td>\n",
       "      <td>2</td>\n",
       "      <td>NEC 1</td>\n",
       "    </tr>\n",
       "    <tr>\n",
       "      <th>1444</th>\n",
       "      <td>Archaea \"Crenarchaeota\" Thermoprotei Sulfoloba...</td>\n",
       "      <td>5</td>\n",
       "      <td>NEC 1</td>\n",
       "    </tr>\n",
       "  </tbody>\n",
       "</table>\n",
       "</div>"
      ],
      "text/plain": [
       "                                            Description  Stool  GROUP\n",
       "1440  Archaea \"Crenarchaeota\" Thermoprotei Desulfuro...      7  NEC 1\n",
       "1441  Archaea \"Crenarchaeota\" Thermoprotei Desulfuro...      1  NEC 1\n",
       "1442  Archaea \"Crenarchaeota\" Thermoprotei Desulfuro...      1  NEC 1\n",
       "1443  Archaea \"Crenarchaeota\" Thermoprotei Desulfuro...      2  NEC 1\n",
       "1444  Archaea \"Crenarchaeota\" Thermoprotei Sulfoloba...      5  NEC 1"
      ]
     },
     "execution_count": 41,
     "metadata": {},
     "output_type": "execute_result"
    }
   ],
   "source": [
    "stool_df.head()"
   ]
  },
  {
   "cell_type": "markdown",
   "metadata": {},
   "source": [
    "We merge those three temporary dataframes into a single one:"
   ]
  },
  {
   "cell_type": "code",
   "execution_count": 42,
   "metadata": {},
   "outputs": [
    {
     "data": {
      "text/html": [
       "<div>\n",
       "<style>\n",
       "    .dataframe thead tr:only-child th {\n",
       "        text-align: right;\n",
       "    }\n",
       "\n",
       "    .dataframe thead th {\n",
       "        text-align: left;\n",
       "    }\n",
       "\n",
       "    .dataframe tbody tr th {\n",
       "        vertical-align: top;\n",
       "    }\n",
       "</style>\n",
       "<table border=\"1\" class=\"dataframe\">\n",
       "  <thead>\n",
       "    <tr style=\"text-align: right;\">\n",
       "      <th></th>\n",
       "      <th>Description</th>\n",
       "      <th>Stool</th>\n",
       "      <th>GROUP</th>\n",
       "      <th>Tissue</th>\n",
       "      <th>Other</th>\n",
       "    </tr>\n",
       "  </thead>\n",
       "  <tbody>\n",
       "    <tr>\n",
       "      <th>0</th>\n",
       "      <td>Archaea \"Crenarchaeota\" Thermoprotei Desulfuro...</td>\n",
       "      <td>7.0</td>\n",
       "      <td>NEC 1</td>\n",
       "      <td>23.0</td>\n",
       "      <td>NaN</td>\n",
       "    </tr>\n",
       "    <tr>\n",
       "      <th>1</th>\n",
       "      <td>Archaea \"Crenarchaeota\" Thermoprotei Desulfuro...</td>\n",
       "      <td>1.0</td>\n",
       "      <td>NEC 1</td>\n",
       "      <td>1.0</td>\n",
       "      <td>NaN</td>\n",
       "    </tr>\n",
       "    <tr>\n",
       "      <th>2</th>\n",
       "      <td>Archaea \"Crenarchaeota\" Thermoprotei Desulfuro...</td>\n",
       "      <td>1.0</td>\n",
       "      <td>NEC 1</td>\n",
       "      <td>NaN</td>\n",
       "      <td>NaN</td>\n",
       "    </tr>\n",
       "    <tr>\n",
       "      <th>3</th>\n",
       "      <td>Archaea \"Crenarchaeota\" Thermoprotei Desulfuro...</td>\n",
       "      <td>2.0</td>\n",
       "      <td>NEC 1</td>\n",
       "      <td>2.0</td>\n",
       "      <td>NaN</td>\n",
       "    </tr>\n",
       "    <tr>\n",
       "      <th>4</th>\n",
       "      <td>Archaea \"Crenarchaeota\" Thermoprotei Sulfoloba...</td>\n",
       "      <td>5.0</td>\n",
       "      <td>NEC 1</td>\n",
       "      <td>10.0</td>\n",
       "      <td>NaN</td>\n",
       "    </tr>\n",
       "  </tbody>\n",
       "</table>\n",
       "</div>"
      ],
      "text/plain": [
       "                                         Description  Stool  GROUP  Tissue  \\\n",
       "0  Archaea \"Crenarchaeota\" Thermoprotei Desulfuro...    7.0  NEC 1    23.0   \n",
       "1  Archaea \"Crenarchaeota\" Thermoprotei Desulfuro...    1.0  NEC 1     1.0   \n",
       "2  Archaea \"Crenarchaeota\" Thermoprotei Desulfuro...    1.0  NEC 1     NaN   \n",
       "3  Archaea \"Crenarchaeota\" Thermoprotei Desulfuro...    2.0  NEC 1     2.0   \n",
       "4  Archaea \"Crenarchaeota\" Thermoprotei Sulfoloba...    5.0  NEC 1    10.0   \n",
       "\n",
       "   Other  \n",
       "0    NaN  \n",
       "1    NaN  \n",
       "2    NaN  \n",
       "3    NaN  \n",
       "4    NaN  "
      ]
     },
     "execution_count": 42,
     "metadata": {},
     "output_type": "execute_result"
    }
   ],
   "source": [
    "merged_df = pd.merge(stool_df, tissue_df, how='outer', on=['Description', 'GROUP'])\n",
    "merged_df = pd.merge(merged_df, na_df, how='outer', on=['Description', 'GROUP'])\n",
    "merged_df.head()"
   ]
  },
  {
   "cell_type": "markdown",
   "metadata": {},
   "source": [
    "To complete the task, we fill the NaN values of the dataset with the 'unknown' value and we rename columns according to the desired schema:"
   ]
  },
  {
   "cell_type": "code",
   "execution_count": 43,
   "metadata": {},
   "outputs": [
    {
     "data": {
      "text/html": [
       "<div>\n",
       "<style>\n",
       "    .dataframe thead tr:only-child th {\n",
       "        text-align: right;\n",
       "    }\n",
       "\n",
       "    .dataframe thead th {\n",
       "        text-align: left;\n",
       "    }\n",
       "\n",
       "    .dataframe tbody tr th {\n",
       "        vertical-align: top;\n",
       "    }\n",
       "</style>\n",
       "<table border=\"1\" class=\"dataframe\">\n",
       "  <thead>\n",
       "    <tr style=\"text-align: right;\">\n",
       "      <th></th>\n",
       "      <th>Description</th>\n",
       "      <th>Stool</th>\n",
       "      <th>Group</th>\n",
       "      <th>Tissue</th>\n",
       "      <th>Other</th>\n",
       "    </tr>\n",
       "  </thead>\n",
       "  <tbody>\n",
       "    <tr>\n",
       "      <th>0</th>\n",
       "      <td>Archaea \"Crenarchaeota\" Thermoprotei Desulfuro...</td>\n",
       "      <td>7</td>\n",
       "      <td>NEC 1</td>\n",
       "      <td>23</td>\n",
       "      <td>unknown</td>\n",
       "    </tr>\n",
       "    <tr>\n",
       "      <th>1</th>\n",
       "      <td>Archaea \"Crenarchaeota\" Thermoprotei Desulfuro...</td>\n",
       "      <td>1</td>\n",
       "      <td>NEC 1</td>\n",
       "      <td>1</td>\n",
       "      <td>unknown</td>\n",
       "    </tr>\n",
       "    <tr>\n",
       "      <th>2</th>\n",
       "      <td>Archaea \"Crenarchaeota\" Thermoprotei Desulfuro...</td>\n",
       "      <td>1</td>\n",
       "      <td>NEC 1</td>\n",
       "      <td>unknown</td>\n",
       "      <td>unknown</td>\n",
       "    </tr>\n",
       "    <tr>\n",
       "      <th>3</th>\n",
       "      <td>Archaea \"Crenarchaeota\" Thermoprotei Desulfuro...</td>\n",
       "      <td>2</td>\n",
       "      <td>NEC 1</td>\n",
       "      <td>2</td>\n",
       "      <td>unknown</td>\n",
       "    </tr>\n",
       "    <tr>\n",
       "      <th>4</th>\n",
       "      <td>Archaea \"Crenarchaeota\" Thermoprotei Sulfoloba...</td>\n",
       "      <td>5</td>\n",
       "      <td>NEC 1</td>\n",
       "      <td>10</td>\n",
       "      <td>unknown</td>\n",
       "    </tr>\n",
       "  </tbody>\n",
       "</table>\n",
       "</div>"
      ],
      "text/plain": [
       "                                         Description Stool  Group   Tissue  \\\n",
       "0  Archaea \"Crenarchaeota\" Thermoprotei Desulfuro...     7  NEC 1       23   \n",
       "1  Archaea \"Crenarchaeota\" Thermoprotei Desulfuro...     1  NEC 1        1   \n",
       "2  Archaea \"Crenarchaeota\" Thermoprotei Desulfuro...     1  NEC 1  unknown   \n",
       "3  Archaea \"Crenarchaeota\" Thermoprotei Desulfuro...     2  NEC 1        2   \n",
       "4  Archaea \"Crenarchaeota\" Thermoprotei Sulfoloba...     5  NEC 1       10   \n",
       "\n",
       "     Other  \n",
       "0  unknown  \n",
       "1  unknown  \n",
       "2  unknown  \n",
       "3  unknown  \n",
       "4  unknown  "
      ]
     },
     "execution_count": 43,
     "metadata": {},
     "output_type": "execute_result"
    }
   ],
   "source": [
    "# Fill of the 'unknown' value for NaNs\n",
    "merged_df.fillna('unknown', inplace=True)\n",
    "\n",
    "# Final cleaning up of the table schema\n",
    "merged_df.rename(columns={'GROUP':'Group'}, inplace=True)\n",
    "\n",
    "merged_df.head()"
   ]
  },
  {
   "cell_type": "markdown",
   "metadata": {},
   "source": [
    "Lastly we create a unique index based on `Group` and `Description`. For the merged dataframe, these two columns give us an unique index if:\n",
    "* In the metadata, for each unique pair of `Sample` and `Group`, the `Description` values are unique"
   ]
  },
  {
   "cell_type": "code",
   "execution_count": 44,
   "metadata": {},
   "outputs": [
    {
     "data": {
      "text/html": [
       "<div>\n",
       "<style>\n",
       "    .dataframe thead tr:only-child th {\n",
       "        text-align: right;\n",
       "    }\n",
       "\n",
       "    .dataframe thead th {\n",
       "        text-align: left;\n",
       "    }\n",
       "\n",
       "    .dataframe tbody tr th {\n",
       "        vertical-align: top;\n",
       "    }\n",
       "</style>\n",
       "<table border=\"1\" class=\"dataframe\">\n",
       "  <thead>\n",
       "    <tr style=\"text-align: right;\">\n",
       "      <th></th>\n",
       "      <th></th>\n",
       "      <th>Stool</th>\n",
       "      <th>Tissue</th>\n",
       "      <th>Other</th>\n",
       "    </tr>\n",
       "    <tr>\n",
       "      <th>Description</th>\n",
       "      <th>Group</th>\n",
       "      <th></th>\n",
       "      <th></th>\n",
       "      <th></th>\n",
       "    </tr>\n",
       "  </thead>\n",
       "  <tbody>\n",
       "    <tr>\n",
       "      <th>Archaea \"Crenarchaeota\" Thermoprotei Desulfurococcales Desulfurococcaceae Ignisphaera</th>\n",
       "      <th>NEC 1</th>\n",
       "      <td>7</td>\n",
       "      <td>23</td>\n",
       "      <td>unknown</td>\n",
       "    </tr>\n",
       "    <tr>\n",
       "      <th>Archaea \"Crenarchaeota\" Thermoprotei Desulfurococcales Desulfurococcaceae Sulfophobococcus</th>\n",
       "      <th>NEC 1</th>\n",
       "      <td>1</td>\n",
       "      <td>1</td>\n",
       "      <td>unknown</td>\n",
       "    </tr>\n",
       "    <tr>\n",
       "      <th>Archaea \"Crenarchaeota\" Thermoprotei Desulfurococcales Pyrodictiaceae Pyrodictium</th>\n",
       "      <th>NEC 1</th>\n",
       "      <td>1</td>\n",
       "      <td>unknown</td>\n",
       "      <td>unknown</td>\n",
       "    </tr>\n",
       "    <tr>\n",
       "      <th>Archaea \"Crenarchaeota\" Thermoprotei Desulfurococcales Pyrodictiaceae Pyrolobus</th>\n",
       "      <th>NEC 1</th>\n",
       "      <td>2</td>\n",
       "      <td>2</td>\n",
       "      <td>unknown</td>\n",
       "    </tr>\n",
       "    <tr>\n",
       "      <th>Archaea \"Crenarchaeota\" Thermoprotei Sulfolobales Sulfolobaceae Stygiolobus</th>\n",
       "      <th>NEC 1</th>\n",
       "      <td>5</td>\n",
       "      <td>10</td>\n",
       "      <td>unknown</td>\n",
       "    </tr>\n",
       "    <tr>\n",
       "      <th>Archaea \"Crenarchaeota\" Thermoprotei Sulfolobales Sulfolobaceae Sulfurisphaera</th>\n",
       "      <th>NEC 1</th>\n",
       "      <td>4</td>\n",
       "      <td>11</td>\n",
       "      <td>unknown</td>\n",
       "    </tr>\n",
       "    <tr>\n",
       "      <th>Archaea \"Crenarchaeota\" Thermoprotei Thermoproteales Thermofilaceae Thermofilum</th>\n",
       "      <th>NEC 1</th>\n",
       "      <td>4</td>\n",
       "      <td>9</td>\n",
       "      <td>unknown</td>\n",
       "    </tr>\n",
       "    <tr>\n",
       "      <th>Archaea \"Crenarchaeota\" Thermoprotei Thermoproteales Thermoproteaceae Caldivirga</th>\n",
       "      <th>NEC 1</th>\n",
       "      <td>1</td>\n",
       "      <td>5</td>\n",
       "      <td>unknown</td>\n",
       "    </tr>\n",
       "    <tr>\n",
       "      <th>Archaea \"Euryarchaeota\" \"Methanomicrobia\" Methanocellales Methanocellaceae Methanocella</th>\n",
       "      <th>NEC 1</th>\n",
       "      <td>12</td>\n",
       "      <td>9</td>\n",
       "      <td>unknown</td>\n",
       "    </tr>\n",
       "    <tr>\n",
       "      <th>Archaea \"Euryarchaeota\" \"Methanomicrobia\" Methanomicrobiales Methanomicrobiaceae Methanomicrobium</th>\n",
       "      <th>NEC 1</th>\n",
       "      <td>2</td>\n",
       "      <td>1</td>\n",
       "      <td>unknown</td>\n",
       "    </tr>\n",
       "    <tr>\n",
       "      <th>Archaea \"Euryarchaeota\" \"Methanomicrobia\" Methanosarcinales Methanosarcinaceae Methanimicrococcus</th>\n",
       "      <th>NEC 1</th>\n",
       "      <td>1</td>\n",
       "      <td>12</td>\n",
       "      <td>unknown</td>\n",
       "    </tr>\n",
       "    <tr>\n",
       "      <th>Archaea \"Euryarchaeota\" \"Methanomicrobia\" Methanosarcinales Methanosarcinaceae Methanosalsum</th>\n",
       "      <th>NEC 1</th>\n",
       "      <td>1</td>\n",
       "      <td>unknown</td>\n",
       "      <td>unknown</td>\n",
       "    </tr>\n",
       "    <tr>\n",
       "      <th>Archaea \"Euryarchaeota\" \"Methanomicrobia\" Methanosarcinales Methermicoccaceae Methermicoccus</th>\n",
       "      <th>NEC 1</th>\n",
       "      <td>1</td>\n",
       "      <td>2</td>\n",
       "      <td>unknown</td>\n",
       "    </tr>\n",
       "    <tr>\n",
       "      <th>Archaea \"Euryarchaeota\" Archaeoglobi Archaeoglobales Archaeoglobaceae Ferroglobus</th>\n",
       "      <th>NEC 1</th>\n",
       "      <td>4</td>\n",
       "      <td>4</td>\n",
       "      <td>unknown</td>\n",
       "    </tr>\n",
       "    <tr>\n",
       "      <th>Archaea \"Euryarchaeota\" Halobacteria Halobacteriales Halobacteriaceae Haloplanus</th>\n",
       "      <th>NEC 1</th>\n",
       "      <td>4</td>\n",
       "      <td>4</td>\n",
       "      <td>unknown</td>\n",
       "    </tr>\n",
       "    <tr>\n",
       "      <th>Archaea \"Euryarchaeota\" Halobacteria Halobacteriales Halobacteriaceae Halosarcina</th>\n",
       "      <th>NEC 1</th>\n",
       "      <td>1</td>\n",
       "      <td>unknown</td>\n",
       "      <td>unknown</td>\n",
       "    </tr>\n",
       "    <tr>\n",
       "      <th>Archaea \"Euryarchaeota\" Halobacteria Halobacteriales Halobacteriaceae Halosimplex</th>\n",
       "      <th>NEC 1</th>\n",
       "      <td>3</td>\n",
       "      <td>5</td>\n",
       "      <td>unknown</td>\n",
       "    </tr>\n",
       "    <tr>\n",
       "      <th>Archaea \"Euryarchaeota\" Halobacteria Halobacteriales Halobacteriaceae Halostagnicola</th>\n",
       "      <th>NEC 1</th>\n",
       "      <td>1</td>\n",
       "      <td>unknown</td>\n",
       "      <td>unknown</td>\n",
       "    </tr>\n",
       "    <tr>\n",
       "      <th>Archaea \"Euryarchaeota\" Halobacteria Halobacteriales Halobacteriaceae Natronobacterium</th>\n",
       "      <th>NEC 1</th>\n",
       "      <td>3</td>\n",
       "      <td>2</td>\n",
       "      <td>unknown</td>\n",
       "    </tr>\n",
       "    <tr>\n",
       "      <th>Archaea \"Euryarchaeota\" Methanobacteria Methanobacteriales Methanobacteriaceae Methanosphaera</th>\n",
       "      <th>NEC 1</th>\n",
       "      <td>1</td>\n",
       "      <td>1</td>\n",
       "      <td>unknown</td>\n",
       "    </tr>\n",
       "    <tr>\n",
       "      <th>Archaea \"Euryarchaeota\" Methanopyri Methanopyrales Methanopyraceae Methanopyrus</th>\n",
       "      <th>NEC 1</th>\n",
       "      <td>23</td>\n",
       "      <td>47</td>\n",
       "      <td>unknown</td>\n",
       "    </tr>\n",
       "    <tr>\n",
       "      <th>Archaea \"Euryarchaeota\" Thermoplasmata Thermoplasmatales Thermoplasmatales_incertae_sedis Thermogymnomonas</th>\n",
       "      <th>NEC 1</th>\n",
       "      <td>11</td>\n",
       "      <td>10</td>\n",
       "      <td>unknown</td>\n",
       "    </tr>\n",
       "    <tr>\n",
       "      <th>Bacteria \"Actinobacteria\" Actinobacteria Actinomycetales Micromonosporaceae Catelliglobosispora</th>\n",
       "      <th>NEC 1</th>\n",
       "      <td>1</td>\n",
       "      <td>unknown</td>\n",
       "      <td>unknown</td>\n",
       "    </tr>\n",
       "    <tr>\n",
       "      <th>Bacteria \"Actinobacteria\" Actinobacteria Actinomycetales Promicromonosporaceae Myceligenerans</th>\n",
       "      <th>NEC 1</th>\n",
       "      <td>1</td>\n",
       "      <td>unknown</td>\n",
       "      <td>unknown</td>\n",
       "    </tr>\n",
       "    <tr>\n",
       "      <th>Bacteria \"Actinobacteria\" Actinobacteria Actinomycetales Propionibacteriaceae Propionibacterium</th>\n",
       "      <th>NEC 1</th>\n",
       "      <td>1</td>\n",
       "      <td>31</td>\n",
       "      <td>unknown</td>\n",
       "    </tr>\n",
       "    <tr>\n",
       "      <th>Bacteria \"Actinobacteria\" Actinobacteria Bifidobacteriales Bifidobacteriaceae Alloscardovia</th>\n",
       "      <th>NEC 1</th>\n",
       "      <td>1</td>\n",
       "      <td>unknown</td>\n",
       "      <td>unknown</td>\n",
       "    </tr>\n",
       "    <tr>\n",
       "      <th>Bacteria \"Actinobacteria\" Actinobacteria Coriobacteriales Coriobacteriaceae Paraeggerthella</th>\n",
       "      <th>NEC 1</th>\n",
       "      <td>5</td>\n",
       "      <td>2</td>\n",
       "      <td>unknown</td>\n",
       "    </tr>\n",
       "    <tr>\n",
       "      <th>Bacteria \"Aquificae\" Aquificae Aquificales Aquificaceae Aquifex</th>\n",
       "      <th>NEC 1</th>\n",
       "      <td>35</td>\n",
       "      <td>54</td>\n",
       "      <td>unknown</td>\n",
       "    </tr>\n",
       "    <tr>\n",
       "      <th>Bacteria \"Aquificae\" Aquificae Aquificales Aquificales_incertae_sedis Thermosulfidibacter</th>\n",
       "      <th>NEC 1</th>\n",
       "      <td>1</td>\n",
       "      <td>unknown</td>\n",
       "      <td>unknown</td>\n",
       "    </tr>\n",
       "    <tr>\n",
       "      <th>Bacteria \"Aquificae\" Aquificae Aquificales Desulfurobacteriaceae Balnearium</th>\n",
       "      <th>NEC 1</th>\n",
       "      <td>5</td>\n",
       "      <td>7</td>\n",
       "      <td>unknown</td>\n",
       "    </tr>\n",
       "    <tr>\n",
       "      <th>...</th>\n",
       "      <th>...</th>\n",
       "      <td>...</td>\n",
       "      <td>...</td>\n",
       "      <td>...</td>\n",
       "    </tr>\n",
       "    <tr>\n",
       "      <th>Bacteria \"Proteobacteria\" Gammaproteobacteria Oceanospirillales Oceanospirillaceae Neptuniibacter</th>\n",
       "      <th>EXTRACTION CONTROL</th>\n",
       "      <td>unknown</td>\n",
       "      <td>unknown</td>\n",
       "      <td>1</td>\n",
       "    </tr>\n",
       "    <tr>\n",
       "      <th>Bacteria \"Proteobacteria\" Gammaproteobacteria Oceanospirillales Oleiphilaceae Oleiphilus</th>\n",
       "      <th>EXTRACTION CONTROL</th>\n",
       "      <td>unknown</td>\n",
       "      <td>unknown</td>\n",
       "      <td>1</td>\n",
       "    </tr>\n",
       "    <tr>\n",
       "      <th>Bacteria \"Proteobacteria\" Gammaproteobacteria Pseudomonadales Moraxellaceae Acinetobacter</th>\n",
       "      <th>EXTRACTION CONTROL</th>\n",
       "      <td>unknown</td>\n",
       "      <td>unknown</td>\n",
       "      <td>11</td>\n",
       "    </tr>\n",
       "    <tr>\n",
       "      <th>Bacteria \"Proteobacteria\" Gammaproteobacteria Pseudomonadales Moraxellaceae Alkanindiges</th>\n",
       "      <th>EXTRACTION CONTROL</th>\n",
       "      <td>unknown</td>\n",
       "      <td>unknown</td>\n",
       "      <td>9</td>\n",
       "    </tr>\n",
       "    <tr>\n",
       "      <th>Bacteria \"Proteobacteria\" Gammaproteobacteria Pseudomonadales Moraxellaceae Enhydrobacter</th>\n",
       "      <th>EXTRACTION CONTROL</th>\n",
       "      <td>unknown</td>\n",
       "      <td>unknown</td>\n",
       "      <td>1</td>\n",
       "    </tr>\n",
       "    <tr>\n",
       "      <th>Bacteria \"Proteobacteria\" Gammaproteobacteria Pseudomonadales Pseudomonadaceae Azomonas</th>\n",
       "      <th>EXTRACTION CONTROL</th>\n",
       "      <td>unknown</td>\n",
       "      <td>unknown</td>\n",
       "      <td>396</td>\n",
       "    </tr>\n",
       "    <tr>\n",
       "      <th>Bacteria \"Proteobacteria\" Gammaproteobacteria Pseudomonadales Pseudomonadaceae Azorhizophilus</th>\n",
       "      <th>EXTRACTION CONTROL</th>\n",
       "      <td>unknown</td>\n",
       "      <td>unknown</td>\n",
       "      <td>414</td>\n",
       "    </tr>\n",
       "    <tr>\n",
       "      <th>Bacteria \"Proteobacteria\" Gammaproteobacteria Pseudomonadales Pseudomonadaceae Pseudomonas</th>\n",
       "      <th>EXTRACTION CONTROL</th>\n",
       "      <td>unknown</td>\n",
       "      <td>unknown</td>\n",
       "      <td>3732</td>\n",
       "    </tr>\n",
       "    <tr>\n",
       "      <th>Bacteria \"Proteobacteria\" Gammaproteobacteria Thiotrichales Piscirickettsiaceae Cycloclasticus</th>\n",
       "      <th>EXTRACTION CONTROL</th>\n",
       "      <td>unknown</td>\n",
       "      <td>unknown</td>\n",
       "      <td>4</td>\n",
       "    </tr>\n",
       "    <tr>\n",
       "      <th>Bacteria \"Proteobacteria\" Gammaproteobacteria Thiotrichales Thiotrichaceae Beggiatoa</th>\n",
       "      <th>EXTRACTION CONTROL</th>\n",
       "      <td>unknown</td>\n",
       "      <td>unknown</td>\n",
       "      <td>22</td>\n",
       "    </tr>\n",
       "    <tr>\n",
       "      <th>Bacteria \"Proteobacteria\" Gammaproteobacteria Thiotrichales Thiotrichaceae Leucothrix</th>\n",
       "      <th>EXTRACTION CONTROL</th>\n",
       "      <td>unknown</td>\n",
       "      <td>unknown</td>\n",
       "      <td>1</td>\n",
       "    </tr>\n",
       "    <tr>\n",
       "      <th>Bacteria \"Proteobacteria\" Gammaproteobacteria Thiotrichales Thiotrichales_incertae_sedis Fangia</th>\n",
       "      <th>EXTRACTION CONTROL</th>\n",
       "      <td>unknown</td>\n",
       "      <td>unknown</td>\n",
       "      <td>4</td>\n",
       "    </tr>\n",
       "    <tr>\n",
       "      <th>Bacteria \"Proteobacteria\" Gammaproteobacteria Xanthomonadales Sinobacteraceae Alkanibacter</th>\n",
       "      <th>EXTRACTION CONTROL</th>\n",
       "      <td>unknown</td>\n",
       "      <td>unknown</td>\n",
       "      <td>5</td>\n",
       "    </tr>\n",
       "    <tr>\n",
       "      <th>Bacteria \"Proteobacteria\" Gammaproteobacteria Xanthomonadales Sinobacteraceae Hydrocarboniphaga</th>\n",
       "      <th>EXTRACTION CONTROL</th>\n",
       "      <td>unknown</td>\n",
       "      <td>unknown</td>\n",
       "      <td>6</td>\n",
       "    </tr>\n",
       "    <tr>\n",
       "      <th>Bacteria \"Proteobacteria\" Gammaproteobacteria Xanthomonadales Sinobacteraceae Sinobacter</th>\n",
       "      <th>EXTRACTION CONTROL</th>\n",
       "      <td>unknown</td>\n",
       "      <td>unknown</td>\n",
       "      <td>1</td>\n",
       "    </tr>\n",
       "    <tr>\n",
       "      <th>Bacteria \"Proteobacteria\" Gammaproteobacteria Xanthomonadales Sinobacteraceae Steroidobacter</th>\n",
       "      <th>EXTRACTION CONTROL</th>\n",
       "      <td>unknown</td>\n",
       "      <td>unknown</td>\n",
       "      <td>1</td>\n",
       "    </tr>\n",
       "    <tr>\n",
       "      <th>Bacteria \"Proteobacteria\" Gammaproteobacteria Xanthomonadales Xanthomonadaceae Frateuria</th>\n",
       "      <th>EXTRACTION CONTROL</th>\n",
       "      <td>unknown</td>\n",
       "      <td>unknown</td>\n",
       "      <td>2</td>\n",
       "    </tr>\n",
       "    <tr>\n",
       "      <th>Bacteria \"Proteobacteria\" Gammaproteobacteria Xanthomonadales Xanthomonadaceae Luteibacter</th>\n",
       "      <th>EXTRACTION CONTROL</th>\n",
       "      <td>unknown</td>\n",
       "      <td>unknown</td>\n",
       "      <td>2</td>\n",
       "    </tr>\n",
       "    <tr>\n",
       "      <th>Bacteria \"Spirochaetes\" Spirochaetes Spirochaetales Spirochaetales_incertae_sedis Exilispira</th>\n",
       "      <th>EXTRACTION CONTROL</th>\n",
       "      <td>unknown</td>\n",
       "      <td>unknown</td>\n",
       "      <td>1</td>\n",
       "    </tr>\n",
       "    <tr>\n",
       "      <th>Bacteria \"Synergistetes\" Synergistia Synergistales Synergistaceae Aminiphilus</th>\n",
       "      <th>EXTRACTION CONTROL</th>\n",
       "      <td>unknown</td>\n",
       "      <td>unknown</td>\n",
       "      <td>2</td>\n",
       "    </tr>\n",
       "    <tr>\n",
       "      <th>Bacteria \"Synergistetes\" Synergistia Synergistales Synergistaceae Aminomonas</th>\n",
       "      <th>EXTRACTION CONTROL</th>\n",
       "      <td>unknown</td>\n",
       "      <td>unknown</td>\n",
       "      <td>1</td>\n",
       "    </tr>\n",
       "    <tr>\n",
       "      <th>Bacteria \"Synergistetes\" Synergistia Synergistales Synergistaceae Thermovirga</th>\n",
       "      <th>EXTRACTION CONTROL</th>\n",
       "      <td>unknown</td>\n",
       "      <td>unknown</td>\n",
       "      <td>1</td>\n",
       "    </tr>\n",
       "    <tr>\n",
       "      <th>Bacteria \"Tenericutes\" Mollicutes Haloplasmatales Haloplasmataceae Haloplasma</th>\n",
       "      <th>EXTRACTION CONTROL</th>\n",
       "      <td>unknown</td>\n",
       "      <td>unknown</td>\n",
       "      <td>1</td>\n",
       "    </tr>\n",
       "    <tr>\n",
       "      <th>Bacteria \"Thermodesulfobacteria\" Thermodesulfobacteria Thermodesulfobacteriales Thermodesulfobacteriaceae Caldimicrobium</th>\n",
       "      <th>EXTRACTION CONTROL</th>\n",
       "      <td>unknown</td>\n",
       "      <td>unknown</td>\n",
       "      <td>1</td>\n",
       "    </tr>\n",
       "    <tr>\n",
       "      <th>Bacteria \"Thermotogae\" Thermotogae Thermotogales Thermotogaceae Geotoga</th>\n",
       "      <th>EXTRACTION CONTROL</th>\n",
       "      <td>unknown</td>\n",
       "      <td>unknown</td>\n",
       "      <td>7</td>\n",
       "    </tr>\n",
       "    <tr>\n",
       "      <th>Bacteria \"Thermotogae\" Thermotogae Thermotogales Thermotogaceae Kosmotoga</th>\n",
       "      <th>EXTRACTION CONTROL</th>\n",
       "      <td>unknown</td>\n",
       "      <td>unknown</td>\n",
       "      <td>9</td>\n",
       "    </tr>\n",
       "    <tr>\n",
       "      <th>Bacteria \"Verrucomicrobia\" Opitutae Opitutales Opitutaceae Alterococcus</th>\n",
       "      <th>EXTRACTION CONTROL</th>\n",
       "      <td>unknown</td>\n",
       "      <td>unknown</td>\n",
       "      <td>1</td>\n",
       "    </tr>\n",
       "    <tr>\n",
       "      <th>Bacteria Cyanobacteria Cyanobacteria  Chloroplast Bangiophyceae</th>\n",
       "      <th>EXTRACTION CONTROL</th>\n",
       "      <td>unknown</td>\n",
       "      <td>unknown</td>\n",
       "      <td>2</td>\n",
       "    </tr>\n",
       "    <tr>\n",
       "      <th>Bacteria Cyanobacteria Cyanobacteria  Chloroplast Chlorarachniophyceae</th>\n",
       "      <th>EXTRACTION CONTROL</th>\n",
       "      <td>unknown</td>\n",
       "      <td>unknown</td>\n",
       "      <td>85</td>\n",
       "    </tr>\n",
       "    <tr>\n",
       "      <th>Bacteria Cyanobacteria Cyanobacteria  Chloroplast Streptophyta</th>\n",
       "      <th>EXTRACTION CONTROL</th>\n",
       "      <td>unknown</td>\n",
       "      <td>unknown</td>\n",
       "      <td>1388</td>\n",
       "    </tr>\n",
       "  </tbody>\n",
       "</table>\n",
       "<p>1793 rows × 3 columns</p>\n",
       "</div>"
      ],
      "text/plain": [
       "                                                                         Stool  \\\n",
       "Description                                        Group                         \n",
       "Archaea \"Crenarchaeota\" Thermoprotei Desulfuroc... NEC 1                     7   \n",
       "Archaea \"Crenarchaeota\" Thermoprotei Desulfuroc... NEC 1                     1   \n",
       "Archaea \"Crenarchaeota\" Thermoprotei Desulfuroc... NEC 1                     1   \n",
       "Archaea \"Crenarchaeota\" Thermoprotei Desulfuroc... NEC 1                     2   \n",
       "Archaea \"Crenarchaeota\" Thermoprotei Sulfolobal... NEC 1                     5   \n",
       "Archaea \"Crenarchaeota\" Thermoprotei Sulfolobal... NEC 1                     4   \n",
       "Archaea \"Crenarchaeota\" Thermoprotei Thermoprot... NEC 1                     4   \n",
       "Archaea \"Crenarchaeota\" Thermoprotei Thermoprot... NEC 1                     1   \n",
       "Archaea \"Euryarchaeota\" \"Methanomicrobia\" Metha... NEC 1                    12   \n",
       "Archaea \"Euryarchaeota\" \"Methanomicrobia\" Metha... NEC 1                     2   \n",
       "Archaea \"Euryarchaeota\" \"Methanomicrobia\" Metha... NEC 1                     1   \n",
       "Archaea \"Euryarchaeota\" \"Methanomicrobia\" Metha... NEC 1                     1   \n",
       "Archaea \"Euryarchaeota\" \"Methanomicrobia\" Metha... NEC 1                     1   \n",
       "Archaea \"Euryarchaeota\" Archaeoglobi Archaeoglo... NEC 1                     4   \n",
       "Archaea \"Euryarchaeota\" Halobacteria Halobacter... NEC 1                     4   \n",
       "Archaea \"Euryarchaeota\" Halobacteria Halobacter... NEC 1                     1   \n",
       "Archaea \"Euryarchaeota\" Halobacteria Halobacter... NEC 1                     3   \n",
       "Archaea \"Euryarchaeota\" Halobacteria Halobacter... NEC 1                     1   \n",
       "Archaea \"Euryarchaeota\" Halobacteria Halobacter... NEC 1                     3   \n",
       "Archaea \"Euryarchaeota\" Methanobacteria Methano... NEC 1                     1   \n",
       "Archaea \"Euryarchaeota\" Methanopyri Methanopyra... NEC 1                    23   \n",
       "Archaea \"Euryarchaeota\" Thermoplasmata Thermopl... NEC 1                    11   \n",
       "Bacteria \"Actinobacteria\" Actinobacteria Actino... NEC 1                     1   \n",
       "Bacteria \"Actinobacteria\" Actinobacteria Actino... NEC 1                     1   \n",
       "Bacteria \"Actinobacteria\" Actinobacteria Actino... NEC 1                     1   \n",
       "Bacteria \"Actinobacteria\" Actinobacteria Bifido... NEC 1                     1   \n",
       "Bacteria \"Actinobacteria\" Actinobacteria Coriob... NEC 1                     5   \n",
       "Bacteria \"Aquificae\" Aquificae Aquificales Aqui... NEC 1                    35   \n",
       "Bacteria \"Aquificae\" Aquificae Aquificales Aqui... NEC 1                     1   \n",
       "Bacteria \"Aquificae\" Aquificae Aquificales Desu... NEC 1                     5   \n",
       "...                                                                        ...   \n",
       "Bacteria \"Proteobacteria\" Gammaproteobacteria O... EXTRACTION CONTROL  unknown   \n",
       "Bacteria \"Proteobacteria\" Gammaproteobacteria O... EXTRACTION CONTROL  unknown   \n",
       "Bacteria \"Proteobacteria\" Gammaproteobacteria P... EXTRACTION CONTROL  unknown   \n",
       "Bacteria \"Proteobacteria\" Gammaproteobacteria P... EXTRACTION CONTROL  unknown   \n",
       "Bacteria \"Proteobacteria\" Gammaproteobacteria P... EXTRACTION CONTROL  unknown   \n",
       "Bacteria \"Proteobacteria\" Gammaproteobacteria P... EXTRACTION CONTROL  unknown   \n",
       "Bacteria \"Proteobacteria\" Gammaproteobacteria P... EXTRACTION CONTROL  unknown   \n",
       "Bacteria \"Proteobacteria\" Gammaproteobacteria P... EXTRACTION CONTROL  unknown   \n",
       "Bacteria \"Proteobacteria\" Gammaproteobacteria T... EXTRACTION CONTROL  unknown   \n",
       "Bacteria \"Proteobacteria\" Gammaproteobacteria T... EXTRACTION CONTROL  unknown   \n",
       "Bacteria \"Proteobacteria\" Gammaproteobacteria T... EXTRACTION CONTROL  unknown   \n",
       "Bacteria \"Proteobacteria\" Gammaproteobacteria T... EXTRACTION CONTROL  unknown   \n",
       "Bacteria \"Proteobacteria\" Gammaproteobacteria X... EXTRACTION CONTROL  unknown   \n",
       "Bacteria \"Proteobacteria\" Gammaproteobacteria X... EXTRACTION CONTROL  unknown   \n",
       "Bacteria \"Proteobacteria\" Gammaproteobacteria X... EXTRACTION CONTROL  unknown   \n",
       "Bacteria \"Proteobacteria\" Gammaproteobacteria X... EXTRACTION CONTROL  unknown   \n",
       "Bacteria \"Proteobacteria\" Gammaproteobacteria X... EXTRACTION CONTROL  unknown   \n",
       "Bacteria \"Proteobacteria\" Gammaproteobacteria X... EXTRACTION CONTROL  unknown   \n",
       "Bacteria \"Spirochaetes\" Spirochaetes Spirochaet... EXTRACTION CONTROL  unknown   \n",
       "Bacteria \"Synergistetes\" Synergistia Synergista... EXTRACTION CONTROL  unknown   \n",
       "Bacteria \"Synergistetes\" Synergistia Synergista... EXTRACTION CONTROL  unknown   \n",
       "Bacteria \"Synergistetes\" Synergistia Synergista... EXTRACTION CONTROL  unknown   \n",
       "Bacteria \"Tenericutes\" Mollicutes Haloplasmatal... EXTRACTION CONTROL  unknown   \n",
       "Bacteria \"Thermodesulfobacteria\" Thermodesulfob... EXTRACTION CONTROL  unknown   \n",
       "Bacteria \"Thermotogae\" Thermotogae Thermotogale... EXTRACTION CONTROL  unknown   \n",
       "Bacteria \"Thermotogae\" Thermotogae Thermotogale... EXTRACTION CONTROL  unknown   \n",
       "Bacteria \"Verrucomicrobia\" Opitutae Opitutales ... EXTRACTION CONTROL  unknown   \n",
       "Bacteria Cyanobacteria Cyanobacteria  Chloropla... EXTRACTION CONTROL  unknown   \n",
       "Bacteria Cyanobacteria Cyanobacteria  Chloropla... EXTRACTION CONTROL  unknown   \n",
       "Bacteria Cyanobacteria Cyanobacteria  Chloropla... EXTRACTION CONTROL  unknown   \n",
       "\n",
       "                                                                        Tissue  \\\n",
       "Description                                        Group                         \n",
       "Archaea \"Crenarchaeota\" Thermoprotei Desulfuroc... NEC 1                    23   \n",
       "Archaea \"Crenarchaeota\" Thermoprotei Desulfuroc... NEC 1                     1   \n",
       "Archaea \"Crenarchaeota\" Thermoprotei Desulfuroc... NEC 1               unknown   \n",
       "Archaea \"Crenarchaeota\" Thermoprotei Desulfuroc... NEC 1                     2   \n",
       "Archaea \"Crenarchaeota\" Thermoprotei Sulfolobal... NEC 1                    10   \n",
       "Archaea \"Crenarchaeota\" Thermoprotei Sulfolobal... NEC 1                    11   \n",
       "Archaea \"Crenarchaeota\" Thermoprotei Thermoprot... NEC 1                     9   \n",
       "Archaea \"Crenarchaeota\" Thermoprotei Thermoprot... NEC 1                     5   \n",
       "Archaea \"Euryarchaeota\" \"Methanomicrobia\" Metha... NEC 1                     9   \n",
       "Archaea \"Euryarchaeota\" \"Methanomicrobia\" Metha... NEC 1                     1   \n",
       "Archaea \"Euryarchaeota\" \"Methanomicrobia\" Metha... NEC 1                    12   \n",
       "Archaea \"Euryarchaeota\" \"Methanomicrobia\" Metha... NEC 1               unknown   \n",
       "Archaea \"Euryarchaeota\" \"Methanomicrobia\" Metha... NEC 1                     2   \n",
       "Archaea \"Euryarchaeota\" Archaeoglobi Archaeoglo... NEC 1                     4   \n",
       "Archaea \"Euryarchaeota\" Halobacteria Halobacter... NEC 1                     4   \n",
       "Archaea \"Euryarchaeota\" Halobacteria Halobacter... NEC 1               unknown   \n",
       "Archaea \"Euryarchaeota\" Halobacteria Halobacter... NEC 1                     5   \n",
       "Archaea \"Euryarchaeota\" Halobacteria Halobacter... NEC 1               unknown   \n",
       "Archaea \"Euryarchaeota\" Halobacteria Halobacter... NEC 1                     2   \n",
       "Archaea \"Euryarchaeota\" Methanobacteria Methano... NEC 1                     1   \n",
       "Archaea \"Euryarchaeota\" Methanopyri Methanopyra... NEC 1                    47   \n",
       "Archaea \"Euryarchaeota\" Thermoplasmata Thermopl... NEC 1                    10   \n",
       "Bacteria \"Actinobacteria\" Actinobacteria Actino... NEC 1               unknown   \n",
       "Bacteria \"Actinobacteria\" Actinobacteria Actino... NEC 1               unknown   \n",
       "Bacteria \"Actinobacteria\" Actinobacteria Actino... NEC 1                    31   \n",
       "Bacteria \"Actinobacteria\" Actinobacteria Bifido... NEC 1               unknown   \n",
       "Bacteria \"Actinobacteria\" Actinobacteria Coriob... NEC 1                     2   \n",
       "Bacteria \"Aquificae\" Aquificae Aquificales Aqui... NEC 1                    54   \n",
       "Bacteria \"Aquificae\" Aquificae Aquificales Aqui... NEC 1               unknown   \n",
       "Bacteria \"Aquificae\" Aquificae Aquificales Desu... NEC 1                     7   \n",
       "...                                                                        ...   \n",
       "Bacteria \"Proteobacteria\" Gammaproteobacteria O... EXTRACTION CONTROL  unknown   \n",
       "Bacteria \"Proteobacteria\" Gammaproteobacteria O... EXTRACTION CONTROL  unknown   \n",
       "Bacteria \"Proteobacteria\" Gammaproteobacteria P... EXTRACTION CONTROL  unknown   \n",
       "Bacteria \"Proteobacteria\" Gammaproteobacteria P... EXTRACTION CONTROL  unknown   \n",
       "Bacteria \"Proteobacteria\" Gammaproteobacteria P... EXTRACTION CONTROL  unknown   \n",
       "Bacteria \"Proteobacteria\" Gammaproteobacteria P... EXTRACTION CONTROL  unknown   \n",
       "Bacteria \"Proteobacteria\" Gammaproteobacteria P... EXTRACTION CONTROL  unknown   \n",
       "Bacteria \"Proteobacteria\" Gammaproteobacteria P... EXTRACTION CONTROL  unknown   \n",
       "Bacteria \"Proteobacteria\" Gammaproteobacteria T... EXTRACTION CONTROL  unknown   \n",
       "Bacteria \"Proteobacteria\" Gammaproteobacteria T... EXTRACTION CONTROL  unknown   \n",
       "Bacteria \"Proteobacteria\" Gammaproteobacteria T... EXTRACTION CONTROL  unknown   \n",
       "Bacteria \"Proteobacteria\" Gammaproteobacteria T... EXTRACTION CONTROL  unknown   \n",
       "Bacteria \"Proteobacteria\" Gammaproteobacteria X... EXTRACTION CONTROL  unknown   \n",
       "Bacteria \"Proteobacteria\" Gammaproteobacteria X... EXTRACTION CONTROL  unknown   \n",
       "Bacteria \"Proteobacteria\" Gammaproteobacteria X... EXTRACTION CONTROL  unknown   \n",
       "Bacteria \"Proteobacteria\" Gammaproteobacteria X... EXTRACTION CONTROL  unknown   \n",
       "Bacteria \"Proteobacteria\" Gammaproteobacteria X... EXTRACTION CONTROL  unknown   \n",
       "Bacteria \"Proteobacteria\" Gammaproteobacteria X... EXTRACTION CONTROL  unknown   \n",
       "Bacteria \"Spirochaetes\" Spirochaetes Spirochaet... EXTRACTION CONTROL  unknown   \n",
       "Bacteria \"Synergistetes\" Synergistia Synergista... EXTRACTION CONTROL  unknown   \n",
       "Bacteria \"Synergistetes\" Synergistia Synergista... EXTRACTION CONTROL  unknown   \n",
       "Bacteria \"Synergistetes\" Synergistia Synergista... EXTRACTION CONTROL  unknown   \n",
       "Bacteria \"Tenericutes\" Mollicutes Haloplasmatal... EXTRACTION CONTROL  unknown   \n",
       "Bacteria \"Thermodesulfobacteria\" Thermodesulfob... EXTRACTION CONTROL  unknown   \n",
       "Bacteria \"Thermotogae\" Thermotogae Thermotogale... EXTRACTION CONTROL  unknown   \n",
       "Bacteria \"Thermotogae\" Thermotogae Thermotogale... EXTRACTION CONTROL  unknown   \n",
       "Bacteria \"Verrucomicrobia\" Opitutae Opitutales ... EXTRACTION CONTROL  unknown   \n",
       "Bacteria Cyanobacteria Cyanobacteria  Chloropla... EXTRACTION CONTROL  unknown   \n",
       "Bacteria Cyanobacteria Cyanobacteria  Chloropla... EXTRACTION CONTROL  unknown   \n",
       "Bacteria Cyanobacteria Cyanobacteria  Chloropla... EXTRACTION CONTROL  unknown   \n",
       "\n",
       "                                                                         Other  \n",
       "Description                                        Group                        \n",
       "Archaea \"Crenarchaeota\" Thermoprotei Desulfuroc... NEC 1               unknown  \n",
       "Archaea \"Crenarchaeota\" Thermoprotei Desulfuroc... NEC 1               unknown  \n",
       "Archaea \"Crenarchaeota\" Thermoprotei Desulfuroc... NEC 1               unknown  \n",
       "Archaea \"Crenarchaeota\" Thermoprotei Desulfuroc... NEC 1               unknown  \n",
       "Archaea \"Crenarchaeota\" Thermoprotei Sulfolobal... NEC 1               unknown  \n",
       "Archaea \"Crenarchaeota\" Thermoprotei Sulfolobal... NEC 1               unknown  \n",
       "Archaea \"Crenarchaeota\" Thermoprotei Thermoprot... NEC 1               unknown  \n",
       "Archaea \"Crenarchaeota\" Thermoprotei Thermoprot... NEC 1               unknown  \n",
       "Archaea \"Euryarchaeota\" \"Methanomicrobia\" Metha... NEC 1               unknown  \n",
       "Archaea \"Euryarchaeota\" \"Methanomicrobia\" Metha... NEC 1               unknown  \n",
       "Archaea \"Euryarchaeota\" \"Methanomicrobia\" Metha... NEC 1               unknown  \n",
       "Archaea \"Euryarchaeota\" \"Methanomicrobia\" Metha... NEC 1               unknown  \n",
       "Archaea \"Euryarchaeota\" \"Methanomicrobia\" Metha... NEC 1               unknown  \n",
       "Archaea \"Euryarchaeota\" Archaeoglobi Archaeoglo... NEC 1               unknown  \n",
       "Archaea \"Euryarchaeota\" Halobacteria Halobacter... NEC 1               unknown  \n",
       "Archaea \"Euryarchaeota\" Halobacteria Halobacter... NEC 1               unknown  \n",
       "Archaea \"Euryarchaeota\" Halobacteria Halobacter... NEC 1               unknown  \n",
       "Archaea \"Euryarchaeota\" Halobacteria Halobacter... NEC 1               unknown  \n",
       "Archaea \"Euryarchaeota\" Halobacteria Halobacter... NEC 1               unknown  \n",
       "Archaea \"Euryarchaeota\" Methanobacteria Methano... NEC 1               unknown  \n",
       "Archaea \"Euryarchaeota\" Methanopyri Methanopyra... NEC 1               unknown  \n",
       "Archaea \"Euryarchaeota\" Thermoplasmata Thermopl... NEC 1               unknown  \n",
       "Bacteria \"Actinobacteria\" Actinobacteria Actino... NEC 1               unknown  \n",
       "Bacteria \"Actinobacteria\" Actinobacteria Actino... NEC 1               unknown  \n",
       "Bacteria \"Actinobacteria\" Actinobacteria Actino... NEC 1               unknown  \n",
       "Bacteria \"Actinobacteria\" Actinobacteria Bifido... NEC 1               unknown  \n",
       "Bacteria \"Actinobacteria\" Actinobacteria Coriob... NEC 1               unknown  \n",
       "Bacteria \"Aquificae\" Aquificae Aquificales Aqui... NEC 1               unknown  \n",
       "Bacteria \"Aquificae\" Aquificae Aquificales Aqui... NEC 1               unknown  \n",
       "Bacteria \"Aquificae\" Aquificae Aquificales Desu... NEC 1               unknown  \n",
       "...                                                                        ...  \n",
       "Bacteria \"Proteobacteria\" Gammaproteobacteria O... EXTRACTION CONTROL        1  \n",
       "Bacteria \"Proteobacteria\" Gammaproteobacteria O... EXTRACTION CONTROL        1  \n",
       "Bacteria \"Proteobacteria\" Gammaproteobacteria P... EXTRACTION CONTROL       11  \n",
       "Bacteria \"Proteobacteria\" Gammaproteobacteria P... EXTRACTION CONTROL        9  \n",
       "Bacteria \"Proteobacteria\" Gammaproteobacteria P... EXTRACTION CONTROL        1  \n",
       "Bacteria \"Proteobacteria\" Gammaproteobacteria P... EXTRACTION CONTROL      396  \n",
       "Bacteria \"Proteobacteria\" Gammaproteobacteria P... EXTRACTION CONTROL      414  \n",
       "Bacteria \"Proteobacteria\" Gammaproteobacteria P... EXTRACTION CONTROL     3732  \n",
       "Bacteria \"Proteobacteria\" Gammaproteobacteria T... EXTRACTION CONTROL        4  \n",
       "Bacteria \"Proteobacteria\" Gammaproteobacteria T... EXTRACTION CONTROL       22  \n",
       "Bacteria \"Proteobacteria\" Gammaproteobacteria T... EXTRACTION CONTROL        1  \n",
       "Bacteria \"Proteobacteria\" Gammaproteobacteria T... EXTRACTION CONTROL        4  \n",
       "Bacteria \"Proteobacteria\" Gammaproteobacteria X... EXTRACTION CONTROL        5  \n",
       "Bacteria \"Proteobacteria\" Gammaproteobacteria X... EXTRACTION CONTROL        6  \n",
       "Bacteria \"Proteobacteria\" Gammaproteobacteria X... EXTRACTION CONTROL        1  \n",
       "Bacteria \"Proteobacteria\" Gammaproteobacteria X... EXTRACTION CONTROL        1  \n",
       "Bacteria \"Proteobacteria\" Gammaproteobacteria X... EXTRACTION CONTROL        2  \n",
       "Bacteria \"Proteobacteria\" Gammaproteobacteria X... EXTRACTION CONTROL        2  \n",
       "Bacteria \"Spirochaetes\" Spirochaetes Spirochaet... EXTRACTION CONTROL        1  \n",
       "Bacteria \"Synergistetes\" Synergistia Synergista... EXTRACTION CONTROL        2  \n",
       "Bacteria \"Synergistetes\" Synergistia Synergista... EXTRACTION CONTROL        1  \n",
       "Bacteria \"Synergistetes\" Synergistia Synergista... EXTRACTION CONTROL        1  \n",
       "Bacteria \"Tenericutes\" Mollicutes Haloplasmatal... EXTRACTION CONTROL        1  \n",
       "Bacteria \"Thermodesulfobacteria\" Thermodesulfob... EXTRACTION CONTROL        1  \n",
       "Bacteria \"Thermotogae\" Thermotogae Thermotogale... EXTRACTION CONTROL        7  \n",
       "Bacteria \"Thermotogae\" Thermotogae Thermotogale... EXTRACTION CONTROL        9  \n",
       "Bacteria \"Verrucomicrobia\" Opitutae Opitutales ... EXTRACTION CONTROL        1  \n",
       "Bacteria Cyanobacteria Cyanobacteria  Chloropla... EXTRACTION CONTROL        2  \n",
       "Bacteria Cyanobacteria Cyanobacteria  Chloropla... EXTRACTION CONTROL       85  \n",
       "Bacteria Cyanobacteria Cyanobacteria  Chloropla... EXTRACTION CONTROL     1388  \n",
       "\n",
       "[1793 rows x 3 columns]"
      ]
     },
     "execution_count": 44,
     "metadata": {},
     "output_type": "execute_result"
    }
   ],
   "source": [
    "merged_df = merged_df.set_index(['Description', 'Group'])\n",
    "merged_df"
   ]
  },
  {
   "cell_type": "markdown",
   "metadata": {},
   "source": [
    "## Task 3. Class War in Titanic\n",
    "\n",
    "Use pandas to import the data file `Data/titanic.xls`. It contains data on all the passengers that travelled on the Titanic."
   ]
  },
  {
   "cell_type": "code",
   "execution_count": 45,
   "metadata": {},
   "outputs": [
    {
     "data": {
      "text/html": [
       "<hr><h2>Data frame:titanic3</h2>1309 observations and 14 variables, maximum # NAs:1188<hr>\n",
       "<TABLE BORDER>\n",
       "<tr><td>Name</td><td>Labels</td><td>Units</td><td>Levels</td><td>Storage</td><td>NAs</td></tr>\n",
       "<tr><td>pclass</td><td></td><td></td><td><a href=\"#pclass\"><div align=right>  3</div></a></td><td>integer</td><td><div align=right>   0</div></td></tr>\n",
       "<tr><td>survived</td><td>Survived</td><td></td><td><div align=right></div></td><td>double</td><td><div align=right>   0</div></td></tr>\n",
       "<tr><td>name</td><td>Name</td><td></td><td><div align=right></div></td><td>character</td><td><div align=right>   0</div></td></tr>\n",
       "<tr><td>sex</td><td></td><td></td><td><a href=\"#sex\"><div align=right>  2</div></a></td><td>integer</td><td><div align=right>   0</div></td></tr>\n",
       "<tr><td>age</td><td>Age</td><td>Year</td><td><div align=right></div></td><td>double</td><td><div align=right> 263</div></td></tr>\n",
       "<tr><td>sibsp</td><td>Number of Siblings/Spouses Aboard</td><td></td><td><div align=right></div></td><td>double</td><td><div align=right>   0</div></td></tr>\n",
       "<tr><td>parch</td><td>Number of Parents/Children Aboard</td><td></td><td><div align=right></div></td><td>double</td><td><div align=right>   0</div></td></tr>\n",
       "<tr><td>ticket</td><td>Ticket Number</td><td></td><td><div align=right></div></td><td>character</td><td><div align=right>   0</div></td></tr>\n",
       "<tr><td>fare</td><td>Passenger Fare</td><td>British Pound (\\243)</td><td><div align=right></div></td><td>double</td><td><div align=right>   1</div></td></tr>\n",
       "<tr><td>cabin</td><td></td><td></td><td><a href=\"#cabin\"><div align=right>187</div></a></td><td>integer</td><td><div align=right>   0</div></td></tr>\n",
       "<tr><td>embarked</td><td></td><td></td><td><a href=\"#embarked\"><div align=right>  3</div></a></td><td>integer</td><td><div align=right>   2</div></td></tr>\n",
       "<tr><td>boat</td><td></td><td></td><td><a href=\"#boat\"><div align=right> 28</div></a></td><td>integer</td><td><div align=right>   0</div></td></tr>\n",
       "<tr><td>body</td><td>Body Identification Number</td><td></td><td><div align=right></div></td><td>double</td><td><div align=right>1188</div></td></tr>\n",
       "<tr><td>home.dest</td><td>Home/Destination</td><td></td><td><div align=right></div></td><td>character</td><td><div align=right>   0</div></td></tr>\n",
       "</TABLE>\n",
       "<hr>\n",
       "<TABLE BORDER>\n",
       "<tr><td>Variable</td><td>Levels</td></tr>\n",
       "<tr><td><a name=\"pclass\">pclass</a></td><td>1st</td></tr>\n",
       "<tr><td></td><td>2nd</td></tr>\n",
       "<tr><td></td><td>3rd</td></tr>\n",
       "<tr><td><a name=\"sex\">sex</a></td><td>female</td></tr>\n",
       "<tr><td></td><td>male</td></tr>\n",
       "<tr><td><a name=\"cabin\">cabin</a></td><td></td></tr>\n",
       "<tr><td></td><td>A10</td></tr>\n",
       "<tr><td></td><td>A11</td></tr>\n",
       "<tr><td></td><td>A14</td></tr>\n",
       "<tr><td></td><td>A16</td></tr>\n",
       "<tr><td></td><td>A18</td></tr>\n",
       "<tr><td></td><td>A19</td></tr>\n",
       "<tr><td></td><td>A20</td></tr>\n",
       "<tr><td></td><td>A21</td></tr>\n",
       "<tr><td></td><td>A23</td></tr>\n",
       "<tr><td></td><td>A24</td></tr>\n",
       "<tr><td></td><td>A26</td></tr>\n",
       "<tr><td></td><td>A29</td></tr>\n",
       "<tr><td></td><td>A31</td></tr>\n",
       "<tr><td></td><td>A32</td></tr>\n",
       "<tr><td></td><td>A34</td></tr>\n",
       "<tr><td></td><td>A36</td></tr>\n",
       "<tr><td></td><td>A5</td></tr>\n",
       "<tr><td></td><td>A6</td></tr>\n",
       "<tr><td></td><td>A7</td></tr>\n",
       "<tr><td></td><td>A9</td></tr>\n",
       "<tr><td></td><td>B10</td></tr>\n",
       "<tr><td></td><td>B101</td></tr>\n",
       "<tr><td></td><td>B102</td></tr>\n",
       "<tr><td></td><td>B11</td></tr>\n",
       "<tr><td></td><td>B18</td></tr>\n",
       "<tr><td></td><td>B19</td></tr>\n",
       "<tr><td></td><td>B20</td></tr>\n",
       "<tr><td></td><td>B22</td></tr>\n",
       "<tr><td></td><td>B24</td></tr>\n",
       "<tr><td></td><td>B26</td></tr>\n",
       "<tr><td></td><td>B28</td></tr>\n",
       "<tr><td></td><td>B3</td></tr>\n",
       "<tr><td></td><td>B30</td></tr>\n",
       "<tr><td></td><td>B35</td></tr>\n",
       "<tr><td></td><td>B36</td></tr>\n",
       "<tr><td></td><td>B37</td></tr>\n",
       "<tr><td></td><td>B38</td></tr>\n",
       "<tr><td></td><td>B39</td></tr>\n",
       "<tr><td></td><td>B4</td></tr>\n",
       "<tr><td></td><td>B41</td></tr>\n",
       "<tr><td></td><td>B42</td></tr>\n",
       "<tr><td></td><td>B45</td></tr>\n",
       "<tr><td></td><td>B49</td></tr>\n",
       "<tr><td></td><td>B5</td></tr>\n",
       "<tr><td></td><td>B50</td></tr>\n",
       "<tr><td></td><td>B51 B53 B55</td></tr>\n",
       "<tr><td></td><td>B52 B54 B56</td></tr>\n",
       "<tr><td></td><td>B57 B59 B63 B66</td></tr>\n",
       "<tr><td></td><td>B58 B60</td></tr>\n",
       "<tr><td></td><td>B61</td></tr>\n",
       "<tr><td></td><td>B69</td></tr>\n",
       "<tr><td></td><td>B71</td></tr>\n",
       "<tr><td></td><td>B73</td></tr>\n",
       "<tr><td></td><td>B77</td></tr>\n",
       "<tr><td></td><td>B78</td></tr>\n",
       "<tr><td></td><td>B79</td></tr>\n",
       "<tr><td></td><td>B80</td></tr>\n",
       "<tr><td></td><td>B82 B84</td></tr>\n",
       "<tr><td></td><td>B86</td></tr>\n",
       "<tr><td></td><td>B94</td></tr>\n",
       "<tr><td></td><td>B96 B98</td></tr>\n",
       "<tr><td></td><td>C101</td></tr>\n",
       "<tr><td></td><td>C103</td></tr>\n",
       "<tr><td></td><td>C104</td></tr>\n",
       "<tr><td></td><td>C105</td></tr>\n",
       "<tr><td></td><td>C106</td></tr>\n",
       "<tr><td></td><td>C110</td></tr>\n",
       "<tr><td></td><td>C111</td></tr>\n",
       "<tr><td></td><td>C116</td></tr>\n",
       "<tr><td></td><td>C118</td></tr>\n",
       "<tr><td></td><td>C123</td></tr>\n",
       "<tr><td></td><td>C124</td></tr>\n",
       "<tr><td></td><td>C125</td></tr>\n",
       "<tr><td></td><td>C126</td></tr>\n",
       "<tr><td></td><td>C128</td></tr>\n",
       "<tr><td></td><td>C130</td></tr>\n",
       "<tr><td></td><td>C132</td></tr>\n",
       "<tr><td></td><td>C148</td></tr>\n",
       "<tr><td></td><td>C2</td></tr>\n",
       "<tr><td></td><td>C22 C26</td></tr>\n",
       "<tr><td></td><td>C23 C25 C27</td></tr>\n",
       "<tr><td></td><td>C28</td></tr>\n",
       "<tr><td></td><td>C30</td></tr>\n",
       "<tr><td></td><td>C31</td></tr>\n",
       "<tr><td></td><td>C32</td></tr>\n",
       "<tr><td></td><td>C39</td></tr>\n",
       "<tr><td></td><td>C45</td></tr>\n",
       "<tr><td></td><td>C46</td></tr>\n",
       "<tr><td></td><td>C47</td></tr>\n",
       "<tr><td></td><td>C49</td></tr>\n",
       "<tr><td></td><td>C50</td></tr>\n",
       "<tr><td></td><td>C51</td></tr>\n",
       "<tr><td></td><td>C52</td></tr>\n",
       "<tr><td></td><td>C53</td></tr>\n",
       "<tr><td></td><td>C54</td></tr>\n",
       "<tr><td></td><td>C55 C57</td></tr>\n",
       "<tr><td></td><td>C6</td></tr>\n",
       "<tr><td></td><td>C62 C64</td></tr>\n",
       "<tr><td></td><td>C65</td></tr>\n",
       "<tr><td></td><td>C68</td></tr>\n",
       "<tr><td></td><td>C7</td></tr>\n",
       "<tr><td></td><td>C70</td></tr>\n",
       "<tr><td></td><td>C78</td></tr>\n",
       "<tr><td></td><td>C80</td></tr>\n",
       "<tr><td></td><td>C82</td></tr>\n",
       "<tr><td></td><td>C83</td></tr>\n",
       "<tr><td></td><td>C85</td></tr>\n",
       "<tr><td></td><td>C86</td></tr>\n",
       "<tr><td></td><td>C87</td></tr>\n",
       "<tr><td></td><td>C89</td></tr>\n",
       "<tr><td></td><td>C90</td></tr>\n",
       "<tr><td></td><td>C91</td></tr>\n",
       "<tr><td></td><td>C92</td></tr>\n",
       "<tr><td></td><td>C93</td></tr>\n",
       "<tr><td></td><td>C95</td></tr>\n",
       "<tr><td></td><td>C97</td></tr>\n",
       "<tr><td></td><td>C99</td></tr>\n",
       "<tr><td></td><td>D</td></tr>\n",
       "<tr><td></td><td>D10 D12</td></tr>\n",
       "<tr><td></td><td>D11</td></tr>\n",
       "<tr><td></td><td>D15</td></tr>\n",
       "<tr><td></td><td>D17</td></tr>\n",
       "<tr><td></td><td>D19</td></tr>\n",
       "<tr><td></td><td>D20</td></tr>\n",
       "<tr><td></td><td>D21</td></tr>\n",
       "<tr><td></td><td>D22</td></tr>\n",
       "<tr><td></td><td>D26</td></tr>\n",
       "<tr><td></td><td>D28</td></tr>\n",
       "<tr><td></td><td>D30</td></tr>\n",
       "<tr><td></td><td>D33</td></tr>\n",
       "<tr><td></td><td>D34</td></tr>\n",
       "<tr><td></td><td>D35</td></tr>\n",
       "<tr><td></td><td>D36</td></tr>\n",
       "<tr><td></td><td>D37</td></tr>\n",
       "<tr><td></td><td>D38</td></tr>\n",
       "<tr><td></td><td>D40</td></tr>\n",
       "<tr><td></td><td>D43</td></tr>\n",
       "<tr><td></td><td>D45</td></tr>\n",
       "<tr><td></td><td>D46</td></tr>\n",
       "<tr><td></td><td>D47</td></tr>\n",
       "<tr><td></td><td>D48</td></tr>\n",
       "<tr><td></td><td>D49</td></tr>\n",
       "<tr><td></td><td>D50</td></tr>\n",
       "<tr><td></td><td>D56</td></tr>\n",
       "<tr><td></td><td>D6</td></tr>\n",
       "<tr><td></td><td>D7</td></tr>\n",
       "<tr><td></td><td>D9</td></tr>\n",
       "<tr><td></td><td>E10</td></tr>\n",
       "<tr><td></td><td>E101</td></tr>\n",
       "<tr><td></td><td>E12</td></tr>\n",
       "<tr><td></td><td>E121</td></tr>\n",
       "<tr><td></td><td>E17</td></tr>\n",
       "<tr><td></td><td>E24</td></tr>\n",
       "<tr><td></td><td>E25</td></tr>\n",
       "<tr><td></td><td>E31</td></tr>\n",
       "<tr><td></td><td>E33</td></tr>\n",
       "<tr><td></td><td>E34</td></tr>\n",
       "<tr><td></td><td>E36</td></tr>\n",
       "<tr><td></td><td>E38</td></tr>\n",
       "<tr><td></td><td>E39 E41</td></tr>\n",
       "<tr><td></td><td>E40</td></tr>\n",
       "<tr><td></td><td>E44</td></tr>\n",
       "<tr><td></td><td>E45</td></tr>\n",
       "<tr><td></td><td>E46</td></tr>\n",
       "<tr><td></td><td>E49</td></tr>\n",
       "<tr><td></td><td>E50</td></tr>\n",
       "<tr><td></td><td>E52</td></tr>\n",
       "<tr><td></td><td>E58</td></tr>\n",
       "<tr><td></td><td>E60</td></tr>\n",
       "<tr><td></td><td>E63</td></tr>\n",
       "<tr><td></td><td>E67</td></tr>\n",
       "<tr><td></td><td>E68</td></tr>\n",
       "<tr><td></td><td>E77</td></tr>\n",
       "<tr><td></td><td>E8</td></tr>\n",
       "<tr><td></td><td>F</td></tr>\n",
       "<tr><td></td><td>F E46</td></tr>\n",
       "<tr><td></td><td>F E57</td></tr>\n",
       "<tr><td></td><td>F E69</td></tr>\n",
       "<tr><td></td><td>F G63</td></tr>\n",
       "<tr><td></td><td>F G73</td></tr>\n",
       "<tr><td></td><td>F2</td></tr>\n",
       "<tr><td></td><td>F33</td></tr>\n",
       "<tr><td></td><td>F38</td></tr>\n",
       "<tr><td></td><td>F4</td></tr>\n",
       "<tr><td></td><td>G6</td></tr>\n",
       "<tr><td></td><td>T</td></tr>\n",
       "<tr><td><a name=\"embarked\">embarked</a></td><td>Cherbourg</td></tr>\n",
       "<tr><td></td><td>Queenstown</td></tr>\n",
       "<tr><td></td><td>Southampton</td></tr>\n",
       "<tr><td><a name=\"boat\">boat</a></td><td></td></tr>\n",
       "<tr><td></td><td>1</td></tr>\n",
       "<tr><td></td><td>10</td></tr>\n",
       "<tr><td></td><td>11</td></tr>\n",
       "<tr><td></td><td>12</td></tr>\n",
       "<tr><td></td><td>13</td></tr>\n",
       "<tr><td></td><td>13 15</td></tr>\n",
       "<tr><td></td><td>13 15 B</td></tr>\n",
       "<tr><td></td><td>14</td></tr>\n",
       "<tr><td></td><td>15</td></tr>\n",
       "<tr><td></td><td>15 16</td></tr>\n",
       "<tr><td></td><td>16</td></tr>\n",
       "<tr><td></td><td>2</td></tr>\n",
       "<tr><td></td><td>3</td></tr>\n",
       "<tr><td></td><td>4</td></tr>\n",
       "<tr><td></td><td>5</td></tr>\n",
       "<tr><td></td><td>5 7</td></tr>\n",
       "<tr><td></td><td>5 9</td></tr>\n",
       "<tr><td></td><td>6</td></tr>\n",
       "<tr><td></td><td>7</td></tr>\n",
       "<tr><td></td><td>8</td></tr>\n",
       "<tr><td></td><td>8 10</td></tr>\n",
       "<tr><td></td><td>9</td></tr>\n",
       "<tr><td></td><td>A</td></tr>\n",
       "<tr><td></td><td>B</td></tr>\n",
       "<tr><td></td><td>C</td></tr>\n",
       "<tr><td></td><td>C D</td></tr>\n",
       "<tr><td></td><td>D</td></tr>\n",
       "</TABLE>\n",
       "<hr>\n"
      ],
      "text/plain": [
       "<IPython.core.display.HTML object>"
      ]
     },
     "execution_count": 45,
     "metadata": {},
     "output_type": "execute_result"
    }
   ],
   "source": [
    "from IPython.core.display import HTML\n",
    "HTML(filename=DATA_FOLDER+'/titanic.html')"
   ]
  },
  {
   "cell_type": "markdown",
   "metadata": {},
   "source": [
    "### 3.0 Read files"
   ]
  },
  {
   "cell_type": "markdown",
   "metadata": {},
   "source": [
    "We start by reading the Titanic data Excel file"
   ]
  },
  {
   "cell_type": "code",
   "execution_count": 46,
   "metadata": {},
   "outputs": [
    {
     "data": {
      "text/html": [
       "<div>\n",
       "<style>\n",
       "    .dataframe thead tr:only-child th {\n",
       "        text-align: right;\n",
       "    }\n",
       "\n",
       "    .dataframe thead th {\n",
       "        text-align: left;\n",
       "    }\n",
       "\n",
       "    .dataframe tbody tr th {\n",
       "        vertical-align: top;\n",
       "    }\n",
       "</style>\n",
       "<table border=\"1\" class=\"dataframe\">\n",
       "  <thead>\n",
       "    <tr style=\"text-align: right;\">\n",
       "      <th></th>\n",
       "      <th>pclass</th>\n",
       "      <th>survived</th>\n",
       "      <th>name</th>\n",
       "      <th>sex</th>\n",
       "      <th>age</th>\n",
       "      <th>sibsp</th>\n",
       "      <th>parch</th>\n",
       "      <th>ticket</th>\n",
       "      <th>fare</th>\n",
       "      <th>cabin</th>\n",
       "      <th>embarked</th>\n",
       "      <th>boat</th>\n",
       "      <th>body</th>\n",
       "      <th>home.dest</th>\n",
       "    </tr>\n",
       "  </thead>\n",
       "  <tbody>\n",
       "    <tr>\n",
       "      <th>0</th>\n",
       "      <td>1</td>\n",
       "      <td>1</td>\n",
       "      <td>Allen, Miss. Elisabeth Walton</td>\n",
       "      <td>female</td>\n",
       "      <td>29.0000</td>\n",
       "      <td>0</td>\n",
       "      <td>0</td>\n",
       "      <td>24160</td>\n",
       "      <td>211.3375</td>\n",
       "      <td>B5</td>\n",
       "      <td>S</td>\n",
       "      <td>2</td>\n",
       "      <td>NaN</td>\n",
       "      <td>St Louis, MO</td>\n",
       "    </tr>\n",
       "    <tr>\n",
       "      <th>1</th>\n",
       "      <td>1</td>\n",
       "      <td>1</td>\n",
       "      <td>Allison, Master. Hudson Trevor</td>\n",
       "      <td>male</td>\n",
       "      <td>0.9167</td>\n",
       "      <td>1</td>\n",
       "      <td>2</td>\n",
       "      <td>113781</td>\n",
       "      <td>151.5500</td>\n",
       "      <td>C22 C26</td>\n",
       "      <td>S</td>\n",
       "      <td>11</td>\n",
       "      <td>NaN</td>\n",
       "      <td>Montreal, PQ / Chesterville, ON</td>\n",
       "    </tr>\n",
       "    <tr>\n",
       "      <th>2</th>\n",
       "      <td>1</td>\n",
       "      <td>0</td>\n",
       "      <td>Allison, Miss. Helen Loraine</td>\n",
       "      <td>female</td>\n",
       "      <td>2.0000</td>\n",
       "      <td>1</td>\n",
       "      <td>2</td>\n",
       "      <td>113781</td>\n",
       "      <td>151.5500</td>\n",
       "      <td>C22 C26</td>\n",
       "      <td>S</td>\n",
       "      <td>NaN</td>\n",
       "      <td>NaN</td>\n",
       "      <td>Montreal, PQ / Chesterville, ON</td>\n",
       "    </tr>\n",
       "    <tr>\n",
       "      <th>3</th>\n",
       "      <td>1</td>\n",
       "      <td>0</td>\n",
       "      <td>Allison, Mr. Hudson Joshua Creighton</td>\n",
       "      <td>male</td>\n",
       "      <td>30.0000</td>\n",
       "      <td>1</td>\n",
       "      <td>2</td>\n",
       "      <td>113781</td>\n",
       "      <td>151.5500</td>\n",
       "      <td>C22 C26</td>\n",
       "      <td>S</td>\n",
       "      <td>NaN</td>\n",
       "      <td>135.0</td>\n",
       "      <td>Montreal, PQ / Chesterville, ON</td>\n",
       "    </tr>\n",
       "    <tr>\n",
       "      <th>4</th>\n",
       "      <td>1</td>\n",
       "      <td>0</td>\n",
       "      <td>Allison, Mrs. Hudson J C (Bessie Waldo Daniels)</td>\n",
       "      <td>female</td>\n",
       "      <td>25.0000</td>\n",
       "      <td>1</td>\n",
       "      <td>2</td>\n",
       "      <td>113781</td>\n",
       "      <td>151.5500</td>\n",
       "      <td>C22 C26</td>\n",
       "      <td>S</td>\n",
       "      <td>NaN</td>\n",
       "      <td>NaN</td>\n",
       "      <td>Montreal, PQ / Chesterville, ON</td>\n",
       "    </tr>\n",
       "  </tbody>\n",
       "</table>\n",
       "</div>"
      ],
      "text/plain": [
       "   pclass  survived                                             name     sex  \\\n",
       "0       1         1                    Allen, Miss. Elisabeth Walton  female   \n",
       "1       1         1                   Allison, Master. Hudson Trevor    male   \n",
       "2       1         0                     Allison, Miss. Helen Loraine  female   \n",
       "3       1         0             Allison, Mr. Hudson Joshua Creighton    male   \n",
       "4       1         0  Allison, Mrs. Hudson J C (Bessie Waldo Daniels)  female   \n",
       "\n",
       "       age  sibsp  parch  ticket      fare    cabin embarked boat   body  \\\n",
       "0  29.0000      0      0   24160  211.3375       B5        S    2    NaN   \n",
       "1   0.9167      1      2  113781  151.5500  C22 C26        S   11    NaN   \n",
       "2   2.0000      1      2  113781  151.5500  C22 C26        S  NaN    NaN   \n",
       "3  30.0000      1      2  113781  151.5500  C22 C26        S  NaN  135.0   \n",
       "4  25.0000      1      2  113781  151.5500  C22 C26        S  NaN    NaN   \n",
       "\n",
       "                         home.dest  \n",
       "0                     St Louis, MO  \n",
       "1  Montreal, PQ / Chesterville, ON  \n",
       "2  Montreal, PQ / Chesterville, ON  \n",
       "3  Montreal, PQ / Chesterville, ON  \n",
       "4  Montreal, PQ / Chesterville, ON  "
      ]
     },
     "execution_count": 46,
     "metadata": {},
     "output_type": "execute_result"
    }
   ],
   "source": [
    "titanic_df = pd.read_excel(DATA_FOLDER+'/titanic.xls')\n",
    "titanic_df.head()"
   ]
  },
  {
   "cell_type": "markdown",
   "metadata": {},
   "source": [
    "We then read the HTML file that contains the metadata."
   ]
  },
  {
   "cell_type": "code",
   "execution_count": 47,
   "metadata": {
    "collapsed": true
   },
   "outputs": [],
   "source": [
    "metadata_df = pd.read_html(DATA_FOLDER+'/titanic.html', header=0)"
   ]
  },
  {
   "cell_type": "markdown",
   "metadata": {},
   "source": [
    "As we saw previously when the metadata was displayed, the second table contains the level for some of the categorical variables. However, the first column only contains the name of the variable for its first level. We fix this by filling in the first column with the corresponding names of variables:"
   ]
  },
  {
   "cell_type": "code",
   "execution_count": 48,
   "metadata": {
    "scrolled": true
   },
   "outputs": [
    {
     "data": {
      "text/html": [
       "<div>\n",
       "<style>\n",
       "    .dataframe thead tr:only-child th {\n",
       "        text-align: right;\n",
       "    }\n",
       "\n",
       "    .dataframe thead th {\n",
       "        text-align: left;\n",
       "    }\n",
       "\n",
       "    .dataframe tbody tr th {\n",
       "        vertical-align: top;\n",
       "    }\n",
       "</style>\n",
       "<table border=\"1\" class=\"dataframe\">\n",
       "  <thead>\n",
       "    <tr style=\"text-align: right;\">\n",
       "      <th></th>\n",
       "      <th>Variable</th>\n",
       "      <th>Levels</th>\n",
       "    </tr>\n",
       "  </thead>\n",
       "  <tbody>\n",
       "    <tr>\n",
       "      <th>0</th>\n",
       "      <td>pclass</td>\n",
       "      <td>1st</td>\n",
       "    </tr>\n",
       "    <tr>\n",
       "      <th>1</th>\n",
       "      <td>pclass</td>\n",
       "      <td>2nd</td>\n",
       "    </tr>\n",
       "    <tr>\n",
       "      <th>2</th>\n",
       "      <td>pclass</td>\n",
       "      <td>3rd</td>\n",
       "    </tr>\n",
       "    <tr>\n",
       "      <th>3</th>\n",
       "      <td>sex</td>\n",
       "      <td>female</td>\n",
       "    </tr>\n",
       "    <tr>\n",
       "      <th>4</th>\n",
       "      <td>sex</td>\n",
       "      <td>male</td>\n",
       "    </tr>\n",
       "  </tbody>\n",
       "</table>\n",
       "</div>"
      ],
      "text/plain": [
       "  Variable  Levels\n",
       "0   pclass     1st\n",
       "1   pclass     2nd\n",
       "2   pclass     3rd\n",
       "3      sex  female\n",
       "4      sex    male"
      ]
     },
     "execution_count": 48,
     "metadata": {},
     "output_type": "execute_result"
    }
   ],
   "source": [
    "# Fills the null values, in the first column, with the last non-null value\n",
    "metadata_df[1]['Variable'].fillna(method='ffill', inplace=True)\n",
    "metadata_df[1].head()"
   ]
  },
  {
   "cell_type": "markdown",
   "metadata": {},
   "source": [
    "We have seen that some passengers have several cabins assigned. In these cases we are assuming that the first of the cabins was the one they travelled in. There are also some cabins with the formats ```F Gxx``` and ```F Exx```. For these we will assume that the cabins were in **Deck F**."
   ]
  },
  {
   "cell_type": "code",
   "execution_count": 49,
   "metadata": {},
   "outputs": [],
   "source": [
    "titanic_df['cabin'] = titanic_df['cabin'].apply(\n",
    "    lambda x: None if not x else str(x).split()[0])"
   ]
  },
  {
   "cell_type": "markdown",
   "metadata": {},
   "source": [
    "Sample:"
   ]
  },
  {
   "cell_type": "code",
   "execution_count": 50,
   "metadata": {},
   "outputs": [
    {
     "data": {
      "text/html": [
       "<div>\n",
       "<style>\n",
       "    .dataframe thead tr:only-child th {\n",
       "        text-align: right;\n",
       "    }\n",
       "\n",
       "    .dataframe thead th {\n",
       "        text-align: left;\n",
       "    }\n",
       "\n",
       "    .dataframe tbody tr th {\n",
       "        vertical-align: top;\n",
       "    }\n",
       "</style>\n",
       "<table border=\"1\" class=\"dataframe\">\n",
       "  <thead>\n",
       "    <tr style=\"text-align: right;\">\n",
       "      <th></th>\n",
       "      <th>pclass</th>\n",
       "      <th>survived</th>\n",
       "      <th>name</th>\n",
       "      <th>sex</th>\n",
       "      <th>age</th>\n",
       "      <th>sibsp</th>\n",
       "      <th>parch</th>\n",
       "      <th>ticket</th>\n",
       "      <th>fare</th>\n",
       "      <th>cabin</th>\n",
       "      <th>embarked</th>\n",
       "      <th>boat</th>\n",
       "      <th>body</th>\n",
       "      <th>home.dest</th>\n",
       "    </tr>\n",
       "  </thead>\n",
       "  <tbody>\n",
       "    <tr>\n",
       "      <th>0</th>\n",
       "      <td>1</td>\n",
       "      <td>1</td>\n",
       "      <td>Allen, Miss. Elisabeth Walton</td>\n",
       "      <td>female</td>\n",
       "      <td>29.0000</td>\n",
       "      <td>0</td>\n",
       "      <td>0</td>\n",
       "      <td>24160</td>\n",
       "      <td>211.3375</td>\n",
       "      <td>B5</td>\n",
       "      <td>S</td>\n",
       "      <td>2</td>\n",
       "      <td>NaN</td>\n",
       "      <td>St Louis, MO</td>\n",
       "    </tr>\n",
       "    <tr>\n",
       "      <th>1</th>\n",
       "      <td>1</td>\n",
       "      <td>1</td>\n",
       "      <td>Allison, Master. Hudson Trevor</td>\n",
       "      <td>male</td>\n",
       "      <td>0.9167</td>\n",
       "      <td>1</td>\n",
       "      <td>2</td>\n",
       "      <td>113781</td>\n",
       "      <td>151.5500</td>\n",
       "      <td>C22</td>\n",
       "      <td>S</td>\n",
       "      <td>11</td>\n",
       "      <td>NaN</td>\n",
       "      <td>Montreal, PQ / Chesterville, ON</td>\n",
       "    </tr>\n",
       "    <tr>\n",
       "      <th>2</th>\n",
       "      <td>1</td>\n",
       "      <td>0</td>\n",
       "      <td>Allison, Miss. Helen Loraine</td>\n",
       "      <td>female</td>\n",
       "      <td>2.0000</td>\n",
       "      <td>1</td>\n",
       "      <td>2</td>\n",
       "      <td>113781</td>\n",
       "      <td>151.5500</td>\n",
       "      <td>C22</td>\n",
       "      <td>S</td>\n",
       "      <td>NaN</td>\n",
       "      <td>NaN</td>\n",
       "      <td>Montreal, PQ / Chesterville, ON</td>\n",
       "    </tr>\n",
       "    <tr>\n",
       "      <th>3</th>\n",
       "      <td>1</td>\n",
       "      <td>0</td>\n",
       "      <td>Allison, Mr. Hudson Joshua Creighton</td>\n",
       "      <td>male</td>\n",
       "      <td>30.0000</td>\n",
       "      <td>1</td>\n",
       "      <td>2</td>\n",
       "      <td>113781</td>\n",
       "      <td>151.5500</td>\n",
       "      <td>C22</td>\n",
       "      <td>S</td>\n",
       "      <td>NaN</td>\n",
       "      <td>135.0</td>\n",
       "      <td>Montreal, PQ / Chesterville, ON</td>\n",
       "    </tr>\n",
       "    <tr>\n",
       "      <th>4</th>\n",
       "      <td>1</td>\n",
       "      <td>0</td>\n",
       "      <td>Allison, Mrs. Hudson J C (Bessie Waldo Daniels)</td>\n",
       "      <td>female</td>\n",
       "      <td>25.0000</td>\n",
       "      <td>1</td>\n",
       "      <td>2</td>\n",
       "      <td>113781</td>\n",
       "      <td>151.5500</td>\n",
       "      <td>C22</td>\n",
       "      <td>S</td>\n",
       "      <td>NaN</td>\n",
       "      <td>NaN</td>\n",
       "      <td>Montreal, PQ / Chesterville, ON</td>\n",
       "    </tr>\n",
       "  </tbody>\n",
       "</table>\n",
       "</div>"
      ],
      "text/plain": [
       "   pclass  survived                                             name     sex  \\\n",
       "0       1         1                    Allen, Miss. Elisabeth Walton  female   \n",
       "1       1         1                   Allison, Master. Hudson Trevor    male   \n",
       "2       1         0                     Allison, Miss. Helen Loraine  female   \n",
       "3       1         0             Allison, Mr. Hudson Joshua Creighton    male   \n",
       "4       1         0  Allison, Mrs. Hudson J C (Bessie Waldo Daniels)  female   \n",
       "\n",
       "       age  sibsp  parch  ticket      fare cabin embarked boat   body  \\\n",
       "0  29.0000      0      0   24160  211.3375    B5        S    2    NaN   \n",
       "1   0.9167      1      2  113781  151.5500   C22        S   11    NaN   \n",
       "2   2.0000      1      2  113781  151.5500   C22        S  NaN    NaN   \n",
       "3  30.0000      1      2  113781  151.5500   C22        S  NaN  135.0   \n",
       "4  25.0000      1      2  113781  151.5500   C22        S  NaN    NaN   \n",
       "\n",
       "                         home.dest  \n",
       "0                     St Louis, MO  \n",
       "1  Montreal, PQ / Chesterville, ON  \n",
       "2  Montreal, PQ / Chesterville, ON  \n",
       "3  Montreal, PQ / Chesterville, ON  \n",
       "4  Montreal, PQ / Chesterville, ON  "
      ]
     },
     "execution_count": 50,
     "metadata": {},
     "output_type": "execute_result"
    }
   ],
   "source": [
    "titanic_df.head()"
   ]
  },
  {
   "cell_type": "markdown",
   "metadata": {},
   "source": [
    "### 3.1 Description of attributes\n",
    "Describe the *type* and the *value range* of each attribute. Indicate and transform the attributes that can be `Categorical`."
   ]
  },
  {
   "cell_type": "markdown",
   "metadata": {},
   "source": [
    "#### 3.1.1 Non-categorical attributes"
   ]
  },
  {
   "cell_type": "markdown",
   "metadata": {},
   "source": [
    "* name: string\n",
    "* age: real number; If it's less than 1 then the passenger was younger than 1 year old. If it's in the form xx.5 then the age is an estimation; (null values possible)\n",
    "* sibsp: integer\n",
    "* parch: integer\n",
    "* fare: real number (null values possible)\n",
    "* body: integer (null values possible)\n",
    "* home.dest: string (null values possible)"
   ]
  },
  {
   "cell_type": "markdown",
   "metadata": {},
   "source": [
    "The non-categorical attributes are the following:"
   ]
  },
  {
   "cell_type": "code",
   "execution_count": 51,
   "metadata": {
    "collapsed": true
   },
   "outputs": [],
   "source": [
    "non_categorical_attributes = ['name', 'age', 'sibsp', 'parch', 'fare', 'body', 'home.dest']"
   ]
  },
  {
   "cell_type": "code",
   "execution_count": 52,
   "metadata": {},
   "outputs": [
    {
     "name": "stdout",
     "output_type": "stream",
     "text": [
      "name\n",
      "Type: <class 'str'>\n",
      "\n",
      "age\n",
      "Type: <class 'numpy.float64'>\n",
      "Range: 0.1667-80.0\n",
      "\n",
      "sibsp\n",
      "Type: <class 'numpy.int64'>\n",
      "Range: 0-8\n",
      "\n",
      "parch\n",
      "Type: <class 'numpy.int64'>\n",
      "Range: 0-9\n",
      "\n",
      "fare\n",
      "Type: <class 'numpy.float64'>\n",
      "Range: 0.0-512.3292\n",
      "\n",
      "body\n",
      "Type: <class 'numpy.float64'>\n",
      "Range: 1.0-328.0\n",
      "\n",
      "home.dest\n",
      "Type: <class 'str'>\n",
      "\n"
     ]
    }
   ],
   "source": [
    "for attribute in non_categorical_attributes:\n",
    "    print(attribute)\n",
    "    print('Type: ' + str(type(titanic_df[attribute][0])))\n",
    "    if not isinstance(titanic_df[attribute][0], str):\n",
    "        print('Range: ' + str(titanic_df[attribute].min()) + '-' + str(titanic_df[attribute].max()))\n",
    "    print()"
   ]
  },
  {
   "cell_type": "markdown",
   "metadata": {},
   "source": [
    "#### 3.1.2 Categorical Attributes"
   ]
  },
  {
   "cell_type": "markdown",
   "metadata": {},
   "source": [
    "The attributes that are included in ```metadata_df[1]``` are Categorical, and the possible values that each attribute can take (*levels*) are included in  ```metadata_df[1]``` as well. However, we will consider only the values that are possible after our assumptions. We are also considering ```unknown``` or ```NaN``` as a possible value for the attributes that can have null values.\n",
    "\n",
    "We can also consider the ```survival``` attribute to be Categorical, since it can only take the values 0 or 1 depending on whether the person survived or not.\n",
    "\n",
    "We assumed that all the information for the tickets is important, and that we should consider this attribute to be a string. Then, the last categorical attribute that we can consider is the ```ticket```, since the ticket ID is a non unique string."
   ]
  },
  {
   "cell_type": "code",
   "execution_count": 53,
   "metadata": {
    "collapsed": true
   },
   "outputs": [],
   "source": [
    "titanic_df['ticket'] = titanic_df['ticket'].map(lambda x: str(x))\n",
    "titanic_df['boat'] = titanic_df['boat'].map(lambda x: str(x))"
   ]
  },
  {
   "cell_type": "code",
   "execution_count": 54,
   "metadata": {
    "scrolled": false
   },
   "outputs": [
    {
     "name": "stdout",
     "output_type": "stream",
     "text": [
      "Attribute: pclass\n",
      "Type: <class 'numpy.int64'>\n",
      "[1 2 3]\n",
      "\n",
      "Attribute: sex\n",
      "Type: <class 'str'>\n",
      "['female' 'male']\n",
      "\n",
      "Attribute: cabin\n",
      "Type: <class 'str'>\n",
      "182 levels\n",
      "\n",
      "Attribute: embarked\n",
      "Type: <class 'str'>\n",
      "['S' 'C' nan 'Q']\n",
      "\n",
      "Attribute: boat\n",
      "Type: <class 'str'>\n",
      "['2' '11' 'nan' '3' '10' 'D' '4' '9' '6' 'B' '8' 'A' '5' '7' 'C' '14' '5 9'\n",
      " '13' '1' '15' '5 7' '8 10' '12' '16' '13 15 B' 'C D' '15 16' '13 15']\n",
      "\n",
      "Attribute: survived\n",
      "Type: <class 'numpy.int64'>\n",
      "[1 0]\n",
      "\n",
      "Attribute: ticket\n",
      "Type: <class 'str'>\n",
      "929 levels\n",
      "\n"
     ]
    }
   ],
   "source": [
    "categorical_attributes = ['survived', 'ticket']\n",
    "for attribute in list(metadata_df[1]['Variable'].unique()) + categorical_attributes:\n",
    "    print('Attribute: '+attribute)\n",
    "    print('Type: '+str(type(titanic_df[attribute][0])))\n",
    "    if attribute in ['cabin', 'ticket']:\n",
    "        print(str(len(titanic_df[attribute].unique()))+ ' levels')\n",
    "    else:\n",
    "        print(titanic_df[attribute].unique())\n",
    "    print()"
   ]
  },
  {
   "cell_type": "markdown",
   "metadata": {},
   "source": [
    "#### 3.1.3 Transformation of Categorical attributes"
   ]
  },
  {
   "cell_type": "markdown",
   "metadata": {},
   "source": [
    "We are interested in creating dummy variables for the categorical attributes that have a considerably small number of levels. Particularly, we are not obtaining dummy variables for ```boat```, ```cabin``` nor ```ticket```.\n",
    "\n",
    "Survived is already binary and therefore we will not obtain dummy variables for this attribute either."
   ]
  },
  {
   "cell_type": "markdown",
   "metadata": {},
   "source": [
    "However, we do create a variable ```cabin_floor``` that will be used later on, and then create dummy variables for it."
   ]
  },
  {
   "cell_type": "code",
   "execution_count": 55,
   "metadata": {
    "collapsed": true
   },
   "outputs": [],
   "source": [
    "titanic_df['cabin'].fillna(value='', inplace=True)"
   ]
  },
  {
   "cell_type": "code",
   "execution_count": 56,
   "metadata": {
    "collapsed": true
   },
   "outputs": [],
   "source": [
    "def find_floor(cabin):\n",
    "    map_dictionary = {'T': 0, 'A': 1, 'B': 2, 'C': 3, 'D': 4, 'E': 5, 'F': 6, 'G': 7}\n",
    "    if not cabin or cabin == 'nan':\n",
    "        return None\n",
    "    else:\n",
    "        return map_dictionary[cabin[0]]"
   ]
  },
  {
   "cell_type": "code",
   "execution_count": 57,
   "metadata": {
    "collapsed": true
   },
   "outputs": [],
   "source": [
    "titanic_df['cabin_floor'] = titanic_df['cabin'].map(lambda x: find_floor(x))"
   ]
  },
  {
   "cell_type": "markdown",
   "metadata": {},
   "source": [
    "Sample of the ```cabin_floor``` variable:"
   ]
  },
  {
   "cell_type": "code",
   "execution_count": 58,
   "metadata": {},
   "outputs": [
    {
     "data": {
      "text/html": [
       "<div>\n",
       "<style>\n",
       "    .dataframe thead tr:only-child th {\n",
       "        text-align: right;\n",
       "    }\n",
       "\n",
       "    .dataframe thead th {\n",
       "        text-align: left;\n",
       "    }\n",
       "\n",
       "    .dataframe tbody tr th {\n",
       "        vertical-align: top;\n",
       "    }\n",
       "</style>\n",
       "<table border=\"1\" class=\"dataframe\">\n",
       "  <thead>\n",
       "    <tr style=\"text-align: right;\">\n",
       "      <th></th>\n",
       "      <th>cabin</th>\n",
       "      <th>cabin_floor</th>\n",
       "    </tr>\n",
       "  </thead>\n",
       "  <tbody>\n",
       "    <tr>\n",
       "      <th>0</th>\n",
       "      <td>B5</td>\n",
       "      <td>2.0</td>\n",
       "    </tr>\n",
       "    <tr>\n",
       "      <th>1</th>\n",
       "      <td>C22</td>\n",
       "      <td>3.0</td>\n",
       "    </tr>\n",
       "    <tr>\n",
       "      <th>2</th>\n",
       "      <td>C22</td>\n",
       "      <td>3.0</td>\n",
       "    </tr>\n",
       "    <tr>\n",
       "      <th>3</th>\n",
       "      <td>C22</td>\n",
       "      <td>3.0</td>\n",
       "    </tr>\n",
       "    <tr>\n",
       "      <th>4</th>\n",
       "      <td>C22</td>\n",
       "      <td>3.0</td>\n",
       "    </tr>\n",
       "  </tbody>\n",
       "</table>\n",
       "</div>"
      ],
      "text/plain": [
       "  cabin  cabin_floor\n",
       "0    B5          2.0\n",
       "1   C22          3.0\n",
       "2   C22          3.0\n",
       "3   C22          3.0\n",
       "4   C22          3.0"
      ]
     },
     "execution_count": 58,
     "metadata": {},
     "output_type": "execute_result"
    }
   ],
   "source": [
    "titanic_df[['cabin', 'cabin_floor']].head()"
   ]
  },
  {
   "cell_type": "markdown",
   "metadata": {},
   "source": [
    "And we now get the dummy variables:"
   ]
  },
  {
   "cell_type": "code",
   "execution_count": 59,
   "metadata": {
    "collapsed": true
   },
   "outputs": [],
   "source": [
    "titanic_dummy_df = pd.get_dummies(titanic_df, columns=['pclass', 'sex', 'embarked','cabin_floor'])"
   ]
  },
  {
   "cell_type": "markdown",
   "metadata": {},
   "source": [
    "Sample:"
   ]
  },
  {
   "cell_type": "code",
   "execution_count": 60,
   "metadata": {},
   "outputs": [
    {
     "data": {
      "text/html": [
       "<div>\n",
       "<style>\n",
       "    .dataframe thead tr:only-child th {\n",
       "        text-align: right;\n",
       "    }\n",
       "\n",
       "    .dataframe thead th {\n",
       "        text-align: left;\n",
       "    }\n",
       "\n",
       "    .dataframe tbody tr th {\n",
       "        vertical-align: top;\n",
       "    }\n",
       "</style>\n",
       "<table border=\"1\" class=\"dataframe\">\n",
       "  <thead>\n",
       "    <tr style=\"text-align: right;\">\n",
       "      <th></th>\n",
       "      <th>survived</th>\n",
       "      <th>name</th>\n",
       "      <th>age</th>\n",
       "      <th>sibsp</th>\n",
       "      <th>parch</th>\n",
       "      <th>ticket</th>\n",
       "      <th>fare</th>\n",
       "      <th>cabin</th>\n",
       "      <th>boat</th>\n",
       "      <th>body</th>\n",
       "      <th>...</th>\n",
       "      <th>embarked_Q</th>\n",
       "      <th>embarked_S</th>\n",
       "      <th>cabin_floor_0.0</th>\n",
       "      <th>cabin_floor_1.0</th>\n",
       "      <th>cabin_floor_2.0</th>\n",
       "      <th>cabin_floor_3.0</th>\n",
       "      <th>cabin_floor_4.0</th>\n",
       "      <th>cabin_floor_5.0</th>\n",
       "      <th>cabin_floor_6.0</th>\n",
       "      <th>cabin_floor_7.0</th>\n",
       "    </tr>\n",
       "  </thead>\n",
       "  <tbody>\n",
       "    <tr>\n",
       "      <th>0</th>\n",
       "      <td>1</td>\n",
       "      <td>Allen, Miss. Elisabeth Walton</td>\n",
       "      <td>29.0000</td>\n",
       "      <td>0</td>\n",
       "      <td>0</td>\n",
       "      <td>24160</td>\n",
       "      <td>211.3375</td>\n",
       "      <td>B5</td>\n",
       "      <td>2</td>\n",
       "      <td>NaN</td>\n",
       "      <td>...</td>\n",
       "      <td>0</td>\n",
       "      <td>1</td>\n",
       "      <td>0</td>\n",
       "      <td>0</td>\n",
       "      <td>1</td>\n",
       "      <td>0</td>\n",
       "      <td>0</td>\n",
       "      <td>0</td>\n",
       "      <td>0</td>\n",
       "      <td>0</td>\n",
       "    </tr>\n",
       "    <tr>\n",
       "      <th>1</th>\n",
       "      <td>1</td>\n",
       "      <td>Allison, Master. Hudson Trevor</td>\n",
       "      <td>0.9167</td>\n",
       "      <td>1</td>\n",
       "      <td>2</td>\n",
       "      <td>113781</td>\n",
       "      <td>151.5500</td>\n",
       "      <td>C22</td>\n",
       "      <td>11</td>\n",
       "      <td>NaN</td>\n",
       "      <td>...</td>\n",
       "      <td>0</td>\n",
       "      <td>1</td>\n",
       "      <td>0</td>\n",
       "      <td>0</td>\n",
       "      <td>0</td>\n",
       "      <td>1</td>\n",
       "      <td>0</td>\n",
       "      <td>0</td>\n",
       "      <td>0</td>\n",
       "      <td>0</td>\n",
       "    </tr>\n",
       "    <tr>\n",
       "      <th>2</th>\n",
       "      <td>0</td>\n",
       "      <td>Allison, Miss. Helen Loraine</td>\n",
       "      <td>2.0000</td>\n",
       "      <td>1</td>\n",
       "      <td>2</td>\n",
       "      <td>113781</td>\n",
       "      <td>151.5500</td>\n",
       "      <td>C22</td>\n",
       "      <td>nan</td>\n",
       "      <td>NaN</td>\n",
       "      <td>...</td>\n",
       "      <td>0</td>\n",
       "      <td>1</td>\n",
       "      <td>0</td>\n",
       "      <td>0</td>\n",
       "      <td>0</td>\n",
       "      <td>1</td>\n",
       "      <td>0</td>\n",
       "      <td>0</td>\n",
       "      <td>0</td>\n",
       "      <td>0</td>\n",
       "    </tr>\n",
       "    <tr>\n",
       "      <th>3</th>\n",
       "      <td>0</td>\n",
       "      <td>Allison, Mr. Hudson Joshua Creighton</td>\n",
       "      <td>30.0000</td>\n",
       "      <td>1</td>\n",
       "      <td>2</td>\n",
       "      <td>113781</td>\n",
       "      <td>151.5500</td>\n",
       "      <td>C22</td>\n",
       "      <td>nan</td>\n",
       "      <td>135.0</td>\n",
       "      <td>...</td>\n",
       "      <td>0</td>\n",
       "      <td>1</td>\n",
       "      <td>0</td>\n",
       "      <td>0</td>\n",
       "      <td>0</td>\n",
       "      <td>1</td>\n",
       "      <td>0</td>\n",
       "      <td>0</td>\n",
       "      <td>0</td>\n",
       "      <td>0</td>\n",
       "    </tr>\n",
       "    <tr>\n",
       "      <th>4</th>\n",
       "      <td>0</td>\n",
       "      <td>Allison, Mrs. Hudson J C (Bessie Waldo Daniels)</td>\n",
       "      <td>25.0000</td>\n",
       "      <td>1</td>\n",
       "      <td>2</td>\n",
       "      <td>113781</td>\n",
       "      <td>151.5500</td>\n",
       "      <td>C22</td>\n",
       "      <td>nan</td>\n",
       "      <td>NaN</td>\n",
       "      <td>...</td>\n",
       "      <td>0</td>\n",
       "      <td>1</td>\n",
       "      <td>0</td>\n",
       "      <td>0</td>\n",
       "      <td>0</td>\n",
       "      <td>1</td>\n",
       "      <td>0</td>\n",
       "      <td>0</td>\n",
       "      <td>0</td>\n",
       "      <td>0</td>\n",
       "    </tr>\n",
       "  </tbody>\n",
       "</table>\n",
       "<p>5 rows × 27 columns</p>\n",
       "</div>"
      ],
      "text/plain": [
       "   survived                                             name      age  sibsp  \\\n",
       "0         1                    Allen, Miss. Elisabeth Walton  29.0000      0   \n",
       "1         1                   Allison, Master. Hudson Trevor   0.9167      1   \n",
       "2         0                     Allison, Miss. Helen Loraine   2.0000      1   \n",
       "3         0             Allison, Mr. Hudson Joshua Creighton  30.0000      1   \n",
       "4         0  Allison, Mrs. Hudson J C (Bessie Waldo Daniels)  25.0000      1   \n",
       "\n",
       "   parch  ticket      fare cabin boat   body       ...        embarked_Q  \\\n",
       "0      0   24160  211.3375    B5    2    NaN       ...                 0   \n",
       "1      2  113781  151.5500   C22   11    NaN       ...                 0   \n",
       "2      2  113781  151.5500   C22  nan    NaN       ...                 0   \n",
       "3      2  113781  151.5500   C22  nan  135.0       ...                 0   \n",
       "4      2  113781  151.5500   C22  nan    NaN       ...                 0   \n",
       "\n",
       "   embarked_S  cabin_floor_0.0  cabin_floor_1.0  cabin_floor_2.0  \\\n",
       "0           1                0                0                1   \n",
       "1           1                0                0                0   \n",
       "2           1                0                0                0   \n",
       "3           1                0                0                0   \n",
       "4           1                0                0                0   \n",
       "\n",
       "   cabin_floor_3.0  cabin_floor_4.0  cabin_floor_5.0  cabin_floor_6.0  \\\n",
       "0                0                0                0                0   \n",
       "1                1                0                0                0   \n",
       "2                1                0                0                0   \n",
       "3                1                0                0                0   \n",
       "4                1                0                0                0   \n",
       "\n",
       "   cabin_floor_7.0  \n",
       "0                0  \n",
       "1                0  \n",
       "2                0  \n",
       "3                0  \n",
       "4                0  \n",
       "\n",
       "[5 rows x 27 columns]"
      ]
     },
     "execution_count": 60,
     "metadata": {},
     "output_type": "execute_result"
    }
   ],
   "source": [
    "titanic_dummy_df.head()"
   ]
  },
  {
   "cell_type": "markdown",
   "metadata": {},
   "source": [
    "### 3.2 Histogram plots"
   ]
  },
  {
   "cell_type": "markdown",
   "metadata": {},
   "source": [
    "We will provide four histograms in the following section. Those plots visualize different amount of passengers from the dataset according to the `travel class`, `sex`, `embarked port` and `age`."
   ]
  },
  {
   "cell_type": "markdown",
   "metadata": {},
   "source": [
    "Auxiliary function for the parsing of the dataset to plot:"
   ]
  },
  {
   "cell_type": "code",
   "execution_count": 61,
   "metadata": {
    "collapsed": true
   },
   "outputs": [],
   "source": [
    "def get_ord_from_str(string):\n",
    "    ord_dic = {'nan':0, 'S':1, 'Q':2, 'C':3,}\n",
    "    stripped_string = str(string).strip().strip('\\n')\n",
    "    return ord_dic.get(stripped_string, -1)"
   ]
  },
  {
   "cell_type": "code",
   "execution_count": 62,
   "metadata": {},
   "outputs": [
    {
     "data": {
      "image/png": "[encoded data removed]",
      "text/plain": [
       "<matplotlib.figure.Figure at 0x21dd2d86f98>"
      ]
     },
     "metadata": {},
     "output_type": "display_data"
    }
   ],
   "source": [
    "fig, axes = plt.subplots(nrows=2, ncols=2, figsize=(15, 15))\n",
    "\n",
    "# Travel class dataset and histogram setup\n",
    "travel_class_df = pd.DataFrame(titanic_df[['pclass']])\n",
    "travel_class_df.plot.hist(ax=axes[0,0])\n",
    "\n",
    "plt.sca(axes[0, 0])\n",
    "plt.title('Passengers by class')\n",
    "plt.legend(loc='upper center')\n",
    "plt.sca(axes[0, 0])\n",
    "plt.xticks(np.arange(1.0, 4.0, 1.0), ('1st class', '2nd class', '3rd class'))\n",
    "\n",
    "\n",
    "# Sex dataset and histogram setup\n",
    "sex_df = pd.DataFrame(titanic_df[['sex']])\n",
    "sex_df['sex'] = sex_df['sex'].apply(lambda x : 1 if x == 'male' else 0) #mapping \n",
    "sex_df.plot.hist(ax=axes[0,1])\n",
    "\n",
    "plt.sca(axes[0, 1])\n",
    "plt.title('Passengers by sex')\n",
    "plt.legend(loc='upper center')\n",
    "plt.xticks(np.arange(0.0, 2.0, 1.0), ('female', 'male'))\n",
    "\n",
    "\n",
    "# Embarked port dataset and histogram setup\n",
    "embarked_df = pd.DataFrame(titanic_df[['embarked']])\n",
    "embarked_df = embarked_df.apply(lambda x: x.apply(lambda y: get_ord_from_str(y)))\n",
    "embarked_df.plot.hist(ax=axes[1,0])\n",
    "\n",
    "plt.sca(axes[1, 0])\n",
    "plt.title('Passengers by port')\n",
    "plt.legend(loc='upper right')\n",
    "plt.xticks(np.arange(0.0, 4.0, 1.0), ('NaN', 'Southampton', 'Queenstown', 'Cherbourg'))\n",
    "\n",
    "\n",
    "# Age dataset and histogram setup\n",
    "age_df = pd.DataFrame(titanic_df[['age']])\n",
    "age_df.plot.hist(ax=axes[1,1])\n",
    "\n",
    "plt.sca(axes[1, 1])\n",
    "plt.title('Passengers by age')\n",
    "plt.legend(loc='upper center')\n",
    "plt.xticks(np.arange(0.0, 100.0, 10.0))\n",
    "\n",
    "\n",
    "plt.show()"
   ]
  },
  {
   "cell_type": "markdown",
   "metadata": {},
   "source": [
    "### 3.3 Passengers by cabin floor\n",
    "Calculate the proportion of passengers by *cabin floor*. Present your results in a *pie chart*."
   ]
  },
  {
   "cell_type": "code",
   "execution_count": 63,
   "metadata": {
    "collapsed": true
   },
   "outputs": [],
   "source": [
    "passengers_per_cabin_floor = {}\n",
    "for floor in titanic_df['cabin_floor'].unique():\n",
    "    if str(floor) != 'nan':\n",
    "        passengers_per_cabin_floor[int(floor)] = titanic_df[titanic_df['cabin_floor'] == floor]['cabin_floor'].count()"
   ]
  },
  {
   "cell_type": "code",
   "execution_count": 64,
   "metadata": {},
   "outputs": [
    {
     "data": {
      "image/png": "[encoded data removed]",
      "text/plain": [
       "<matplotlib.figure.Figure at 0x21dd2d669e8>"
      ]
     },
     "metadata": {},
     "output_type": "display_data"
    }
   ],
   "source": [
    "fig = plt.figure(figsize=(5,5))\n",
    "plt.pie(list(passengers_per_cabin_floor.values()), labels=passengers_per_cabin_floor.keys(), autopct='%1.0f%%')\n",
    "plt.axis('equal')\n",
    "plt.title('Passengers per floor')\n",
    "plt.show()"
   ]
  },
  {
   "cell_type": "markdown",
   "metadata": {},
   "source": [
    "### 3.4 Survivors per class\n",
    "For each *travel class*, calculate the proportion of the passengers that survived. Present your results in *pie charts*."
   ]
  },
  {
   "cell_type": "code",
   "execution_count": 65,
   "metadata": {},
   "outputs": [
    {
     "data": {
      "image/png": "[encoded data removed]",
      "text/plain": [
       "<matplotlib.figure.Figure at 0x21dd3122828>"
      ]
     },
     "metadata": {},
     "output_type": "display_data"
    },
    {
     "data": {
      "image/png": "[encoded data removed]",
      "text/plain": [
       "<matplotlib.figure.Figure at 0x21dd2390828>"
      ]
     },
     "metadata": {},
     "output_type": "display_data"
    },
    {
     "data": {
      "image/png": "[encoded data removed]",
      "text/plain": [
       "<matplotlib.figure.Figure at 0x21dd2e55208>"
      ]
     },
     "metadata": {},
     "output_type": "display_data"
    }
   ],
   "source": [
    "survivors_per_class_df = titanic_df[['pclass', 'survived']].groupby(['pclass', 'survived']).agg(len)\n",
    "\n",
    "# Plot a pie chart for each class\n",
    "for pclass in range(1,4):\n",
    "    fig = plt.figure(figsize=(5,5))\n",
    "    plt.pie(survivors_per_class_df[pclass], labels=['Died', 'Survived'], autopct='%1.0f%%')\n",
    "    plt.axis('equal')\n",
    "    plt.title('Class '+str(pclass))\n",
    "    plt.show()"
   ]
  },
  {
   "cell_type": "markdown",
   "metadata": {},
   "source": [
    "### 3.5 Survivors per class and sex\n",
    "Calculate the proportion of the passengers that survived by travel class and sex. Present your results in a single histogram."
   ]
  },
  {
   "cell_type": "code",
   "execution_count": 66,
   "metadata": {},
   "outputs": [
    {
     "data": {
      "image/png": "[encoded data removed]",
      "text/plain": [
       "<matplotlib.figure.Figure at 0x21dd2d66710>"
      ]
     },
     "metadata": {},
     "output_type": "display_data"
    }
   ],
   "source": [
    "# Dataset for survived entries on their class and sex atributes\n",
    "survivors_per_class_sex_df = pd.DataFrame(titanic_df[titanic_df.survived == 1][['pclass', 'sex']])\n",
    "\n",
    "# Split of the data in two datasets (one for male, one for female)\n",
    "male_df = survivors_per_class_sex_df[survivors_per_class_sex_df['sex'] == 'male']\n",
    "female_df = survivors_per_class_sex_df[survivors_per_class_sex_df['sex'] != 'male']\n",
    "\n",
    "# Plotting of the two datasets as stacked histogram\n",
    "fig = plt.figure(figsize=(15,7))\n",
    "plt.hist([male_df['pclass'], female_df['pclass']], label=['male', 'female'], stacked=True)\n",
    "plt.title('Survivors by class')\n",
    "plt.legend(loc='upper center')\n",
    "plt.xticks(np.arange(1.0, 4.0, 1.0), ('1st class', '2nd class', '3rd class'))\n",
    "plt.show()"
   ]
  },
  {
   "cell_type": "markdown",
   "metadata": {},
   "source": [
    "### 3.6 Age categories\n",
    "Create 2 equally populated age categories and calculate survival proportions by age category, travel class and sex. Present your results in a DataFrame with unique index."
   ]
  },
  {
   "cell_type": "markdown",
   "metadata": {},
   "source": [
    "We decided to define the `age category` in the following way: we took the median age value and then grouped all the people younger in category 1 and all the older ones in category 2"
   ]
  },
  {
   "cell_type": "code",
   "execution_count": 72,
   "metadata": {},
   "outputs": [
    {
     "data": {
      "text/html": [
       "<div>\n",
       "<style>\n",
       "    .dataframe thead tr:only-child th {\n",
       "        text-align: right;\n",
       "    }\n",
       "\n",
       "    .dataframe thead th {\n",
       "        text-align: left;\n",
       "    }\n",
       "\n",
       "    .dataframe tbody tr th {\n",
       "        vertical-align: top;\n",
       "    }\n",
       "</style>\n",
       "<table border=\"1\" class=\"dataframe\">\n",
       "  <thead>\n",
       "    <tr style=\"text-align: right;\">\n",
       "      <th></th>\n",
       "      <th></th>\n",
       "      <th></th>\n",
       "      <th>proportion</th>\n",
       "    </tr>\n",
       "    <tr>\n",
       "      <th>age category</th>\n",
       "      <th>class</th>\n",
       "      <th>sex</th>\n",
       "      <th></th>\n",
       "    </tr>\n",
       "  </thead>\n",
       "  <tbody>\n",
       "    <tr>\n",
       "      <th rowspan=\"6\" valign=\"top\">1.0</th>\n",
       "      <th rowspan=\"2\" valign=\"top\">1</th>\n",
       "      <th>female</th>\n",
       "      <td>0.091335</td>\n",
       "    </tr>\n",
       "    <tr>\n",
       "      <th>male</th>\n",
       "      <td>0.039813</td>\n",
       "    </tr>\n",
       "    <tr>\n",
       "      <th rowspan=\"2\" valign=\"top\">2</th>\n",
       "      <th>female</th>\n",
       "      <td>0.119438</td>\n",
       "    </tr>\n",
       "    <tr>\n",
       "      <th>male</th>\n",
       "      <td>0.037471</td>\n",
       "    </tr>\n",
       "    <tr>\n",
       "      <th rowspan=\"2\" valign=\"top\">3</th>\n",
       "      <th>female</th>\n",
       "      <td>0.131148</td>\n",
       "    </tr>\n",
       "    <tr>\n",
       "      <th>male</th>\n",
       "      <td>0.096019</td>\n",
       "    </tr>\n",
       "    <tr>\n",
       "      <th rowspan=\"6\" valign=\"top\">2.0</th>\n",
       "      <th rowspan=\"2\" valign=\"top\">1</th>\n",
       "      <th>female</th>\n",
       "      <td>0.208431</td>\n",
       "    </tr>\n",
       "    <tr>\n",
       "      <th>male</th>\n",
       "      <td>0.084309</td>\n",
       "    </tr>\n",
       "    <tr>\n",
       "      <th rowspan=\"2\" valign=\"top\">2</th>\n",
       "      <th>female</th>\n",
       "      <td>0.096019</td>\n",
       "    </tr>\n",
       "    <tr>\n",
       "      <th>male</th>\n",
       "      <td>0.016393</td>\n",
       "    </tr>\n",
       "    <tr>\n",
       "      <th rowspan=\"2\" valign=\"top\">3</th>\n",
       "      <th>female</th>\n",
       "      <td>0.037471</td>\n",
       "    </tr>\n",
       "    <tr>\n",
       "      <th>male</th>\n",
       "      <td>0.042155</td>\n",
       "    </tr>\n",
       "  </tbody>\n",
       "</table>\n",
       "</div>"
      ],
      "text/plain": [
       "                           proportion\n",
       "age category class sex               \n",
       "1.0          1     female    0.091335\n",
       "                   male      0.039813\n",
       "             2     female    0.119438\n",
       "                   male      0.037471\n",
       "             3     female    0.131148\n",
       "                   male      0.096019\n",
       "2.0          1     female    0.208431\n",
       "                   male      0.084309\n",
       "             2     female    0.096019\n",
       "                   male      0.016393\n",
       "             3     female    0.037471\n",
       "                   male      0.042155"
      ]
     },
     "execution_count": 72,
     "metadata": {},
     "output_type": "execute_result"
    }
   ],
   "source": [
    "# Define the age category\n",
    "titanic_df['age_category'] = titanic_df['age'].map(lambda x: 1 if x <= titanic_df['age'].median() \n",
    "                                                                   else 2 if x > titanic_df['age'].median() \n",
    "                                                                             else None)\n",
    "\n",
    "age_categories_df = pd.DataFrame(titanic_df[titanic_df.survived == 1][['age_category', 'pclass', 'sex']]\n",
    "                                 .groupby(['age_category', 'pclass', 'sex'])\n",
    "                                 .agg(len))\n",
    "# Compute the proportion ratio\n",
    "age_categories_df = age_categories_df.apply(lambda x : x / age_categories_df.values.sum())\n",
    "\n",
    "# Re indexing of the table\n",
    "age_categories_df.reset_index(inplace=True)\n",
    "\n",
    "# Renaming of the datatset schema\n",
    "age_categories_df.rename(columns={'age_category':'age category', 'pclass':'class', 0:'proportion'}, inplace=True)\n",
    "\n",
    "# We set an unique, meaningful index for the dataframe\n",
    "age_categories_df = age_categories_df.set_index(['age category', 'class', 'sex'])\n",
    "age_categories_df"
   ]
  },
  {
   "cell_type": "code",
   "execution_count": null,
   "metadata": {
    "collapsed": true
   },
   "outputs": [],
   "source": []
  }
 ],
 "metadata": {
  "kernelspec": {
   "display_name": "Python 3",
   "language": "python",
   "name": "python3"
  },
  "language_info": {
   "codemirror_mode": {
    "name": "ipython",
    "version": 3
   },
   "file_extension": ".py",
   "mimetype": "text/x-python",
   "name": "python",
   "nbconvert_exporter": "python",
   "pygments_lexer": "ipython3",
   "version": "3.6.1"
  }
 },
 "nbformat": 4,
 "nbformat_minor": 2
}
