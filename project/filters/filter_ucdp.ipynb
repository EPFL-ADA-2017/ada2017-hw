{
 "cells": [
  {
   "cell_type": "markdown",
   "metadata": {},
   "source": [
    "# UCDP dataset filtering\n",
    "\n",
    "This notebook we use the information about the dataset that we got from the exploratory analysis to determine the conflicts that would be the most interesting for our purposes."
   ]
  },
  {
   "cell_type": "code",
   "execution_count": 1,
   "metadata": {
    "collapsed": true
   },
   "outputs": [],
   "source": [
    "import matplotlib.pyplot as plt\n",
    "import seaborn as sns\n",
    "import pandas as pd\n",
    "sns.set_style('whitegrid')\n",
    "\n",
    "%matplotlib inline\n",
    "\n",
    "parsed_ucdp_dataset = '../data/parsed/parsed_ucdp.csv'\n",
    "ucdp_df = pd.read_csv(parsed_ucdp_dataset, index_col='index', encoding='utf-8', compression='gzip')"
   ]
  },
  {
   "cell_type": "markdown",
   "metadata": {},
   "source": [
    "As explained in the exploratory analysis for this dataset, the variables are the following:\n",
    "* Year\n",
    "* Type\n",
    "    1. State-Based Violence\n",
    "    2. Non-State Violence\n",
    "    3. One-Sided Violence\n",
    "* Country\n",
    "* Date start\n",
    "* Date end\n",
    "* Casualties"
   ]
  },
  {
   "cell_type": "code",
   "execution_count": 2,
   "metadata": {
    "collapsed": true
   },
   "outputs": [],
   "source": [
    "def filter_ucdp(ucdp_df, type_conflict=1, number_casualties='low',\n",
    "    classification_casualties=1, year=2016,\n",
    "    n_conflicts_per_country=30, consider_all_conflicts=1):\n",
    "    \"\"\" Returns a filtered dataframe in the ucdp_df format\n",
    "    INPUT:\n",
    "        type_conflict: Type of conflict (1,2 or 3)\n",
    "        \n",
    "        number_casualties: Number of casualties ('low', 'high')\n",
    "        \n",
    "        classification_casualties: How to determine if #casualties is low or high\n",
    "            1 is what we considered when doing the exploratory analysis\n",
    "            3 divides creates two groups with approx. equal #conflicts each\n",
    "            \n",
    "        year: Year that we want to keep\n",
    "        \n",
    "        n_conflicts_per_country: Keep the conflicts from countries with a lower #conflicts.\n",
    "            If 0, then all conflicts are kept and the next variable is ignored.\n",
    "        \n",
    "        consider_all_conflicts: if n_conflicts_per_country>0, choose if filtering by:\n",
    "            n. of conflicts of the type considered (0)\n",
    "            n. of conflicts of the year considered (1)\n",
    "            n. of total #conflicts (2)\n",
    "    \"\"\"\n",
    "    filtered_year_df = ucdp_df[ucdp_df['Year'] == year]\n",
    "    filtered_df = filtered_year_df[filtered_year_df['Type'] == type_conflict]\n",
    "    if number_casualties == 'low':\n",
    "        result_df = filtered_df[filtered_df['Casualties'] <= classification_casualties]\n",
    "    else:\n",
    "        result_df = filtered_df[filtered_df['Casualties'] > classification_casualties]\n",
    "    if n_conflicts_per_country:\n",
    "        if consider_all_conflicts == 0:\n",
    "            conflicts_per_country = result_df.groupby('Country').count()['Year']\n",
    "        elif consider_all_conflicts == 1:\n",
    "            conflicts_per_country = filtered_year_df.groupby('Country').count()['Year']\n",
    "        else:\n",
    "            conflicts_per_country = ucdp_df.groupby('Country').count()['Year']\n",
    "        countries_kept = list(conflicts_per_country[conflicts_per_country < n_conflicts_per_country].index)\n",
    "        result_df = result_df[result_df['Country'].isin(countries_kept)]\n",
    "    return result_df"
   ]
  },
  {
   "cell_type": "code",
   "execution_count": 3,
   "metadata": {
    "collapsed": true,
    "scrolled": true
   },
   "outputs": [],
   "source": [
    "filtered_ucdp_df = filter_ucdp(ucdp_df, type_conflict=3,\n",
    "    number_casualties='high', classification_casualties=0,\n",
    "    year=2016, n_conflicts_per_country=4, consider_all_conflicts=0)"
   ]
  },
  {
   "cell_type": "markdown",
   "metadata": {},
   "source": [
    "#### Lastly, look at the kept conflicts\n",
    "We are also interested in the number of conflicts and countries, since we would need enough different countries."
   ]
  },
  {
   "cell_type": "code",
   "execution_count": 4,
   "metadata": {},
   "outputs": [
    {
     "name": "stdout",
     "output_type": "stream",
     "text": [
      "Number of conflicts: 30\n",
      "Number of countries: 18\n",
      "List of countries: ['YE' 'TD' 'ML' 'FR' 'EG' 'MZ' 'AO' 'CI' 'LB' 'IL' 'RU' 'DE' 'MX' 'CO' 'SA'\n",
      " 'PE' 'BF' 'BE']\n"
     ]
    }
   ],
   "source": [
    "print('Number of conflicts: {}'.format(len(filtered_ucdp_df)))\n",
    "print('Number of countries: {}'.format(len(filtered_ucdp_df['Country'].unique())))\n",
    "print('List of countries: {}'.format(filtered_ucdp_df['Country'].unique()))"
   ]
  },
  {
   "cell_type": "code",
   "execution_count": 5,
   "metadata": {
    "scrolled": true
   },
   "outputs": [
    {
     "data": {
      "image/png": "[encoded data removed]",
      "text/plain": [
       "<matplotlib.figure.Figure at 0x7fd8813e7eb8>"
      ]
     },
     "metadata": {},
     "output_type": "display_data"
    }
   ],
   "source": [
    "plt.boxplot(filtered_ucdp_df.groupby('Country').count()['Year'])\n",
    "plt.title('Distribution of number of conflicts per country')\n",
    "plt.show()"
   ]
  },
  {
   "cell_type": "markdown",
   "metadata": {},
   "source": [
    "Lastly, we can save the filtered file."
   ]
  },
  {
   "cell_type": "code",
   "execution_count": 6,
   "metadata": {
    "collapsed": true
   },
   "outputs": [],
   "source": [
    "# Save to csv file\n",
    "filtered_ucdp_df = filtered_ucdp_df.reset_index()\n",
    "filtered_ucdp_df.to_csv(parsed_ucdp_dataset, encoding='utf-8', index=False, compression='gzip')"
   ]
  }
 ],
 "metadata": {
  "kernelspec": {
   "display_name": "Python 3",
   "language": "python",
   "name": "python3"
  },
  "language_info": {
   "codemirror_mode": {
    "name": "ipython",
    "version": 3
   },
   "file_extension": ".py",
   "mimetype": "text/x-python",
   "name": "python",
   "nbconvert_exporter": "python",
   "pygments_lexer": "ipython3",
   "version": "3.6.3"
  }
 },
 "nbformat": 4,
 "nbformat_minor": 2
}
