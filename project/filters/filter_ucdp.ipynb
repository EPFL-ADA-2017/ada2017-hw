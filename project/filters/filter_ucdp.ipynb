{
 "cells": [
  {
   "cell_type": "markdown",
   "metadata": {},
   "source": [
    "# Filter UCDP dataset\n",
    "\n",
    "(Starting from the UCDP dataset already parsed)"
   ]
  },
  {
   "cell_type": "code",
   "execution_count": null,
   "metadata": {},
   "outputs": [],
   "source": [
    "import matplotlib.pyplot as plt\n",
    "import seaborn as sns\n",
    "import pandas as pd\n",
    "sns.set_style('whitegrid')\n",
    "\n",
    "%matplotlib inline\n",
    "\n",
    "parsed_ucdp_dataset = '../data/parsed/parsed_ucdp.csv'\n",
    "ucdp_df = pd.read_csv(parsed_ucdp_dataset, index_col='index', encoding='utf-8', compression='gzip')"
   ]
  },
  {
   "cell_type": "markdown",
   "metadata": {},
   "source": [
    "\n",
    "The variables are the following:\n",
    "* Year\n",
    "* Type\n",
    "    1. State-Based Violence\n",
    "    2. Non-State Violence\n",
    "    3. One-Sided Violence\n",
    "* Country\n",
    "* Date start\n",
    "* Date end\n",
    "* Casualties\n",
    "\n",
    "Only look at _recent_ conflicts, i.e. that take place from 2014.\n",
    "\n",
    "I will focus on type 1 (more conflicts of this type, more total number of casualties, and we are assuming that it is more likely for this type of violence to have an impact).\n",
    "\n",
    "We also separate conflicts depending on the number of casualties: _few_ (0-1 casualties) or _many_ (2 or more casualties). We are considering that a conflict that results in more than one casualty would likely correspond to a more violent incident."
   ]
  },
  {
   "cell_type": "code",
   "execution_count": null,
   "metadata": {},
   "outputs": [],
   "source": [
    "few_casualties_df = ucdp_df[(ucdp_df['Casualties'] <= 3) & (ucdp_df['Year'] > 2015) & (ucdp_df['Type'] == 1)]\n",
    "many_casualties_df = ucdp_df[(ucdp_df['Casualties'] > 3) & (ucdp_df['Year'] > 2015) & (ucdp_df['Type'] == 1)]"
   ]
  },
  {
   "cell_type": "markdown",
   "metadata": {},
   "source": [
    "Number of conflicts:"
   ]
  },
  {
   "cell_type": "code",
   "execution_count": null,
   "metadata": {},
   "outputs": [],
   "source": [
    "print(len(few_casualties_df))\n",
    "print(len(many_casualties_df))"
   ]
  },
  {
   "cell_type": "markdown",
   "metadata": {},
   "source": [
    "Number of different countries:"
   ]
  },
  {
   "cell_type": "code",
   "execution_count": null,
   "metadata": {},
   "outputs": [],
   "source": [
    "print(len(few_casualties_df['Country'].unique()))\n",
    "print(len(many_casualties_df['Country'].unique()))"
   ]
  },
  {
   "cell_type": "markdown",
   "metadata": {},
   "source": [
    "Number of conflicts per country:"
   ]
  },
  {
   "cell_type": "code",
   "execution_count": null,
   "metadata": {},
   "outputs": [],
   "source": [
    "grouped_few_df = few_casualties_df.groupby('Country').count()\n",
    "grouped_many_df = many_casualties_df.groupby('Country').count()\n",
    "\n",
    "plt.boxplot(grouped_few_df['Year'])\n",
    "plt.title('Few casualties')\n",
    "plt.show()\n",
    "\n",
    "plt.boxplot(grouped_many_df['Year'])\n",
    "plt.title('Many casualties')\n",
    "plt.show()"
   ]
  },
  {
   "cell_type": "markdown",
   "metadata": {},
   "source": [
    "I focus on the ones with _many_ casualties, since I expect those to result in a bigger 'response'.\n",
    "\n",
    "-------------------\n",
    "\n",
    "At this point:\n",
    "\n",
    "#### Option 1\n",
    "Keep the `many_casualties_df` as it is:\n",
    "* Number of conflicts per country varies a lot! (see boxplot above)\n",
    "* More conflicts to analyze\n",
    "* Maybe it's not fair since people might stop paying attention to countries were there are many conflicts (i.e. we can't compare conflicts from countries where there are many conflicts, to conflicts from countries were conflicts are unusual)"
   ]
  },
  {
   "cell_type": "code",
   "execution_count": null,
   "metadata": {
    "collapsed": true
   },
   "outputs": [],
   "source": [
    "# Save to csv file\n",
    "many_casualties_df = many_casualties_df.reset_index()\n",
    "many_casualties_df.to_csv('../data/parsed/parsed_filtered1_ucdp.csv', encoding='utf-8', index=False, compression='gzip')"
   ]
  },
  {
   "cell_type": "markdown",
   "metadata": {},
   "source": [
    "\n",
    "#### Option 2 (to solve issue from Option 1)\n",
    "Filter by the _total number of conflicts per country_ (this would be a _meta-feature_):\n",
    "* Solve the previous issue\n",
    "* Also manage to get a more 'even' number of conflicts per country\n",
    "* We also reduce the total number of conflicts we consider"
   ]
  },
  {
   "cell_type": "code",
   "execution_count": null,
   "metadata": {},
   "outputs": [],
   "source": [
    "conflicts_per_country_s = many_casualties_df.groupby('Country').count()['Year']\n",
    "countries_unusual_conflicts = list(conflicts_per_country_s[conflicts_per_country_s < 10].index)\n",
    "\n",
    "many_casualties_filtered_df = many_casualties_df[many_casualties_df['Country'].isin(countries_unusual_conflicts)]"
   ]
  },
  {
   "cell_type": "markdown",
   "metadata": {},
   "source": [
    "Result: 70 conflicts, from 19 different countries, with the number of _conflicts per country_ shown in the boxplot below"
   ]
  },
  {
   "cell_type": "code",
   "execution_count": null,
   "metadata": {},
   "outputs": [],
   "source": [
    "len(many_casualties_filtered_df)"
   ]
  },
  {
   "cell_type": "code",
   "execution_count": null,
   "metadata": {},
   "outputs": [],
   "source": [
    "len(countries_unusual_conflicts)"
   ]
  },
  {
   "cell_type": "code",
   "execution_count": null,
   "metadata": {
    "scrolled": true
   },
   "outputs": [],
   "source": [
    "plt.boxplot(many_casualties_filtered_df.groupby('Country').count()['Year'])\n",
    "plt.show()"
   ]
  },
  {
   "cell_type": "code",
   "execution_count": null,
   "metadata": {
    "collapsed": true
   },
   "outputs": [],
   "source": [
    "# Save to csv file\n",
    "many_casualties_filtered_df = many_casualties_filtered_df.reset_index()\n",
    "many_casualties_filtered_df.to_csv('../data/parsed/parsed_filtered2_ucdp.csv', encoding='utf-8', index=False, compression='gzip')"
   ]
  }
 ],
 "metadata": {
  "kernelspec": {
   "display_name": "Python 3",
   "language": "python",
   "name": "python3"
  },
  "language_info": {
   "codemirror_mode": {
    "name": "ipython",
    "version": 3
   },
   "file_extension": ".py",
   "mimetype": "text/x-python",
   "name": "python",
   "nbconvert_exporter": "python",
   "pygments_lexer": "ipython3",
   "version": "3.6.3"
  }
 },
 "nbformat": 4,
 "nbformat_minor": 2
}
