{
 "cells": [
  {
   "cell_type": "code",
   "execution_count": 1,
   "metadata": {
    "collapsed": true
   },
   "outputs": [],
   "source": [
    "import pandas as pd\n",
    "import json"
   ]
  },
  {
   "cell_type": "code",
   "execution_count": 2,
   "metadata": {
    "collapsed": true
   },
   "outputs": [],
   "source": [
    "raw_country_nationality_dataset_file = 'data/raw_country_nationality.json'\n",
    "parsed_country_nationality_dataset_file = 'data/parsed_country_nationality.csv'\n",
    "parsed_currency_country_dataset_file = 'data/parsed_currency_country.csv'"
   ]
  },
  {
   "cell_type": "code",
   "execution_count": 3,
   "metadata": {},
   "outputs": [],
   "source": [
    "json_data = json.load(open(raw_country_nationality_dataset_file))"
   ]
  },
  {
   "cell_type": "markdown",
   "metadata": {},
   "source": [
    "## Create country-nationality dataframe"
   ]
  },
  {
   "cell_type": "code",
   "execution_count": 4,
   "metadata": {},
   "outputs": [],
   "source": [
    "country_nationality_dict = {}\n",
    "\n",
    "for country in json_data:\n",
    "    country_official_code = country['cca2']\n",
    "    country_official_name = country['name']['official']\n",
    "    country_common_name = country['name']['common']\n",
    "    country_currency = country['currency']\n",
    "    country_nationality = country['demonym']\n",
    "    \n",
    "    country_nationality_dict[country_official_code] = {\n",
    "        'Official Name': country_official_name,\n",
    "        'Common Name': country_common_name,\n",
    "        'Currencies': country_currency,\n",
    "        'Nationality': country_nationality\n",
    "    }\n",
    "    \n",
    "country_nationality_df = pd.DataFrame.from_dict(country_nationality_dict, orient='index')"
   ]
  },
  {
   "cell_type": "code",
   "execution_count": 5,
   "metadata": {},
   "outputs": [
    {
     "data": {
      "text/html": [
       "<div>\n",
       "<style>\n",
       "    .dataframe thead tr:only-child th {\n",
       "        text-align: right;\n",
       "    }\n",
       "\n",
       "    .dataframe thead th {\n",
       "        text-align: left;\n",
       "    }\n",
       "\n",
       "    .dataframe tbody tr th {\n",
       "        vertical-align: top;\n",
       "    }\n",
       "</style>\n",
       "<table border=\"1\" class=\"dataframe\">\n",
       "  <thead>\n",
       "    <tr style=\"text-align: right;\">\n",
       "      <th></th>\n",
       "      <th>Official Name</th>\n",
       "      <th>Common Name</th>\n",
       "      <th>Currencies</th>\n",
       "      <th>Nationality</th>\n",
       "    </tr>\n",
       "  </thead>\n",
       "  <tbody>\n",
       "    <tr>\n",
       "      <th>AD</th>\n",
       "      <td>Principality of Andorra</td>\n",
       "      <td>Andorra</td>\n",
       "      <td>[EUR]</td>\n",
       "      <td>Andorran</td>\n",
       "    </tr>\n",
       "    <tr>\n",
       "      <th>AE</th>\n",
       "      <td>United Arab Emirates</td>\n",
       "      <td>United Arab Emirates</td>\n",
       "      <td>[AED]</td>\n",
       "      <td>Emirati</td>\n",
       "    </tr>\n",
       "  </tbody>\n",
       "</table>\n",
       "</div>"
      ],
      "text/plain": [
       "              Official Name           Common Name Currencies Nationality\n",
       "AD  Principality of Andorra               Andorra      [EUR]    Andorran\n",
       "AE     United Arab Emirates  United Arab Emirates      [AED]     Emirati"
      ]
     },
     "execution_count": 5,
     "metadata": {},
     "output_type": "execute_result"
    }
   ],
   "source": [
    "#country_nationality_df['Currencies'] = country_nationality_df['Currencies'].astype(list)\n",
    "country_nationality_df.head(2)"
   ]
  },
  {
   "cell_type": "markdown",
   "metadata": {},
   "source": [
    "## Create currency-country dataframe"
   ]
  },
  {
   "cell_type": "code",
   "execution_count": 6,
   "metadata": {},
   "outputs": [],
   "source": [
    "def get_countries_with_currency(currency):\n",
    "    '''\n",
    "    This method returns a list of countries\n",
    "    that use a given currency as an official\n",
    "    currency.\n",
    "    '''\n",
    "    country_list = []\n",
    "    for index, row in country_nationality_df.iterrows():\n",
    "        cur_country_currencies = row['Currencies']\n",
    "        if (currency in cur_country_currencies):\n",
    "            country_list.append(index)\n",
    "    return country_list"
   ]
  },
  {
   "cell_type": "code",
   "execution_count": 7,
   "metadata": {},
   "outputs": [
    {
     "data": {
      "text/html": [
       "<div>\n",
       "<style>\n",
       "    .dataframe thead tr:only-child th {\n",
       "        text-align: right;\n",
       "    }\n",
       "\n",
       "    .dataframe thead th {\n",
       "        text-align: left;\n",
       "    }\n",
       "\n",
       "    .dataframe tbody tr th {\n",
       "        vertical-align: top;\n",
       "    }\n",
       "</style>\n",
       "<table border=\"1\" class=\"dataframe\">\n",
       "  <thead>\n",
       "    <tr style=\"text-align: right;\">\n",
       "      <th></th>\n",
       "      <th>Countries</th>\n",
       "    </tr>\n",
       "  </thead>\n",
       "  <tbody>\n",
       "    <tr>\n",
       "      <th>AED</th>\n",
       "      <td>[AE]</td>\n",
       "    </tr>\n",
       "    <tr>\n",
       "      <th>AFN</th>\n",
       "      <td>[AF]</td>\n",
       "    </tr>\n",
       "  </tbody>\n",
       "</table>\n",
       "</div>"
      ],
      "text/plain": [
       "    Countries\n",
       "AED      [AE]\n",
       "AFN      [AF]"
      ]
     },
     "execution_count": 7,
     "metadata": {},
     "output_type": "execute_result"
    }
   ],
   "source": [
    "all_currencies = []\n",
    "for index, currencies in country_nationality_df['Currencies'].iteritems():\n",
    "    all_currencies += currencies\n",
    "\n",
    "unique_currencies = set(all_currencies)\n",
    "currency_country_dict = {}\n",
    "for currency in unique_currencies:\n",
    "    currency_country_dict[currency] = {'Countries': get_countries_with_currency(currency)}\n",
    "\n",
    "# Create dataframe from the collected data\n",
    "currency_country_df = pd.DataFrame.from_dict(currency_country_dict, orient='index')\n",
    "currency_country_df.head(2)"
   ]
  },
  {
   "cell_type": "code",
   "execution_count": 8,
   "metadata": {},
   "outputs": [],
   "source": [
    "# Reset the index and rename ID column\n",
    "country_nationality_df = country_nationality_df.reset_index().rename(columns={'index':'ID'})\n",
    "currency_country_df = currency_country_df.reset_index().rename(columns={'index':'ID'})"
   ]
  },
  {
   "cell_type": "code",
   "execution_count": 9,
   "metadata": {},
   "outputs": [],
   "source": [
    "# Store computed dataframes into files\n",
    "country_nationality_df.to_csv(parsed_country_nationality_dataset_file, encoding='utf-8', index=False, compression='gzip')\n",
    "currency_country_df.to_csv(parsed_currency_country_dataset_file, encoding='utf-8', index=False, compression='gzip')"
   ]
  },
  {
   "cell_type": "code",
   "execution_count": null,
   "metadata": {
    "collapsed": true
   },
   "outputs": [],
   "source": []
  }
 ],
 "metadata": {
  "kernelspec": {
   "display_name": "Python 3",
   "language": "python",
   "name": "python3"
  },
  "language_info": {
   "codemirror_mode": {
    "name": "ipython",
    "version": 3
   },
   "file_extension": ".py",
   "mimetype": "text/x-python",
   "name": "python",
   "nbconvert_exporter": "python",
   "pygments_lexer": "ipython3",
   "version": "3.6.1"
  }
 },
 "nbformat": 4,
 "nbformat_minor": 2
}
