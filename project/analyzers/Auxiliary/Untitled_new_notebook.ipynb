{
 "cells": [
  {
   "cell_type": "code",
   "execution_count": 1,
   "metadata": {},
   "outputs": [],
   "source": [
    "# Add scripts folder to path\n",
    "import sys\n",
    "sys.path.insert(0, '../../scripts')\n",
    "\n",
    "import pandas as pd\n",
    "import name_entity_recognition as ner"
   ]
  },
  {
   "cell_type": "code",
   "execution_count": 2,
   "metadata": {},
   "outputs": [],
   "source": [
    "# Load the necesary datasets for the NER script\n",
    "ner.load_data('../..')"
   ]
  },
  {
   "cell_type": "code",
   "execution_count": 3,
   "metadata": {
    "scrolled": false
   },
   "outputs": [
    {
     "data": {
      "text/html": [
       "<div>\n",
       "<style>\n",
       "    .dataframe thead tr:only-child th {\n",
       "        text-align: right;\n",
       "    }\n",
       "\n",
       "    .dataframe thead th {\n",
       "        text-align: left;\n",
       "    }\n",
       "\n",
       "    .dataframe tbody tr th {\n",
       "        vertical-align: top;\n",
       "    }\n",
       "</style>\n",
       "<table border=\"1\" class=\"dataframe\">\n",
       "  <thead>\n",
       "    <tr style=\"text-align: right;\">\n",
       "      <th></th>\n",
       "      <th>City Names</th>\n",
       "      <th>Country Names</th>\n",
       "      <th>Country Nationalities</th>\n",
       "      <th>Currency Names</th>\n",
       "      <th>Religion Affiliations</th>\n",
       "      <th>Religion Names</th>\n",
       "      <th>Text</th>\n",
       "    </tr>\n",
       "  </thead>\n",
       "  <tbody>\n",
       "    <tr>\n",
       "      <th>0</th>\n",
       "      <td>0</td>\n",
       "      <td>0</td>\n",
       "      <td>1</td>\n",
       "      <td>0</td>\n",
       "      <td>0</td>\n",
       "      <td>0</td>\n",
       "      <td>The Caymanians enjoy one of the highest rates ...</td>\n",
       "    </tr>\n",
       "    <tr>\n",
       "      <th>1</th>\n",
       "      <td>0</td>\n",
       "      <td>0</td>\n",
       "      <td>0</td>\n",
       "      <td>0</td>\n",
       "      <td>0</td>\n",
       "      <td>0</td>\n",
       "      <td>In these ways, a large part of planting enterp...</td>\n",
       "    </tr>\n",
       "    <tr>\n",
       "      <th>2</th>\n",
       "      <td>0</td>\n",
       "      <td>1</td>\n",
       "      <td>0</td>\n",
       "      <td>0</td>\n",
       "      <td>0</td>\n",
       "      <td>0</td>\n",
       "      <td>Annexed by the UK in 1857, they were transferr...</td>\n",
       "    </tr>\n",
       "    <tr>\n",
       "      <th>3</th>\n",
       "      <td>0</td>\n",
       "      <td>0</td>\n",
       "      <td>0</td>\n",
       "      <td>0</td>\n",
       "      <td>0</td>\n",
       "      <td>0</td>\n",
       "      <td>The country roads seem to be not very good in ...</td>\n",
       "    </tr>\n",
       "    <tr>\n",
       "      <th>4</th>\n",
       "      <td>0</td>\n",
       "      <td>0</td>\n",
       "      <td>0</td>\n",
       "      <td>0</td>\n",
       "      <td>0</td>\n",
       "      <td>0</td>\n",
       "      <td>Proliferative changes in the synovial membrane...</td>\n",
       "    </tr>\n",
       "  </tbody>\n",
       "</table>\n",
       "</div>"
      ],
      "text/plain": [
       "   City Names  Country Names  Country Nationalities  Currency Names  \\\n",
       "0           0              0                      1               0   \n",
       "1           0              0                      0               0   \n",
       "2           0              1                      0               0   \n",
       "3           0              0                      0               0   \n",
       "4           0              0                      0               0   \n",
       "\n",
       "   Religion Affiliations  Religion Names  \\\n",
       "0                      0               0   \n",
       "1                      0               0   \n",
       "2                      0               0   \n",
       "3                      0               0   \n",
       "4                      0               0   \n",
       "\n",
       "                                                Text  \n",
       "0  The Caymanians enjoy one of the highest rates ...  \n",
       "1  In these ways, a large part of planting enterp...  \n",
       "2  Annexed by the UK in 1857, they were transferr...  \n",
       "3  The country roads seem to be not very good in ...  \n",
       "4  Proliferative changes in the synovial membrane...  "
      ]
     },
     "execution_count": 3,
     "metadata": {},
     "output_type": "execute_result"
    }
   ],
   "source": [
    "file = '../../data/parsed/markov_text_files/test_samples.csv'\n",
    "samples_df = pd.read_csv(file, encoding='utf-8', compression='gzip')\n",
    "\n",
    "samples_df.head()"
   ]
  },
  {
   "cell_type": "code",
   "execution_count": 5,
   "metadata": {},
   "outputs": [
    {
     "name": "stdout",
     "output_type": "stream",
     "text": [
      "[('GPE', 'UK'), ('GPE', 'US')]\n",
      "(ID                      UA\n",
      "Official Name      Ukraine\n",
      "Common Name        Ukraine\n",
      "Currencies         ['UAH']\n",
      "Nationality      Ukrainian\n",
      "Name: 227, dtype: object, 'Country')\n",
      "(ID                                     US\n",
      "Official Name    United States of America\n",
      "Common Name                 United States\n",
      "Currencies          ['USD', 'USN', 'USS']\n",
      "Nationality                      American\n",
      "Name: 230, dtype: object, 'Country')\n"
     ]
    }
   ],
   "source": [
    "# Obtain list of labes (GPE, NORP, MONEY) for the sample\n",
    "list_labels = ner.get_interesting_text_entities(samples_df.get_value(2, 'Text'))\n",
    "print(list_labels)\n",
    "\n",
    "#result = nerget_matching_row(text, ner.country_nationality_df, ['ID', 'Official Name', 'Common Name'])\n",
    "\n",
    "for item in list_labels:\n",
    "    print(ner.get_matching_results(item[0], item[1]) )"
   ]
  },
  {
   "cell_type": "code",
   "execution_count": 6,
   "metadata": {},
   "outputs": [
    {
     "name": "stdout",
     "output_type": "stream",
     "text": [
      "Annexed by the UK in 1857, they were transferred to the US Fish and Wildlife Service.\n"
     ]
    }
   ],
   "source": [
    "print(samples_df.get_value(2, 'Text'))"
   ]
  },
  {
   "cell_type": "code",
   "execution_count": null,
   "metadata": {
    "collapsed": true
   },
   "outputs": [],
   "source": []
  }
 ],
 "metadata": {
  "kernelspec": {
   "display_name": "Python 3",
   "language": "python",
   "name": "python3"
  },
  "language_info": {
   "codemirror_mode": {
    "name": "ipython",
    "version": 3
   },
   "file_extension": ".py",
   "mimetype": "text/x-python",
   "name": "python",
   "nbconvert_exporter": "python",
   "pygments_lexer": "ipython3",
   "version": "3.6.1"
  }
 },
 "nbformat": 4,
 "nbformat_minor": 2
}
