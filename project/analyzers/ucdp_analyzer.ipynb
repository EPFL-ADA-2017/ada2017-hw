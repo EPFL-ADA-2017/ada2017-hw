{
 "cells": [
  {
   "cell_type": "markdown",
   "metadata": {},
   "source": [
    "# Analysisng UCDP\n",
    "\n",
    "This notebook is simply used as an exploratory measure. Here, we go through some components of the data to figure out what might be the best method for categorizing the conflicts."
   ]
  },
  {
   "cell_type": "code",
   "execution_count": 1,
   "metadata": {
    "collapsed": true
   },
   "outputs": [],
   "source": [
    "import pandas as pd\n",
    "\n",
    "%matplotlib inline"
   ]
  },
  {
   "cell_type": "code",
   "execution_count": 2,
   "metadata": {
    "collapsed": true
   },
   "outputs": [],
   "source": [
    "# Path for the parsed version of the dataset\n",
    "parsed_ucdp_dataset = '../data/parsed/parsed_ucdp.csv'\n",
    "\n",
    "# Fetching data from the parsed file into a dataframe\n",
    "ucdp_df = pd.read_csv(parsed_ucdp_dataset, index_col='id', encoding='utf-8', compression='gzip')\n",
    "\n",
    "# Filtering just the most recent events (Twitter will not have Tweet from 1990s...)\n",
    "ucdp_df = ucdp_df[ucdp_df['Year'] > 2014]"
   ]
  },
  {
   "cell_type": "markdown",
   "metadata": {},
   "source": [
    "Sample:"
   ]
  },
  {
   "cell_type": "code",
   "execution_count": 12,
   "metadata": {},
   "outputs": [
    {
     "data": {
      "text/html": [
       "<div>\n",
       "<style>\n",
       "    .dataframe thead tr:only-child th {\n",
       "        text-align: right;\n",
       "    }\n",
       "\n",
       "    .dataframe thead th {\n",
       "        text-align: left;\n",
       "    }\n",
       "\n",
       "    .dataframe tbody tr th {\n",
       "        vertical-align: top;\n",
       "    }\n",
       "</style>\n",
       "<table border=\"1\" class=\"dataframe\">\n",
       "  <thead>\n",
       "    <tr style=\"text-align: right;\">\n",
       "      <th></th>\n",
       "      <th>Year</th>\n",
       "      <th>Type</th>\n",
       "      <th>Conflict Name</th>\n",
       "      <th>Country</th>\n",
       "      <th>Date Start</th>\n",
       "      <th>Date End</th>\n",
       "      <th>Casualties</th>\n",
       "    </tr>\n",
       "    <tr>\n",
       "      <th>id</th>\n",
       "      <th></th>\n",
       "      <th></th>\n",
       "      <th></th>\n",
       "      <th></th>\n",
       "      <th></th>\n",
       "      <th></th>\n",
       "      <th></th>\n",
       "    </tr>\n",
       "  </thead>\n",
       "  <tbody>\n",
       "    <tr>\n",
       "      <th>34362</th>\n",
       "      <td>2000</td>\n",
       "      <td>1</td>\n",
       "      <td>Government of Eritrea-Government of Ethiopia</td>\n",
       "      <td>Ethiopia</td>\n",
       "      <td>2000-01-01</td>\n",
       "      <td>2000-06-18</td>\n",
       "      <td>48183</td>\n",
       "    </tr>\n",
       "    <tr>\n",
       "      <th>34346</th>\n",
       "      <td>1999</td>\n",
       "      <td>1</td>\n",
       "      <td>Government of Eritrea-Government of Ethiopia</td>\n",
       "      <td>Ethiopia</td>\n",
       "      <td>1999-06-18</td>\n",
       "      <td>1999-06-18</td>\n",
       "      <td>30000</td>\n",
       "    </tr>\n",
       "    <tr>\n",
       "      <th>34345</th>\n",
       "      <td>1999</td>\n",
       "      <td>1</td>\n",
       "      <td>Government of Eritrea-Government of Ethiopia</td>\n",
       "      <td>Eritrea</td>\n",
       "      <td>1999-02-23</td>\n",
       "      <td>1999-02-26</td>\n",
       "      <td>15000</td>\n",
       "    </tr>\n",
       "    <tr>\n",
       "      <th>145137</th>\n",
       "      <td>1991</td>\n",
       "      <td>1</td>\n",
       "      <td>Government of Iraq-Government of Kuwait</td>\n",
       "      <td>Iraq</td>\n",
       "      <td>1991-01-17</td>\n",
       "      <td>1991-03-01</td>\n",
       "      <td>9505</td>\n",
       "    </tr>\n",
       "    <tr>\n",
       "      <th>34553</th>\n",
       "      <td>1989</td>\n",
       "      <td>1</td>\n",
       "      <td>Ethiopia:Government</td>\n",
       "      <td>Ethiopia</td>\n",
       "      <td>1989-02-11</td>\n",
       "      <td>1989-02-11</td>\n",
       "      <td>9000</td>\n",
       "    </tr>\n",
       "  </tbody>\n",
       "</table>\n",
       "</div>"
      ],
      "text/plain": [
       "        Year  Type                                 Conflict Name   Country  \\\n",
       "id                                                                           \n",
       "34362   2000     1  Government of Eritrea-Government of Ethiopia  Ethiopia   \n",
       "34346   1999     1  Government of Eritrea-Government of Ethiopia  Ethiopia   \n",
       "34345   1999     1  Government of Eritrea-Government of Ethiopia   Eritrea   \n",
       "145137  1991     1       Government of Iraq-Government of Kuwait      Iraq   \n",
       "34553   1989     1                           Ethiopia:Government  Ethiopia   \n",
       "\n",
       "        Date Start    Date End  Casualties  \n",
       "id                                          \n",
       "34362   2000-01-01  2000-06-18       48183  \n",
       "34346   1999-06-18  1999-06-18       30000  \n",
       "34345   1999-02-23  1999-02-26       15000  \n",
       "145137  1991-01-17  1991-03-01        9505  \n",
       "34553   1989-02-11  1989-02-11        9000  "
      ]
     },
     "execution_count": 12,
     "metadata": {},
     "output_type": "execute_result"
    }
   ],
   "source": [
    "ucdp_df.head()"
   ]
  },
  {
   "cell_type": "markdown",
   "metadata": {},
   "source": [
    "## Casualties:\n",
    "\n",
    "In this section we just try and get an idea for the amount of casualties."
   ]
  },
  {
   "cell_type": "code",
   "execution_count": 10,
   "metadata": {},
   "outputs": [
    {
     "data": {
      "text/plain": [
       "<matplotlib.axes._subplots.AxesSubplot at 0x1b47ecd8e48>"
      ]
     },
     "execution_count": 10,
     "metadata": {},
     "output_type": "execute_result"
    },
    {
     "data": {
      "image/png": "[encoded data removed]",
      "text/plain": [
       "<matplotlib.figure.Figure at 0x1b47ed057b8>"
      ]
     },
     "metadata": {},
     "output_type": "display_data"
    }
   ],
   "source": [
    "ucdp_df = ucdp_df.sort_values('Casualties', ascending=False)\n",
    "ucdp_df['Casualties'].head(30).plot.bar()"
   ]
  },
  {
   "cell_type": "code",
   "execution_count": null,
   "metadata": {
    "collapsed": true
   },
   "outputs": [],
   "source": []
  }
 ],
 "metadata": {
  "kernelspec": {
   "display_name": "Python 3",
   "language": "python",
   "name": "python3"
  },
  "language_info": {
   "codemirror_mode": {
    "name": "ipython",
    "version": 3
   },
   "file_extension": ".py",
   "mimetype": "text/x-python",
   "name": "python",
   "nbconvert_exporter": "python",
   "pygments_lexer": "ipython3",
   "version": "3.6.1"
  }
 },
 "nbformat": 4,
 "nbformat_minor": 2
}
