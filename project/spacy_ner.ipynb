{
 "cells": [
  {
   "cell_type": "code",
   "execution_count": 1,
   "metadata": {},
   "outputs": [],
   "source": [
    "# Refer to 'https://spacy.io/usage/linguistic-features' for more info\n",
    "import spacy\n",
    "import re\n",
    "import pandas as pd\n",
    "\n",
    "# Load English language for Spacy analysis\n",
    "nlp = spacy.load('en')\n",
    "\n",
    "# Compile alpha regex expression\n",
    "alpha_regex = re.compile('[^a-zA-Z]')\n",
    "\n",
    "# Paths for the matching countries, nationalities, religions and currencies\n",
    "parsed_country_nationality_file = 'data/parsed/parsed_country_nationality.csv'\n",
    "parsed_currency_country_file = 'data/parsed/parsed_currency_country.csv'\n",
    "parsed_country_religion_file = 'data/parsed/country_religion_files/parsed_country_religion.csv'\n",
    "parsed_country_cities_file = 'data/parsed/parsed_country_cities.csv'\n",
    "\n",
    "# Load the necessary datasets\n",
    "country_nationality_df = pd.read_csv(parsed_country_nationality_file, encoding='utf-8', compression='gzip', index_col=False)\n",
    "currency_country_df = pd.read_csv(parsed_currency_country_file, encoding='utf-8', compression='gzip', index_col=False)\n",
    "country_religion_df = pd.read_csv(parsed_country_religion_file, encoding='utf-8', compression='gzip', index_col=False)\n",
    "country_cities_df = pd.read_csv(parsed_country_cities_file, encoding='utf-8', compression='gzip', index_col=False)"
   ]
  },
  {
   "cell_type": "code",
   "execution_count": 2,
   "metadata": {},
   "outputs": [
    {
     "data": {
      "text/html": [
       "<div>\n",
       "<style>\n",
       "    .dataframe thead tr:only-child th {\n",
       "        text-align: right;\n",
       "    }\n",
       "\n",
       "    .dataframe thead th {\n",
       "        text-align: left;\n",
       "    }\n",
       "\n",
       "    .dataframe tbody tr th {\n",
       "        vertical-align: top;\n",
       "    }\n",
       "</style>\n",
       "<table border=\"1\" class=\"dataframe\">\n",
       "  <thead>\n",
       "    <tr style=\"text-align: right;\">\n",
       "      <th></th>\n",
       "      <th>ID</th>\n",
       "      <th>Countries</th>\n",
       "    </tr>\n",
       "  </thead>\n",
       "  <tbody>\n",
       "    <tr>\n",
       "      <th>0</th>\n",
       "      <td>AED</td>\n",
       "      <td>['AE']</td>\n",
       "    </tr>\n",
       "    <tr>\n",
       "      <th>1</th>\n",
       "      <td>AFN</td>\n",
       "      <td>['AF']</td>\n",
       "    </tr>\n",
       "    <tr>\n",
       "      <th>2</th>\n",
       "      <td>ALL</td>\n",
       "      <td>['AL']</td>\n",
       "    </tr>\n",
       "    <tr>\n",
       "      <th>3</th>\n",
       "      <td>AMD</td>\n",
       "      <td>['AM']</td>\n",
       "    </tr>\n",
       "    <tr>\n",
       "      <th>4</th>\n",
       "      <td>ANG</td>\n",
       "      <td>['CW', 'SX']</td>\n",
       "    </tr>\n",
       "  </tbody>\n",
       "</table>\n",
       "</div>"
      ],
      "text/plain": [
       "    ID     Countries\n",
       "0  AED        ['AE']\n",
       "1  AFN        ['AF']\n",
       "2  ALL        ['AL']\n",
       "3  AMD        ['AM']\n",
       "4  ANG  ['CW', 'SX']"
      ]
     },
     "execution_count": 2,
     "metadata": {},
     "output_type": "execute_result"
    }
   ],
   "source": [
    "currency_country_df.head()"
   ]
  },
  {
   "cell_type": "code",
   "execution_count": 3,
   "metadata": {},
   "outputs": [
    {
     "data": {
      "text/plain": [
       "False"
      ]
     },
     "execution_count": 3,
     "metadata": {},
     "output_type": "execute_result"
    }
   ],
   "source": [
    "'Portugal' in country_nationality_df['Common Name'].astype(str)"
   ]
  },
  {
   "cell_type": "code",
   "execution_count": 4,
   "metadata": {
    "collapsed": true
   },
   "outputs": [],
   "source": [
    "samples = [\n",
    "    'Some random sentence about a country',\n",
    "    'I am talking about Portugal',\n",
    "    'Portuguese people always arrive late',\n",
    "    'John doesn\\'t think Spain is good for vacation',\n",
    "    'This was easier than I thought...',\n",
    "    'Now a Saudi Arabia comment',\n",
    "    'With a Saudi Arabian nationality notation, along with religious catholic references'\n",
    "]"
   ]
  },
  {
   "cell_type": "code",
   "execution_count": 5,
   "metadata": {},
   "outputs": [
    {
     "name": "stdout",
     "output_type": "stream",
     "text": [
      "\n",
      "[Raw]\n",
      "Text: Government\n",
      "Tokens: [('Government', 'NOUN')]\n",
      "Entities: []\n",
      "\n",
      "[Title]\n",
      "Text: Government\n",
      "Tokens: [('Government', 'NOUN')]\n",
      "Entities: []\n",
      "\n",
      "[Lower]\n",
      "Text: government\n",
      "Tokens: [('government', 'NOUN')]\n",
      "Entities: []\n",
      "\n",
      "[Upper]\n",
      "Text: GOVERNMENT\n",
      "Tokens: [('GOVERNMENT', 'PROPN')]\n",
      "Entities: []\n"
     ]
    }
   ],
   "source": [
    "def print_diff(text):\n",
    "\n",
    "    def print_(title, text):\n",
    "        doc = nlp(text)\n",
    "        print('\\n[{}]'.format(title))\n",
    "        print('Text: {}'.format(text))\n",
    "        print('Tokens: {}'.format([(token.text, token.pos_) for token in doc]))\n",
    "        print('Entities: {}'.format([(ent.text, ent.label_) for ent in doc.ents]))\n",
    "    \n",
    "    print_('Raw', text)\n",
    "    print_('Title', text.title())\n",
    "    print_('Lower', text.lower())\n",
    "    print_('Upper', text.upper())\n",
    "        \n",
    "print_diff('Government')"
   ]
  },
  {
   "cell_type": "code",
   "execution_count": 8,
   "metadata": {},
   "outputs": [],
   "source": [
    "def get_result_country_probability_dict(result_row, result_label):\n",
    "    \n",
    "    country_probability_dict = {}\n",
    "    \n",
    "    # Interpret country results\n",
    "    if result_label == 'Country':\n",
    "        country_code = result_row['ID']\n",
    "        country_probability_dict[country_code] = 1.0\n",
    "    \n",
    "    # Interpret nationality results\n",
    "    elif result_label == 'Nationality':\n",
    "        country_code = result_row['ID']\n",
    "        country_probability_dict[country_code] = 1.0\n",
    "        \n",
    "    # Interpret religion results\n",
    "    elif result_label == 'Religion':\n",
    "        for country_code, country_prob in result_row.drop(['Religion', 'Affiliation']).iteritems():\n",
    "            if country_prob is not float('NaN'):\n",
    "                country_probability_dict[country_code] = float(country_prob)\n",
    "    \n",
    "    # Interpret currency results\n",
    "    elif result_label == 'Currency':\n",
    "        for country_code in result_row['Countries']:\n",
    "            country_probability_dict[country_code] = 1 / len(result_row['Countries'])\n",
    "    \n",
    "    return country_probability_dict\n",
    "\n",
    "def get_matching_row(text, df, col_labels):\n",
    "    upper_text = alpha_regex.sub('', text).upper()\n",
    "    for col_label in col_labels:\n",
    "        upper_series = df[col_label].astype(str).apply(lambda x: x.upper())\n",
    "        matching_df = df[upper_series.str.contains(upper_text)]\n",
    "        if (len(matching_df) > 0):\n",
    "            return matching_df.iloc[0]\n",
    "    return None\n",
    "\n",
    "def get_likely_results(label, text):\n",
    "    \n",
    "    result = None\n",
    "    \n",
    "    # Check if it is a country\n",
    "    if label == 'GPE':\n",
    "        result = get_matching_row(text, country_nationality_df, ['ID', 'Official Name', 'Common Name'])\n",
    "        if result is not None:\n",
    "            print('GPE -> Country!')\n",
    "            return get_result_country_probability_dict(result, 'Country')\n",
    "    \n",
    "    # Check if it is a nationality/religion\n",
    "    elif label == 'NORP':\n",
    "        # Nationality check\n",
    "        result = get_matching_row(text, country_nationality_df, ['Nationality'])\n",
    "        if result is not None:\n",
    "            print('NORP -> Nationality!')\n",
    "            return get_result_country_probability_dict(result, 'Nationality')\n",
    "        \n",
    "        # Religion check\n",
    "        result = get_matching_row(text, country_religion_df, ['Religion', 'Affiliation'])\n",
    "        if result is not None:\n",
    "            print('NORP -> Religion!')\n",
    "            return get_result_country_probability_dict(result, 'Religion')\n",
    "    \n",
    "    # Check if it is a known currency\n",
    "    elif label == 'MONEY':\n",
    "        result = get_matching_row(text, currency_country_df, ['ID'])\n",
    "        if result is not None:\n",
    "            print('MONEY -> Currency')\n",
    "            return get_result_country_probability_dict(result, 'Currency')\n",
    "            \n",
    "    return None\n",
    "\n",
    "def get_interesting_text_entities(text):\n",
    "    # TODO create as many texts as necessary, with differently formatted\n",
    "    # text, in order to more accurately find countries.\n",
    "    target_entities = ['GPE', 'NORP', 'MONEY']\n",
    "    document = nlp(text)\n",
    "    return [(entity.label_, entity.text) for entity in document.ents if (entity.label_ in target_entities)]\n",
    "\n",
    "def get_countries_from_content(text):\n",
    "    \n",
    "    interesting_entities = get_interesting_text_entities(text)\n",
    "    for ent_label, ent_text in interesting_entities:\n",
    "        print('Matching {} -> {}...'.format(ent_label, ent_text))\n",
    "        results = get_likely_results(ent_label, ent_text)\n",
    "        if results is not None:\n",
    "            print(results)\n",
    "        else:\n",
    "            print('unknown')\n",
    "    \n",
    "    return interesting_entities"
   ]
  },
  {
   "cell_type": "code",
   "execution_count": 12,
   "metadata": {},
   "outputs": [
    {
     "name": "stdout",
     "output_type": "stream",
     "text": [
      "Matching GPE -> Portugal...\n",
      "GPE -> Country!\n",
      "{'PT': 1.0}\n",
      "Matching GPE -> Portugal...\n",
      "GPE -> Country!\n",
      "{'PT': 1.0}\n",
      "Matching GPE -> Portugal...\n",
      "GPE -> Country!\n",
      "{'PT': 1.0}\n",
      "Matching GPE -> Spain...\n",
      "GPE -> Country!\n",
      "{'ES': 1.0}\n"
     ]
    },
    {
     "data": {
      "text/plain": [
       "[('GPE', 'Portugal'),\n",
       " ('GPE', 'Portugal'),\n",
       " ('GPE', 'Portugal'),\n",
       " ('GPE', 'Spain')]"
      ]
     },
     "execution_count": 12,
     "metadata": {},
     "output_type": "execute_result"
    }
   ],
   "source": [
    "get_countries_from_content('Portugal Portugal Portugal Spain, Christianity BGP 67')"
   ]
  },
  {
   "cell_type": "code",
   "execution_count": null,
   "metadata": {
    "collapsed": true
   },
   "outputs": [],
   "source": []
  }
 ],
 "metadata": {
  "kernelspec": {
   "display_name": "Python 3",
   "language": "python",
   "name": "python3"
  },
  "language_info": {
   "codemirror_mode": {
    "name": "ipython",
    "version": 3
   },
   "file_extension": ".py",
   "mimetype": "text/x-python",
   "name": "python",
   "nbconvert_exporter": "python",
   "pygments_lexer": "ipython3",
   "version": "3.6.1"
  }
 },
 "nbformat": 4,
 "nbformat_minor": 2
}
