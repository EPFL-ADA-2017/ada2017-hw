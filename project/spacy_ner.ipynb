{
 "cells": [
  {
   "cell_type": "code",
   "execution_count": 1,
   "metadata": {},
   "outputs": [],
   "source": [
    "# Refer to 'https://spacy.io/usage/linguistic-features' for more info\n",
    "import spacy\n",
    "import re\n",
    "import math\n",
    "import pandas as pd\n",
    "\n",
    "# Load English language for Spacy analysis\n",
    "nlp = spacy.load('en')\n",
    "\n",
    "# Compile alpha regex expression\n",
    "alpha_regex = re.compile('[^a-zA-Z]')\n",
    "\n",
    "# Paths for the matching countries, nationalities, religions and currencies\n",
    "parsed_country_nationality_file = 'data/parsed/parsed_country_nationality.csv'\n",
    "parsed_currency_country_file = 'data/parsed/parsed_currency_country.csv'\n",
    "parsed_country_religion_file = 'data/parsed/country_religion_files/parsed_country_religion.csv'\n",
    "parsed_country_cities_file = 'data/parsed/parsed_country_cities.csv'\n",
    "\n",
    "# Load the necessary datasets\n",
    "country_nationality_df = pd.read_csv(parsed_country_nationality_file, encoding='utf-8', compression='gzip', index_col=False)\n",
    "currency_country_df = pd.read_csv(parsed_currency_country_file, encoding='utf-8', compression='gzip', index_col=False)\n",
    "country_religion_df = pd.read_csv(parsed_country_religion_file, encoding='utf-8', compression='gzip', index_col=False)\n",
    "country_cities_df = pd.read_csv(parsed_country_cities_file, encoding='utf-8', compression='gzip', index_col=False)"
   ]
  },
  {
   "cell_type": "code",
   "execution_count": 2,
   "metadata": {
    "collapsed": true
   },
   "outputs": [],
   "source": [
    "samples = [\n",
    "    'Some random sentence about a country',\n",
    "    'I am talking about Portugal',\n",
    "    'Portuguese people always arrive late',\n",
    "    'John doesn\\'t think Spain is good for vacation',\n",
    "    'This was easier than I thought...',\n",
    "    'Now a Saudi Arabia comment',\n",
    "    'With a Saudi Arabian nationality notation, along with religious christianity references'\n",
    "]"
   ]
  },
  {
   "cell_type": "code",
   "execution_count": 3,
   "metadata": {},
   "outputs": [],
   "source": [
    "def get_result_country_probability_dict(result_row, result_label):\n",
    "    '''\n",
    "    Auxiliary method for `get_likely_results`. For\n",
    "    a given row it outputs a dictionary containing\n",
    "    the estimated probability for referencing a \n",
    "    country.\n",
    "    '''\n",
    "    country_probability_dict = {}\n",
    "    \n",
    "    # Interpret country results\n",
    "    if result_label == 'Country':\n",
    "        country_code = result_row['ID']\n",
    "        country_probability_dict[country_code] = 1.0\n",
    "        \n",
    "    # Interpret city results\n",
    "    elif result_label == 'City':\n",
    "        country_code = result_row['Country']\n",
    "        country_probability_dict[country_code] = 1.0\n",
    "    \n",
    "    # Interpret nationality results\n",
    "    elif result_label == 'Nationality':\n",
    "        country_code = result_row['ID']\n",
    "        country_probability_dict[country_code] = 1.0\n",
    "        \n",
    "    # Interpret religion results\n",
    "    elif result_label == 'Religion':\n",
    "        for country_code, country_prob in result_row.drop(['Religion', 'Affiliation']).iteritems():\n",
    "            if country_prob is not float('NaN'):\n",
    "                country_probability_dict[country_code] = float(country_prob)\n",
    "    \n",
    "    # Interpret currency results\n",
    "    elif result_label == 'Currency':\n",
    "        for country_code in result_row['Countries']:\n",
    "            country_probability_dict[country_code] = 1 / len(result_row['Countries'])\n",
    "    \n",
    "    return country_probability_dict\n",
    "\n",
    "def get_matching_row(text, df, col_labels):\n",
    "    '''\n",
    "    Tries to find matches between the provided\n",
    "    text and the content of a certain dataframes'\n",
    "    columns. It then returns the first row of the\n",
    "    results as a safety measure (since there should\n",
    "    only be one match for any given instance).\n",
    "    '''\n",
    "    upper_text = alpha_regex.sub('', text).upper()\n",
    "    for col_label in col_labels:\n",
    "        upper_series = df[col_label].astype(str).apply(lambda x: x.upper())\n",
    "        matching_df = df[upper_series.str.contains(upper_text)]\n",
    "        if (len(matching_df) > 0):\n",
    "            return matching_df.iloc[0]\n",
    "    return None\n",
    "\n",
    "def get_likely_results(label, text):\n",
    "    '''\n",
    "    From a provided identity's label and text,\n",
    "    this method returns a dictionary representing\n",
    "    the possible countries it might be referencing.\n",
    "    Its keys are the country codes and its values\n",
    "    their corresponding probabilities.\n",
    "    '''\n",
    "    result = None\n",
    "    \n",
    "    # Check if it is a country/city\n",
    "    if label == 'GPE':\n",
    "        # Country check\n",
    "        result = get_matching_row(text, country_nationality_df, ['ID', 'Official Name', 'Common Name'])\n",
    "        if result is not None:\n",
    "            print('GPE -> Country!')\n",
    "            return get_result_country_probability_dict(result, 'Country')\n",
    "        \n",
    "        # City check\n",
    "        result = get_matching_row(text, country_cities_df, ['City'])\n",
    "        if result is not None:\n",
    "            print('GPE -> City!')\n",
    "            return get_result_country_probability_dict(result, 'City')\n",
    "    \n",
    "    # Check if it is a nationality/religion\n",
    "    elif label == 'NORP':\n",
    "        # Nationality check\n",
    "        result = get_matching_row(text, country_nationality_df, ['Nationality'])\n",
    "        if result is not None:\n",
    "            print('NORP -> Nationality!')\n",
    "            return get_result_country_probability_dict(result, 'Nationality')\n",
    "        \n",
    "        # Religion check\n",
    "        result = get_matching_row(text, country_religion_df, ['Religion', 'Affiliation'])\n",
    "        if result is not None:\n",
    "            print('NORP -> Religion!')\n",
    "            return get_result_country_probability_dict(result, 'Religion')\n",
    "    \n",
    "    # Check if it is a known currency\n",
    "    elif label == 'MONEY':\n",
    "        result = get_matching_row(text, currency_country_df, ['ID'])\n",
    "        if result is not None:\n",
    "            print('MONEY -> Currency')\n",
    "            return get_result_country_probability_dict(result, 'Currency')\n",
    "            \n",
    "    return None\n",
    "\n",
    "def get_interesting_text_entities(text):\n",
    "    '''\n",
    "    Creates a list of tuples, each containing \n",
    "    an identified entity's label and its text.\n",
    "    '''\n",
    "    # TODO create as many texts as necessary, with differently formatted\n",
    "    # text, in order to more accurately find countries.\n",
    "    target_entities = ['GPE', 'NORP', 'MONEY']\n",
    "    document = nlp(text)\n",
    "    return [(entity.label_, entity.text) for entity in document.ents if (entity.label_ in target_entities)]\n",
    "\n",
    "def merge_probability_dicts(dict_l, dict_r):\n",
    "    '''\n",
    "    Creates a new dictionary containing all\n",
    "    keys from both dictionaries. In case a\n",
    "    key exists in both dictionaries, its\n",
    "    value becomes the sum of both previously\n",
    "    existing values.\n",
    "    '''\n",
    "    for country, probability in dict_r.items():\n",
    "        dict_l[country] = dict_l.get(country, 0) + probability\n",
    "    return dict_l\n",
    "\n",
    "def normalize_probability_dict(probability_dict):\n",
    "    '''\n",
    "    This method normalizes all the probabilities\n",
    "    in the provided dictionary (to values between\n",
    "    0.0 and 1.0).\n",
    "    '''\n",
    "    value_list = list(probability_dict.values())\n",
    "    sum_value = sum(value_list)\n",
    "    \n",
    "    normalized_dict = {}\n",
    "    for country, probability in probability_dict.items():\n",
    "        normalized_dict[country] = probability_dict[country] / sum_value\n",
    "    return normalized_dict\n",
    "        \n",
    "def get_countries_from_content(text):\n",
    "    '''\n",
    "    This method analyses the input text and\n",
    "    extracts the countries referenced in it.\n",
    "    The ouput is in the form of a dictionary\n",
    "    with the country codes as keys and their\n",
    "    respective probability as values.\n",
    "    '''\n",
    "    interesting_entities = get_interesting_text_entities(text)\n",
    "    country_probability_dict = {}\n",
    "    for ent_label, ent_text in interesting_entities:\n",
    "        print('\\n{} -> {}'.format(ent_text, ent_label))\n",
    "        results = get_likely_results(ent_label, ent_text)\n",
    "        if results is not None:\n",
    "            print(results)\n",
    "            country_probability_dict = merge_probability_dicts(country_probability_dict, results)\n",
    "        else:\n",
    "            print('UNKNOWN')\n",
    "    \n",
    "    return normalize_probability_dict(country_probability_dict)"
   ]
  },
  {
   "cell_type": "code",
   "execution_count": 4,
   "metadata": {
    "collapsed": true
   },
   "outputs": [],
   "source": [
    "def get_most_likely_countries(country_probability_dict):\n",
    "    '''\n",
    "    Returns a list of the countries with \n",
    "    the highest probabilty in a dictionary.\n",
    "    '''\n",
    "    max_prob = max(list(country_probability_dict.values()))\n",
    "    return [country for country, probability in country_probability_dict.items() if math.isclose(probability, max_prob)]"
   ]
  },
  {
   "cell_type": "code",
   "execution_count": 5,
   "metadata": {
    "collapsed": true
   },
   "outputs": [],
   "source": [
    "def is_tweet_about_country(tweet_text, country_code):\n",
    "    '''\n",
    "    Returns whether or not a Tweet is talking\n",
    "    about a specific country.\n",
    "    '''\n",
    "    # TODO solve multi-worded countries and nationalities (by searching on every word separately in text.split())\n",
    "    country_probability_dict = get_countries_from_content(tweet_text)\n",
    "    most_likely_references = get_most_likely_countries(country_probability_dict)\n",
    "    if country_code in most_likely_references:\n",
    "        return True\n",
    "    return False"
   ]
  },
  {
   "cell_type": "code",
   "execution_count": 6,
   "metadata": {},
   "outputs": [
    {
     "name": "stdout",
     "output_type": "stream",
     "text": [
      "\n",
      "Portugal -> GPE\n",
      "GPE -> Country!\n",
      "{'PT': 1.0}\n",
      "\n",
      "LISBON -> GPE\n",
      "GPE -> City!\n",
      "{'PH': 1.0}\n"
     ]
    },
    {
     "data": {
      "text/plain": [
       "True"
      ]
     },
     "execution_count": 6,
     "metadata": {},
     "output_type": "execute_result"
    }
   ],
   "source": [
    "is_tweet_about_country('I am talking about Portugal and the beautiful city LISBON...', 'PT')"
   ]
  },
  {
   "cell_type": "code",
   "execution_count": 7,
   "metadata": {},
   "outputs": [
    {
     "name": "stdout",
     "output_type": "stream",
     "text": [
      "\n",
      "Swiss -> NORP\n",
      "NORP -> Nationality!\n",
      "{'CH': 1.0}\n",
      "\n",
      "Germany -> GPE\n",
      "GPE -> Country!\n",
      "{'DE': 1.0}\n"
     ]
    },
    {
     "data": {
      "text/plain": [
       "True"
      ]
     },
     "execution_count": 7,
     "metadata": {},
     "output_type": "execute_result"
    }
   ],
   "source": [
    "is_tweet_about_country('A nice overview of Swiss people and their connections to Germany', 'CH')"
   ]
  },
  {
   "cell_type": "code",
   "execution_count": null,
   "metadata": {
    "collapsed": true
   },
   "outputs": [],
   "source": []
  }
 ],
 "metadata": {
  "kernelspec": {
   "display_name": "Python 3",
   "language": "python",
   "name": "python3"
  },
  "language_info": {
   "codemirror_mode": {
    "name": "ipython",
    "version": 3
   },
   "file_extension": ".py",
   "mimetype": "text/x-python",
   "name": "python",
   "nbconvert_exporter": "python",
   "pygments_lexer": "ipython3",
   "version": "3.6.1"
  }
 },
 "nbformat": 4,
 "nbformat_minor": 2
}
