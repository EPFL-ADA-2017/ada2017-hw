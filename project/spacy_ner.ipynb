{
 "cells": [
  {
   "cell_type": "code",
   "execution_count": 1,
   "metadata": {},
   "outputs": [],
   "source": [
    "# Refer to 'https://spacy.io/usage/linguistic-features' for more info\n",
    "import spacy\n",
    "import re\n",
    "import pandas as pd\n",
    "\n",
    "# Load English language for Spacy analysis\n",
    "nlp = spacy.load('en')\n",
    "\n",
    "# Compile alpha regex expression\n",
    "alpha_regex = re.compile('[^a-zA-Z]')\n",
    "\n",
    "# Paths for the matching countries, nationalities, religions and currencies\n",
    "parsed_country_nationality_file = 'data/parsed/parsed_country_nationality.csv'\n",
    "parsed_currency_country_file = 'data/parsed/parsed_currency_country.csv'\n",
    "parsed_country_religion_file = 'data/parsed/country_religion_files/parsed_country_religion.csv'\n",
    "parsed_country_cities_file = 'data/parsed/parsed_country_cities.csv'\n",
    "\n",
    "# Load the necessary datasets\n",
    "country_nationality_df = pd.read_csv(parsed_country_nationality_file, encoding='utf-8', compression='gzip', index_col=False)\n",
    "currency_country_df = pd.read_csv(parsed_currency_country_file, encoding='utf-8', compression='gzip', index_col=False)\n",
    "country_religion_df = pd.read_csv(parsed_country_religion_file, encoding='utf-8', compression='gzip', index_col=False)\n",
    "country_cities_df = pd.read_csv(parsed_country_cities_file, encoding='utf-8', compression='gzip', index_col=False)"
   ]
  },
  {
   "cell_type": "code",
   "execution_count": 18,
   "metadata": {},
   "outputs": [
    {
     "data": {
      "text/html": [
       "<div>\n",
       "<style>\n",
       "    .dataframe thead tr:only-child th {\n",
       "        text-align: right;\n",
       "    }\n",
       "\n",
       "    .dataframe thead th {\n",
       "        text-align: left;\n",
       "    }\n",
       "\n",
       "    .dataframe tbody tr th {\n",
       "        vertical-align: top;\n",
       "    }\n",
       "</style>\n",
       "<table border=\"1\" class=\"dataframe\">\n",
       "  <thead>\n",
       "    <tr style=\"text-align: right;\">\n",
       "      <th></th>\n",
       "      <th>Country</th>\n",
       "      <th>City</th>\n",
       "    </tr>\n",
       "  </thead>\n",
       "  <tbody>\n",
       "    <tr>\n",
       "      <th>0</th>\n",
       "      <td>AD</td>\n",
       "      <td>andorra la vella</td>\n",
       "    </tr>\n",
       "    <tr>\n",
       "      <th>1</th>\n",
       "      <td>AD</td>\n",
       "      <td>canillo</td>\n",
       "    </tr>\n",
       "    <tr>\n",
       "      <th>2</th>\n",
       "      <td>AD</td>\n",
       "      <td>encamp</td>\n",
       "    </tr>\n",
       "    <tr>\n",
       "      <th>3</th>\n",
       "      <td>AD</td>\n",
       "      <td>la massana</td>\n",
       "    </tr>\n",
       "    <tr>\n",
       "      <th>4</th>\n",
       "      <td>AD</td>\n",
       "      <td>les escaldes</td>\n",
       "    </tr>\n",
       "  </tbody>\n",
       "</table>\n",
       "</div>"
      ],
      "text/plain": [
       "  Country              City\n",
       "0      AD  andorra la vella\n",
       "1      AD           canillo\n",
       "2      AD            encamp\n",
       "3      AD        la massana\n",
       "4      AD      les escaldes"
      ]
     },
     "execution_count": 18,
     "metadata": {},
     "output_type": "execute_result"
    }
   ],
   "source": [
    "country_cities_df.head()"
   ]
  },
  {
   "cell_type": "code",
   "execution_count": 3,
   "metadata": {},
   "outputs": [
    {
     "data": {
      "text/plain": [
       "False"
      ]
     },
     "execution_count": 3,
     "metadata": {},
     "output_type": "execute_result"
    }
   ],
   "source": [
    "'Portugal' in country_nationality_df['Common Name'].astype(str)"
   ]
  },
  {
   "cell_type": "code",
   "execution_count": 15,
   "metadata": {
    "collapsed": true
   },
   "outputs": [],
   "source": [
    "samples = [\n",
    "    'Some random sentence about a country',\n",
    "    'I am talking about Portugal',\n",
    "    'Portuguese people always arrive late',\n",
    "    'John doesn\\'t think Spain is good for vacation',\n",
    "    'This was easier than I thought...',\n",
    "    'Now a Saudi Arabia comment',\n",
    "    'With a Saudi Arabian nationality notation, along with religious christianity references'\n",
    "]"
   ]
  },
  {
   "cell_type": "code",
   "execution_count": 16,
   "metadata": {},
   "outputs": [],
   "source": [
    "def get_result_country_probability_dict(result_row, result_label):\n",
    "    \n",
    "    country_probability_dict = {}\n",
    "    \n",
    "    # Interpret country results\n",
    "    if result_label == 'Country':\n",
    "        country_code = result_row['ID']\n",
    "        country_probability_dict[country_code] = 1.0\n",
    "        \n",
    "    # Interpret city results\n",
    "    elif result_label == 'City':\n",
    "        country_code = result_row['Country']\n",
    "        country_probability_dict[country_code] = 1.0\n",
    "    \n",
    "    # Interpret nationality results\n",
    "    elif result_label == 'Nationality':\n",
    "        country_code = result_row['ID']\n",
    "        country_probability_dict[country_code] = 1.0\n",
    "        \n",
    "    # Interpret religion results\n",
    "    elif result_label == 'Religion':\n",
    "        for country_code, country_prob in result_row.drop(['Religion', 'Affiliation']).iteritems():\n",
    "            if country_prob is not float('NaN'):\n",
    "                country_probability_dict[country_code] = float(country_prob)\n",
    "    \n",
    "    # Interpret currency results\n",
    "    elif result_label == 'Currency':\n",
    "        for country_code in result_row['Countries']:\n",
    "            country_probability_dict[country_code] = 1 / len(result_row['Countries'])\n",
    "    \n",
    "    return country_probability_dict\n",
    "\n",
    "def get_matching_row(text, df, col_labels):\n",
    "    upper_text = alpha_regex.sub('', text).upper()\n",
    "    for col_label in col_labels:\n",
    "        upper_series = df[col_label].astype(str).apply(lambda x: x.upper())\n",
    "        matching_df = df[upper_series.str.contains(upper_text)]\n",
    "        if (len(matching_df) > 0):\n",
    "            return matching_df.iloc[0]\n",
    "    return None\n",
    "\n",
    "def get_likely_results(label, text):\n",
    "    \n",
    "    result = None\n",
    "    \n",
    "    # Check if it is a country/city\n",
    "    if label == 'GPE':\n",
    "        # Country check\n",
    "        result = get_matching_row(text, country_nationality_df, ['ID', 'Official Name', 'Common Name'])\n",
    "        if result is not None:\n",
    "            print('GPE -> Country!')\n",
    "            return get_result_country_probability_dict(result, 'Country')\n",
    "        \n",
    "        # City check\n",
    "        result = get_matching_row(text, country_cities_df, ['City'])\n",
    "        if result is not None:\n",
    "            print('GPE -> City!')\n",
    "            return get_result_country_probability_dict(result, 'City')\n",
    "    \n",
    "    # Check if it is a nationality/religion\n",
    "    elif label == 'NORP':\n",
    "        # Nationality check\n",
    "        result = get_matching_row(text, country_nationality_df, ['Nationality'])\n",
    "        if result is not None:\n",
    "            print('NORP -> Nationality!')\n",
    "            return get_result_country_probability_dict(result, 'Nationality')\n",
    "        \n",
    "        # Religion check\n",
    "        result = get_matching_row(text, country_religion_df, ['Religion', 'Affiliation'])\n",
    "        if result is not None:\n",
    "            print('NORP -> Religion!')\n",
    "            return get_result_country_probability_dict(result, 'Religion')\n",
    "    \n",
    "    # Check if it is a known currency\n",
    "    elif label == 'MONEY':\n",
    "        result = get_matching_row(text, currency_country_df, ['ID'])\n",
    "        if result is not None:\n",
    "            print('MONEY -> Currency')\n",
    "            return get_result_country_probability_dict(result, 'Currency')\n",
    "            \n",
    "    return None\n",
    "\n",
    "def get_interesting_text_entities(text):\n",
    "    # TODO create as many texts as necessary, with differently formatted\n",
    "    # text, in order to more accurately find countries.\n",
    "    target_entities = ['GPE', 'NORP', 'MONEY']\n",
    "    document = nlp(text)\n",
    "    return [(entity.label_, entity.text) for entity in document.ents if (entity.label_ in target_entities)]\n",
    "\n",
    "def get_countries_from_content(text):\n",
    "    \n",
    "    interesting_entities = get_interesting_text_entities(text)\n",
    "    for ent_label, ent_text in interesting_entities:\n",
    "        print('Matching {} -> {}...'.format(ent_label, ent_text))\n",
    "        results = get_likely_results(ent_label, ent_text)\n",
    "        if results is not None:\n",
    "            print(results)\n",
    "        else:\n",
    "            print('unknown')\n",
    "    \n",
    "    return interesting_entities"
   ]
  },
  {
   "cell_type": "code",
   "execution_count": 17,
   "metadata": {},
   "outputs": [
    {
     "name": "stdout",
     "output_type": "stream",
     "text": [
      "Matching NORP -> Arabian...\n",
      "NORP -> Nationality!\n",
      "{'SA': 1.0}\n"
     ]
    },
    {
     "data": {
      "text/plain": [
       "[('NORP', 'Arabian')]"
      ]
     },
     "execution_count": 17,
     "metadata": {},
     "output_type": "execute_result"
    }
   ],
   "source": [
    "# TODO solve multi-worded countries and nationalities (by searching on every word separately in text.split())\n",
    "get_countries_from_content(samples[6])"
   ]
  },
  {
   "cell_type": "code",
   "execution_count": null,
   "metadata": {
    "collapsed": true
   },
   "outputs": [],
   "source": []
  }
 ],
 "metadata": {
  "kernelspec": {
   "display_name": "Python 3",
   "language": "python",
   "name": "python3"
  },
  "language_info": {
   "codemirror_mode": {
    "name": "ipython",
    "version": 3
   },
   "file_extension": ".py",
   "mimetype": "text/x-python",
   "name": "python",
   "nbconvert_exporter": "python",
   "pygments_lexer": "ipython3",
   "version": "3.6.1"
  }
 },
 "nbformat": 4,
 "nbformat_minor": 2
}
