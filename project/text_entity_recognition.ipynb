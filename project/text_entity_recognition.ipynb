{
 "cells": [
  {
   "cell_type": "code",
   "execution_count": 15,
   "metadata": {
    "collapsed": true
   },
   "outputs": [],
   "source": [
    "from nltk import word_tokenize, pos_tag, ne_chunk\n",
    "from nltk.chunk import conlltags2tree, tree2conlltags\n",
    "from nltk.tokenize import MWETokenizer"
   ]
  },
  {
   "cell_type": "code",
   "execution_count": 12,
   "metadata": {
    "collapsed": true
   },
   "outputs": [],
   "source": [
    "samples = [\n",
    "    'Some random sentence about a country',\n",
    "    'I am talking about Portugal',\n",
    "    'Portuguese people always arrive late',\n",
    "    'John doesn\\'t think Spain is good for vacation',\n",
    "    'This was easier than I thought...',\n",
    "    'Now a Saudi Arabia comment',\n",
    "    'With a Saudi Arabian nationality notation'\n",
    "]"
   ]
  },
  {
   "cell_type": "code",
   "execution_count": 19,
   "metadata": {},
   "outputs": [
    {
     "name": "stdout",
     "output_type": "stream",
     "text": [
      "[('Some', 'DT', 'O'), ('random', 'JJ', 'O'), ('sentence', 'NN', 'O'), ('about', 'IN', 'O'), ('a', 'DT', 'O'), ('country', 'NN', 'O')]\n",
      "[('I', 'PRP', 'O'), ('am', 'VBP', 'O'), ('talking', 'VBG', 'O'), ('about', 'IN', 'O'), ('Portugal', 'NNP', 'B-GPE')]\n",
      "[('Portuguese', 'JJ', 'B-GPE'), ('people', 'NNS', 'O'), ('always', 'RB', 'O'), ('arrive', 'VBP', 'O'), ('late', 'JJ', 'O')]\n",
      "[('John', 'NNP', 'B-PERSON'), ('does', 'VBZ', 'O'), (\"n't\", 'RB', 'O'), ('think', 'VB', 'O'), ('Spain', 'NNP', 'B-GPE'), ('is', 'VBZ', 'O'), ('good', 'JJ', 'O'), ('for', 'IN', 'O'), ('vacation', 'NN', 'O')]\n",
      "[('This', 'DT', 'O'), ('was', 'VBD', 'O'), ('easier', 'JJR', 'O'), ('than', 'IN', 'O'), ('I', 'PRP', 'O'), ('thought', 'VBD', 'O'), ('...', ':', 'O')]\n",
      "[('Now', 'RB', 'O'), ('a', 'DT', 'O'), ('Saudi', 'NNP', 'B-GPE'), ('Arabia', 'NNP', 'I-GPE'), ('comment', 'NN', 'O')]\n",
      "[('With', 'IN', 'O'), ('a', 'DT', 'O'), ('Saudi', 'NNP', 'B-GPE'), ('Arabian', 'NNP', 'B-PERSON'), ('nationality', 'NN', 'O'), ('notation', 'NN', 'O')]\n"
     ]
    }
   ],
   "source": [
    "for sentence in samples:\n",
    "    ne_tree = ne_chunk(pos_tag(word_tokenize(sentence)))\n",
    "    iob_tagged = tree2conlltags(ne_tree)\n",
    "    mwe_tokenizer = MWETokenizer([('Saudi', 'Arabia'), ('Saudi', 'Arabian')])\n",
    "    print(mwe_tokenizer.tokenize(iob_tagged))"
   ]
  },
  {
   "cell_type": "code",
   "execution_count": 8,
   "metadata": {},
   "outputs": [],
   "source": [
    "# Refer to 'https://spacy.io/usage/linguistic-features' for more info\n",
    "import spacy"
   ]
  },
  {
   "cell_type": "code",
   "execution_count": 9,
   "metadata": {},
   "outputs": [],
   "source": [
    "nlp = spacy.load('en')"
   ]
  },
  {
   "cell_type": "code",
   "execution_count": 74,
   "metadata": {
    "collapsed": true
   },
   "outputs": [],
   "source": [
    "samples = [\n",
    "    'Some random sentence about a country',\n",
    "    'I am talking about Portugal',\n",
    "    'Portuguese people always arrive late',\n",
    "    'John doesn\\'t think Spain is good for vacation',\n",
    "    'This was easier than I thought...',\n",
    "    'Now a Saudi Arabia comment',\n",
    "    'With a Saudi Arabian nationality notation, along with religious catholic references'\n",
    "]"
   ]
  },
  {
   "cell_type": "code",
   "execution_count": 17,
   "metadata": {},
   "outputs": [
    {
     "name": "stdout",
     "output_type": "stream",
     "text": [
      "\n",
      "[Raw]\n",
      "Text: Government\n",
      "Tokens: [('Government', 'NOUN')]\n",
      "Entities: []\n",
      "\n",
      "[Title]\n",
      "Text: Government\n",
      "Tokens: [('Government', 'NOUN')]\n",
      "Entities: []\n",
      "\n",
      "[Lower]\n",
      "Text: government\n",
      "Tokens: [('government', 'NOUN')]\n",
      "Entities: []\n",
      "\n",
      "[Upper]\n",
      "Text: GOVERNMENT\n",
      "Tokens: [('GOVERNMENT', 'PROPN')]\n",
      "Entities: []\n"
     ]
    }
   ],
   "source": [
    "def print_diff(text):\n",
    "\n",
    "    def print_(title, text):\n",
    "        doc = nlp(text)\n",
    "        print('\\n[{}]'.format(title))\n",
    "        print('Text: {}'.format(text))\n",
    "        print('Tokens: {}'.format([(token.text, token.pos_) for token in doc]))\n",
    "        print('Entities: {}'.format([(ent.text, ent.label_) for ent in doc.ents]))\n",
    "    \n",
    "    print_('Raw', text)\n",
    "    print_('Title', text.title())\n",
    "    print_('Lower', text.lower())\n",
    "    print_('Upper', text.upper())\n",
    "        \n",
    "print_diff('Government')"
   ]
  },
  {
   "cell_type": "code",
   "execution_count": 53,
   "metadata": {},
   "outputs": [],
   "source": [
    "def get_countries_from_content(text):\n",
    "    # Create a document with the 'title' of the text\n",
    "    # The title usage is to make sure the NER finds weirdly formatted Entities\n",
    "    document_title = nlp(text.title())\n",
    "    document_raw = nlp(text)\n",
    "    \n",
    "    # Define interesting entities to keep\n",
    "    target_entities = ['GPE', 'NORP']\n",
    "    content_entities = [(entity.text, entity.label_) for entity in document.ents if (entity.label_ in target_entities)]\n",
    "    return content_entities"
   ]
  },
  {
   "cell_type": "code",
   "execution_count": null,
   "metadata": {
    "collapsed": true
   },
   "outputs": [],
   "source": []
  }
 ],
 "metadata": {
  "kernelspec": {
   "display_name": "Python 3",
   "language": "python",
   "name": "python3"
  },
  "language_info": {
   "codemirror_mode": {
    "name": "ipython",
    "version": 3
   },
   "file_extension": ".py",
   "mimetype": "text/x-python",
   "name": "python",
   "nbconvert_exporter": "python",
   "pygments_lexer": "ipython3",
   "version": "3.6.1"
  }
 },
 "nbformat": 4,
 "nbformat_minor": 2
}
