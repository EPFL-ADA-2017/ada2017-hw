{
 "cells": [
  {
   "cell_type": "code",
   "execution_count": 1,
   "metadata": {
    "collapsed": true
   },
   "outputs": [],
   "source": [
    "import pandas as pd"
   ]
  },
  {
   "cell_type": "code",
   "execution_count": 2,
   "metadata": {
    "collapsed": true
   },
   "outputs": [],
   "source": [
    "raw_country_cities_file = '../data/raw/raw_country_cities.csv'\n",
    "parsed_country_cities_file = '../data/parsed/parsed_country_cities.csv'"
   ]
  },
  {
   "cell_type": "code",
   "execution_count": 3,
   "metadata": {},
   "outputs": [],
   "source": [
    "country_cities_df = pd.read_csv(raw_country_cities_file, index_col=False, encoding='ISO-8859-1', low_memory=False).dropna()"
   ]
  },
  {
   "cell_type": "code",
   "execution_count": 4,
   "metadata": {},
   "outputs": [],
   "source": [
    "# Remove unnecessary columns\n",
    "country_cities_df = country_cities_df.drop(['AccentCity', 'Region', 'Population', 'Latitude', 'Longitude'], axis=1)\n",
    "\n",
    "# Fix country codes\n",
    "country_cities_df['Country'] = country_cities_df['Country'].apply(lambda x: x.strip().upper())\n",
    "\n",
    "# Create a dictionary with the country as key and list of cities as values\n",
    "country_cities_dict = {}\n",
    "for index, row in country_cities_df.iterrows():\n",
    "    country = str(row['Country'])\n",
    "    city = str(row['City'])\n",
    "    country_cities_dict[country] = country_cities_dict.get(country, list()) + [city]\n",
    "    \n",
    "# Fix dict format for datafrmae convertion\n",
    "for country, cities in country_cities_dict.items():\n",
    "    country_cities_dict[country] = {'Cities': country_cities_dict[country]}"
   ]
  },
  {
   "cell_type": "code",
   "execution_count": 5,
   "metadata": {},
   "outputs": [
    {
     "data": {
      "text/html": [
       "<div>\n",
       "<style>\n",
       "    .dataframe thead tr:only-child th {\n",
       "        text-align: right;\n",
       "    }\n",
       "\n",
       "    .dataframe thead th {\n",
       "        text-align: left;\n",
       "    }\n",
       "\n",
       "    .dataframe tbody tr th {\n",
       "        vertical-align: top;\n",
       "    }\n",
       "</style>\n",
       "<table border=\"1\" class=\"dataframe\">\n",
       "  <thead>\n",
       "    <tr style=\"text-align: right;\">\n",
       "      <th></th>\n",
       "      <th>Country</th>\n",
       "      <th>Cities</th>\n",
       "    </tr>\n",
       "  </thead>\n",
       "  <tbody>\n",
       "    <tr>\n",
       "      <th>0</th>\n",
       "      <td>AD</td>\n",
       "      <td>[andorra la vella, canillo, encamp, la massana...</td>\n",
       "    </tr>\n",
       "    <tr>\n",
       "      <th>1</th>\n",
       "      <td>AE</td>\n",
       "      <td>[abu dhabi, dubai, sharjah]</td>\n",
       "    </tr>\n",
       "    <tr>\n",
       "      <th>2</th>\n",
       "      <td>AF</td>\n",
       "      <td>[acin, anar darreh, andarab, asadabad, asmar, ...</td>\n",
       "    </tr>\n",
       "    <tr>\n",
       "      <th>3</th>\n",
       "      <td>AG</td>\n",
       "      <td>[all saints, carlisle, codrington, freetown, l...</td>\n",
       "    </tr>\n",
       "    <tr>\n",
       "      <th>4</th>\n",
       "      <td>AI</td>\n",
       "      <td>[the valley]</td>\n",
       "    </tr>\n",
       "  </tbody>\n",
       "</table>\n",
       "</div>"
      ],
      "text/plain": [
       "  Country                                             Cities\n",
       "0      AD  [andorra la vella, canillo, encamp, la massana...\n",
       "1      AE                        [abu dhabi, dubai, sharjah]\n",
       "2      AF  [acin, anar darreh, andarab, asadabad, asmar, ...\n",
       "3      AG  [all saints, carlisle, codrington, freetown, l...\n",
       "4      AI                                       [the valley]"
      ]
     },
     "execution_count": 5,
     "metadata": {},
     "output_type": "execute_result"
    }
   ],
   "source": [
    "# Create datafrmae from dict\n",
    "country_cities_df = pd.DataFrame.from_dict(country_cities_dict, orient='index')\n",
    "\n",
    "# Reformat the dataframe for CSV file storing\n",
    "country_cities_df = country_cities_df.reset_index()\n",
    "country_cities_df = country_cities_df.rename(columns={'index': 'Country'})\n",
    "country_cities_df.head()"
   ]
  },
  {
   "cell_type": "code",
   "execution_count": 6,
   "metadata": {
    "collapsed": true
   },
   "outputs": [],
   "source": [
    "# Storing the dataframe to file\n",
    "country_cities_df.to_csv(parsed_country_cities_file, index=False, encoding='utf-8', compression='gzip')"
   ]
  }
 ],
 "metadata": {
  "kernelspec": {
   "display_name": "Python 3",
   "language": "python",
   "name": "python3"
  },
  "language_info": {
   "codemirror_mode": {
    "name": "ipython",
    "version": 3
   },
   "file_extension": ".py",
   "mimetype": "text/x-python",
   "name": "python",
   "nbconvert_exporter": "python",
   "pygments_lexer": "ipython3",
   "version": "3.6.1"
  }
 },
 "nbformat": 4,
 "nbformat_minor": 2
}
