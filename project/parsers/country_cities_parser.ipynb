{
 "cells": [
  {
   "cell_type": "markdown",
   "metadata": {},
   "source": [
    "# Country Cities parser\n",
    "\n",
    "The purpose of this notebook is to read a raw dataset containing information on Countries and their Cities' names. The raw dataset was taken from [here](https://www.maxmind.com/de/free-world-cities-database).\n",
    "\n",
    "Contrary to other parsers, this one outputs two different csv files: \n",
    "\n",
    "1. The *non-grouped* file: with one column for the country code and one for a single city\n",
    "2. The *grouped* file: with one column for the city and one with a list of country codes"
   ]
  },
  {
   "cell_type": "code",
   "execution_count": 1,
   "metadata": {
    "collapsed": true
   },
   "outputs": [],
   "source": [
    "import pandas as pd"
   ]
  },
  {
   "cell_type": "code",
   "execution_count": 2,
   "metadata": {
    "collapsed": true
   },
   "outputs": [],
   "source": [
    "# Defining IO paths\n",
    "raw_country_cities_file = '../data/raw/raw_country_cities.csv'\n",
    "parsed_country_cities_file = '../data/parsed/parsed_country_cities.csv'\n",
    "parsed_country_cities_grouped_file = '../data/parsed/parsed_country_cities_grouped.csv'"
   ]
  },
  {
   "cell_type": "code",
   "execution_count": 3,
   "metadata": {
    "collapsed": true
   },
   "outputs": [],
   "source": [
    "# Create dataframe from raw dataset\n",
    "country_cities_df = pd.read_csv(raw_country_cities_file, index_col=False, encoding='ISO-8859-1', low_memory=False).dropna()"
   ]
  },
  {
   "cell_type": "code",
   "execution_count": 4,
   "metadata": {},
   "outputs": [],
   "source": [
    "# Remove unnecessary columns\n",
    "country_cities_df = country_cities_df.drop(['AccentCity', 'Region', 'Population', 'Latitude', 'Longitude'], axis=1)\n",
    "\n",
    "# Fix country codes\n",
    "country_cities_df['Country'] = country_cities_df['Country'].apply(lambda x: x.strip().upper())"
   ]
  },
  {
   "cell_type": "markdown",
   "metadata": {},
   "source": [
    "Non-grouped sample:"
   ]
  },
  {
   "cell_type": "code",
   "execution_count": 5,
   "metadata": {},
   "outputs": [
    {
     "data": {
      "text/html": [
       "<div>\n",
       "<style>\n",
       "    .dataframe thead tr:only-child th {\n",
       "        text-align: right;\n",
       "    }\n",
       "\n",
       "    .dataframe thead th {\n",
       "        text-align: left;\n",
       "    }\n",
       "\n",
       "    .dataframe tbody tr th {\n",
       "        vertical-align: top;\n",
       "    }\n",
       "</style>\n",
       "<table border=\"1\" class=\"dataframe\">\n",
       "  <thead>\n",
       "    <tr style=\"text-align: right;\">\n",
       "      <th></th>\n",
       "      <th>Country</th>\n",
       "      <th>City</th>\n",
       "    </tr>\n",
       "  </thead>\n",
       "  <tbody>\n",
       "    <tr>\n",
       "      <th>6</th>\n",
       "      <td>AD</td>\n",
       "      <td>andorra la vella</td>\n",
       "    </tr>\n",
       "    <tr>\n",
       "      <th>20</th>\n",
       "      <td>AD</td>\n",
       "      <td>canillo</td>\n",
       "    </tr>\n",
       "    <tr>\n",
       "      <th>32</th>\n",
       "      <td>AD</td>\n",
       "      <td>encamp</td>\n",
       "    </tr>\n",
       "    <tr>\n",
       "      <th>49</th>\n",
       "      <td>AD</td>\n",
       "      <td>la massana</td>\n",
       "    </tr>\n",
       "    <tr>\n",
       "      <th>53</th>\n",
       "      <td>AD</td>\n",
       "      <td>les escaldes</td>\n",
       "    </tr>\n",
       "  </tbody>\n",
       "</table>\n",
       "</div>"
      ],
      "text/plain": [
       "   Country              City\n",
       "6       AD  andorra la vella\n",
       "20      AD           canillo\n",
       "32      AD            encamp\n",
       "49      AD        la massana\n",
       "53      AD      les escaldes"
      ]
     },
     "execution_count": 5,
     "metadata": {},
     "output_type": "execute_result"
    }
   ],
   "source": [
    "country_cities_df.head()"
   ]
  },
  {
   "cell_type": "code",
   "execution_count": 6,
   "metadata": {
    "collapsed": true
   },
   "outputs": [],
   "source": [
    "# Write to un-grouped parsed file\n",
    "country_cities_df.to_csv(parsed_country_cities_file, index=False, encoding='utf-8', compression='gzip')"
   ]
  },
  {
   "cell_type": "code",
   "execution_count": 7,
   "metadata": {
    "collapsed": true
   },
   "outputs": [],
   "source": [
    "# Create a dictionary with the city as key and list of countries as values\n",
    "country_cities_dict = {}\n",
    "for index, row in country_cities_df.iterrows():\n",
    "    country = str(row['Country'])\n",
    "    city = str(row['City'])\n",
    "    country_cities_dict[city] = country_cities_dict.get(city, list()) + [country]\n",
    "    \n",
    "# Fix dicts format for dataframe convertion and remove duplicates\n",
    "for city, countries in country_cities_dict.items():\n",
    "    country_cities_dict[city] = {'Countries': list(set(country_cities_dict[city]))}"
   ]
  },
  {
   "cell_type": "code",
   "execution_count": 8,
   "metadata": {},
   "outputs": [],
   "source": [
    "# Create dataframes from dicts\n",
    "country_cities_df = pd.DataFrame.from_dict(country_cities_dict, orient='index')\n",
    "\n",
    "# Reformat the dataframes for CSV file storing\n",
    "country_cities_df = country_cities_df.reset_index()\n",
    "country_cities_df = country_cities_df.rename(columns={'index': 'City'})"
   ]
  },
  {
   "cell_type": "markdown",
   "metadata": {},
   "source": [
    "Grouped sample:"
   ]
  },
  {
   "cell_type": "code",
   "execution_count": 9,
   "metadata": {},
   "outputs": [
    {
     "data": {
      "text/html": [
       "<div>\n",
       "<style>\n",
       "    .dataframe thead tr:only-child th {\n",
       "        text-align: right;\n",
       "    }\n",
       "\n",
       "    .dataframe thead th {\n",
       "        text-align: left;\n",
       "    }\n",
       "\n",
       "    .dataframe tbody tr th {\n",
       "        vertical-align: top;\n",
       "    }\n",
       "</style>\n",
       "<table border=\"1\" class=\"dataframe\">\n",
       "  <thead>\n",
       "    <tr style=\"text-align: right;\">\n",
       "      <th></th>\n",
       "      <th>City</th>\n",
       "      <th>Countries</th>\n",
       "    </tr>\n",
       "  </thead>\n",
       "  <tbody>\n",
       "    <tr>\n",
       "      <th>0</th>\n",
       "      <td>a</td>\n",
       "      <td>[NO]</td>\n",
       "    </tr>\n",
       "    <tr>\n",
       "      <th>1</th>\n",
       "      <td>a coruna</td>\n",
       "      <td>[ES]</td>\n",
       "    </tr>\n",
       "    <tr>\n",
       "      <th>2</th>\n",
       "      <td>a dos cunhados</td>\n",
       "      <td>[PT]</td>\n",
       "    </tr>\n",
       "    <tr>\n",
       "      <th>3</th>\n",
       "      <td>aabenraa</td>\n",
       "      <td>[DK]</td>\n",
       "    </tr>\n",
       "    <tr>\n",
       "      <th>4</th>\n",
       "      <td>aabybro</td>\n",
       "      <td>[DK]</td>\n",
       "    </tr>\n",
       "  </tbody>\n",
       "</table>\n",
       "</div>"
      ],
      "text/plain": [
       "             City Countries\n",
       "0               a      [NO]\n",
       "1        a coruna      [ES]\n",
       "2  a dos cunhados      [PT]\n",
       "3        aabenraa      [DK]\n",
       "4         aabybro      [DK]"
      ]
     },
     "execution_count": 9,
     "metadata": {},
     "output_type": "execute_result"
    }
   ],
   "source": [
    "country_cities_df.head()"
   ]
  },
  {
   "cell_type": "code",
   "execution_count": 10,
   "metadata": {
    "collapsed": true
   },
   "outputs": [],
   "source": [
    "# Storing the grouped dataframe to file\n",
    "country_cities_df.to_csv(parsed_country_cities_grouped_file, index=False, encoding='utf-8', compression='gzip')"
   ]
  }
 ],
 "metadata": {
  "kernelspec": {
   "display_name": "Python 3",
   "language": "python",
   "name": "python3"
  },
  "language_info": {
   "codemirror_mode": {
    "name": "ipython",
    "version": 3
   },
   "file_extension": ".py",
   "mimetype": "text/x-python",
   "name": "python",
   "nbconvert_exporter": "python",
   "pygments_lexer": "ipython3",
   "version": "3.6.1"
  }
 },
 "nbformat": 4,
 "nbformat_minor": 2
}
