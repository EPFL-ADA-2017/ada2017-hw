{
 "cells": [
  {
   "cell_type": "markdown",
   "metadata": {},
   "source": [
    "# UCDP parser\n",
    "\n",
    "This parser takes care of filtering out the information we deem necessary from the [UCDP dataset](http://ucdp.uu.se)."
   ]
  },
  {
   "cell_type": "code",
   "execution_count": 1,
   "metadata": {
    "collapsed": true
   },
   "outputs": [],
   "source": [
    "import pandas as pd"
   ]
  },
  {
   "cell_type": "code",
   "execution_count": 2,
   "metadata": {
    "collapsed": true
   },
   "outputs": [],
   "source": [
    "# Defining IO paths\n",
    "raw_ucdp_dataset_file = '../data/raw/raw_ucdp.csv'\n",
    "parsed_ucdp_dataset_file = '../data/parsed/parsed_ucdp.csv'\n",
    "parsed_country_nationality_dataset_file = '../data/parsed/parsed_country_nationality.csv'"
   ]
  },
  {
   "cell_type": "code",
   "execution_count": 3,
   "metadata": {
    "collapsed": true
   },
   "outputs": [],
   "source": [
    "# Fetch data from raw dataset\n",
    "ucdp_df = pd.read_csv(raw_ucdp_dataset_file, index_col='id', compression='gzip')\n",
    "country_nationality_df = pd.read_csv(parsed_country_nationality_dataset_file, index_col='ID', compression='gzip')"
   ]
  },
  {
   "cell_type": "code",
   "execution_count": 4,
   "metadata": {
    "collapsed": true
   },
   "outputs": [],
   "source": [
    "# Create auxiliary lists for information keeping/cleanup\n",
    "ucdp_interesting_columns = [\n",
    "    'year',\n",
    "    'type_of_violence',\n",
    "    'conflict_name',\n",
    "    'country',\n",
    "    'date_start',\n",
    "    'date_end',\n",
    "    'best'\n",
    "]\n",
    "\n",
    "ucdp_interesting_column_names = [\n",
    "    'Year',\n",
    "    'Type',\n",
    "    'Conflict Name',\n",
    "    'Country',\n",
    "    'Date Start',\n",
    "    'Date End',\n",
    "    'Casualties'\n",
    "]\n",
    "\n",
    "# Only keep necessary columns\n",
    "ucdp_df = ucdp_df[ucdp_interesting_columns]\n",
    "\n",
    "# Rename interesting columns\n",
    "interesting_column_rename_dict = dict(zip(ucdp_interesting_columns, ucdp_interesting_column_names))\n",
    "ucdp_df = ucdp_df.rename(columns=interesting_column_rename_dict)"
   ]
  },
  {
   "cell_type": "markdown",
   "metadata": {},
   "source": [
    "Sample:"
   ]
  },
  {
   "cell_type": "code",
   "execution_count": 5,
   "metadata": {},
   "outputs": [
    {
     "data": {
      "text/html": [
       "<div>\n",
       "<style>\n",
       "    .dataframe thead tr:only-child th {\n",
       "        text-align: right;\n",
       "    }\n",
       "\n",
       "    .dataframe thead th {\n",
       "        text-align: left;\n",
       "    }\n",
       "\n",
       "    .dataframe tbody tr th {\n",
       "        vertical-align: top;\n",
       "    }\n",
       "</style>\n",
       "<table border=\"1\" class=\"dataframe\">\n",
       "  <thead>\n",
       "    <tr style=\"text-align: right;\">\n",
       "      <th></th>\n",
       "      <th>Year</th>\n",
       "      <th>Type</th>\n",
       "      <th>Conflict Name</th>\n",
       "      <th>Country</th>\n",
       "      <th>Date Start</th>\n",
       "      <th>Date End</th>\n",
       "      <th>Casualties</th>\n",
       "    </tr>\n",
       "    <tr>\n",
       "      <th>id</th>\n",
       "      <th></th>\n",
       "      <th></th>\n",
       "      <th></th>\n",
       "      <th></th>\n",
       "      <th></th>\n",
       "      <th></th>\n",
       "      <th></th>\n",
       "    </tr>\n",
       "  </thead>\n",
       "  <tbody>\n",
       "    <tr>\n",
       "      <th>4</th>\n",
       "      <td>2010</td>\n",
       "      <td>1</td>\n",
       "      <td>Yemen (North Yemen):Government</td>\n",
       "      <td>Yemen (North Yemen)</td>\n",
       "      <td>2010-09-25</td>\n",
       "      <td>2010-09-25</td>\n",
       "      <td>2</td>\n",
       "    </tr>\n",
       "    <tr>\n",
       "      <th>5</th>\n",
       "      <td>2011</td>\n",
       "      <td>3</td>\n",
       "      <td>Government of Yemen (North Yemen) - Civilians</td>\n",
       "      <td>Yemen (North Yemen)</td>\n",
       "      <td>2011-02-19</td>\n",
       "      <td>2011-02-19</td>\n",
       "      <td>0</td>\n",
       "    </tr>\n",
       "    <tr>\n",
       "      <th>6</th>\n",
       "      <td>2011</td>\n",
       "      <td>1</td>\n",
       "      <td>Yemen (North Yemen):Government</td>\n",
       "      <td>Yemen (North Yemen)</td>\n",
       "      <td>2011-04-16</td>\n",
       "      <td>2011-04-16</td>\n",
       "      <td>0</td>\n",
       "    </tr>\n",
       "    <tr>\n",
       "      <th>7</th>\n",
       "      <td>2012</td>\n",
       "      <td>1</td>\n",
       "      <td>Yemen (North Yemen):Government</td>\n",
       "      <td>Yemen (North Yemen)</td>\n",
       "      <td>2012-06-04</td>\n",
       "      <td>2012-06-04</td>\n",
       "      <td>5</td>\n",
       "    </tr>\n",
       "    <tr>\n",
       "      <th>10</th>\n",
       "      <td>2012</td>\n",
       "      <td>1</td>\n",
       "      <td>Yemen (North Yemen):Government</td>\n",
       "      <td>Yemen (North Yemen)</td>\n",
       "      <td>2012-12-09</td>\n",
       "      <td>2012-12-09</td>\n",
       "      <td>5</td>\n",
       "    </tr>\n",
       "  </tbody>\n",
       "</table>\n",
       "</div>"
      ],
      "text/plain": [
       "    Year  Type                                  Conflict Name  \\\n",
       "id                                                              \n",
       "4   2010     1                 Yemen (North Yemen):Government   \n",
       "5   2011     3  Government of Yemen (North Yemen) - Civilians   \n",
       "6   2011     1                 Yemen (North Yemen):Government   \n",
       "7   2012     1                 Yemen (North Yemen):Government   \n",
       "10  2012     1                 Yemen (North Yemen):Government   \n",
       "\n",
       "                Country  Date Start    Date End  Casualties  \n",
       "id                                                           \n",
       "4   Yemen (North Yemen)  2010-09-25  2010-09-25           2  \n",
       "5   Yemen (North Yemen)  2011-02-19  2011-02-19           0  \n",
       "6   Yemen (North Yemen)  2011-04-16  2011-04-16           0  \n",
       "7   Yemen (North Yemen)  2012-06-04  2012-06-04           5  \n",
       "10  Yemen (North Yemen)  2012-12-09  2012-12-09           5  "
      ]
     },
     "execution_count": 5,
     "metadata": {},
     "output_type": "execute_result"
    }
   ],
   "source": [
    "ucdp_df.head()"
   ]
  },
  {
   "cell_type": "code",
   "execution_count": 6,
   "metadata": {
    "collapsed": true
   },
   "outputs": [],
   "source": [
    "# Parse country names\n",
    "ucdp_df['Country'] = ucdp_df['Country'].apply(lambda x: x.split('(')[0].strip())\n",
    "\n",
    "# Get column for country column code substitution\n",
    "country_codes_df = country_nationality_df['Common Name'].to_frame()\n",
    "country_codes_df['Code'] = country_codes_df.index\n",
    "country_codes_df.reset_index(drop=True)\n",
    "\n",
    "# Replace country names with codes\n",
    "ucdp_df = ucdp_df.merge(country_codes_df, left_on='Country', right_on='Common Name', how='inner').drop(['Country', 'Common Name'], axis=1)\n",
    "ucdp_df = ucdp_df.rename(columns={'Code':'Country'})"
   ]
  },
  {
   "cell_type": "markdown",
   "metadata": {},
   "source": [
    "Sample:"
   ]
  },
  {
   "cell_type": "code",
   "execution_count": 7,
   "metadata": {},
   "outputs": [
    {
     "data": {
      "text/html": [
       "<div>\n",
       "<style>\n",
       "    .dataframe thead tr:only-child th {\n",
       "        text-align: right;\n",
       "    }\n",
       "\n",
       "    .dataframe thead th {\n",
       "        text-align: left;\n",
       "    }\n",
       "\n",
       "    .dataframe tbody tr th {\n",
       "        vertical-align: top;\n",
       "    }\n",
       "</style>\n",
       "<table border=\"1\" class=\"dataframe\">\n",
       "  <thead>\n",
       "    <tr style=\"text-align: right;\">\n",
       "      <th></th>\n",
       "      <th>Year</th>\n",
       "      <th>Type</th>\n",
       "      <th>Conflict Name</th>\n",
       "      <th>Date Start</th>\n",
       "      <th>Date End</th>\n",
       "      <th>Casualties</th>\n",
       "      <th>Country</th>\n",
       "    </tr>\n",
       "  </thead>\n",
       "  <tbody>\n",
       "    <tr>\n",
       "      <th>0</th>\n",
       "      <td>2010</td>\n",
       "      <td>1</td>\n",
       "      <td>Yemen (North Yemen):Government</td>\n",
       "      <td>2010-09-25</td>\n",
       "      <td>2010-09-25</td>\n",
       "      <td>2</td>\n",
       "      <td>YE</td>\n",
       "    </tr>\n",
       "    <tr>\n",
       "      <th>1</th>\n",
       "      <td>2011</td>\n",
       "      <td>3</td>\n",
       "      <td>Government of Yemen (North Yemen) - Civilians</td>\n",
       "      <td>2011-02-19</td>\n",
       "      <td>2011-02-19</td>\n",
       "      <td>0</td>\n",
       "      <td>YE</td>\n",
       "    </tr>\n",
       "    <tr>\n",
       "      <th>2</th>\n",
       "      <td>2011</td>\n",
       "      <td>1</td>\n",
       "      <td>Yemen (North Yemen):Government</td>\n",
       "      <td>2011-04-16</td>\n",
       "      <td>2011-04-16</td>\n",
       "      <td>0</td>\n",
       "      <td>YE</td>\n",
       "    </tr>\n",
       "    <tr>\n",
       "      <th>3</th>\n",
       "      <td>2012</td>\n",
       "      <td>1</td>\n",
       "      <td>Yemen (North Yemen):Government</td>\n",
       "      <td>2012-06-04</td>\n",
       "      <td>2012-06-04</td>\n",
       "      <td>5</td>\n",
       "      <td>YE</td>\n",
       "    </tr>\n",
       "    <tr>\n",
       "      <th>4</th>\n",
       "      <td>2012</td>\n",
       "      <td>1</td>\n",
       "      <td>Yemen (North Yemen):Government</td>\n",
       "      <td>2012-12-09</td>\n",
       "      <td>2012-12-09</td>\n",
       "      <td>5</td>\n",
       "      <td>YE</td>\n",
       "    </tr>\n",
       "  </tbody>\n",
       "</table>\n",
       "</div>"
      ],
      "text/plain": [
       "   Year  Type                                  Conflict Name  Date Start  \\\n",
       "0  2010     1                 Yemen (North Yemen):Government  2010-09-25   \n",
       "1  2011     3  Government of Yemen (North Yemen) - Civilians  2011-02-19   \n",
       "2  2011     1                 Yemen (North Yemen):Government  2011-04-16   \n",
       "3  2012     1                 Yemen (North Yemen):Government  2012-06-04   \n",
       "4  2012     1                 Yemen (North Yemen):Government  2012-12-09   \n",
       "\n",
       "     Date End  Casualties Country  \n",
       "0  2010-09-25           2      YE  \n",
       "1  2011-02-19           0      YE  \n",
       "2  2011-04-16           0      YE  \n",
       "3  2012-06-04           5      YE  \n",
       "4  2012-12-09           5      YE  "
      ]
     },
     "execution_count": 7,
     "metadata": {},
     "output_type": "execute_result"
    }
   ],
   "source": [
    "ucdp_df.head()"
   ]
  },
  {
   "cell_type": "code",
   "execution_count": 8,
   "metadata": {
    "collapsed": true
   },
   "outputs": [],
   "source": [
    "# Save to csv file\n",
    "ucdp_df = ucdp_df.reset_index()\n",
    "ucdp_df.to_csv(parsed_ucdp_dataset_file, encoding='utf-8', index=False, compression='gzip')"
   ]
  }
 ],
 "metadata": {
  "kernelspec": {
   "display_name": "Python 3",
   "language": "python",
   "name": "python3"
  },
  "language_info": {
   "codemirror_mode": {
    "name": "ipython",
    "version": 3
   },
   "file_extension": ".py",
   "mimetype": "text/x-python",
   "name": "python",
   "nbconvert_exporter": "python",
   "pygments_lexer": "ipython3",
   "version": "3.6.3"
  }
 },
 "nbformat": 4,
 "nbformat_minor": 2
}
