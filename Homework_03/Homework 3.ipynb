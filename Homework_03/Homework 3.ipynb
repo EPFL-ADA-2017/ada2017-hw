{
 "cells": [
  {
   "cell_type": "markdown",
   "metadata": {},
   "source": [
    "# 03 - Interactive Viz"
   ]
  },
  {
   "cell_type": "markdown",
   "metadata": {},
   "source": [
    "In this homework we will be exploring interactive visualization, which is a key ingredient of many successful data visualizations (especially when it comes to infographics).\n",
    "\n",
    "Please read the notebook from [this URL](http://nbviewer.jupyter.org/github/nunomota/ada2017-hw/blob/master/Homework_02/Homework_02.ipynb)."
   ]
  },
  {
   "cell_type": "markdown",
   "metadata": {},
   "source": [
    "### Content:\n",
    "* [Task 1](#t1)\n",
    "* [Task 2](#t2)\n",
    "* [Task 3](#t3)\n",
    "* [Task 4](#t4)"
   ]
  },
  {
   "cell_type": "markdown",
   "metadata": {},
   "source": [
    "# Imports"
   ]
  },
  {
   "cell_type": "code",
   "execution_count": null,
   "metadata": {
    "collapsed": true
   },
   "outputs": [],
   "source": [
    "import os\n",
    "import pandas as pd\n",
    "import numpy as np\n",
    "import json\n",
    "import folium"
   ]
  },
  {
   "cell_type": "markdown",
   "metadata": {},
   "source": [
    "# Constants definition"
   ]
  },
  {
   "cell_type": "code",
   "execution_count": null,
   "metadata": {
    "collapsed": true
   },
   "outputs": [],
   "source": [
    "DATA_PATH = './data/'\n",
    "TOPOJSON_PATH = './topojson/'\n",
    "EUROSTAT_FILE = 'lfsq_urgaed_sheets.xls'\n",
    "AMSTAT_FILE = 'tasso_di_disoccupazione.xlsx'\n",
    " \n",
    "COORDINATE_EUROPE = [54.5260, 15.2551]"
   ]
  },
  {
   "cell_type": "markdown",
   "metadata": {},
   "source": [
    "# Task 1 <a name=\"t1\">"
   ]
  },
  {
   "cell_type": "markdown",
   "metadata": {},
   "source": [
    "From the eurostat website we found a dataset that includes the european unemployment rates at a recent date. We chose the dataset containing the quaterly unemployment rates, so that we could get the most recent data. We also made sure that the chosen dataset included the rates for Switzerland as well.\n",
    "\n",
    "Therefore, we first read the `.xls` file containing the unemployment rates per country. "
   ]
  },
  {
   "cell_type": "code",
   "execution_count": null,
   "metadata": {
    "collapsed": true
   },
   "outputs": [],
   "source": [
    "# Read Europe unemployment data\n",
    "def read_europe_df(sheet):\n",
    "    # Read xls file\n",
    "    df = pd.read_excel('{dp}{f}'.format(dp=DATA_PATH, f=EUROSTAT_FILE),\n",
    "        sheetname=sheet, skiprows=[12,13,14,15,16,17], header=10, na_values=':')\n",
    "\n",
    "    # Rename country IDs and names columns\n",
    "    df.rename(columns={'GEO': 'id', 'GEO(L)/TIME': 'name'}, inplace=True)\n",
    "\n",
    "    # We need to replace the IDs for UK and Greece so that they match TopoJSON IDs\n",
    "    return df.replace('UK', 'GB').replace('EL', 'GR')\n",
    "\n",
    "europe_df = read_europe_df('Data5')"
   ]
  },
  {
   "cell_type": "markdown",
   "metadata": {},
   "source": [
    "We will average the rates for the last 4 quarters, that is:\n",
    "* 2016, Quarter 3\n",
    "* 2016, Quarter 4\n",
    "* 2017, Quarter 1\n",
    "* 2017, Quarter 2\n",
    "\n",
    "In this way we have the most recent information over a year, making sure that we avoid any possible seasonal trends on unemployment."
   ]
  },
  {
   "cell_type": "code",
   "execution_count": null,
   "metadata": {},
   "outputs": [],
   "source": [
    "europe_df['recent'] = europe_df[['2016Q3', '2016Q4', '2017Q1', '2017Q2']].mean(axis=1)\n",
    "recent_europe_df = europe_df[['id', 'recent']]"
   ]
  },
  {
   "cell_type": "markdown",
   "metadata": {},
   "source": [
    "In order to create the map of Europe, we will first read and modify the topoJSON file for Europe. We remove from it all the countries that we do not have information about, so that they are not plotted in the map."
   ]
  },
  {
   "cell_type": "code",
   "execution_count": null,
   "metadata": {},
   "outputs": [],
   "source": [
    "# Load topojson file for Europe\n",
    "europe_topo_path = r'{tp}europe.topojson.json'.format(tp=TOPOJSON_PATH)\n",
    "\n",
    "# We keep only the countries we have information of\n",
    "geo_json = json.load(open(europe_topo_path))\n",
    "geo_countries = []\n",
    "for c in geo_json['objects']['europe']['geometries']:\n",
    "    if c['id'] in list(europe_df['id']):\n",
    "        geo_countries.append(c)\n",
    "\n",
    "# We substitute the list of countries\n",
    "geo_json['objects']['europe']['geometries'] = geo_countries\n",
    "geo_data = json.dumps(geo_json)"
   ]
  },
  {
   "cell_type": "markdown",
   "metadata": {},
   "source": [
    "Lastly, we create the map for Europe."
   ]
  },
  {
   "cell_type": "markdown",
   "metadata": {},
   "source": [
    "TODO: choose and explain colors\n",
    "\n",
    "TODO: Choose best background! I plotted all of them to compare them...\n",
    "\n",
    "TODO: split the intervals into data classes and explain why those\n",
    "\n",
    "TODO: Add markers including the name of the country and the actual rate? (*interactions you could add in order to make the visualization intuitive and expressive*) (Example of implementation in next cell, maybe put the markers in the capital city of the country?)\n",
    "\n",
    "TODO: Compare Switzerland's unemployment rate to that of the rest of Europe (it's the main goal of this task)\n",
    "\n",
    "TODO: Decide how to compute the values for the plot"
   ]
  },
  {
   "cell_type": "markdown",
   "metadata": {},
   "source": [
    "* (Change and) Explain colors used [url given in assignment](https://carto.com/academy/courses/intermediate-design/choose-colors-1/)\n",
    "* Export map\n",
    "* ? Explain intervals considered... [url given in assignment](http://gisgeography.com/choropleth-maps-data-classification/)\n",
    "* Highlight Switzerland somehow...\n",
    "\n",
    "Suggestions:\n",
    "* ? Add Interactivity (eg choose sex, age...)\n",
    "* ? Set a color scale for countries with less unemployment than switzerland, other for more than Switerland\n",
    "\n",
    "Useful URLs:\n",
    "* [Many examples](http://nbviewer.jupyter.org/github/python-visualization/folium/tree/master/examples/) (very good)\n",
    "    * [Markers](http://nbviewer.jupyter.org/github/python-visualization/folium/blob/master/examples/ContinuousWorld.ipynb), [Markers2](http://nbviewer.jupyter.org/github/python-visualization/folium/blob/master/examples/FeatureGroup.ipynb), [Marker cluster](http://nbviewer.jupyter.org/github/python-visualization/folium/blob/master/examples/MarkerCluster.ipynb), [Popups](http://nbviewer.jupyter.org/github/python-visualization/folium/blob/master/examples/Popups.ipynb)\n",
    "    * [LayerControl and others](http://nbviewer.jupyter.org/github/python-visualization/folium/blob/master/examples/Features.ipynb)\n",
    "    * [Timestamp (and others?)](http://nbviewer.jupyter.org/github/python-visualization/folium/blob/master/examples/HeatMapWithTime.ipynb), [Time slider](http://nbviewer.jupyter.org/github/python-visualization/folium/blob/master/examples/TimeSliderChoropleth.ipynb)\n",
    "    * [Many plugins](http://nbviewer.jupyter.org/github/python-visualization/folium/blob/master/examples/Plugins.ipynb)\n",
    "    * [Tiles](http://nbviewer.jupyter.org/github/python-visualization/folium/blob/master/examples/TilesExample.ipynb)\n",
    "* [Colormap](https://nbviewer.jupyter.org/github/python-visualization/folium/blob/v0.2.0/examples/Colormaps.ipynb), [Colors](https://github.com/python-visualization/folium/blob/v0.2.0/folium/utilities.py#L104)\n",
    "* [Folium doc](https://media.readthedocs.org/pdf/folium/latest/folium.pdf) (not very good)\n",
    "* [Pretty example](http://andrewgaidus.com/leaflet_webmaps_python/)"
   ]
  },
  {
   "cell_type": "code",
   "execution_count": null,
   "metadata": {},
   "outputs": [],
   "source": [
    "# Create a new map\n",
    "map_europe = folium.Map(COORDINATE_EUROPE, tiles=None, zoom_start=3)\n",
    "\n",
    "# Add tile layers\n",
    "folium.TileLayer('stamentoner').add_to(map_europe)\n",
    "folium.TileLayer('OpenStreetMap').add_to(map_europe)\n",
    "folium.TileLayer('stamenterrain').add_to(map_europe)\n",
    "folium.TileLayer('cartodbdark_matter').add_to(map_europe)\n",
    "folium.TileLayer('cartodbpositron').add_to(map_europe)\n",
    "\n",
    "# Plot total unemployment\n",
    "map_europe.choropleth(geo_data=json.loads(geo_data), name='Total Population',\n",
    "    data=recent_europe_df, columns=['id', 'recent'], key_on='feature.id', fill_opacity=1,\n",
    "    fill_color='YlOrRd', topojson='objects.europe')\n",
    "\n",
    "# Add markers with information on unemployment per country\n",
    "#feature_group = FeatureGroup(name='Some icons')\n",
    "#Marker(location=[45.3288, -121.6625],\n",
    "       #popup='Mt. Hood Meadows').add_to(feature_group)\n",
    "\n",
    "#Marker(location=[45.3311, -121.7113],\n",
    "       #popup='Timberline Lodge').add_to(feature_group)\n",
    "\n",
    "#feature_group.add_to(m)\n",
    "\n",
    "# Add LayerControl\n",
    "folium.LayerControl(collapsed=False).add_to(map_europe)\n",
    "\n",
    "map_europe"
   ]
  },
  {
   "cell_type": "markdown",
   "metadata": {},
   "source": [
    "# Task 2 <a name=\"t2\">\n",
    "Go to the amstat website to find a dataset that includes the unemployment rates in Switzerland at a recent date.\n",
    "\n",
    "Use this data to build another Choropleth map, this time showing the unemployment rate at the level of swiss cantons. Again, try to make the map as expressive as possible, and comment on the trends you observe.\n",
    "\n",
    "The Swiss Confederation defines the rates you have just plotted as the number of people looking for a job divided by the size of the active population (scaled by 100). This is surely a valid choice, but as we discussed one could argue for a different categorization.\n",
    "\n",
    "Copy the map you have just created, but this time don't count in your statistics people who already have a job and are looking for a new one. How do your observations change ? You can repeat this with different choices of categories to see how selecting different metrics can lead to different interpretations of the same data."
   ]
  },
  {
   "cell_type": "code",
   "execution_count": null,
   "metadata": {},
   "outputs": [],
   "source": [
    "# Read Swiss unemployment data\n",
    "\n",
    "# Read xls file\n",
    "df = pd.read_excel('{dp}{f}'.format(dp=DATA_PATH, f=AMSTAT_FILE), header=[0,1])\n",
    "df"
   ]
  },
  {
   "cell_type": "code",
   "execution_count": null,
   "metadata": {
    "collapsed": true
   },
   "outputs": [],
   "source": []
  },
  {
   "cell_type": "markdown",
   "metadata": {},
   "source": [
    "# Task 3 <a name=\"t3\">\n",
    "Use the amstat website again to find a dataset that includes the unemployment rates in Switzerland at recent date, this time making a distinction between Swiss and foreign workers.\n",
    "\n",
    "The Economic Secretary (SECO) releases a monthly report on the state of the employment market. In the latest report (September 2017), it is noted that there is a discrepancy between the unemployment rates for foreign (5.1%) and Swiss (2.2%) workers.\n",
    "\n",
    "Show the difference in unemployment rates between the two categories in each canton on a Choropleth map (hint The easy way is to show two separate maps, but can you think of something better ?). Where are the differences most visible ? Why do you think that is ?\n",
    "\n",
    "Now let's refine the analysis by adding the differences between age groups. As you may have guessed it is nearly impossible to plot so many variables on a map. Make a bar plot, which is a better suited visualization tool for this type of multivariate data."
   ]
  },
  {
   "cell_type": "code",
   "execution_count": null,
   "metadata": {
    "collapsed": true
   },
   "outputs": [],
   "source": []
  },
  {
   "cell_type": "markdown",
   "metadata": {},
   "source": [
    "# Task 4 <a name=\"t4\">\n",
    "\n",
    "**BONUS**: using the map you have just built, and the geographical information contained in it, could you give a rough estimate of the difference in unemployment rates between the areas divided by the Röstigraben?"
   ]
  },
  {
   "cell_type": "code",
   "execution_count": null,
   "metadata": {
    "collapsed": true
   },
   "outputs": [],
   "source": []
  }
 ],
 "metadata": {
  "kernelspec": {
   "display_name": "Python 3",
   "language": "python",
   "name": "python3"
  },
  "language_info": {
   "codemirror_mode": {
    "name": "ipython",
    "version": 3
   },
   "file_extension": ".py",
   "mimetype": "text/x-python",
   "name": "python",
   "nbconvert_exporter": "python",
   "pygments_lexer": "ipython3",
   "version": "3.6.3"
  }
 },
 "nbformat": 4,
 "nbformat_minor": 2
}
