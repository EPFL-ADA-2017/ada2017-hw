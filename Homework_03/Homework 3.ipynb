{
 "cells": [
  {
   "cell_type": "markdown",
   "metadata": {},
   "source": [
    "# 03 - Interactive Viz"
   ]
  },
  {
   "cell_type": "markdown",
   "metadata": {},
   "source": [
    "In this homework we will be exploring interactive visualization, which is a key ingredient of many successful data visualizations (especially when it comes to infographics).\n",
    "\n",
    "Please read the notebook from [this URL](http://nbviewer.jupyter.org/github/nunomota/ada2017-hw/blob/master/Homework_03/Homework_03.ipynb)."
   ]
  },
  {
   "cell_type": "markdown",
   "metadata": {},
   "source": [
    "### Content:\n",
    "* [Task 1](#t1)\n",
    "* [Task 2](#t2)\n",
    "* [Task 3](#t3)\n",
    "* [Task 4](#t4)"
   ]
  },
  {
   "cell_type": "markdown",
   "metadata": {},
   "source": [
    "# Imports"
   ]
  },
  {
   "cell_type": "code",
   "execution_count": null,
   "metadata": {
    "collapsed": true
   },
   "outputs": [],
   "source": [
    "import os\n",
    "import pandas as pd\n",
    "import numpy as np\n",
    "import json\n",
    "import folium\n",
    "import matplotlib.pyplot as plt\n",
    "from matplotlib import cm\n",
    "import seaborn as sns\n",
    "%matplotlib inline\n",
    "\n",
    "# We will use this to compute the harmonic mean in Task 4\n",
    "from scipy import stats"
   ]
  },
  {
   "cell_type": "markdown",
   "metadata": {},
   "source": [
    "# Constants definition"
   ]
  },
  {
   "cell_type": "code",
   "execution_count": null,
   "metadata": {
    "collapsed": true
   },
   "outputs": [],
   "source": [
    "DATA_PATH = './data/'\n",
    "TOPOJSON_PATH = './topojson/'\n",
    "EUROSTAT_FILE = 'lfsq_urgaed_sheets.xls'\n",
    "AMSTAT_FILE = '2_1 Tasso di disoccupazione.xlsx'\n",
    "ORIGIN_AGE_FILE = '1_1 Disoccupati e persone in cerca d_impiego secondo criteri vari.xlsx'\n",
    "LATLONG_FILE = 'countries_latlong.csv'\n",
    " \n",
    "COORDINATE_EUROPE = [54.5260, 15.2551]\n",
    "COORDINATE_SWITZERLAND = [46.8182, 8.2275]"
   ]
  },
  {
   "cell_type": "markdown",
   "metadata": {},
   "source": [
    "# Task 1 <a name=\"t1\">"
   ]
  },
  {
   "cell_type": "markdown",
   "metadata": {},
   "source": [
    "From the eurostat website we found a dataset that includes the European unemployment rates at a recent date. We made sure that the chosen dataset included the rates for Switzerland as well, since we would like to compare Switzerland's rate to other countries'. From the datasets including information for Switzerland we chose the one containing the quaterly unemployment rates, so that we could get the most recent data.\n",
    "\n",
    "When downloading the dataset we decided to include both the ID and the name for each country. It might happen that some countries have a different ID or a different name in the dataset and the TopoJSON file, and by using both we can verify that all the countries are matched correctly."
   ]
  },
  {
   "cell_type": "markdown",
   "metadata": {},
   "source": [
    "#### Read European data\n",
    "Therefore, we first read the `.xls` file containing the unemployment rates per country. "
   ]
  },
  {
   "cell_type": "code",
   "execution_count": null,
   "metadata": {
    "collapsed": true
   },
   "outputs": [],
   "source": [
    "# Read Europe unemployment data\n",
    "def read_europe_df(sheet):\n",
    "    \"\"\"Reads xls file containing European data, and fixes country IDs to match\n",
    "    TopoJSON file.\n",
    "    \"\"\"\n",
    "    # Read xls file\n",
    "    df = pd.read_excel('{dp}{f}'.format(dp=DATA_PATH, f=EUROSTAT_FILE),\n",
    "        sheetname=sheet, skiprows=[12,13,14,15,16,17], header=10, na_values=':')\n",
    "\n",
    "    # Rename country IDs and names columns\n",
    "    df.rename(columns={'GEO': 'id', 'GEO(L)/TIME': 'name'}, inplace=True)\n",
    "\n",
    "    # We need to replace the IDs for UK and Greece so that they match TopoJSON IDs\n",
    "    return df.replace('UK', 'GB').replace('EL', 'GR')\n",
    "\n",
    "europe_df = read_europe_df('Data5')"
   ]
  },
  {
   "cell_type": "markdown",
   "metadata": {},
   "source": [
    "The following is a sample of our dataframe. It includes the quaterly unemployment rates until the second quarter of 2017."
   ]
  },
  {
   "cell_type": "code",
   "execution_count": null,
   "metadata": {},
   "outputs": [],
   "source": [
    "europe_df.head()"
   ]
  },
  {
   "cell_type": "markdown",
   "metadata": {},
   "source": [
    "#### Obtain recent unemployment rate"
   ]
  },
  {
   "cell_type": "markdown",
   "metadata": {},
   "source": [
    "We need to decide the information that we will use. We are interested in the most recent data, however, considering only the most recent quarter or month can lead to conclussions that are only valid for that month or quarter. This is due to the fact that there are seasonal trends on unemployment depending on the time of the year.\n",
    "\n",
    "As a result, we decide to average the rates for the 4 most recent quarters, that is:\n",
    "* 2016, Quarter 3\n",
    "* 2016, Quarter 4\n",
    "* 2017, Quarter 1\n",
    "* 2017, Quarter 2\n",
    "\n",
    "In this way we have the most recent information over a year, making sure that we avoid any possible seasonal trends on unemployment."
   ]
  },
  {
   "cell_type": "code",
   "execution_count": null,
   "metadata": {},
   "outputs": [],
   "source": [
    "europe_df['recent'] = europe_df[['2016Q3', '2016Q4', '2017Q1', '2017Q2']].mean(axis=1)\n",
    "recent_europe_df = europe_df[['id', 'recent']]\n",
    "recent_europe_df.head()"
   ]
  },
  {
   "cell_type": "markdown",
   "metadata": {},
   "source": [
    "#### Remove countries from TopoJSON file"
   ]
  },
  {
   "cell_type": "markdown",
   "metadata": {},
   "source": [
    "We now read and modify the topoJSON file for Europe. We remove from it all the countries that we do not have information about, so that they are not plotted in the map later on."
   ]
  },
  {
   "cell_type": "code",
   "execution_count": null,
   "metadata": {
    "collapsed": true
   },
   "outputs": [],
   "source": [
    "# Load topojson file for Europe\n",
    "europe_topo_path = r'{tp}europe.topojson.json'.format(tp=TOPOJSON_PATH)\n",
    "geo_json = json.load(open(europe_topo_path))\n",
    "\n",
    "# We keep only the countries we have information of\n",
    "geo_countries = []\n",
    "for c in geo_json['objects']['europe']['geometries']:\n",
    "    if c['id'] in list(europe_df['id']):\n",
    "        geo_countries.append(c)\n",
    "\n",
    "# We substitute the list of countries\n",
    "geo_json['objects']['europe']['geometries'] = geo_countries\n",
    "geo_data = json.dumps(geo_json)"
   ]
  },
  {
   "cell_type": "markdown",
   "metadata": {},
   "source": [
    "#### Create map\n",
    "\n",
    "Lastly, we create the map for Europe.\n",
    "\n",
    "We chose a color scale that goes from light orange to dark red. Since red is commonly associated with *danger*, it makes sense to use a darker red for countries (and cantons in the next exercises) with the highest unemployment rates.\n",
    "\n",
    "We split this color scale in 6 intervals, each of them representing 1/6 of the total rate range. We considered that this choice of colors for each country would be the most intuitive. By using 6 colors we can see more differences between countries, still having enough contrast between colors to easily identify them."
   ]
  },
  {
   "cell_type": "markdown",
   "metadata": {},
   "source": [
    "#### Create markers for the map"
   ]
  },
  {
   "cell_type": "markdown",
   "metadata": {},
   "source": [
    "TODO: Explain a bit?"
   ]
  },
  {
   "cell_type": "code",
   "execution_count": null,
   "metadata": {
    "collapsed": true
   },
   "outputs": [],
   "source": [
    "DEFAULT_FONT_SIZE = 24\n",
    "DEFAULT_IMG_WIDTH = 64\n",
    "DEFAULT_IMG_HEIGHT = 64\n",
    "DEFAULT_TEXT_OFFSET = 8\n",
    "DEFAULT_FONT_COLOR = 'white'\n",
    "DEFAULT_BG_COLOR = 'black'\n",
    "DEFAULT_BG_ALPHA = 0.6\n",
    "DEFAULT_BG_RADIUS_COMPENSATION = DEFAULT_IMG_WIDTH/20\n",
    "DEFAULT_PALETTE_ICON = 'https://i.imgur.com/HJLCoHt.png'\n",
    "\n",
    "def generate_custom_icon(percentage):\n",
    "    \"\"\"\n",
    "    Returns a fully customized DivIcon that can be used\n",
    "    as a Marker - in folium.\n",
    "    \"\"\"\n",
    "    return DivIcon(\n",
    "        icon_size=(DEFAULT_IMG_WIDTH, DEFAULT_IMG_HEIGHT),\n",
    "        icon_anchor=(DEFAULT_IMG_WIDTH/2, DEFAULT_IMG_HEIGHT/2),\n",
    "        html=generate_custom_icon_html(percentage)\n",
    "    )\n",
    "    \n",
    "def generate_custom_icon_html(percentage):\n",
    "    \"\"\"\n",
    "    Returns an inlined HTML string representing the\n",
    "    customized icon, along with a centered percentage.\n",
    "    \"\"\"\n",
    "    html_string = (\n",
    "        '<div>'\n",
    "            '<svg width=\"{1}\" height=\"{2}\">'\n",
    "                '<defs>'\n",
    "                    '<pattern id=\"image-bg\" x=\"0\" y=\"0\" height=\"{2}\" width=\"{1}\" patternUnits=\"userSpaceOnUse\">'\n",
    "                        '<image width=\"{1}\" height=\"{2}\" xlink:href=\"{4}\"></image>'\n",
    "                    '</pattern>'\n",
    "                '</defs>'\n",
    "                '<circle cx=\"{5}\" cy=\"{6}\" r=\"{11}\" fill=\"{9}\" fill-opacity=\"{10}\"/>'\n",
    "                '<circle cx=\"{5}\" cy=\"{6}\" r=\"{5}\" fill=\"url(#image-bg)\"/>'\n",
    "                '<text x=\"{5}\" y=\"{7}\" font-size=\"{0}\" text-anchor=\"middle\" fill=\"{3}\">{8}%</text>'\n",
    "            '</svg>'\n",
    "        '</div>'\n",
    "    )\n",
    "    \n",
    "    return html_string.format(\n",
    "        DEFAULT_FONT_SIZE,\n",
    "        DEFAULT_IMG_WIDTH, \n",
    "        DEFAULT_IMG_HEIGHT,   \n",
    "        DEFAULT_FONT_COLOR,\n",
    "        DEFAULT_PALETTE_ICON,\n",
    "        DEFAULT_IMG_WIDTH/2,\n",
    "        DEFAULT_IMG_HEIGHT/2,\n",
    "        DEFAULT_IMG_HEIGHT/2 + DEFAULT_TEXT_OFFSET,\n",
    "        round(percentage),\n",
    "        DEFAULT_BG_COLOR,\n",
    "        DEFAULT_BG_ALPHA,\n",
    "        DEFAULT_IMG_WIDTH/2 - DEFAULT_BG_RADIUS_COMPENSATION\n",
    "    )"
   ]
  },
  {
   "cell_type": "markdown",
   "metadata": {},
   "source": [
    "We downloaded a CSV file containing the LatLong coordinates for every country, that we will use to set the markers with the information for each country."
   ]
  },
  {
   "cell_type": "code",
   "execution_count": null,
   "metadata": {
    "collapsed": true
   },
   "outputs": [],
   "source": [
    "# Read LatLong coordinates into a dataframe\n",
    "latlong_df = pd.read_csv('{dp}{f}'.format(dp=DATA_PATH, f=LATLONG_FILE))\n",
    "latlong_df.columns = latlong_df.columns.map(lambda x: x.strip())\n",
    "\n",
    "# Merge the LatLong coordinates into the already existing dataframe\n",
    "recent_europe_df = recent_europe_df.merge(latlong_df, how='inner', left_on='id', right_on='country').drop(['country'], axis=1)"
   ]
  },
  {
   "cell_type": "markdown",
   "metadata": {},
   "source": [
    "#### Create map\n",
    "\n",
    "Lastly, we create the map for Europe.\n",
    "\n",
    "We chose a color scale that goes from light orange to dark red. Since red is commonly associated with *danger*, it makes sense to use a darker red for countries (and cantons in the next exercises) with the highest unemployment rates.\n",
    "\n",
    "We split this color scale in 6 intervals, each of them representing 1/6 of the total rate range. We considered that this choice of colors for each country would be the most intuitive. By using 6 colors we can see more differences between countries, still having enough contrast between colors to easily identify them."
   ]
  },
  {
   "cell_type": "code",
   "execution_count": null,
   "metadata": {},
   "outputs": [],
   "source": [
    "from folium.plugins import MarkerCluster\n",
    "from folium.features import DivIcon\n",
    "\n",
    "# Create a new map\n",
    "map_europe = folium.Map(COORDINATE_EUROPE, tiles=None, zoom_start=3)\n",
    "\n",
    "# Add tile layers\n",
    "folium.TileLayer('cartodbpositron').add_to(map_europe)\n",
    "\n",
    "# Plot total unemployment\n",
    "map_europe.choropleth(geo_data=json.loads(geo_data), name='Total Population',\n",
    "    data=recent_europe_df, columns=['id', 'recent'], key_on='feature.id', fill_opacity=1,\n",
    "    fill_color='YlOrRd', topojson='objects.europe')\n",
    "\n",
    "# Add Marker cluster\n",
    "marker_cluster = MarkerCluster(name='Markers').add_to(map_europe)\n",
    "for index, row in recent_europe_df.iterrows():\n",
    "    lat = row['latitude']\n",
    "    long = row['longitude']\n",
    "    percent = row['recent']\n",
    "    country_name = row['name']\n",
    "    folium.Marker([lat, long], icon=generate_custom_icon(percent), popup=country_name).add_to(marker_cluster)\n",
    "\n",
    "# Add LayerControl\n",
    "folium.LayerControl(collapsed=False).add_to(map_europe)"
   ]
  },
  {
   "cell_type": "markdown",
   "metadata": {},
   "source": [
    "You can now visualize and interact with the map!\n",
    "\n",
    "* You can zoom in to show the markers with the information for each country. You can also click on the clusters of markers to zoom in directly.\n",
    "\n",
    "* To see the country's name you can click on its marker.\n",
    "\n",
    "* The markers make it easier to see which class each country is assigned to."
   ]
  },
  {
   "cell_type": "code",
   "execution_count": null,
   "metadata": {
    "scrolled": false
   },
   "outputs": [],
   "source": [
    "map_europe"
   ]
  },
  {
   "cell_type": "markdown",
   "metadata": {},
   "source": [
    "The unemployment rate in Switzerland is one of the lowest in Europe, as can be verified since it has been assigned the lightest color.\n",
    "\n",
    "Looking at numbers, Swiss unemployment rate is 5% and only Iceland, Malta, the Czech Republic, Germany and Norway have a lower rate (3%-4%).\n",
    "\n",
    "In general the countries in southern Europe have higher unemployment rates, especially in the cases of Macedonia, Greece and Spain."
   ]
  },
  {
   "cell_type": "markdown",
   "metadata": {},
   "source": [
    "# Task 2 <a name=\"t2\">\n",
    "In the amstat website we found a dataset including the unemployment rates in Switzerland for the last 12 months."
   ]
  },
  {
   "cell_type": "markdown",
   "metadata": {},
   "source": [
    "#### Read data\n",
    "We read the unemployment rates for the last 12 months. In this case we create a function that returns a dataframe containing the average (*Totale*) for those months, as well as a column with the IDs for each canton. \n",
    "\n",
    "Therefore, the variables we read from this dataset for each canton are:\n",
    "* Unemployment rate\n",
    "* Unemployed\n",
    "* Looking for job\n",
    "* Not unemployed looking for job"
   ]
  },
  {
   "cell_type": "code",
   "execution_count": null,
   "metadata": {
    "collapsed": true
   },
   "outputs": [],
   "source": [
    "# Load topojson file for Europe\n",
    "swiss_topo_path = r'{tp}ch-cantons.topojson.json'.format(tp=TOPOJSON_PATH)\n",
    "geo_json = json.load(open(swiss_topo_path))"
   ]
  },
  {
   "cell_type": "code",
   "execution_count": null,
   "metadata": {
    "collapsed": true
   },
   "outputs": [],
   "source": [
    "def get_clean_swiss_df(file, headers, dictionary, ids):\n",
    "    \"\"\"Reads xls file containing Swiss data.\n",
    "    Translates variable names to English and gets the 'Total' column\n",
    "    for each variable.\n",
    "    \"\"\"\n",
    "    # Read xls file containing Swiss unemployment data\n",
    "    df = pd.read_excel('{dp}{f}'.format(dp=DATA_PATH, f=file), header=headers)\n",
    "    df.drop(('Metriche', 'mese'), axis=1, inplace=True)\n",
    "\n",
    "    # We will create a dataframe in English with the variables we need\n",
    "    clean_df = pd.DataFrame()\n",
    "\n",
    "    # For each variable, we get the 'Total' column\n",
    "    variables_list = df.columns.get_level_values(0).unique()\n",
    "    for v in variables_list:\n",
    "        clean_df[italian_english_variables[v]] = df[(v, 'Totale')]\n",
    "\n",
    "    clean_df.drop('Totale', inplace=True)\n",
    "\n",
    "    # Add 'id' column to the dataframe\n",
    "    clean_df['id'] = ids\n",
    "    \n",
    "    return clean_df"
   ]
  },
  {
   "cell_type": "markdown",
   "metadata": {},
   "source": [
    "The IDs were directly taken from the TopoJSON file, since we manually verified that the cantons are in the same order in both the TopoJSON file and the data files we obtained from amstat. We translate the names of the variables to English using a manually defined dictionary."
   ]
  },
  {
   "cell_type": "code",
   "execution_count": null,
   "metadata": {
    "collapsed": true
   },
   "outputs": [],
   "source": [
    "# Manually define dictionary with translations to English\n",
    "italian_english_variables = {\n",
    "    \"Tasso di disoccupazione\": 'Unemployment rate',\n",
    "    \"Disoccupati registrati\": 'Unemployed',\n",
    "    \"Persone in cerca d'impiego\": 'Looking for job',\n",
    "    \"Persone in cerca d'impiego non disoccupate\": 'Not unemployed looking for job',\n",
    "    'stranieri': 'Foreigners',\n",
    "    'svizzeri': 'Swiss'\n",
    "}"
   ]
  },
  {
   "cell_type": "code",
   "execution_count": null,
   "metadata": {
    "collapsed": true
   },
   "outputs": [],
   "source": [
    "# Get the 'id' for each canton directly from the JSON file\n",
    "cantons_id = []\n",
    "for c in geo_json['objects']['cantons']['geometries']:\n",
    "    cantons_id.append(c['id'])\n",
    "\n",
    "switzerland_df = get_clean_swiss_df(file=AMSTAT_FILE, headers=[2,3],\n",
    "    dictionary=italian_english_variables, ids=cantons_id)"
   ]
  },
  {
   "cell_type": "markdown",
   "metadata": {},
   "source": [
    "The following is a sample of the resulting dataframe:"
   ]
  },
  {
   "cell_type": "code",
   "execution_count": null,
   "metadata": {},
   "outputs": [],
   "source": [
    "switzerland_df.set_index('id').head()"
   ]
  },
  {
   "cell_type": "markdown",
   "metadata": {},
   "source": [
    "#### Add data on people looking for a job\n",
    "The Swiss Confederation defines the `Unemployment rate` as the number of unemployed registered, divided by the size of the active population, multiplied by 100 ([reference](https://www.amstat.ch/v2/definition.jsp?lang=fr)).\n",
    "\n",
    "We will now include the `Looking for job rate`. We will compute it as the size of the respective population, divided by the size of the active population and multiplied by 100. We will then plot both rates to see if there are differences.\n",
    "\n",
    "We do not compute and plot the `Not unemployed looking for job` rate (i.e. people who already have a job and are looking for a new one), since it is equal to substracting the `Unemployment rate` from the `Looking for job rate`."
   ]
  },
  {
   "cell_type": "code",
   "execution_count": null,
   "metadata": {},
   "outputs": [],
   "source": [
    "switzerland_df['Looking for job rate'] = (switzerland_df['Unemployment rate'] *\n",
    "    switzerland_df['Looking for job'] / switzerland_df['Unemployed'])\n",
    "\n",
    "switzerland_df.drop(['Unemployed', 'Looking for job',\n",
    "    'Not unemployed looking for job'], axis=1).set_index('id').head()"
   ]
  },
  {
   "cell_type": "markdown",
   "metadata": {},
   "source": [
    "#### Create map <a name=\"cm\">"
   ]
  },
  {
   "cell_type": "markdown",
   "metadata": {},
   "source": [
    "We now create the map showing the unemployment rate in Swiss cantons. We use the same color range and intervals as for the Europe map."
   ]
  },
  {
   "cell_type": "code",
   "execution_count": null,
   "metadata": {},
   "outputs": [],
   "source": [
    "# Create a new map\n",
    "map_swiss = folium.Map(COORDINATE_SWITZERLAND,\n",
    "    tiles='cartodbpositron', zoom_start=8)\n",
    "\n",
    "# Plot people looking for a job\n",
    "map_swiss.choropleth(geo_data=geo_json, name='Looking for job',\n",
    "    data=switzerland_df, columns=['id', 'Looking for job rate'], key_on='feature.id', fill_opacity=1,\n",
    "    fill_color='YlOrRd', topojson='objects.cantons')\n",
    "\n",
    "map_swiss.choropleth(geo_data=geo_json, name='Unemployed',\n",
    "    data=switzerland_df, columns=['id', 'Unemployment rate'], key_on='feature.id', fill_opacity=1,\n",
    "    fill_color='YlOrRd', topojson='objects.cantons')\n",
    "\n",
    "# Add markers with information on unemployment per canton\n",
    "#feature_group = FeatureGroup(name='Some icons')\n",
    "#Marker(location=[45.3288, -121.6625],\n",
    "       #popup='Mt. Hood Meadows').add_to(feature_group)\n",
    "\n",
    "#Marker(location=[45.3311, -121.7113],\n",
    "       #popup='Timberline Lodge').add_to(feature_group)\n",
    "\n",
    "#feature_group.add_to(m)\n",
    "\n",
    "# Add LayerControl\n",
    "folium.LayerControl(collapsed=False).add_to(map_swiss)"
   ]
  },
  {
   "cell_type": "markdown",
   "metadata": {},
   "source": [
    "You can now interact with the map!\n",
    "* You can compare the unemployment rate and the rate of people looking for a job by checking one or the other in the box at the right.\n",
    "* Notice the two color scales on top: the one in the left corresponds to people looking for a job, the one in the right corresponds to only those unemployed.\n",
    "* Since the color scales for both rates are different, from this figure we can't directly compare the two rates to each other. However, this allows us to compare how the cantons are doing regarding both rates."
   ]
  },
  {
   "cell_type": "code",
   "execution_count": null,
   "metadata": {},
   "outputs": [],
   "source": [
    "map_swiss"
   ]
  },
  {
   "cell_type": "markdown",
   "metadata": {},
   "source": [
    "TODO: Comment this... ?"
   ]
  },
  {
   "cell_type": "markdown",
   "metadata": {},
   "source": [
    "# Task 3 <a name=\"t3\">\n",
    "We use the amstat website again to find a dataset that includes the unemployment rates in Switzerland at recent date, this time making a distinction between Swiss and foreign workers.\n",
    "\n",
    "The Economic Secretary (SECO) releases a monthly report on the state of the employment market. In the latest report (September 2017), it is noted that there is a discrepancy between the unemployment rates for foreign (5.1%) and Swiss (2.2%) workers."
   ]
  },
  {
   "cell_type": "markdown",
   "metadata": {},
   "source": [
    "## 3.1 Data per origin"
   ]
  },
  {
   "cell_type": "markdown",
   "metadata": {},
   "source": [
    "#### Read data\n",
    "We now define a function to compute the average unemployment data for a dataframe containing the data for several months."
   ]
  },
  {
   "cell_type": "code",
   "execution_count": null,
   "metadata": {
    "collapsed": true
   },
   "outputs": [],
   "source": [
    "def get_average_swiss_df(df, dictionary, ids):\n",
    "    \"\"\"Reads an xls file containing Swiss data for several months but\n",
    "    without a 'Total' column. Computes for each variable the yearly average\n",
    "    from the monthly values.\n",
    "    \"\"\"\n",
    "    # We will create a dataframe in English with the variables we need\n",
    "    clean_df = pd.DataFrame()\n",
    "\n",
    "    # For each variable, we get an average column\n",
    "    variables_list = df.columns.get_level_values(0).unique()\n",
    "    for v in variables_list:\n",
    "        clean_df[italian_english_variables[v]] = df[v].mean(axis=1)\n",
    "    \n",
    "    # Drop 'Totale' row\n",
    "    clean_df.drop('Totale', inplace=True)\n",
    "    \n",
    "    # Add 'id' column to the dataframe\n",
    "    clean_df['id'] = ids\n",
    "    \n",
    "    # Drop variables we will not use\n",
    "    clean_df.drop(italian_english_variables[\"Persone in cerca d'impiego\"],\n",
    "        axis=1, inplace=True)\n",
    "    clean_df.drop(italian_english_variables[\"Persone in cerca d'impiego non disoccupate\"],\n",
    "        axis=1, inplace=True)\n",
    "    \n",
    "    return clean_df"
   ]
  },
  {
   "cell_type": "markdown",
   "metadata": {},
   "source": [
    "We read the file containing the unemployment data for both foreigners and Swiss.\n",
    "\n",
    "Then, we create a dictionary containing two dataframes: one for foreigners and another one for Swiss. We apply the function to each of the dataframes to obtain the average per month."
   ]
  },
  {
   "cell_type": "code",
   "execution_count": null,
   "metadata": {
    "collapsed": true
   },
   "outputs": [],
   "source": [
    "# Read xls file containing unemployment data per origin\n",
    "origin_df = pd.read_excel('{dp}{f}'.format(dp=DATA_PATH, f=\"foreign swiss {df}\".format(df=AMSTAT_FILE)),\n",
    "    header=[2,3,4])\n",
    "origin_df.drop(('Nazionalità', 'Metriche', 'mese'), axis=1, inplace=True)\n",
    "\n",
    "# We create a dictionary of dataframes\n",
    "origin_df_dict = {}\n",
    "\n",
    "# For each origin we get the corresponding dataframe\n",
    "origins_list = origin_df.columns.get_level_values(0).unique()\n",
    "for o in origins_list[:2]:\n",
    "    origin_df_dict[italian_english_variables[o]] = get_average_swiss_df(origin_df[o],\n",
    "        italian_english_variables, cantons_id)"
   ]
  },
  {
   "cell_type": "markdown",
   "metadata": {},
   "source": [
    "Samples of the dataframes:"
   ]
  },
  {
   "cell_type": "code",
   "execution_count": null,
   "metadata": {},
   "outputs": [],
   "source": [
    "origin_df_dict['Swiss'].set_index('id').head()"
   ]
  },
  {
   "cell_type": "code",
   "execution_count": null,
   "metadata": {},
   "outputs": [],
   "source": [
    "origin_df_dict['Foreigners'].set_index('id').head()"
   ]
  },
  {
   "cell_type": "markdown",
   "metadata": {},
   "source": [
    "We also want to obtain the difference in unemployment rate for foreigners and Swiss, for each canton:"
   ]
  },
  {
   "cell_type": "code",
   "execution_count": null,
   "metadata": {
    "collapsed": true
   },
   "outputs": [],
   "source": [
    "difference_origin_df = pd.DataFrame()\n",
    "difference_origin_df['id'] = origin_df_dict['Foreigners']['id']\n",
    "difference_origin_df['diff'] = (origin_df_dict['Foreigners']['Unemployment rate'] - \n",
    "    origin_df_dict['Swiss']['Unemployment rate'])"
   ]
  },
  {
   "cell_type": "markdown",
   "metadata": {},
   "source": [
    "#### Create map to compare Swiss and foreign unemployment rates"
   ]
  },
  {
   "cell_type": "code",
   "execution_count": null,
   "metadata": {},
   "outputs": [],
   "source": [
    "# Create a new map\n",
    "map_swiss_origin = folium.Map(COORDINATE_SWITZERLAND,\n",
    "    tiles='cartodbpositron', zoom_start=8)\n",
    "\n",
    "# Plot unemployment rate for Swiss\n",
    "map_swiss_origin.choropleth(geo_data=geo_json, name='Swiss',\n",
    "    data=origin_df_dict['Swiss'], columns=['id', 'Unemployment rate'], key_on='feature.id', fill_opacity=1,\n",
    "    fill_color='YlOrRd', topojson='objects.cantons')\n",
    "\n",
    "# Plot unemployment rate for Foreigners\n",
    "map_swiss_origin.choropleth(geo_data=geo_json, name='Foreign',\n",
    "    data=origin_df_dict['Foreigners'], columns=['id', 'Unemployment rate'], key_on='feature.id', fill_opacity=1,\n",
    "    fill_color='YlOrRd', topojson='objects.cantons')\n",
    "\n",
    "# Plot difference in unemployment rates\n",
    "map_swiss_origin.choropleth(geo_data=geo_json, name='Foreign - Swiss',\n",
    "    data=difference_origin_df, columns=['id', 'diff'], key_on='feature.id', fill_opacity=1,\n",
    "    fill_color='BuPu', topojson='objects.cantons')\n",
    "\n",
    "# Add markers with information on unemployment per canton\n",
    "#feature_group = FeatureGroup(name='Some icons')\n",
    "#Marker(location=[45.3288, -121.6625],\n",
    "       #popup='Mt. Hood Meadows').add_to(feature_group)\n",
    "\n",
    "#Marker(location=[45.3311, -121.7113],\n",
    "       #popup='Timberline Lodge').add_to(feature_group)\n",
    "\n",
    "#feature_group.add_to(m)\n",
    "\n",
    "# Add LayerControl\n",
    "folium.LayerControl(collapsed=False).add_to(map_swiss_origin)"
   ]
  },
  {
   "cell_type": "markdown",
   "metadata": {},
   "source": [
    "You can now interact with the map!\n",
    "* You can look at the Swiss or Foreigners unemployment rates, or maybe plot the difference in both.\n",
    "* The rate difference is always positive, because the unemployment rate is always higher for foreigners than for Swiss. It has been represented in a different color scale because it does not represent a *ratio*, but the *difference in ratios*. Cantons with a bigger difference in rates are represented in a darker color."
   ]
  },
  {
   "cell_type": "code",
   "execution_count": null,
   "metadata": {},
   "outputs": [],
   "source": [
    "map_swiss_origin"
   ]
  },
  {
   "cell_type": "markdown",
   "metadata": {},
   "source": [
    "It is observed clearly that in most cantons the unemployment rate is higher for foreigners than for Swiss.\n",
    "\n",
    "In most Switzerland there is a constant relatively low unemployment rate. However, it is higher in Ticino, Zürich and the French speaking part of Switzerland. \n",
    "\n",
    "As for the unemployment rate for Swiss people, it is higher in the West part of Switzerland. Jura and Neuchâtel have the highest unemployment rates.\n",
    "\n",
    "TODO: Comment on the difference between the two rates."
   ]
  },
  {
   "cell_type": "markdown",
   "metadata": {},
   "source": [
    "## 3.2 Data per origin and age group"
   ]
  },
  {
   "cell_type": "markdown",
   "metadata": {
    "collapsed": true
   },
   "source": [
    "#### Compare unemployment rates including differences between age groups\n",
    "Now we refine the analysis by adding the differences between age groups. Since it is nearly impossible to plot so many variables on a map we make a bar plot instead, which is a better option."
   ]
  },
  {
   "cell_type": "code",
   "execution_count": null,
   "metadata": {
    "collapsed": true
   },
   "outputs": [],
   "source": [
    "# Read xls file containing unemployment data per age\n",
    "age_df = pd.read_excel('{dp}{f}'.format(dp=DATA_PATH, f=\"ages {df}\".format(df=AMSTAT_FILE)),\n",
    "    header=[2,4,5])\n",
    "age_df.drop((\"Classi d'età 15-24, 15-49, 50 anni e più\", 'Metriche', 'mese'), axis=1, inplace=True)\n",
    "\n",
    "# We create a dictionary to map age class with the corresponding age range\n",
    "age_labels_dic = {'1': '15-24', '2': '15-49', '3': '+50'}\n",
    "\n",
    "# We create a dictionary of dataframes\n",
    "age_df_dict = {}\n",
    "\n",
    "# For each age we get the corresponding dataframe\n",
    "ages_list = age_df.columns.get_level_values(0).unique()\n",
    "for o in ages_list[:3]:\n",
    "    age_df_dict[age_labels_dic[o]] = get_average_swiss_df(age_df[o],\n",
    "        italian_english_variables, cantons_id)"
   ]
  },
  {
   "cell_type": "markdown",
   "metadata": {},
   "source": [
    "Samples:"
   ]
  },
  {
   "cell_type": "code",
   "execution_count": null,
   "metadata": {},
   "outputs": [],
   "source": [
    "age_df_dict['15-24'].set_index('id').head()"
   ]
  },
  {
   "cell_type": "markdown",
   "metadata": {},
   "source": [
    "#### Get rate per age and origin"
   ]
  },
  {
   "cell_type": "code",
   "execution_count": null,
   "metadata": {
    "collapsed": true
   },
   "outputs": [],
   "source": [
    "def rename_row_values(df):\n",
    "    nationality_rename_dic = {\n",
    "        'stranieri':'foreign',\n",
    "        'svizzeri':'swiss'\n",
    "    }\n",
    "    age_range_rename_dic = {\n",
    "        '15-24 anni':'15-24',\n",
    "        '25-49 anni':'25-49',\n",
    "        '50 anni e più':'50+'\n",
    "    }\n",
    "    age_group_rename_dic = {\n",
    "        '1':'1',\n",
    "        '2':'2',\n",
    "        '3':'3',\n",
    "        'Totale':'Total'\n",
    "    }\n",
    "    renamed_df = df\n",
    "    renamed_df['Nationality'] = renamed_df['Nationality'].apply(lambda x: nationality_rename_dic.get(x, 'all'))\n",
    "    renamed_df['Age Range'] = renamed_df['Age Range'].apply(lambda x: age_range_rename_dic.get(x, float('NaN')))\n",
    "    renamed_df['Age Group'] = renamed_df['Age Group'].apply(lambda x: age_group_rename_dic.get(x, 'Total'))\n",
    "    return renamed_df\n",
    "\n",
    "def refine_origin_age_df(df):\n",
    "    refined_df = df\n",
    "    refined_df.columns = df.columns.droplevel(1)\n",
    "    refined_df.drop(['mese'], axis=1, inplace=True)\n",
    "    rename_dic = {\n",
    "        'Cantone':'Canton',\n",
    "        'Nazionalità':'Nationality',\n",
    "        'Classi d\\'età 15-24, 15-49, 50 anni e più':'Age Group',\n",
    "        'Ottobre 2016':'October 2016',\n",
    "        'Novembre 2016':'November 2016',\n",
    "        'Dicembre 2016':'December 2016',\n",
    "        'Gennaio 2017':'January 2017',\n",
    "        'Febbraio 2017':'February 2017',\n",
    "        'Marzo 2017':'March 2017',\n",
    "        'Aprile 2017':'April 2017',\n",
    "        'Maggio 2017':'May 2017',\n",
    "        'Giugno 2017':'June 2017',\n",
    "        'Luglio 2017':'July 2017',\n",
    "        'Agosto 2017':'August 2017',\n",
    "        'Settembre 2017':'September 2017'\n",
    "    }\n",
    "    refined_df.rename(columns=rename_dic, inplace=True)\n",
    "    refined_df.columns.values[2] = 'Age Range'\n",
    "    refined_df = rename_row_values(refined_df)\n",
    "    return refined_df"
   ]
  },
  {
   "cell_type": "code",
   "execution_count": null,
   "metadata": {
    "collapsed": true
   },
   "outputs": [],
   "source": [
    "origin_age_df = pd.read_excel('{dp}{f}'.format(dp=DATA_PATH, f=ORIGIN_AGE_FILE), header=[2, 3])"
   ]
  },
  {
   "cell_type": "code",
   "execution_count": null,
   "metadata": {},
   "outputs": [],
   "source": [
    "origin_age_df = refine_origin_age_df(origin_age_df)\n",
    "origin_age_df.set_index(origin_age_df['Age Group'], append=True, inplace=True)\n",
    "origin_age_df.set_index(origin_age_df['Nationality'], append=True, inplace=True)\n",
    "\n",
    "origin_age_df = origin_age_df.filter(like='20').mean(axis=1, skipna=True).to_frame()\n",
    "origin_age_df.head(9)"
   ]
  },
  {
   "cell_type": "code",
   "execution_count": null,
   "metadata": {
    "collapsed": true
   },
   "outputs": [],
   "source": [
    "def get_origin_age_rates(df):\n",
    "    index_value_dic = df.to_dict()[0]\n",
    "    cantons = df.index.get_level_values(0).unique().tolist()\n",
    "    cantons.remove('Totale')\n",
    "    ages = range(1, 4)\n",
    "    nationalities = ['foreign', 'swiss']\n",
    "    \n",
    "    rates_dic = {}\n",
    "    swiss_population = index_value_dic[('Totale', 'Total', 'all')]\n",
    "    for canton in cantons:\n",
    "        canton_population = index_value_dic[(canton, 'Total', 'all')]\n",
    "        for nationality in nationalities:\n",
    "            nationality_population = index_value_dic[(canton, 'Total', nationality)]\n",
    "            for age in ages:\n",
    "                key = (canton, str(age), nationality)\n",
    "                value = index_value_dic[key]\n",
    "                rates_dic[key] = value / nationality_population\n",
    "            rates_dic[(canton, 'Total', nationality)] = nationality_population / canton_population\n",
    "        rates_dic[(canton, 'Total', 'all')] = canton_population / swiss_population\n",
    "    \n",
    "    rates_df = pd.DataFrame.from_dict(rates_dic, orient='index')\n",
    "    rates_df.index = pd.MultiIndex.from_tuples(rates_df.index)\n",
    "    rates_df.index.names = ['Canton', 'Age Group', 'Nationality']\n",
    "    rates_df.columns = ['Rate']\n",
    "    return rates_df"
   ]
  },
  {
   "cell_type": "code",
   "execution_count": null,
   "metadata": {},
   "outputs": [],
   "source": [
    "origin_age_df = get_origin_age_rates(origin_age_df)\n",
    "origin_age_df.head(9)"
   ]
  },
  {
   "cell_type": "code",
   "execution_count": null,
   "metadata": {},
   "outputs": [],
   "source": [
    "by_canton_df = origin_age_df.reset_index()\n",
    "\n",
    "# Slim down the Dataframe by selecting the needed rows\n",
    "by_canton_df = by_canton_df.loc[ (by_canton_df['Age Group'] == 'Total') & (by_canton_df['Nationality'] == 'all' ) ]\n",
    "\n",
    "# Keep the useful cols\n",
    "by_canton_df.drop(['Age Group', 'Nationality'], axis=1, inplace=True)\n",
    "\n",
    "# Index by canton name\n",
    "by_canton_df.set_index('Canton', drop=True, inplace=True)\n",
    "\n",
    "# Order by the rate\n",
    "by_canton_df.sort_values(by='Rate', ascending=False, inplace=True)\n",
    "\n",
    "\n",
    "# Show the plot\n",
    "color = cm.inferno_r(np.linspace(.4,.8, 30))\n",
    "by_canton_df.plot.bar(figsize=(17, 7), color=color)\n",
    "\n",
    "plt.title('Ratio of ...')\n",
    "plt.ylabel(\"Ratio\")\n",
    "plt.xlabel('Cantons')\n",
    "plt.show()"
   ]
  },
  {
   "cell_type": "markdown",
   "metadata": {},
   "source": [
    "TODO:\n",
    "\n",
    "* Find a way to obtain the rate per age and origin!! (can't download dataset with both...). Maybe I misunderstood the wording?\n",
    "* Barplot with the info. Suggestions:\n",
    "    * Maybe draw it with horizontal bars (many cantons)\n",
    "    * Group them by age\n",
    "    * Overlap swiss and foreign\n",
    "* Conclusions, colors, intervals..."
   ]
  },
  {
   "cell_type": "markdown",
   "metadata": {},
   "source": [
    "# Task 4 <a name=\"t4\">\n",
    "\n",
    "We use the maps we have built for Switzerland to give a rough estimate of the difference in unemployment rates between the areas divided by the Röstigraben.\n",
    "\n",
    "For that we will use the unemployment rates for Swiss people only, since we saw that in most cases the unemployment was higher for foreigners and therefore we can consider that the unemployment in an area might depend on the number of foreigners.\n",
    "\n",
    "From what we saw [previously](#cm), we can set an unemployment rate of 4.2 as the limit between cantons in both sides of the Röstigraben."
   ]
  },
  {
   "cell_type": "code",
   "execution_count": null,
   "metadata": {
    "collapsed": true
   },
   "outputs": [],
   "source": [
    "LIMIT_ROSTIGRABEN = 4.2\n",
    "\n",
    "switzerland_df['class'] = (switzerland_df['Unemployment rate'] < LIMIT_ROSTIGRABEN)\n",
    "switzerland_df['labels'] = switzerland_df['Unemployment rate'].apply(\n",
    "    lambda x: 'German' if x < LIMIT_ROSTIGRABEN else 'French')"
   ]
  },
  {
   "cell_type": "code",
   "execution_count": null,
   "metadata": {},
   "outputs": [],
   "source": [
    "# Create a new map\n",
    "map_swiss = folium.Map(COORDINATE_SWITZERLAND,\n",
    "    tiles='cartodbpositron', zoom_start=8)\n",
    "\n",
    "# Create scale\n",
    "minimum = min(switzerland_df['Unemployment rate'])\n",
    "maximum = max(switzerland_df['Unemployment rate'])\n",
    "rosti_scale = list(np.linspace(minimum, maximum, 2))\n",
    "\n",
    "# Plot unemployment rate for Swiss\n",
    "map_swiss.choropleth(geo_data=geo_json, name='Estimated Röstigraben',\n",
    "    data=switzerland_df, columns=['id', 'class'], key_on='feature.id', fill_opacity=1,\n",
    "    fill_color='Accent', topojson='objects.cantons', threshold_scale=rosti_scale)\n",
    "\n",
    "map_swiss"
   ]
  },
  {
   "cell_type": "markdown",
   "metadata": {},
   "source": [
    "To verify if their unemployment rates are very different or not, we compute the [harmonic mean](https://www.wikipedia.com/en/Harmonic_mean) for the two  groups of cantons that we obtained."
   ]
  },
  {
   "cell_type": "code",
   "execution_count": null,
   "metadata": {
    "collapsed": true
   },
   "outputs": [],
   "source": [
    "swiss_mean = switzerland_df[['labels', 'Unemployment rate']].groupby('labels').agg(stats.hmean)\n",
    "swiss_std = switzerland_df[['labels', 'Unemployment rate']].groupby('labels').agg(np.std)"
   ]
  },
  {
   "cell_type": "code",
   "execution_count": null,
   "metadata": {},
   "outputs": [],
   "source": [
    "sns.set_style(\"whitegrid\")\n",
    "\n",
    "ind = np.arange(2)\n",
    "barlist = plt.bar(ind, swiss_mean['Unemployment rate'], color='#d62728', yerr=swiss_std['Unemployment rate'])\n",
    "barlist[0].set_color('#7fc97f')\n",
    "barlist[1].set_color('#beaed4')\n",
    "\n",
    "plt.ylabel('Mean unemployment rate')\n",
    "plt.title('Unemployment rates in each side of the Röstigraben')\n",
    "plt.xticks(ind, swiss_mean.index)\n",
    "\n",
    "plt.show()"
   ]
  },
  {
   "cell_type": "markdown",
   "metadata": {},
   "source": [
    "We can see that there is indeed a considerable difference in the unemployment rates for both groups of cantons."
   ]
  }
 ],
 "metadata": {
  "kernelspec": {
   "display_name": "Python 3",
   "language": "python",
   "name": "python3"
  },
  "language_info": {
   "codemirror_mode": {
    "name": "ipython",
    "version": 3
   },
   "file_extension": ".py",
   "mimetype": "text/x-python",
   "name": "python",
   "nbconvert_exporter": "python",
   "pygments_lexer": "ipython3",
   "version": "3.6.3"
  }
 },
 "nbformat": 4,
 "nbformat_minor": 2
}
